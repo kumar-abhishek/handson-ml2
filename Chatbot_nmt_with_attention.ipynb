{
  "nbformat": 4,
  "nbformat_minor": 0,
  "metadata": {
    "accelerator": "GPU",
    "colab": {
      "name": "Chatbot_nmt_with_attention.ipynb",
      "provenance": [],
      "collapsed_sections": [],
      "toc_visible": true,
      "machine_shape": "hm",
      "include_colab_link": true
    },
    "kernelspec": {
      "name": "python3",
      "display_name": "Python 3"
    }
  },
  "cells": [
    {
      "cell_type": "markdown",
      "metadata": {
        "id": "view-in-github",
        "colab_type": "text"
      },
      "source": [
        "<a href=\"https://colab.research.google.com/github/kumar-abhishek/handson-ml2/blob/master/Chatbot_nmt_with_attention.ipynb\" target=\"_parent\"><img src=\"https://colab.research.google.com/assets/colab-badge.svg\" alt=\"Open In Colab\"/></a>"
      ]
    },
    {
      "cell_type": "markdown",
      "metadata": {
        "colab_type": "text",
        "id": "s_qNSzzyaCbD"
      },
      "source": [
        "##### Copyright 2019 The TensorFlow Authors."
      ]
    },
    {
      "cell_type": "code",
      "metadata": {
        "cellView": "form",
        "colab_type": "code",
        "id": "jmjh290raIky",
        "colab": {}
      },
      "source": [
        "#@title Licensed under the Apache License, Version 2.0 (the \"License\");\n",
        "# you may not use this file except in compliance with the License.\n",
        "# You may obtain a copy of the License at\n",
        "#\n",
        "# https://www.apache.org/licenses/LICENSE-2.0\n",
        "#\n",
        "# Unless required by applicable law or agreed to in writing, software\n",
        "# distributed under the License is distributed on an \"AS IS\" BASIS,\n",
        "# WITHOUT WARRANTIES OR CONDITIONS OF ANY KIND, either express or implied.\n",
        "# See the License for the specific language governing permissions and\n",
        "# limitations under the License."
      ],
      "execution_count": 0,
      "outputs": []
    },
    {
      "cell_type": "markdown",
      "metadata": {
        "colab_type": "text",
        "id": "J0Qjg6vuaHNt"
      },
      "source": [
        "# Neural machine translation with attention"
      ]
    },
    {
      "cell_type": "markdown",
      "metadata": {
        "colab_type": "text",
        "id": "AOpGoE2T-YXS"
      },
      "source": [
        "<table class=\"tfo-notebook-buttons\" align=\"left\">\n",
        "  <td>\n",
        "    <a target=\"_blank\" href=\"https://www.tensorflow.org/tutorials/text/nmt_with_attention\">\n",
        "    <img src=\"https://www.tensorflow.org/images/tf_logo_32px.png\" />\n",
        "    View on TensorFlow.org</a>\n",
        "  </td>\n",
        "  <td>\n",
        "    <a target=\"_blank\" href=\"https://colab.research.google.com/github/tensorflow/docs/blob/master/site/en/tutorials/text/nmt_with_attention.ipynb\">\n",
        "    <img src=\"https://www.tensorflow.org/images/colab_logo_32px.png\" />\n",
        "    Run in Google Colab</a>\n",
        "  </td>\n",
        "  <td>\n",
        "    <a target=\"_blank\" href=\"https://github.com/tensorflow/docs/blob/master/site/en/tutorials/text/nmt_with_attention.ipynb\">\n",
        "    <img src=\"https://www.tensorflow.org/images/GitHub-Mark-32px.png\" />\n",
        "    View source on GitHub</a>\n",
        "  </td>\n",
        "  <td>\n",
        "    <a href=\"https://storage.googleapis.com/tensorflow_docs/docs/site/en/tutorials/text/nmt_with_attention.ipynb\"><img src=\"https://www.tensorflow.org/images/download_logo_32px.png\" />Download notebook</a>\n",
        "  </td>\n",
        "</table>"
      ]
    },
    {
      "cell_type": "markdown",
      "metadata": {
        "colab_type": "text",
        "id": "CiwtNgENbx2g"
      },
      "source": [
        "This notebook trains a sequence to sequence (seq2seq) model for Spanish to English translation. This is an advanced example that assumes some knowledge of sequence to sequence models.\n",
        "\n",
        "After training the model in this notebook, you will be able to input a Spanish sentence, such as *\"¿todavia estan en casa?\"*, and return the English translation: *\"are you still at home?\"*\n",
        "\n",
        "The translation quality is reasonable for a toy example, but the generated attention plot is perhaps more interesting. This shows which parts of the input sentence has the model's attention while translating:\n",
        "\n",
        "<img src=\"https://tensorflow.org/images/spanish-english.png\" alt=\"spanish-english attention plot\">\n",
        "\n",
        "Note: This example takes approximately 10 minutes to run on a single P100 GPU."
      ]
    },
    {
      "cell_type": "code",
      "metadata": {
        "colab_type": "code",
        "id": "tnxXKDjq3jEL",
        "colab": {
          "base_uri": "https://localhost:8080/",
          "height": 34
        },
        "outputId": "d69e032f-a7bc-4fcf-aa39-d754da0ff7e5"
      },
      "source": [
        "from __future__ import absolute_import, division, print_function, unicode_literals\n",
        "\n",
        "try:\n",
        "  # %tensorflow_version only exists in Colab.\n",
        "  %tensorflow_version 2.x\n",
        "except Exception:\n",
        "  pass\n",
        "import tensorflow as tf\n",
        "\n",
        "import matplotlib.pyplot as plt\n",
        "import matplotlib.ticker as ticker\n",
        "from sklearn.model_selection import train_test_split\n",
        "\n",
        "import unicodedata\n",
        "import re\n",
        "import numpy as np\n",
        "import os\n",
        "import io\n",
        "import time"
      ],
      "execution_count": 1,
      "outputs": [
        {
          "output_type": "stream",
          "text": [
            "TensorFlow 2.x selected.\n"
          ],
          "name": "stdout"
        }
      ]
    },
    {
      "cell_type": "markdown",
      "metadata": {
        "colab_type": "text",
        "id": "wfodePkj3jEa"
      },
      "source": [
        "## Download and prepare the dataset\n",
        "\n",
        "We'll use a language dataset provided by http://www.manythings.org/anki/. This dataset contains language translation pairs in the format:\n",
        "\n",
        "```\n",
        "May I borrow this book?\t¿Puedo tomar prestado este libro?\n",
        "```\n",
        "\n",
        "There are a variety of languages available, but we'll use the English-Spanish dataset. For convenience, we've hosted a copy of this dataset on Google Cloud, but you can also download your own copy. After downloading the dataset, here are the steps we'll take to prepare the data:\n",
        "\n",
        "1. Add a *start* and *end* token to each sentence.\n",
        "2. Clean the sentences by removing special characters.\n",
        "3. Create a word index and reverse word index (dictionaries mapping from word → id and id → word).\n",
        "4. Pad each sentence to a maximum length."
      ]
    },
    {
      "cell_type": "code",
      "metadata": {
        "colab_type": "code",
        "id": "kRVATYOgJs1b",
        "colab": {}
      },
      "source": [
        "# Download the file\n",
        "# path_to_zip = tf.keras.utils.get_file(\n",
        "#     'spa-eng.zip', origin='http://storage.googleapis.com/download.tensorflow.org/data/spa-eng.zip',\n",
        "#     extract=True)\n",
        "\n",
        "# path_to_file = os.path.dirname(path_to_zip)+\"/spa-eng/spa.txt\"\n",
        " \n",
        "path_to_file = \"input.txt\"\n"
      ],
      "execution_count": 0,
      "outputs": []
    },
    {
      "cell_type": "code",
      "metadata": {
        "colab_type": "code",
        "id": "rd0jw-eC3jEh",
        "colab": {}
      },
      "source": [
        "# Converts the unicode file to ascii\n",
        "def unicode_to_ascii(s):\n",
        "  return ''.join(c for c in unicodedata.normalize('NFD', s)\n",
        "      if unicodedata.category(c) != 'Mn')\n",
        "\n",
        "\n",
        "def preprocess_sentence(w):\n",
        "  w = unicode_to_ascii(w.lower().strip())\n",
        "\n",
        "  # creating a space between a word and the punctuation following it\n",
        "  # eg: \"he is a boy.\" => \"he is a boy .\"\n",
        "  # Reference:- https://stackoverflow.com/questions/3645931/python-padding-punctuation-with-white-spaces-keeping-punctuation\n",
        "  w = re.sub(r\"([?.!,¿])\", r\" \\1 \", w)\n",
        "  w = re.sub(r'[\" \"]+', \" \", w)\n",
        "\n",
        "  # replacing everything with space except (a-z, A-Z, \".\", \"?\", \"!\", \",\")\n",
        "  w = re.sub(r\"[^a-zA-Z?.!,¿]+\", \" \", w)\n",
        "\n",
        "  w = w.rstrip().strip()\n",
        "\n",
        "  # adding a start and an end token to the sentence\n",
        "  # so that the model know when to start and stop predicting.\n",
        "  w = '<start> ' + w + ' <end>'\n",
        "  return w"
      ],
      "execution_count": 0,
      "outputs": []
    },
    {
      "cell_type": "code",
      "metadata": {
        "colab_type": "code",
        "id": "opI2GzOt479E",
        "colab": {
          "base_uri": "https://localhost:8080/",
          "height": 51
        },
        "outputId": "9be3b52d-c1cb-44db-d827-c5f78504a605"
      },
      "source": [
        "# not relevant to chatbot\n",
        "en_sentence = u\"May I borrow this book?\"\n",
        "sp_sentence = u\"¿Puedo tomar prestado este libro?\"\n",
        "print(preprocess_sentence(en_sentence))\n",
        "print(preprocess_sentence(sp_sentence).encode('utf-8'))"
      ],
      "execution_count": 4,
      "outputs": [
        {
          "output_type": "stream",
          "text": [
            "<start> may i borrow this book ? <end>\n",
            "b'<start> \\xc2\\xbf puedo tomar prestado este libro ? <end>'\n"
          ],
          "name": "stdout"
        }
      ]
    },
    {
      "cell_type": "code",
      "metadata": {
        "colab_type": "code",
        "id": "OHn4Dct23jEm",
        "colab": {}
      },
      "source": [
        "# 1. Remove the accents\n",
        "# 2. Clean the sentences\n",
        "# 3. Return word pairs in the format: [ENGLISH, SPANISH]\n",
        "def create_dataset(path, num_examples):\n",
        "  lines = io.open(path, encoding='UTF-8').read().strip().split('\\n')\n",
        "\n",
        "  word_pairs = [[preprocess_sentence(w) for w in l.split('\\t')]  for l in lines[:num_examples]]\n",
        "\n",
        "  return zip(*word_pairs)"
      ],
      "execution_count": 0,
      "outputs": []
    },
    {
      "cell_type": "code",
      "metadata": {
        "colab_type": "code",
        "id": "cTbSbBz55QtF",
        "colab": {
          "base_uri": "https://localhost:8080/",
          "height": 51
        },
        "outputId": "41802410-5539-4b89-c74b-84e91b896eff"
      },
      "source": [
        "en, sp = create_dataset(path_to_file, None)\n",
        "print(en[-1])\n",
        "print(sp[-1])"
      ],
      "execution_count": 6,
      "outputs": [
        {
          "output_type": "stream",
          "text": [
            "<start> how do you do , jack . nice to meet you . <end>\n",
            "<start> well , i think you ve reconsidered our proposal , diane . <end>\n"
          ],
          "name": "stdout"
        }
      ]
    },
    {
      "cell_type": "code",
      "metadata": {
        "id": "pBv4CNhHxZ9g",
        "colab_type": "code",
        "colab": {
          "base_uri": "https://localhost:8080/",
          "height": 54
        },
        "outputId": "e0277408-ae83-4fd6-f4e4-1aa42838f822"
      },
      "source": [
        "print(en[0:10])"
      ],
      "execution_count": 7,
      "outputs": [
        {
          "output_type": "stream",
          "text": [
            "('<start> hey man , you wanna buy some weed ? <end>', '<start> some what ? <end>', '<start> weed ! you know ? pot , ganja , mary jane some chronic ! <end>', '<start> oh , umm , no thanks . <end>', '<start> i also have blow if you prefer to do a few lines . <end>', '<start> no , i am ok , really . <end>', '<start> come on man ! i even got dope and acid ! try some ! <end>', '<start> do you really have all of these drugs ? where do you get them from ? <end>', '<start> i got my connections ! just tell me what you want and i ll even give you one ounce for free . <end>', '<start> sounds good ! let s see , i want . <end>')\n"
          ],
          "name": "stdout"
        }
      ]
    },
    {
      "cell_type": "code",
      "metadata": {
        "colab_type": "code",
        "id": "OmMZQpdO60dt",
        "colab": {}
      },
      "source": [
        "def max_length(tensor):\n",
        "  return max(len(t) for t in tensor)"
      ],
      "execution_count": 0,
      "outputs": []
    },
    {
      "cell_type": "code",
      "metadata": {
        "colab_type": "code",
        "id": "bIOn8RCNDJXG",
        "colab": {}
      },
      "source": [
        "def tokenize(lang):\n",
        "  lang_tokenizer = tf.keras.preprocessing.text.Tokenizer(\n",
        "      filters='')\n",
        "  lang_tokenizer.fit_on_texts(lang)\n",
        "\n",
        "  tensor = lang_tokenizer.texts_to_sequences(lang)\n",
        "\n",
        "  tensor = tf.keras.preprocessing.sequence.pad_sequences(tensor,\n",
        "                                                         padding='post')\n",
        "  print(tensor)\n",
        "\n",
        "  return tensor, lang_tokenizer"
      ],
      "execution_count": 0,
      "outputs": []
    },
    {
      "cell_type": "code",
      "metadata": {
        "colab_type": "code",
        "id": "eAY9k49G3jE_",
        "colab": {}
      },
      "source": [
        "def load_dataset(path, num_examples=None):\n",
        "  # creating cleaned input, output pairs\n",
        "  targ_lang, inp_lang = create_dataset(path, num_examples)\n",
        "  \n",
        "  print('inp_lang: ')\n",
        "  print(inp_lang)\n",
        "  input_tensor, inp_lang_tokenizer = tokenize(inp_lang)\n",
        "  target_tensor, targ_lang_tokenizer = tokenize(targ_lang)\n",
        "\n",
        "  return input_tensor, target_tensor, inp_lang_tokenizer, targ_lang_tokenizer"
      ],
      "execution_count": 0,
      "outputs": []
    },
    {
      "cell_type": "markdown",
      "metadata": {
        "colab_type": "text",
        "id": "GOi42V79Ydlr"
      },
      "source": [
        "### Limit the size of the dataset to experiment faster (optional)\n",
        "\n",
        "Training on the complete dataset of >100,000 sentences will take a long time. To train faster, we can limit the size of the dataset to 30,000 sentences (of course, translation quality degrades with less data):"
      ]
    },
    {
      "cell_type": "code",
      "metadata": {
        "colab_type": "code",
        "id": "cnxC7q-j3jFD",
        "colab": {
          "base_uri": "https://localhost:8080/",
          "height": 309
        },
        "outputId": "d3f8ec3e-621d-4d61-991c-382881390bd9"
      },
      "source": [
        "# Try experimenting with the size of that dataset\n",
        "num_examples = 30000\n",
        "input_tensor, target_tensor, inp_lang, targ_lang = load_dataset(path_to_file, num_examples)\n",
        "\n",
        "# Calculate max_length of the target tensors\n",
        "max_length_targ, max_length_inp = max_length(target_tensor), max_length(input_tensor)"
      ],
      "execution_count": 11,
      "outputs": [
        {
          "output_type": "stream",
          "text": [
            "inp_lang: \n",
            "('<start> some what ? <end>', '<start> weed ! you know ? pot , ganja , mary jane some chronic ! <end>', '<start> oh , umm , no thanks . <end>', '<start> i also have blow if you prefer to do a few lines . <end>', '<start> no , i am ok , really . <end>', '<start> come on man ! i even got dope and acid ! try some ! <end>', '<start> do you really have all of these drugs ? where do you get them from ? <end>', '<start> i got my connections ! just tell me what you want and i ll even give you one ounce for free . <end>', '<start> sounds good ! let s see , i want . <end>', '<start> yeah ? <end>', '<start> i want you to put your hands behind your head ! you are under arrest ! <end>', '<start> what for ? <end>', '<start> they want the government to reduce the price of the gasoline . <end>', '<start> it is really a hot potato . <end>', '<start> that s excellent . how have you managed that ? <end>', '<start> mainly because we ve invested in a heat recovery system . <end>', '<start> what does that mean exactly ? <end>', '<start> well , we use the exhaust gases from our printing presses to provide energy to heat our dryers . <end>', '<start> what other sources of energy do you use ? <end>', '<start> we don t use any fossil fuels . most of our power comes from hydro electric plants . we re hoping to use even more energy from alternative sources in the future perhaps even wind power . <end>', '<start> well , people from asia to europe all enjoy tea . <end>', '<start> right . and china is the homeland of tea . <end>', '<start> yes , chinese people love drinking tea so much . some even claim they can t live without tea . <end>', '<start> do you know there are several catagories of chinese tea ? <end>', '<start> yes , i believe there are green teas , black teas and scented teas . any others ? <end>', '<start> well , have you ever heard of oulong tea and compressed tea ? <end>', '<start> oh , yeah . oulong tea is good for one s health . isn t it ? <end>', '<start> you surely know a lot about chinese tea . <end>', '<start> sure , i like drinking tea at teahouses . <end>', '<start> oh , so do i . <end>', '<start> why don t we go for one now ? <end>', '<start> great . we can chat while enjoying a cup there . <end>', '<start> let s go ! <end>', '<start> i m afraid i m a poor talker . i m not comfortable talking with the people whom i have just met for the first time . that is not very good for business , so i have been studying public speaking . <end>', '<start> are you more of a leader or a follower ? <end>', '<start> i don t try to lead people . i d rather cooperate with everybody , and get the job done by working together . <end>', '<start> do you think you can make yourself easily understood in english ? <end>', '<start> yes , in most circumstances . <end>', '<start> are you available for travel ? <end>', '<start> yes , i like travelling . i am young , and unmarried . it s no problem for me to travel frequently . <end>', '<start> i think it s a distance of kilometers from here to london , so it should be a two hour drive on the motorway . <end>', '<start> that s unless there is a traffic jam . it could take three hours . <end>', '<start> you re right . we will be able to travel at high speeds at the beginning and end of the journey , because we will be in built up areas . <end>', '<start> so , shall we allow three hours to cover the distance ? <end>', '<start> ok . you haven t seen my company car , have you ? <end>', '<start> no . let me take a look . . . it s longer than my car . <end>', '<start> i think it s over five meters long . i can t remember exactly . it has a maximum speed of over kilometers an hour . <end>', '<start> wow ! that s fast ! i don t think we will be traveling that fast on the motorway . <end>', '<start> we can t . if we went that fast , we would break the speed limit . <end>', '<start> do you want the truth ? <end>', '<start> of course , i do . <end>', '<start> well , you really didn t do all that well . <end>', '<start> how bad did i do ? <end>', '<start> to be completely honest , you failed your test . <end>', '<start> how ? <end>', '<start> there were a number of reasons . <end>', '<start> what were they ? <end>', '<start> basically , you just can t drive . <end>', '<start> can i have another try ? <end>', '<start> you can take it in a couple weeks . <end>', '<start> good morning , doctor . i have a terrible headache . <end>', '<start> all right , young man . tell me how it got started . <end>', '<start> yesterday i had a runny nose . now my nose is stuffed up . i have a sore throat . and i m afraid i ve got a temperature . i feel terrible . <end>', '<start> don t worry , young man . lat me give you an examination . first let me take a look at your throat . open your mouth and say ah . <end>', '<start> ah . <end>', '<start> your throat is inflamed . and your tongue is heavily coated . you have all the symptoms of influenza . <end>', '<start> what am i supposed to do then ? <end>', '<start> a good rest is all you need , and drink more water . i ll write you a prescription . <end>', '<start> thank you very much . <end>', '<start> red cooked carp and rape with fresh mushrooms . <end>', '<start> what about soup ? <end>', '<start> sour peppery soup . <end>', '<start> which condiment do you use for ? <end>', '<start> i ll use ginger , garlic scallion , hot pepper and vinegar . <end>', '<start> very good , need i help you ? <end>', '<start> no , don t need , i can do myself . <end>', '<start> thanks . i can watch tv now . <end>', '<start> but you must cook that dinner next time . <end>', '<start> okay , i ll do it next time . <end>', '<start> mike ! good to hear from you . how are you ? <end>', '<start> everything is fine , and how are you ? <end>', '<start> things are going well with me . <end>', '<start> kara , i had fun the other night at the movies and was wondering if you would like to go out again this friday . <end>', '<start> mike , i don t think that it s a good idea to go out again . i really need to focus on getting packed and ready to move back home . <end>', '<start> maybe we could just meet for coffee or something . <end>', '<start> i can t really deal with any distractions right now , but i appreciate the nice evening we spent together . <end>', '<start> yes , i have booked a room for th . it s a double room . <end>', '<start> hold on , please . let me check it for you . yes , you re right . you will keep it for days . <end>', '<start> well , now i want to change the date from th to th . <end>', '<start> ok , that shall be arranged . <end>', '<start> i m free . what s up ? <end>', '<start> someone has to pick up the boss at the airport . <end>', '<start> oh , i just remembered i ve got a report to write . <end>', '<start> it s ten after six . we re late . but dinner is at six thirty . <end>', '<start> i know . i know . i m really sorry . i lost my bag . <end>', '<start> i ll call the lost and found office . <end>', '<start> i didn t think of it . thank you . and i do apologize for being late . <end>', '<start> do you have the the man and the sea by ernest hemingway ? <end>', '<start> yes , we have one copy left . <end>', '<start> can you hold it for me ? <end>', '<start> yes , here you are . <end>', '<start> how much is it ? <end>', '<start> it s free of charge . <end>', '<start> thanks so much . <end>', '<start> no problem at all . could i have your full name , please ? <end>', '<start> sure , john sandals . <end>', '<start> hi , mr . sandals . i m michelle , at your service . when do you need the room ? <end>', '<start> my plans are to be there april th to the th . <end>', '<start> we have new room rates , sir . will that be acceptable to you ? <end>', '<start> well , it depends on the price , of course . what is it ? <end>', '<start> it s a night . <end>', '<start> i have no problem with that . <end>', '<start> great ! would you prefer smoking or nonsmoking ? <end>', '<start> definitely nonsmoking . i can t handle that smell . <end>', '<start> nonsmoking . now , is a queen size bed okay ? <end>', '<start> no problem . <end>', '<start> great , mr . sandals . your reservation is confirmed . now all i need is your phone number . <end>', '<start> of course ! it s area code . <end>', '<start> thank you so much , mr . sandals . we look forward to seeing you ! <end>', '<start> certainly , sir . <end>', '<start> i m afraid there s been a mistake . <end>', '<start> i m sorry , sir . what seems to be the trouble ? <end>', '<start> i believe you have charged me twice for the same thing . look , the figure of . dollar appears here , then again here . <end>', '<start> i ll just go and check it for you , sir . <end>', '<start> yes . i bought this sheet here yesterday . <end>', '<start> anything wrong with it ? <end>', '<start> yes . when i spread it out back home , i found this hole . <end>', '<start> oh , how awful ! may i have a look at the invoice ? <end>', '<start> here it is . <end>', '<start> well . please accept our sincere apologies , i ll be glad to change it for another one if you wish . <end>', '<start> that s very kind of you . thank you . <end>', '<start> we re sorry that this has happened , and i guarantee that the same mistake won t happen again . <end>', '<start> perhaps you d be interested in red roses . <end>', '<start> what would the roses cost me ? <end>', '<start> they re only a dozen . <end>', '<start> i like the sound of that . <end>', '<start> yes , that is today s sale price . <end>', '<start> a dozen will be fine . <end>', '<start> is there anything else you d like to get ? <end>', '<start> no , thank you . <end>', '<start> these roses should make your wife very happy . <end>', '<start> yes , i am afraid there are not enough outlets . <end>', '<start> well , we have for each room . <end>', '<start> yes , but of them are broken . can you send someone here ? <end>', '<start> ok sir , please wait a minute . <end>', '<start> are you aware that you drove through a red light ? <end>', '<start> i ran a red light ? <end>', '<start> yes , you did . <end>', '<start> i apologize , but i didn t realize that i did . <end>', '<start> weren t you taught that yellow means slow down , not speed up ? <end>', '<start> i did learn that . <end>', '<start> so , then why did you speed up ? <end>', '<start> i don t know what to tell you . <end>', '<start> i m going to have to write you a ticket . <end>', '<start> i understand . <end>', '<start> here you go . don t do that again . <end>', '<start> surely of course . <end>', '<start> here is the film . can i get my pictures tomorrow ? <end>', '<start> sure . <end>', '<start> besides i want two copies of all the photos . <end>', '<start> my name is dunlin and i live in beijing . i was born in . i will graduate from peking university this july . i have majored in accounting . <end>', '<start> would you tell me something about your family ? <end>', '<start> there are three in my family , my parents and myself . my father is a teacher and my mother is a worker . <end>', '<start> i have to start eating better too . <end>', '<start> what kind of food do you usually eat ? <end>', '<start> i try my best to eat only fruits , vegetables , and chicken . <end>', '<start> is that really all that you eat ? <end>', '<start> that s basically it . <end>', '<start> how do you stick to only those foods ? <end>', '<start> actually , fruits and veggies are really good for you . <end>', '<start> yeah , i know , but what about the chicken ? <end>', '<start> i mainly eat baked chicken , because there s not a lot of fat . <end>', '<start> that does sound pretty good . <end>', '<start> i know it does , and that s because it is . <end>', '<start> could you show me where the chinesc style clothing is located ? i want to buy a silk coat . <end>', '<start> this way , please . here they are . they re all handmade . <end>', '<start> oh , they look nice . may i try that black one on ? <end>', '<start> of course . the fitting room is right over there . <end>', '<start> do you have a medium in the same color ? this one is a little tight . <end>', '<start> l m sorry . all the black of that size are sold out . would you like a red one ? <end>', '<start> ok . let me try it on . what do you think ? <end>', '<start> oh , that suits you very well . besides it is believed in china that the red color brings happiness and good luck . <end>', '<start> really ? i ii take it and i m leaving here tomorrow . is it possible for you to send one in black to me by mail when you get it in ? <end>', '<start> our pleasure . please fill out this form , leaving your address and telephone number . <end>', '<start> thanks . how much would that come to ? <end>', '<start> let me see . . . <end>', '<start> great , thanks . <end>', '<start> can i help you ? <end>', '<start> i would actually like to view the apartment for rent today . <end>', '<start> i m sorry , but you won t be able to view it today . <end>', '<start> why not ? <end>', '<start> you have to make an appointment first . <end>', '<start> oh , okay . can i do that right now ? <end>', '<start> is this friday okay ? <end>', '<start> is o clock friday evening okay ? <end>', '<start> yes , i will schedule you for that time . <end>', '<start> thank you very much . see you then . <end>', '<start> thank you . i wonder whether i can enjoy the life insurance and health insurance . <end>', '<start> of course . a two week paid vacation a year , a five day workweek . <end>', '<start> good . anything else ? <end>', '<start> yes , all the insurance will be linked with your work . we will issue an insurance policy . <end>', '<start> yes , i want to send a registered airmail letter to france . <end>', '<start> ok , it comes four dollars twenty cents . <end>', '<start> here is five dollars . <end>', '<start> here is your change . please wait for your receipt of the registered mail . <end>', '<start> i also want to pack up my package . this is the notes . <end>', '<start> let me see . en . . just a minute . here it is . i need your signature on this note . <end>', '<start> oh , one more thing , where can i mail this letter ? <end>', '<start> drop it in the mail box mark out of town . at that corner . <end>', '<start> thank you very much . <end>', '<start> you re welcome . <end>', '<start> yeah , i m glad that we didn t have to wait long . i m starving ! <end>', '<start> let s take a look at the menu so we can order . do you want to choose an appetizer for us to share ? <end>', '<start> what would you rather have , samosas or poppadoms ? <end>', '<start> i heard that one of their specialities is the samosa . <end>', '<start> well , let s get a plate of those then . <end>', '<start> sounds good . what are you going to have for your main course ? <end>', '<start> i think i might have a dahl . <end>', '<start> what s in a dahl ? <end>', '<start> it s got chickpeas and vegetables in a spicy curry sauce with rice . <end>', '<start> that sounds nice . do you want to share some kebabs as well ? <end>', '<start> ok . how about some lamb kebabs ? <end>', '<start> that s my favourite . do you want to have some wine or beer ? <end>', '<start> i think i ll have a beer . <end>', '<start> ok , shall i flag down the waitress ? <end>', '<start> i wouldn t recommend it . i think we should wait until she comes round . <end>', '<start> you re right . that might seem a bit rude . it s a good thing i ve got you with me ! <end>', '<start> what would you do without me ? <end>', '<start> of course . i ve loved writing since i was a very little boy . i won the first prize in a national composition contest when i was in middle school . after attending nanjing university , i never give up writing . my works , such as father s tobacco pipe , open air cinema , the old city were respectively published china youth daily , yangzi evening news , and new beijing . during the period of studying for my degrees of master and doctor , i paid more attention to developing my research ability and published several papers . the impact of internet in chinese political participation , the discipline of remold , the historical direction of chinese administration reform , bribery cases of self governance in chinese villages are respectively published in chinese publish administration , beijing due xuebao , theory and society and chinese reform . i joined in yangzi evening news to work as a part time journalist in . during this period , i ve written a lot of comments , which improved my writing ability to a new level , i have full confidence in my writing ability , and i believe i can do the job well . <end>', '<start> yes , i d like to reserve a table for dinner . <end>', '<start> how large a group are you expecting ? <end>', '<start> six couples . <end>', '<start> would you like to reserve a private dining room ? <end>', '<start> that sounds like a good idea . <end>', '<start> all right . may i have your name , sir ? <end>', '<start> my name is ron kollwitz . <end>', '<start> it s nice to meet you , mr . cooper . <end>', '<start> nice to meet you , ms . wang . you must be exhausted after your long trip from canada . <end>', '<start> yes , it was quite a long flight . i m glad to finally be here . <end>', '<start> no , but i ll be able to tomorrow . <end>', '<start> that ll be too late . <end>', '<start> why don t you ask bill if he can help ? <end>', '<start> i did , but he wasn t able to either . <end>', '<start> yes , i have been working in the public relations section of a company in the past two years . i plan the advertising campaign and cooperate the work of artists and typographers . sometimes i have to do the work of a specialist when there s something urgent . <end>', '<start> do you have any practical experience as a secretary ? <end>', '<start> yes , sir . i acted as a secretary in an insurance company . <end>', '<start> would you tell me the essential qualities a secretary should maintain ? <end>', '<start> well , to begin with , i would say she needs to be diligent , and the second point is that she has to do a lot of things on her own initiative . finally , she can make notes in shorthand and types and has the skills in report writing , summary writing , keep minutes at meetings , and so on . most important of all is that she seems to have a better memory than average . <end>', '<start> have you had any experience with computer ? <end>', '<start> yes , i studied in a computer training program , and can process data through the computer . <end>', '<start> that s fine . what about operating the fax and duplicator ? <end>', '<start> i can handle them without any trouble <end>', '<start> what have you learned from jobs you have held ? <end>', '<start> above all , i have learned that what is good for the company is good for me . so i follow the instructions strictly and always keep my boss informed . <end>', '<start> very good . <end>', '<start> where have you been ? i ve been trying to get in touch with you for two days . <end>', '<start> i went to salt lake city on business . what s up ? <end>', '<start> i got fired . <end>', '<start> how come ? last time i saw you . you told me it was a good job , and you d like to take it as a career . that was only one month ago . why this sudden change ? <end>', '<start> it s a long story . in a word , i didn t do a good job of it . i messed up a business deal , a deal that would have made ten million dollars and i messed it up . <end>', '<start> what are you going to do now ? <end>', '<start> i am trying to find a job asap . lily doesn t know yet . i didn t tell her . i spent the past three days at the coffee shop next to your office , and she thought i went to work as usual . <end>', '<start> that s not the way to solve the problem . did you look in the classified advertisements column ? <end>', '<start> yes , i did . but i wasn t qualified for most of the jobs that i was interested in . <end>', '<start> listen . i will see what i can do , ok ? you go home and tell lily about this problem you have now . she is your wife and i am sure she will understand . <end>', '<start> i just don t know how to bring it up . well , all right . she has the right to know anyways . <end>', '<start> i ve never gotten one . have you ? <end>', '<start> i got a ticket yesterday . <end>', '<start> really ? what did you get one for ? <end>', '<start> i parked in the red zone . <end>', '<start> why did you do that ? <end>', '<start> i needed to get something really quick . <end>', '<start> where did you park at ? <end>', '<start> at my apartment building . <end>', '<start> don t you have your own parking spot ? <end>', '<start> i needed to be fast . <end>', '<start> that was very lazy of you . <end>', '<start> i m having a problem . <end>', '<start> what problem are you having ? <end>', '<start> there have been charges made on my debit card that i didn t make . <end>', '<start> do you have the statement for your card ? <end>', '<start> here it is . <end>', '<start> what are the charges you re referring to ? <end>', '<start> the last four charges on the page . <end>', '<start> i m afraid we re going to have to investigate these charges . <end>', '<start> how long will an investigation take ? <end>', '<start> i honestly don t know , but we will freeze payment on these charges . <end>', '<start> that sounds absolutely fantastic . <end>', '<start> i don t know . can i purchase treasury certificates here at this counter ? <end>', '<start> yes , of course . we have treasury notes with two , three and five year terms available . <end>', '<start> two years is fine , with a value of , rib . <end>', '<start> ok , could i take a look at some id please , like a passport ? <end>', '<start> here you go . by the way , is it possible to cash them before the maturity comes up ? <end>', '<start> no , i m afraid that isn t possible . you must wait until maturity before you cash them . <end>', '<start> i am not cheating . when you pass go , you collect , everyone knows that ! <end>', '<start> well you can t just take the money . you have to ask the bank for money . and i m the banker . <end>', '<start> banker ? <end>', '<start> yes . . . <end>', '<start> can i have my please ? <end>', '<start> sure . here you are , , thank you , please come again ! now it s my turn to roll the dice . <end>', '<start> this is professor clark speaking . <end>', '<start> hi , this is kalina from your morning literature class . <end>', '<start> yes , what can i do for you ? <end>', '<start> i had a skydiving accident over the weekend and won t be able to come to school today . <end>', '<start> my goodness ! are you ok ? <end>', '<start> i broke my leg , but it is healing . <end>', '<start> how long will you be out of class ? <end>', '<start> i should be able to return by next monday . <end>', '<start> fine . well , thanks for calling and letting me know you will be absent . i hope you feel better soon . <end>', '<start> yes , yes i did . please come in ! i m so glad you came ! this old house is falling apart ! come on into the bathroom . see , here , there s water leaking everywhere ! <end>', '<start> i see . let me have a look . it seems that your toilet is clogged , and that s why it won t flush . let me just get my plunger . no , that s not working either . i suspect that there s some sort of foreign object in the pipes that s causing a blockage . that s what s making your toilet overflow . <end>', '<start> oh , that must be because of my four year old daughter . she is always flushing things down the toilet . you know how kids are . <end>', '<start> yeah , i have a little one myself . anyway , these water pipes are really rusty , so they also should be changed . thatcould be causing water to not drain completely , that might lead to more problems in the future . i would also suggest fixing this faucet that isn t shutting off properly . i could have it all finished by today if it s urgent . <end>', '<start> that would be great ! is it expensive ? <end>', '<start> let s see . . . i would say about eight hundred dollars . <end>', '<start> i m glad to help you . what s wrong ? <end>', '<start> my mother in law just went into the hospital in l . a . hank and i will be flying there tonight . <end>', '<start> i m sorry to hear it . what s wrong with her ? <end>', '<start> doctors aren t sure yet . but the real problem is suzy . she has a bad cold , and we don t want to take her with us . but we don t know who can stay with her . <end>', '<start> you need a babysitter . <end>', '<start> yes , i d ask jill , the girl i ve had before , but i need someone overnight . maybe even for two nights . <end>', '<start> i could have suzy stay at my place . <end>', '<start> i don t want to do that to you , karen . <end>', '<start> why not ? <end>', '<start> your own kids would get suzy s cold . i think it would be better to have a good babysitter here . but i don t know who to ask . i need someone more mature than jill . it might even be for two or three days . <end>', '<start> i know who we can ask . there is a girl i know , sara ralston . she is , and she will usually take this kind of job . i know her from my church , and i trust her completely . <end>', '<start> i d like to talk with her . this is short notice , i know . but hank and i are leaving tonight . <end>', '<start> i ll get you her number . i hope she can do it . she is very responsible . <end>', '<start> i m glad you know someone . i knew you would be the best person to ask about this . i don t want to insult jill or her mother . i think jill maybe could do it . but i d rather have someone a little older . <end>', '<start> i ll go home and get sara s number . i ll call her first myself . <end>', '<start> great . then call me and let me know if she s free . <end>', '<start> i d like a beer . what kind of beer do you have ? <end>', '<start> draft beer and cans beer . which do you prefer ? <end>', '<start> a draft beer please . <end>', '<start> ok . here you are . <end>', '<start> could i have some fruit ? <end>', '<start> of course . wait for a moment , please . <end>', '<start> fine , thank you , and how are you ? <end>', '<start> very well , thank you . it s nice to meet you again . i am awfully sorry for not being able to meet you at the airport , as i was busy yesterday . i do hope you had a very enjoyable trip from new york . <end>', '<start> yes , a very pleasant journey indeed . thank you . <end>', '<start> how are you getting along with your business ? <end>', '<start> not bad . the fur market is not very brisk lately , but the selling season is advancing near . i hope there will be more buyers in the market this year . <end>', '<start> i hope we can do more business together . though we are satisfied with our past trade record , there are still possibilities for more business . in the meantime , let s discuss other spheres of cooperation , such as investment , technology transfer and technical assistance . <end>', '<start> toilets are in the rear , i am afraid all the toilets are fully occupied at the moment . <end>', '<start> what ? oh , what we live ! thank you very much for your help , miss . <end>', '<start> you are welcome . <end>', '<start> you can buy the bubble wrap here , but you ll have to stand in line over here to post your passage . <end>', '<start> that s a really long line . how long do you think it ll take to get through all those people ? <end>', '<start> it takes about minutes per person , so it ll probably be about an hour s wait . <end>', '<start> can i buy stamps here ? <end>', '<start> sure . how many would you like ? <end>', '<start> i need for my christmas cards . <end>', '<start> are you sending them abroad ? <end>', '<start> twenty of them are going abroad to china and america . <end>', '<start> do you have any going anywhere in the eu ? if you do , those are less expensive . <end>', '<start> no . <end>', '<start> ok , here you go . that will be pounds and seventy two pence . <end>', '<start> and the bubble wrap ? <end>', '<start> that s another quid . <end>', '<start> thanks a lot . you ve been very helpful . <end>', '<start> i am cooking now ! <end>', '<start> are you good at cooking ? <end>', '<start> i have studied its skills recently at a training school . i plan to run a restaurant , so i have to practise cooking ! <end>', '<start> it is a good idea . what dish are you cooking now ? ! <end>', '<start> i am steaming fish in a pressure cooker . have you ever tried steamed fish ? <end>', '<start> yes , i have . but the taste of steamed fish at that restaurant is not delicious . the fish is not well done and too salty . <end>', '<start> that s the case . i think there is not enough time to steam it and soy sauce is too much . <end>', '<start> i have the same idea as yours . <end>', '<start> it s ok . please have a taste of it . <end>', '<start> thank you . oh , it s very delicious . <end>', '<start> thank you for your praise . <end>', '<start> besides steamed fish , what else are you good at cooking ? <end>', '<start> i am good at stewing beef with potato , frying chicken , hot and sour soup etc . <end>', '<start> so many dishes . next friday week is my birthday . i would like to invite you to cook for my dinner party , ok ? <end>', '<start> why not ? it is a good opportunity for me to practise cooking . <end>', '<start> thanks a lot . <end>', '<start> it s my pleasure . <end>', '<start> this is room . where is my laundry ? you promised to send to me this morning . <end>', '<start> well , let me check for you . i am sorry , sir . they mistook your order as a normal one . actualty it s an express laundry , is that right ? <end>', '<start> yes , i ordered the express service . <end>', '<start> sir , we are terribly sorry for that . we will refund the charge and send your laundry to your room hours later . is that all right ? <end>', '<start> that s fine . <end>', '<start> what is it ? <end>', '<start> can you mail this at the post office for me ? i have to go to the doctor for an appointment and i don t have enough time to go to the post office . <end>', '<start> sure . and i d like you to get some cold medicine for me when you go to the doctor s . <end>', '<start> would you please fill some gas for me ? <end>', '<start> sure . which kind of gas do you want ? <end>', '<start> unleaded , please . <end>', '<start> ok . <end>', '<start> it can be solved by drawing a draft on us at days sight . <end>', '<start> what about a draft at days sight ? <end>', '<start> all right . but we demand the draft be accepted by a bank acceptable to us . <end>', '<start> a bank s acceptance will add to the costs of our imports . you can rest assured that we will accept the draft and honour it when it comes due . <end>', '<start> then we will be in a position to arrange for a loan from our bank . you know we exports would like to have our investments returned as early as possible . <end>', '<start> i hope this transaction will pave the way for further business relations between our two countries . <end>', '<start> so do i . <end>', '<start> i haven t seen her yet . <end>', '<start> i think that she is very pretty . <end>', '<start> tell me how she looks . <end>', '<start> she s kind of short . <end>', '<start> what height is she ? <end>', '<start> she s probably about five feet . <end>', '<start> that s nice , but tell me what she looks like . <end>', '<start> the first thing i noticed was her beautiful brown eyes . <end>', '<start> i think i might ve bumped into her before . <end>', '<start> are you telling me that you ve seen her before ? <end>', '<start> i believe so . <end>', '<start> yes , and i want to buy the insurance too . i think it s necessary . <end>', '<start> you re smart to buy it . at dollars for three days , it is a good deal . <end>', '<start> can i return the car in san francisco ? <end>', '<start> san francisco ? no , sir . we only have this office here . you will have to return it here . <end>', '<start> really ? i heard in america you can return rental cars in different cities . <end>', '<start> no , sir . that s only with the very big companies . i m sorry , but this car must be returned to this lot . <end>', '<start> well , i guess i will have to drive back down then . hmm . i didn t think of that . <end>', '<start> do you still want the car , sir ? <end>', '<start> yes . it will be fun . driving back down the coast . my girlfriend will like it . <end>', '<start> it s a beautiful drive . <end>', '<start> where are the keys ? <end>', '<start> just a moment , sir . we have to finish filling out the forms . <end>', '<start> sure . just leave it to me . i ll finish it . <end>', '<start> speaking of seafood , my mouth is watering . let s go to the seafood restaurant in our neighborhood . <end>', '<start> sound great . let s go ! <end>', '<start> look at the crystal clear fridge . you can see so many kinds of seafood in it . they all look very fresh and delicious . <end>', '<start> true . i would like to have some salmon sashimi and a roast salmon head . <end>', '<start> you sound like a seafood expert . i would like to have some stir fried squids and steamed shrimps . <end>', '<start> you are not too bad as well . i also want to have a steamed lobster . it is really taste like heaven . <end>', '<start> let s go into the restaurant and find a table to order some food . <end>', '<start> wait . let me tell the lady what we would like to order in front of the seafood fridge first . <end>', '<start> ok . i will wait for you inside the restaurant <end>', '<start> do you think we should try some deep fried oysters ? <end>', '<start> i m going to the hospital . <end>', '<start> get in . i ll take you . <end>', '<start> about how much will it cost ? <end>', '<start> it will cost you . <end>', '<start> by the way , what s the time ? <end>', '<start> you can see the time on the meter . i have radio time , you know . <end>', '<start> it s a quarter to . could you please drive a little faster ? <end>', '<start> certainly . <end>', '<start> where was it from ? <end>', '<start> it was made in jingdezhen . <end>', '<start> jingdezhen ? isn t it called the capital of porcelain ? <end>', '<start> you are right . <end>', '<start> this is the very thing i ve been dreaming of . <end>', '<start> it is the best quality porcelain the famous egg shell china . <end>', '<start> it must be most precious . <end>', '<start> but it is really worth the price . <end>', '<start> hello , i am going to the store to buy some fruit . <end>', '<start> oh , would you do me a favor ? <end>', '<start> yes ? <end>', '<start> please mail this letter for me on your way to the store . <end>', '<start> sure . do you want it to be registered ? <end>', '<start> yes , i think so . there are some pictures in it . it would be a great pity if they were lost . <end>', '<start> yes , i will be glad to mail your letter . <end>', '<start> thanks . <end>', '<start> you are welcome . <end>', '<start> alright . <end>', '<start> it doesn t work . it looks like it s broken . i need to get to a hospital . you should drive me there . <end>', '<start> oh , yeah ? it s better if we make a police report first . then you can go to the hospital . <end>', '<start> damn it ! i m injured here . we could wait all day for the police . <end>', '<start> well , you ll just have to wait . i m not going to move my car until the police arrive . i ll go into one of those houses over there and use their phone . don t worry . you ll get to the hospital in time . <end>', '<start> it really hurts . <end>', '<start> yes , maybe it does . but if you re going to drive like you did just now , you will have to get used to a little physical pain . you know what i mean ? <end>', '<start> to hell with you . the accident was your fault . <end>', '<start> i m afraid it wasn t . and when the police get here , you will also see that it wasn t . but enough of this bickering . i m going to go find a phone . don t move that arm while i m gone . alright ? <end>', '<start> to hell with you . <end>', '<start> hello . i m thinking about watching a chinese traditional opera with a foreign girl . what s on this weekend ? <end>', '<start> well , there will be charity performance on saturday night . and also , there will be a solo concert by an opera star on sunday night . <end>', '<start> it s a good thing that i have choices here . can you tell me about the one on saturday ? <end>', '<start> sure . it s to raise money for the homeless . <end>', '<start> what about the performance itself ? <end>', '<start> oh , it s a reserved opera named the monkey creates havoc in heaven . <end>', '<start> wow , a story about the clever monkey king . it s a classic and children s favorite . <end>', '<start> it surely is . and the cast is really the best . <end>', '<start> wonderful ! how much is the ticket ? <end>', '<start> the price varies according to the seats . for the front , for the middle , and for the back . <end>', '<start> well , we could probably get started with a preparatory meeting this afternoon at . <end>', '<start> i tell you what , is not available for me , but you can get started and i ll come by at around <end>', '<start> that s fine with me . how much time are we going to have to work on this ? <end>', '<start> perhaps one year , i m not sure . <end>', '<start> french dressing , please . <end>', '<start> i beg your pardon ? <end>', '<start> oh , french dressing . <end>', '<start> sorry , it s not available now . anything else ? <end>', '<start> we still prefer french dressing . <end>', '<start> certainly . and what vegetables would you like ? <end>', '<start> oh , spinach , i think . <end>', '<start> fine , and what about something to drink ? <end>', '<start> just a beer , please . <end>', '<start> good . thank you . sir . <end>', '<start> would you like to have some more beer ? <end>', '<start> no , thanks . i ve had enough . i ll have my bill , please . <end>', '<start> of course . please wait a moment . i ll go and get it . <end>', '<start> thank you . <end>', '<start> sure . first of all , it s very important for you not to be late . job interviewers usually don t think very highly of a candidate who arrives ten minutes after the appointed time , only to explain that he could not find the place or that there was heavy traffic . <end>', '<start> yeah , that s very important . <end>', '<start> so you d better explore the place the day before and at the same time , look around to see what the employees are wearing . so the next day you will arrive early for the appointment . <end>', '<start> i ll try my best to make a good impression on the interviewer . <end>', '<start> that s right . you need to create a good image in a limited time , usually about to minutes . <end>', '<start> it s always easier to say something than to do it . <end>', '<start> it s not too difficult to make a good impression . for example , you should take care to appear well groomed and modestly dressed . avoid the extremes of a too elaborate or too casual style . this will put you on the same level as other applicants and make the interviewer consider more important qualifications . <end>', '<start> but i love wearing t shirts and jeans . <end>', '<start> i advise you not to wear a too casual style when going to an interview . informal clothes as well as torn jeans and dirty shoes convey the impression that you are not serious about the job , or that you may be casual about your work as you are about your clothes . <end>', '<start> it s a pity that i cannot afford more expensive clothes . <end>', '<start> you misunderstood me . clothes which are too colorful or too expensive suggest that you do not understand what behavior is appropriate for the job , or that you are snobbish or frivolous . <end>', '<start> i know what you mean . i ought to wear right clothes at the right time . <end>', '<start> you got it . only in this way can you gain the respect of the interviewer and his confidence in your judgement . <end>', '<start> it seems that clothes make the man . <end>', '<start> it may not be true , but the first and lasting impression of you is determined by your clothes and behavior . <end>', '<start> no idea . your guess is as good as mine . <end>', '<start> it better be more than last year . <end>', '<start> well , anything is better than nothing . wait and see . <end>', '<start> what a pity ! <end>', '<start> if you don t mind , may we put it off to the next day ? <end>', '<start> that s ok . <end>', '<start> hello . i need to find out if a receipt of proceeds has arrived . i m from felix wasserman associates . <end>', '<start> thanks . have you got the l c number ? <end>', '<start> it s nx . <end>', '<start> hang on a tick and i ll check for you . i m sorry we have no record of that arriving . <end>', '<start> ok , thanks for checking . could you give me a ring when it arrives , please ? <end>', '<start> no problem . i ll be in touch as soon as it comes in . <end>', '<start> yes . i have to stay in your cry for just one day , can you suggest a short tour ? <end>', '<start> are you interested in the natural landscape or the human landscape ? <end>', '<start> i would prefer the first one . <end>', '<start> sure . we have a one day trip along the river . it s quite beautiful . <end>', '<start> i need to find out some more information for l c . i would like an outline of responsibilities , both ours , yours and the beneficiary , please . <end>', '<start> ok , to start , the conditions are specified by the buyer and may include insurance forms , way bills , bills of lading , customs forms , various certificates . <end>', '<start> ok , got it . is there anything else i need to know before we go ahead ? <end>', '<start> just that in effect , a basic letter of credit is a financial contract between the bank , the bank s customer , and the beneficiary , and this contract involves the transfer of goods or services against funds . <end>', '<start> that sounds fine , thanks for that . let s go ahead ! <end>', '<start> i would like to report a break in . <end>', '<start> when was this break in ? <end>', '<start> i believe it happened last night . <end>', '<start> where was the break in ? <end>', '<start> it happened at my house . <end>', '<start> was anything stolen ? <end>', '<start> i haven t checked yet . <end>', '<start> why do you think there was a break in ? <end>', '<start> my front window was broken . <end>', '<start> we ll send a squad car shortly . <end>', '<start> i d appreciate that . <end>', '<start> one dollar . <end>', '<start> so , i can have five for five dollars ? <end>', '<start> actually , you can only have four . <end>', '<start> oh , yeah . i forgot tax . give me four then , please . <end>', '<start> okay . thanks . <end>', '<start> come in please . <end>', '<start> good evening , sir . i come to make the bed . shall i do it now or later ? <end>', '<start> well , since you have come , do it now please ? <end>', '<start> that s all . have a nice stay here . <end>', '<start> thank you . please get some soap for us . <end>', '<start> just a moment . i will do it right now . <end>', '<start> oh ? what s wrong ? <end>', '<start> my daughter s just banged up her knee pretty badly and i m going to have to take her to the hospital . i ll be about two hours late . <end>', '<start> yes , come in please . i am mr . li . you must be my liu , right ? <end>', '<start> yes , i am my liu . thanks . <end>', '<start> i d like to start this interview with some questions . why do you think you are qualified for this position ? <end>', '<start> according to your advertisement , you want an experienced software engineer . i think my background meets the requirement of this position . <end>', '<start> then tell me something about your background . <end>', '<start> my major was computer science when i was at college , and i am quite familiar with visual c and java language . <end>', '<start> well , what do you think about the development in computers ? <end>', '<start> the developments in software are going ahead very quickly and more and more problems are resolved by software . in some regions , the hardware is completely replaced by software . so i think the software industry has a great future . <end>', '<start> have you ever designed any programs concerning network ? <end>', '<start> yes , i have designed some programs for the network with visual c and i have passed the test for programmers muse . <end>', '<start> have you got anything to ask me ? <end>', '<start> yes , can you tell me what s my responsibility in this position ? <end>', '<start> yes , of course . you would be responsible for the development of software products . <end>', '<start> i see . this is my advantage . <end>', '<start> good . have you got any other questions ? <end>', '<start> no . <end>', '<start> ok , i will contact you in a week . see you . <end>', '<start> thank you , bye bye . <end>', '<start> can you take he away from me ? <end>', '<start> i m just coming for that . <end>', '<start> she kept bothering me . <end>', '<start> she s your sister . what she asked was only duck soup for you . why can t you be good to her ? <end>', '<start> but i am her brother , not her servant . <end>', '<start> maybe you should look around for an outlet . <end>', '<start> that is a wonderful idea . <end>', '<start> outlets have more reasonable prices . <end>', '<start> thank you for your help . <end>', '<start> no problem . good luck <end>', '<start> the apples are nt each . how many would you like ? <end>', '<start> let s see , nt is about . . . almost a dollar us . what ? ! how about these pineapples ? <end>', '<start> they re nt each , but they re not edible . they re only used for worship . <end>', '<start> hmm , nt is . . . dollars ? ! ! and you can t even eat them ? you re crazy ! <end>', '<start> wait ! don t go just yet . these bananas are pretty cheap only nt for this bunch . <end>', '<start> now that s more like it ! bananas have lots of potassium , too ! <end>', '<start> they re also good for your digestion ! would you like some kiwis , too ? <end>', '<start> are they from taiwan ? <end>', '<start> they re imported from new zealand . four for nt . nine for a hundred . <end>', '<start> ok . i ll take four kiwis . <end>', '<start> sure . what do you need ? <end>', '<start> well , i wanted to let you know that i ve put in my notice . <end>', '<start> really ? why ? <end>', '<start> it s complicated . but basically it boils down to one thing . this company is downsizing and i can t continue working for a company that may let me go . <end>', '<start> but surely they won t fire you ! you re one of the most experienced managers here ! <end>', '<start> well , to be honest , there s another reason . i ve got a better offer . <end>', '<start> well that s great news ! congratulations ! where will you be located ? <end>', '<start> the head office is in new york , but i ll be dealing with overseas companies and flying to this side of the world from time to time . <end>', '<start> it ll be sad to see you go , but it sounds like you re found yourself a great opportunity . <end>', '<start> i have . i feel lucky . i look forward to dealing with overseas companies and at the same time having a chance to use english more . <end>', '<start> i m sorry to bring this up , but would it be possible for you to write me a letter of recommendation before you go ? <end>', '<start> of course i can . in fact , if there are other job opportunities at this new company , i ll recommend you personally . <end>', '<start> thanks . i appreciate that . <end>', '<start> do you have this shirt in a small ? <end>', '<start> let me check . yes , we have . <end>', '<start> may i try it on ? <end>', '<start> sure . let me help you . <end>', '<start> i had it right here a minute ago , mr . emory . umm . just a minute . . . <end>', '<start> christine , i know you re new here and there s a lot to learn , but you are going to have to learn to keep your work in better order . we can t afford to lose an important document . <end>', '<start> yes , sir . i apologize for that . here s the file you were looking for , mr . emory . <end>', '<start> sorry , i m using it myself . but you can use it this afternoon . <end>', '<start> thank you very much . <end>', '<start> don t mention it , let s go in . <end>', '<start> yeah , this place looks great . wow , look at her , she can certainly get down , can t she ? <end>', '<start> she sure can . are you jealous , leslie ? <end>', '<start> a little , i wish i could do that . <end>', '<start> you can ! with a little practice . <end>', '<start> look at him , he s buff . <end>', '<start> i think he s hot too . <end>', '<start> how do they all get in such tiptop shape ? <end>', '<start> exercised over and over . exercise is a key . <end>', '<start> that s it . i decided to turn over a new leaf . i m going to exercise every single day . <end>', '<start> good for you , leslie ! <end>', '<start> ok , how was everything ? <end>', '<start> very nice . thank you . <end>', '<start> would you like this to go ? <end>', '<start> yes , can you put it in a plastic bag ? <end>', '<start> sure , no problem . here you are . that ll be dollars . <end>', '<start> do you take credit cards ? <end>', '<start> yes , we accept visa and mastercard . <end>', '<start> ok , here you are . <end>', '<start> thanks . i ll be right back . <end>', '<start> ok . <end>', '<start> here s your receipt . <end>', '<start> thank you . <end>', '<start> you re welcome . please come again . <end>', '<start> i m going to quit the job . <end>', '<start> why ? <end>', '<start> the task is tough . <end>', '<start> you d look before you leap . <end>', '<start> thanks for your concern . <end>', '<start> just tor three days . i won t need these luggages . couid i put them here ? <end>', '<start> i am sorry . if you have here more than hours between connecting flights , we can t check your luggage through london . <end>', '<start> well , maybe i can put them in the airport storage there . <end>', '<start> that s right . it s over there . <end>', '<start> no , thanks . i m on a diet . <end>', '<start> that s over on callaway street , isn t it ? <end>', '<start> yes , but i can t find callaway street . <end>', '<start> walk that way for about four blocks . the hotel s about two blocks north of there . <end>', '<start> thanks a lot . <end>', '<start> not at all . <end>', '<start> better late than never . <end>', '<start> for what ? are you taking up painting ? <end>', '<start> no . i can t paint . i m asking for my niece . she is really into it . <end>', '<start> oh , good . how old is your niece ? <end>', '<start> she is eight . actually , i m buying a good set of art supplies for her as a birthday gift . <end>', '<start> it s a wise thing to do . art will do a child a world of good . <end>', '<start> hi , mr . smith . this is mary . is jenny there ? <end>', '<start> no , i m afraid not , mary . may i take a message for her ? <end>', '<start> yes , please tell her that band practice has been moved to tuesday night at eight thirty . <end>', '<start> o . k . no problem . anything else ? <end>', '<start> no , but if she has any questions , she can call me at . <end>', '<start> all right , i ll leave her the message , mary . thanks for calling . <end>', '<start> thank you . bye . <end>', '<start> goodbye . <end>', '<start> yes , a little . <end>', '<start> can you tell me how to get to the jade buddha temple ? <end>', '<start> i m sorry . i can t quite follow you . would you mind speaking slowly ? <end>', '<start> i ve a driver mate in my car ! <end>', '<start> so you have all the news on broadcast ? <end>', '<start> yes , it s so helpful . <end>', '<start> yes , i m in a bit of a rush . could i have a piece of apple pie please ? <end>', '<start> certainly . would you like it with ice cream ? <end>', '<start> no , thanks . <end>', '<start> yes . would tomorrow morning be all right with you ? <end>', '<start> sorry , i ve got a meeting from nine to ten . what about monday afternoon ? <end>', '<start> i m afraid he s fully engaged . could you make it another time ? <end>', '<start> i m just shopping . <end>', '<start> what are you shopping for ? <end>', '<start> some new clothes . how about you ? <end>', '<start> same here . <end>', '<start> have you found anything nice yet ? <end>', '<start> i found a few pairs of pants . <end>', '<start> where d you get those ? <end>', '<start> i found them at jc pennies . <end>', '<start> those are really cute . <end>', '<start> do you want me to show you where i found them ? <end>', '<start> i would like that . thank you . <end>', '<start> yes , speaking . <end>', '<start> i want to know whether you will come to the interview . so have you accepted offers from other companies ? <end>', '<start> no , i haven t got one by now . i will go to the interview of yours . <end>', '<start> yes , of course . we could split it . what part would you like to do , the food or the entertainment ? <end>', '<start> i have no idea what the entertainment should be . <end>', '<start> let s make sure we are on the same page . do we want a formal or informal gathering ? <end>', '<start> let s make it a formal affair . <end>', '<start> yes , that would be best . now , for food should we have chinese or american food ? <end>', '<start> american food would be the best choice . <end>', '<start> that would be great . what kind of music would you like , a band or recorded music ? <end>', '<start> we should bring in a really good dj . <end>', '<start> that works for me . let s see what we can each do about planning our part and meet again on friday . <end>', '<start> what s the matter ? <end>', '<start> scrambled egg , bacon , three pieces of bread and a cup of tea . <end>', '<start> would you care for some lemon for your tea ? <end>', '<start> no , thank you . <end>', '<start> over there . <end>', '<start> yeah , i really wanted that chanel bag , too . but just in case you should bid low . <end>', '<start> but there are only two more days until the bidding closes ! <end>', '<start> i bid on a chanel watch at the last minute , and got it sixty percent off ! <end>', '<start> oh . . . i m such a newbie . but at least i m sure i ll get that tennis racket . <end>', '<start> don t count on it , babe . ebay is always full of surprises . <end>', '<start> well . . . guess how low the bidding starts on the tennis racket ? <end>', '<start> pots and pans are right over there . <end>', '<start> oh , thank you . <end>', '<start> could i interest you in our store credit card ? <end>', '<start> no , thanks . i already have credit cards . <end>', '<start> but our credit card saves you percent . <end>', '<start> that s a nice discount . <end>', '<start> here . let me give you an application form . <end>', '<start> thank you , but i m just browsing today . <end>', '<start> okay . enjoy your browsing . <end>', '<start> i m allergic to these things , you know . <end>', '<start> sorry , i forgot . i don t like seafood , neither . <end>', '<start> let s go over there and get some milk , a couple dozen eggs and some orange juice . <end>', '<start> let s get frozen juice . it is really good . we ve got enough food . let s go over to the check out stand . <end>', '<start> ok . but just let me pick up a bottle of cooking wine and oil as we go by . <end>', '<start> you are speaking with professor clark . <end>', '<start> professor , i am kalina from your morning literature class . <end>', '<start> yes , how can i help you ? <end>', '<start> i ran my car into a tree yesterday and need to miss a few days of school . <end>', '<start> oh , my god ! i hope you are all right . <end>', '<start> i have a concussion , but i will be ok . <end>', '<start> how much school will you miss ? <end>', '<start> i only need to take this week off . <end>', '<start> i appreciate you calling and telling me that you won t be in class . see you next week ! <end>', '<start> can t complain . and you ? <end>', '<start> business is booming . i understand you want to meet up with me next week . how s your schedule looking ? <end>', '<start> let me see . i can come out and see you first thing wednesday . <end>', '<start> great . <end>', '<start> you mean the network connection ? <end>', '<start> yes , i wanted to look for some information on the company page just now . it took me almost one minute to open it . then there is no response to any click . <end>', '<start> i have the same question . i can t send out mails . we d better call the it department and ask them to check it immediately . <end>', '<start> ok . <end>', '<start> dad , i have to do my homework . <end>', '<start> no , honey , why didn t you go to cram school last night ? <end>', '<start> dad , i don t want to talk about it now . <end>', '<start> honey , if you don t want to go to cram school , you should tell me the reason why . <end>', '<start> i m sorry , dad . but i would rather stay at school than go to cram school . <end>', '<start> doctor , i have a bad cough and a headache . <end>', '<start> do you have a fever ? <end>', '<start> i don t know , but i feel terrible . <end>', '<start> let me examine you . don t worry . it s nothing serious . <end>', '<start> do you think i should lie in bed ? <end>', '<start> yes , stay in bed and drink a lot of water . your fever will be gone in a day or two . <end>', '<start> ok . do you think i can play football tomorrow ? <end>', '<start> of course not . you need a good rest . <end>', '<start> ok , i ll listen to you . <end>', '<start> what do you have in mind ? <end>', '<start> a dessert sounds nice . <end>', '<start> what kind are you thinking of getting ? <end>', '<start> i want to get some pie . <end>', '<start> what kind of pie do you want ? <end>', '<start> i have no idea . <end>', '<start> do you want to know what kind of pie i like ? <end>', '<start> sure , what kind do you like ? <end>', '<start> i love apple pie . <end>', '<start> oh , i love apple pie too . <end>', '<start> there you go . problem solved . <end>', '<start> i ll be with you in a minute . <end>', '<start> yes . do you exchange foreign money here ? <end>', '<start> yes . our bank is authorized to deal with foreign exchange . <end>', '<start> what kinds of currency do you change ? <end>', '<start> we can change only three kinds of currency , usd , japanese yen and hk dollar in our savings office . <end>', '<start> could you tell me what the exchange rate for usd is today ? <end>', '<start> the buying rate is . yuan for dollars . <end>', '<start> i want to change some us dollars to cover my expense here . <end>', '<start> please go to counter no . , the foreign exchange counter . it s over there . <end>', '<start> thank you . <end>', '<start> my name is steven . i m the sales manager of this company . <end>', '<start> well , look here . ten new typewriters were delivered to my company yesterday afternoon and only five of them work properly . <end>', '<start> oh , i m sorry about that . <end>', '<start> never mind being sorry , what are you going to do about it ? <end>', '<start> don t worry , we ll soon fix them . <end>', '<start> good , i hope you ll make sure that it won t happen again . <end>', '<start> i ll certainly look into that . <end>', '<start> thank you . goodbye . <end>', '<start> yes , sir . what price range do you have in mind ? <end>', '<start> i m not sure . i don t know very much about the price of pearls . <end>', '<start> i see . let me show you some samples of various qualities . this one is very nice . it s three hundred and fifty dollars . <end>', '<start> is there a price reduction ? <end>', '<start> we are having a sale now . the price has already gone down . <end>', '<start> how much is that one ? <end>', '<start> it s two hundred and eighty dollars . <end>', '<start> ok . i ll take it . thank you . <end>', '<start> yes , i would like to buy a walkman . can you tell me about the models you have ? <end>', '<start> well , we have a lot of models here . did you want to listen to cd s or cassettes or the radio ? <end>', '<start> mostly cassette tapes . <end>', '<start> alright . there are several models you may want to look at . this kreng portable cassette player is very good . <end>', '<start> kreng ? i ve never heard of that company . <end>', '<start> it s a german company . this unit has auto reverse , recording capability , and an am fm radio band . it also has a built in microphone . <end>', '<start> i suppose i don t want that one then . i don t like auto reverse . it breaks too easily . <end>', '<start> really ? have you had an auto reverse break before ? <end>', '<start> yes , twice now . i think it s too high tech , and so it s the first part that breaks . <end>', '<start> hmm . you know , the problem might be dust . did you clean the unit often ? <end>', '<start> well . no , i didn t clean it . but still , i only had the last one two months , and it broke . i don t trust auto reverse . <end>', '<start> alright . well . we have many units without auto reverse . here is a good unit . very reliable . it has an am fm band , built in microphone , recording capability , and no auto reverse . <end>', '<start> how much is it ? <end>', '<start> this one sells for . . <end>', '<start> can i test it out ? <end>', '<start> of course . <end>', '<start> it sounds great . i ll take it . <end>', '<start> fine . i think you ll be happy with it . it s a very good unit . very reliable . i ll go get you a new one in a box . i will be back in just a moment . <end>', '<start> thanks . <end>', '<start> i was born and raised in beijing . i attended peking university and received my bachelor s degree in economics . i have worked for years as a financial consultant in beijing for china pacific insurance co . ltd . <end>', '<start> what type of position are you looking for ? <end>', '<start> i m looking for a position in which i can utilize my experience . <end>', '<start> are you interested in a full time or part time position ? <end>', '<start> i am more interested in a full time position . however , i would also consider a part time position . <end>', '<start> can you tell me about your responsibilities at your last job ? <end>', '<start> i advised customers on financial matters . after i consulted the customer , i completed a customer inquiry form and catalogued the information in our database . i then collaborated with colleagues to prepare the best possible package for the client . the clients were then presented with a summarized report on their financial activities that i formulated on a quarterly basis . <end>', '<start> what is your greatest strength ? <end>', '<start> i am an excellent communicator . people trust me and come to me for advice . one afternoon , my colleague was involved with a troublesome customer who felt he was not being served well . i made the customer a cup of coffee and invited both my colleague and the client to my desk where we solved the problem together . <end>', '<start> what is your greatest weakness ? <end>', '<start> i tend to spend too much time making sure the customer is satisfied . however , i began setting time limits for myself . <end>', '<start> why do you want to work for our company ? <end>', '<start> after following your firm s progress for the last years , i am convinced that your company is becoming one of the market leaders and i would like to be a part of that team . <end>', '<start> when can you begin ? <end>', '<start> immediately . <end>', '<start> well , all right . there are four points you should keep in mind when you file documents , information and other things . <end>', '<start> what are they ? <end>', '<start> they are keep the documents in chronological order , remove all the chips and pins , punch the documents evenly and place them in the folder . <end>', '<start> and what is the most important point ? <end>', '<start> you should always remember that one customer one file is the rule . <end>', '<start> yes , they were . but it has already past . the traffic from the airport to downtown has been relieved after the completion of yan an aerial road . <end>', '<start> we ve never expected that shanghai is such a big metropolis , same as new york city . david , would it be a good idea to rent a car here ? i ve got an international driver s license with a pretty good record in the states . <end>', '<start> that s wonderful . ok . i ll remember that . but i have to warn you that you must drive very carefully in the downtown area , for there re no separate lanes for motor vehicles and bicycles in some places , and still quite a few people don t take road regulations seriously . <end>', '<start> you can t really tell everything about a house from the outside . let s go inside . <end>', '<start> i don t think that it is looking any better inside here . <end>', '<start> i think that fresh paint and cleaning would help it look a little better . <end>', '<start> it is just too dark in here with so few windows . <end>', '<start> i hear that the kitchen is quite large . let s go check it out . <end>', '<start> the kitchen may be large , but it doesn t have any storage space . <end>', '<start> the master suite is supposed to be quite elegant . maybe it will be a little better . <end>', '<start> how many dogs live in this house ? <end>', '<start> i think that we have seen all that we need to see here . let s go look at another house . <end>', '<start> have you decided what wine you would like ? <end>', '<start> i have no idea . maybe you can give me some advice . <end>', '<start> i recommend you the white wine . it will wake up your appetite . <end>', '<start> that s great , bring me a bottle of that please . <end>', '<start> wait a minute ! just hold your horses ! what s your hurry , anyway ? <end>', '<start> well , i ve got to stop and get gas in the car , first . <end>', '<start> that won t take long . <end>', '<start> well , it won t if there no line at the pump . <end>', '<start> well , i m not quite ready . <end>', '<start> i ll give you five more minutes , then i m going on without you ! <end>', '<start> you wouldn t do a thing like that ! <end>', '<start> oh , yes , i would ! <end>', '<start> engaged ? she s married . <end>', '<start> johnny , i wish you d stop reaching for things . haven t you a tongue ? <end>', '<start> yes , mother , but my arm is longer . <end>', '<start> not a problem . what time shall we call you ? <end>', '<start> i always hit the snooze button , so give me two calls , one at and another at fifteen . <end>', '<start> it ll be our pleasure . we ll call you at and then at fifteen . <end>', '<start> oops , cancel that . change the second call to thirty will you , please ? <end>', '<start> no sooner said than done . can i help you with anything else ? <end>', '<start> no , that s about it for now . thanks . <end>', '<start> okay , sir . have a pleasant evening . <end>', '<start> yes , i have , mr . thomas . we ll pack them two dozen to one carton , and the gross weight is around kilos a carton . <end>', '<start> take it easy . you ve made enough preparations . <end>', '<start> i m in such a need of the job that i can t afford any mistakes . <end>', '<start> i m sure you ll pass it . <end>', '<start> let me see . laptop , flash disk , a ballpoint pen , a pencil , a notebook , a pair of glasses , cell phone , charger , moisture lotion , . . . oh , that is too much . you are not going to a business trip . <end>', '<start> i guess i need all of them . <end>', '<start> actually , the company will provide you with all of these supplies . so , you can leave this very thick notebook at home . <end>', '<start> i know . but it is my lucky charm . i carry it all the time . <end>', '<start> suit yourself . don t forget to set the alarm clock . <end>', '<start> yes . i want to go to beijing hotel . <end>', '<start> i m sorry . you are going in the wrong direction . <end>', '<start> oh no ! what shall i do ? <end>', '<start> don t worry . you can get off at the next stop and go across the street through the overpass . the bus stop is right there . <end>', '<start> thank you very much . <end>', '<start> my pleasure . <end>', '<start> hum . . . why not go shopping the day after tomorrow ? tomorrow is saturday . i hate all the hustle and bustle of saturday shopping . <end>', '<start> but sunday is the same with saturday . if you don t mind , that s ok . <end>', '<start> hum . maybe it will be better . the most important thing is that i can have a day to relax after a week s work . <end>', '<start> i see . we will go the day after tomorrow . <end>', '<start> by the way , what kind of stores do we need to go ? <end>', '<start> i want to buy some clothes in clothing store . when we are going back , go to the butcher s shop and buy some chicken . <end>', '<start> let s also go to the jewelry store to buy a crystal necklace . i want to buy one for you as your birthday present . <end>', '<start> thank you , darling . <end>', '<start> how tall is this building ? <end>', '<start> it stands m ft high and held the record as the world s tallest structure until . <end>', '<start> i have heard its name is connected with someone , is that right ? <end>', '<start> yes , the towel was named after its designer gustave eiffel . <end>', '<start> i m calling to cancel my reservation for trans pacific flight on july from taipei to minneapolis . could you please make it for the same flight on august instead of july ? <end>', '<start> what s your name , please ? <end>', '<start> my name is judy wang . <end>', '<start> how do you spell your name , please ? <end>', '<start> my first name is j u d y , and my last name is w a n g . <end>', '<start> please note that this ticket has a penalty of for any change or cancellation . <end>', '<start> it s ok . where should i pay for the penalty ? <end>', '<start> at the airport . ok , miss . wang , your flight on july from taipei to minneapolis is canceled . your new reservation is trans pacific flight from taipei to minneapolis at thirty a . m . on august . <end>', '<start> that s poj . <end>', '<start> that s correct . <end>', '<start> thank you ! <end>', '<start> is there anything else i can do for you ? <end>', '<start> no , thanks . i m all set . good bye . <end>', '<start> yeah . this is supply . what can i do for you ? <end>', '<start> this is rachel in human resources . i need two boxes of company letterhead , one box of ball point pens , and a box of envelopes . <end>', '<start> all right . no problem . what s your extension ? <end>', '<start> yes , certainly . how can i recognize him ? <end>', '<start> he is short , well built , and he s got light blond hair . <end>', '<start> is there anything else ? <end>', '<start> he has a mustache , if i remember correctly , and a light complexion . <end>', '<start> how old is he ? <end>', '<start> he is in his late thirties . <end>', '<start> well . i shouldn t have any trouble recognizing him . what time does his flight arrive ? <end>', '<start> at thirty . <end>', '<start> could i get a hamburger , please ? <end>', '<start> would you like cheese on that ? <end>', '<start> no , thank you . <end>', '<start> would you like a drink ? <end>', '<start> let me have a soda . <end>', '<start> what kind of soda would you like ? <end>', '<start> may i have a sprite , please ? <end>', '<start> sure , no problem . <end>', '<start> i would also like a bag of chips . <end>', '<start> will that be all ? <end>', '<start> that s everything . <end>', '<start> i majored in international banking at college so i took many insurance courses . and i worked at an insurance company for my graduation field work . <end>', '<start> why do you want to be an insurance agent ? <end>', '<start> i care about people and i know the importance of insurance . <end>', '<start> do you have any work experience in promotion ? <end>', '<start> yes , i do . i have worked as a salesman for p g company ltd . <end>', '<start> do people respond well to you ? <end>', '<start> yes , i m good with people . <end>', '<start> this is the place i was telling you about . <end>', '<start> would you like to sit near the window ? <end>', '<start> good . <end>', '<start> let s have a look at the menu . oh , there isn t a menu . do you think you could ask the people at the next table if we could look at their menu ? <end>', '<start> yes , of course . excuse me . could you possibly let us see your menu ? oh . they haven t got one either . <end>', '<start> i m thinking about it . how much is it ? <end>', '<start> . <end>', '<start> oh , dear . it s too expensive . can you give me a better price ? <end>', '<start> your discount is already included . normally we charge , but now we can give you a special price . this is our sale period . <end>', '<start> it s still too much . can t you make it any cheaper than that ? <end>', '<start> sorry , but this is the best price . you can t get it any cheaper than here . <end>', '<start> i see . can i pay by traveler s checks ? <end>', '<start> i m afraid you can t . you re welcome to pay in cash . <end>', '<start> sure . what do you need ? <end>', '<start> i m having some trouble . how do you use this printer ? <end>', '<start> well , first you have to turn this switch on . <end>', '<start> silly me . <end>', '<start> now press this button . <end>', '<start> oh , and it s out of paper . do you have any more ? <end>', '<start> just a second . i ll go get some . <end>', '<start> tell me what the problem is . <end>', '<start> i can t figure out how to turn them on . <end>', '<start> do you have some quarters ? <end>', '<start> i didn t know i needed change . <end>', '<start> the washer costs cents and the dryer costs a dollar . <end>', '<start> where do i put the change ? <end>', '<start> the quarters go into the slot . you have to push the slot in , and the machine will turn on . <end>', '<start> is that everything that i have to do ? <end>', '<start> that s all there is . <end>', '<start> i appreciate you helping me with this . <end>', '<start> if you need anything else , just let me know . <end>', '<start> yes , do i have to work a whole year before i can take a vacation ? <end>', '<start> yes , after you ve been here a year , you qualify for a three day vacation <end>', '<start> only three days ? <end>', '<start> that s the company policy . <end>', '<start> what happens if i use up my sick days before the end of the year ? if i m sick an extra day or two , will my pay be deducted ? <end>', '<start> yes . that s the company policy . <end>', '<start> it was the same as the last place i worked at . i was hoping you d be different . <end>', '<start> yeah . i am too . <end>', '<start> where did you want to go for lunch ? <end>', '<start> i was thinking we should just go to the cafeteria . <end>', '<start> i don t think i ever got food from the cafeteria . <end>', '<start> i actually like the food there . <end>', '<start> does the cafeteria sell a lot of different food ? <end>', '<start> they have anything you want . <end>', '<start> i was thinking about getting some chinese food . <end>', '<start> i bought some chow mein at the cafeteria . it tasted great . <end>', '<start> we can eat at the cafeteria . <end>', '<start> i think you ll really like the food there . <end>', '<start> that s ok . <end>', '<start> the contract is to be written in chinese and english . both languages are equally effective . <end>', '<start> fine . if you ll excuse me , i d like to go it over first . after about minutes hmm , you ve done a pretty good job . it s well prepared . <end>', '<start> thank you . <end>', '<start> well , i suggest that we discuss only the clauses and points where we have different opinions just to save time . <end>', '<start> that s a good idea . <end>', '<start> first , let s read clause two about packing . it s our usual practice to ship our products in containers . that ll save time and money , but your contract stipulates the use of wooden cases . so , we d like to have the words containers are allowed in the contract . <end>', '<start> agreed . <end>', '<start> for shipment , you know we are producing a complete set of equipment for you and it won t all be finished at one time . so would you allow us to make partial shipments . <end>', '<start> i understand your position . <end>', '<start> certainty . do you want double breasted suit or single breasted suit ? <end>', '<start> i prefer single breasted suit . <end>', '<start> what about this one ? it s a very nice piece suit . <end>', '<start> that looks great . do you have ties here ? <end>', '<start> how do you do , jack . nice to meet you . <end>', '<start> well , i think you ve reconsidered our proposal , diane . <end>')\n",
            "[[  2  55  23 ...   0   0   0]\n",
            " [  2 880  35 ...   0   0   0]\n",
            " [  2  69   5 ...   0   0   0]\n",
            " ...\n",
            " [  2  13 320 ...   0   0   0]\n",
            " [  2  50  21 ...   0   0   0]\n",
            " [  2  44   5 ...   0   0   0]]\n",
            "[[  2 419 191 ...   0   0   0]\n",
            " [  2  49  22 ...   0   0   0]\n",
            " [  2 558  32 ...   0   0   0]\n",
            " ...\n",
            " [  2  22  44 ...   0   0   0]\n",
            " [  2  35  20 ...   0   0   0]\n",
            " [  2  35  20 ...   0   0   0]]\n"
          ],
          "name": "stdout"
        }
      ]
    },
    {
      "cell_type": "code",
      "metadata": {
        "colab_type": "code",
        "id": "4QILQkOs3jFG",
        "colab": {
          "base_uri": "https://localhost:8080/",
          "height": 34
        },
        "outputId": "f50a128c-d060-4675-a38b-4125754d1bbb"
      },
      "source": [
        "# Creating training and validation sets using an 80-20 split\n",
        "input_tensor_train, input_tensor_val, target_tensor_train, target_tensor_val = train_test_split(input_tensor, target_tensor, test_size=0.2)\n",
        "\n",
        "# Show length\n",
        "print(len(input_tensor_train), len(target_tensor_train), len(input_tensor_val), len(target_tensor_val))"
      ],
      "execution_count": 12,
      "outputs": [
        {
          "output_type": "stream",
          "text": [
            "800 800 201 201\n"
          ],
          "name": "stdout"
        }
      ]
    },
    {
      "cell_type": "code",
      "metadata": {
        "colab_type": "code",
        "id": "lJPmLZGMeD5q",
        "colab": {}
      },
      "source": [
        "def convert(lang, tensor):\n",
        "  for t in tensor:\n",
        "    if t!=0:\n",
        "      print (\"%d ----> %s\" % (t, lang.index_word[t]))"
      ],
      "execution_count": 0,
      "outputs": []
    },
    {
      "cell_type": "code",
      "metadata": {
        "colab_type": "code",
        "id": "VXukARTDd7MT",
        "colab": {
          "base_uri": "https://localhost:8080/",
          "height": 510
        },
        "outputId": "7e3d0b8f-cb39-4317-85d4-3d014c7d0c2a"
      },
      "source": [
        "print (\"Input Language; index to word mapping\")\n",
        "convert(inp_lang, input_tensor_train[0])\n",
        "print ()\n",
        "print (\"Target Language; index to word mapping\")\n",
        "convert(targ_lang, target_tensor_train[0])"
      ],
      "execution_count": 14,
      "outputs": [
        {
          "output_type": "stream",
          "text": [
            "Input Language; index to word mapping\n",
            "2 ----> <start>\n",
            "13 ----> that\n",
            "14 ----> s\n",
            "51 ----> all\n",
            "1 ----> .\n",
            "16 ----> have\n",
            "10 ----> a\n",
            "123 ----> nice\n",
            "264 ----> stay\n",
            "42 ----> here\n",
            "1 ----> .\n",
            "3 ----> <end>\n",
            "\n",
            "Target Language; index to word mapping\n",
            "2 ----> <start>\n",
            "48 ----> well\n",
            "5 ----> ,\n",
            "1434 ----> since\n",
            "6 ----> you\n",
            "14 ----> have\n",
            "106 ----> come\n",
            "5 ----> ,\n",
            "20 ----> do\n",
            "11 ----> it\n",
            "71 ----> now\n",
            "51 ----> please\n",
            "7 ----> ?\n",
            "3 ----> <end>\n"
          ],
          "name": "stdout"
        }
      ]
    },
    {
      "cell_type": "code",
      "metadata": {
        "id": "VV1kxZ4hyej6",
        "colab_type": "code",
        "colab": {
          "base_uri": "https://localhost:8080/",
          "height": 136
        },
        "outputId": "cd9e3b45-2cdf-469b-e5a3-310630e11b59"
      },
      "source": [
        "print(input_tensor_train)"
      ],
      "execution_count": 15,
      "outputs": [
        {
          "output_type": "stream",
          "text": [
            "[[  2  13  14 ...   0   0   0]\n",
            " [  2   1   3 ...   0   0   0]\n",
            " [  2  25  16 ...   0   0   0]\n",
            " ...\n",
            " [  2   4  32 ...   0   0   0]\n",
            " [  2   4 261 ...   0   0   0]\n",
            " [  2  52 297 ...   0   0   0]]\n"
          ],
          "name": "stdout"
        }
      ]
    },
    {
      "cell_type": "markdown",
      "metadata": {
        "colab_type": "text",
        "id": "rgCLkfv5uO3d"
      },
      "source": [
        "### Create a tf.data dataset"
      ]
    },
    {
      "cell_type": "code",
      "metadata": {
        "colab_type": "code",
        "id": "TqHsArVZ3jFS",
        "colab": {
          "base_uri": "https://localhost:8080/",
          "height": 34
        },
        "outputId": "ba271de0-0427-4c48-a0e9-c5d0cdf71eaf"
      },
      "source": [
        "BUFFER_SIZE = len(input_tensor_train)\n",
        "BATCH_SIZE = 4 # changed from 256\n",
        "steps_per_epoch = len(input_tensor_train)//BATCH_SIZE\n",
        "embedding_dim = 32 # changed from 256\n",
        "units = 128 # changed from 1024\n",
        "vocab_inp_size = len(inp_lang.word_index)+1\n",
        "vocab_tar_size = len(targ_lang.word_index)+1\n",
        "\n",
        "dataset = tf.data.Dataset.from_tensor_slices((input_tensor_train, target_tensor_train)).shuffle(BUFFER_SIZE)\n",
        "print(dataset)\n",
        "dataset = dataset.batch(BATCH_SIZE, drop_remainder=True)"
      ],
      "execution_count": 16,
      "outputs": [
        {
          "output_type": "stream",
          "text": [
            "<ShuffleDataset shapes: ((209,), (82,)), types: (tf.int32, tf.int32)>\n"
          ],
          "name": "stdout"
        }
      ]
    },
    {
      "cell_type": "code",
      "metadata": {
        "colab_type": "code",
        "id": "qc6-NK1GtWQt",
        "colab": {
          "base_uri": "https://localhost:8080/",
          "height": 34
        },
        "outputId": "f56a4966-57c8-450a-99f0-802c3db708c3"
      },
      "source": [
        "example_input_batch, example_target_batch = next(iter(dataset))\n",
        "example_input_batch.shape, example_target_batch.shape"
      ],
      "execution_count": 17,
      "outputs": [
        {
          "output_type": "execute_result",
          "data": {
            "text/plain": [
              "(TensorShape([4, 209]), TensorShape([4, 82]))"
            ]
          },
          "metadata": {
            "tags": []
          },
          "execution_count": 17
        }
      ]
    },
    {
      "cell_type": "code",
      "metadata": {
        "id": "xwElW4EjyP45",
        "colab_type": "code",
        "colab": {
          "base_uri": "https://localhost:8080/",
          "height": 1000
        },
        "outputId": "84c9b243-738d-41a1-9d2f-79fae62d6c1b"
      },
      "source": [
        "example_input_batch"
      ],
      "execution_count": 18,
      "outputs": [
        {
          "output_type": "execute_result",
          "data": {
            "text/plain": [
              "<tf.Tensor: shape=(4, 209), dtype=int32, numpy=\n",
              "array([[   2,   25,   16,  128,  178,  997,    5,  113,    1,   38,   13,\n",
              "          26,  606,    9,    6,    8,    3,    0,    0,    0,    0,    0,\n",
              "           0,    0,    0,    0,    0,    0,    0,    0,    0,    0,    0,\n",
              "           0,    0,    0,    0,    0,    0,    0,    0,    0,    0,    0,\n",
              "           0,    0,    0,    0,    0,    0,    0,    0,    0,    0,    0,\n",
              "           0,    0,    0,    0,    0,    0,    0,    0,    0,    0,    0,\n",
              "           0,    0,    0,    0,    0,    0,    0,    0,    0,    0,    0,\n",
              "           0,    0,    0,    0,    0,    0,    0,    0,    0,    0,    0,\n",
              "           0,    0,    0,    0,    0,    0,    0,    0,    0,    0,    0,\n",
              "           0,    0,    0,    0,    0,    0,    0,    0,    0,    0,    0,\n",
              "           0,    0,    0,    0,    0,    0,    0,    0,    0,    0,    0,\n",
              "           0,    0,    0,    0,    0,    0,    0,    0,    0,    0,    0,\n",
              "           0,    0,    0,    0,    0,    0,    0,    0,    0,    0,    0,\n",
              "           0,    0,    0,    0,    0,    0,    0,    0,    0,    0,    0,\n",
              "           0,    0,    0,    0,    0,    0,    0,    0,    0,    0,    0,\n",
              "           0,    0,    0,    0,    0,    0,    0,    0,    0,    0,    0,\n",
              "           0,    0,    0,    0,    0,    0,    0,    0,    0,    0,    0,\n",
              "           0,    0,    0,    0,    0,    0,    0,    0,    0,    0,    0,\n",
              "           0,    0,    0,    0,    0,    0,    0,    0,    0,    0,    0],\n",
              "       [   2,   50,  281,  121,    4,   21,    8,    3,    0,    0,    0,\n",
              "           0,    0,    0,    0,    0,    0,    0,    0,    0,    0,    0,\n",
              "           0,    0,    0,    0,    0,    0,    0,    0,    0,    0,    0,\n",
              "           0,    0,    0,    0,    0,    0,    0,    0,    0,    0,    0,\n",
              "           0,    0,    0,    0,    0,    0,    0,    0,    0,    0,    0,\n",
              "           0,    0,    0,    0,    0,    0,    0,    0,    0,    0,    0,\n",
              "           0,    0,    0,    0,    0,    0,    0,    0,    0,    0,    0,\n",
              "           0,    0,    0,    0,    0,    0,    0,    0,    0,    0,    0,\n",
              "           0,    0,    0,    0,    0,    0,    0,    0,    0,    0,    0,\n",
              "           0,    0,    0,    0,    0,    0,    0,    0,    0,    0,    0,\n",
              "           0,    0,    0,    0,    0,    0,    0,    0,    0,    0,    0,\n",
              "           0,    0,    0,    0,    0,    0,    0,    0,    0,    0,    0,\n",
              "           0,    0,    0,    0,    0,    0,    0,    0,    0,    0,    0,\n",
              "           0,    0,    0,    0,    0,    0,    0,    0,    0,    0,    0,\n",
              "           0,    0,    0,    0,    0,    0,    0,    0,    0,    0,    0,\n",
              "           0,    0,    0,    0,    0,    0,    0,    0,    0,    0,    0,\n",
              "           0,    0,    0,    0,    0,    0,    0,    0,    0,    0,    0,\n",
              "           0,    0,    0,    0,    0,    0,    0,    0,    0,    0,    0,\n",
              "           0,    0,    0,    0,    0,    0,    0,    0,    0,    0,    0],\n",
              "       [   2,    4,   53,    9,   61,   55,  271,    1,    3,    0,    0,\n",
              "           0,    0,    0,    0,    0,    0,    0,    0,    0,    0,    0,\n",
              "           0,    0,    0,    0,    0,    0,    0,    0,    0,    0,    0,\n",
              "           0,    0,    0,    0,    0,    0,    0,    0,    0,    0,    0,\n",
              "           0,    0,    0,    0,    0,    0,    0,    0,    0,    0,    0,\n",
              "           0,    0,    0,    0,    0,    0,    0,    0,    0,    0,    0,\n",
              "           0,    0,    0,    0,    0,    0,    0,    0,    0,    0,    0,\n",
              "           0,    0,    0,    0,    0,    0,    0,    0,    0,    0,    0,\n",
              "           0,    0,    0,    0,    0,    0,    0,    0,    0,    0,    0,\n",
              "           0,    0,    0,    0,    0,    0,    0,    0,    0,    0,    0,\n",
              "           0,    0,    0,    0,    0,    0,    0,    0,    0,    0,    0,\n",
              "           0,    0,    0,    0,    0,    0,    0,    0,    0,    0,    0,\n",
              "           0,    0,    0,    0,    0,    0,    0,    0,    0,    0,    0,\n",
              "           0,    0,    0,    0,    0,    0,    0,    0,    0,    0,    0,\n",
              "           0,    0,    0,    0,    0,    0,    0,    0,    0,    0,    0,\n",
              "           0,    0,    0,    0,    0,    0,    0,    0,    0,    0,    0,\n",
              "           0,    0,    0,    0,    0,    0,    0,    0,    0,    0,    0,\n",
              "           0,    0,    0,    0,    0,    0,    0,    0,    0,    0,    0,\n",
              "           0,    0,    0,    0,    0,    0,    0,    0,    0,    0,    0],\n",
              "       [   2,   88,    4, 1635,    6,   19,   94,  321,  325,  386,    8,\n",
              "           3,    0,    0,    0,    0,    0,    0,    0,    0,    0,    0,\n",
              "           0,    0,    0,    0,    0,    0,    0,    0,    0,    0,    0,\n",
              "           0,    0,    0,    0,    0,    0,    0,    0,    0,    0,    0,\n",
              "           0,    0,    0,    0,    0,    0,    0,    0,    0,    0,    0,\n",
              "           0,    0,    0,    0,    0,    0,    0,    0,    0,    0,    0,\n",
              "           0,    0,    0,    0,    0,    0,    0,    0,    0,    0,    0,\n",
              "           0,    0,    0,    0,    0,    0,    0,    0,    0,    0,    0,\n",
              "           0,    0,    0,    0,    0,    0,    0,    0,    0,    0,    0,\n",
              "           0,    0,    0,    0,    0,    0,    0,    0,    0,    0,    0,\n",
              "           0,    0,    0,    0,    0,    0,    0,    0,    0,    0,    0,\n",
              "           0,    0,    0,    0,    0,    0,    0,    0,    0,    0,    0,\n",
              "           0,    0,    0,    0,    0,    0,    0,    0,    0,    0,    0,\n",
              "           0,    0,    0,    0,    0,    0,    0,    0,    0,    0,    0,\n",
              "           0,    0,    0,    0,    0,    0,    0,    0,    0,    0,    0,\n",
              "           0,    0,    0,    0,    0,    0,    0,    0,    0,    0,    0,\n",
              "           0,    0,    0,    0,    0,    0,    0,    0,    0,    0,    0,\n",
              "           0,    0,    0,    0,    0,    0,    0,    0,    0,    0,    0,\n",
              "           0,    0,    0,    0,    0,    0,    0,    0,    0,    0,    0]],\n",
              "      dtype=int32)>"
            ]
          },
          "metadata": {
            "tags": []
          },
          "execution_count": 18
        }
      ]
    },
    {
      "cell_type": "markdown",
      "metadata": {
        "colab_type": "text",
        "id": "TNfHIF71ulLu"
      },
      "source": [
        "## Write the encoder and decoder model\n",
        "\n",
        "Implement an encoder-decoder model with attention which you can read about in the TensorFlow [Neural Machine Translation (seq2seq) tutorial](https://github.com/tensorflow/nmt). This example uses a more recent set of APIs. This notebook implements the [attention equations](https://github.com/tensorflow/nmt#background-on-the-attention-mechanism) from the seq2seq tutorial. The following diagram shows that each input words is assigned a weight by the attention mechanism which is then used by the decoder to predict the next word in the sentence. The below picture and formulas are an example of attention mechanism from [Luong's paper](https://arxiv.org/abs/1508.04025v5). \n",
        "\n",
        "<img src=\"https://www.tensorflow.org/images/seq2seq/attention_mechanism.jpg\" width=\"500\" alt=\"attention mechanism\">\n",
        "\n",
        "The input is put through an encoder model which gives us the encoder output of shape *(batch_size, max_length, hidden_size)* and the encoder hidden state of shape *(batch_size, hidden_size)*.\n",
        "\n",
        "Here are the equations that are implemented:\n",
        "\n",
        "<img src=\"https://www.tensorflow.org/images/seq2seq/attention_equation_0.jpg\" alt=\"attention equation 0\" width=\"800\">\n",
        "<img src=\"https://www.tensorflow.org/images/seq2seq/attention_equation_1.jpg\" alt=\"attention equation 1\" width=\"800\">\n",
        "\n",
        "This tutorial uses [Bahdanau attention](https://arxiv.org/pdf/1409.0473.pdf) for the encoder. Let's decide on notation before writing the simplified form:\n",
        "\n",
        "* FC = Fully connected (dense) layer\n",
        "* EO = Encoder output\n",
        "* H = hidden state\n",
        "* X = input to the decoder\n",
        "\n",
        "And the pseudo-code:\n",
        "\n",
        "* `score = FC(tanh(FC(EO) + FC(H)))`\n",
        "* `attention weights = softmax(score, axis = 1)`. Softmax by default is applied on the last axis but here we want to apply it on the *1st axis*, since the shape of score is *(batch_size, max_length, hidden_size)*. `Max_length` is the length of our input. Since we are trying to assign a weight to each input, softmax should be applied on that axis.\n",
        "* `context vector = sum(attention weights * EO, axis = 1)`. Same reason as above for choosing axis as 1.\n",
        "* `embedding output` = The input to the decoder X is passed through an embedding layer.\n",
        "* `merged vector = concat(embedding output, context vector)`\n",
        "* This merged vector is then given to the GRU\n",
        "\n",
        "The shapes of all the vectors at each step have been specified in the comments in the code:"
      ]
    },
    {
      "cell_type": "code",
      "metadata": {
        "colab_type": "code",
        "id": "nZ2rI24i3jFg",
        "colab": {}
      },
      "source": [
        "class Encoder(tf.keras.Model):\n",
        "  def __init__(self, vocab_size, embedding_dim, enc_units, batch_sz):\n",
        "    super(Encoder, self).__init__()\n",
        "    self.batch_sz = batch_sz\n",
        "    self.enc_units = enc_units\n",
        "    self.embedding = tf.keras.layers.Embedding(vocab_size, embedding_dim)\n",
        "    self.gru = tf.keras.layers.GRU(self.enc_units,\n",
        "                                   return_sequences=True,\n",
        "                                   return_state=True,\n",
        "                                   recurrent_initializer='glorot_uniform')\n",
        "\n",
        "  def call(self, x, hidden):\n",
        "    x = self.embedding(x)\n",
        "    output, state = self.gru(x, initial_state = hidden)\n",
        "    return output, state\n",
        "\n",
        "  def initialize_hidden_state(self):\n",
        "    return tf.zeros((self.batch_sz, self.enc_units))"
      ],
      "execution_count": 0,
      "outputs": []
    },
    {
      "cell_type": "code",
      "metadata": {
        "colab_type": "code",
        "id": "60gSVh05Jl6l",
        "colab": {
          "base_uri": "https://localhost:8080/",
          "height": 51
        },
        "outputId": "1dff5b84-4430-4fb5-9bc5-8db9f8a47834"
      },
      "source": [
        "encoder = Encoder(vocab_inp_size, embedding_dim, units, BATCH_SIZE)\n",
        "\n",
        "# sample input\n",
        "sample_hidden = encoder.initialize_hidden_state()\n",
        "sample_output, sample_hidden = encoder(example_input_batch, sample_hidden)\n",
        "print ('Encoder output shape: (batch size, sequence length, units) {}'.format(sample_output.shape))\n",
        "print ('Encoder Hidden state shape: (batch size, units) {}'.format(sample_hidden.shape))"
      ],
      "execution_count": 20,
      "outputs": [
        {
          "output_type": "stream",
          "text": [
            "Encoder output shape: (batch size, sequence length, units) (4, 209, 128)\n",
            "Encoder Hidden state shape: (batch size, units) (4, 128)\n"
          ],
          "name": "stdout"
        }
      ]
    },
    {
      "cell_type": "code",
      "metadata": {
        "colab_type": "code",
        "id": "umohpBN2OM94",
        "colab": {}
      },
      "source": [
        "class BahdanauAttention(tf.keras.layers.Layer):\n",
        "  def __init__(self, units):\n",
        "    super(BahdanauAttention, self).__init__()\n",
        "    self.W1 = tf.keras.layers.Dense(units)\n",
        "    self.W2 = tf.keras.layers.Dense(units)\n",
        "    self.V = tf.keras.layers.Dense(1)\n",
        "\n",
        "  def call(self, query, values):\n",
        "    # query hidden state shape == (batch_size, hidden size)\n",
        "    # query_with_time_axis shape == (batch_size, 1, hidden size)\n",
        "    # values shape == (batch_size, max_len, hidden size)\n",
        "    # we are doing this to broadcast addition along the time axis to calculate the score\n",
        "    query_with_time_axis = tf.expand_dims(query, 1)\n",
        "\n",
        "    # score shape == (batch_size, max_length, 1)\n",
        "    # we get 1 at the last axis because we are applying score to self.V\n",
        "    # the shape of the tensor before applying self.V is (batch_size, max_length, units)\n",
        "    score = self.V(tf.nn.tanh(\n",
        "        self.W1(query_with_time_axis) + self.W2(values)))\n",
        "\n",
        "    # attention_weights shape == (batch_size, max_length, 1)\n",
        "    attention_weights = tf.nn.softmax(score, axis=1)\n",
        "\n",
        "    # context_vector shape after sum == (batch_size, hidden_size)\n",
        "    context_vector = attention_weights * values\n",
        "    context_vector = tf.reduce_sum(context_vector, axis=1)\n",
        "\n",
        "    return context_vector, attention_weights"
      ],
      "execution_count": 0,
      "outputs": []
    },
    {
      "cell_type": "code",
      "metadata": {
        "colab_type": "code",
        "id": "k534zTHiDjQU",
        "colab": {
          "base_uri": "https://localhost:8080/",
          "height": 51
        },
        "outputId": "e97c2d4a-1631-499b-f058-43b0a8c66ca4"
      },
      "source": [
        "attention_layer = BahdanauAttention(10)\n",
        "attention_result, attention_weights = attention_layer(sample_hidden, sample_output)\n",
        "\n",
        "print(\"Attention result shape: (batch size, units) {}\".format(attention_result.shape))\n",
        "print(\"Attention weights shape: (batch_size, sequence_length, 1) {}\".format(attention_weights.shape))"
      ],
      "execution_count": 22,
      "outputs": [
        {
          "output_type": "stream",
          "text": [
            "Attention result shape: (batch size, units) (4, 128)\n",
            "Attention weights shape: (batch_size, sequence_length, 1) (4, 209, 1)\n"
          ],
          "name": "stdout"
        }
      ]
    },
    {
      "cell_type": "code",
      "metadata": {
        "colab_type": "code",
        "id": "yJ_B3mhW3jFk",
        "colab": {}
      },
      "source": [
        "class Decoder(tf.keras.Model):\n",
        "  def __init__(self, vocab_size, embedding_dim, dec_units, batch_sz):\n",
        "    super(Decoder, self).__init__()\n",
        "    self.batch_sz = batch_sz\n",
        "    self.dec_units = dec_units\n",
        "    self.embedding = tf.keras.layers.Embedding(vocab_size, embedding_dim)\n",
        "    self.gru = tf.keras.layers.GRU(self.dec_units,\n",
        "                                   return_sequences=True,\n",
        "                                   return_state=True,\n",
        "                                   recurrent_initializer='glorot_uniform')\n",
        "    self.fc = tf.keras.layers.Dense(vocab_size)\n",
        "\n",
        "    # used for attention\n",
        "    self.attention = BahdanauAttention(self.dec_units)\n",
        "\n",
        "  def call(self, x, hidden, enc_output):\n",
        "    # enc_output shape == (batch_size, max_length, hidden_size)\n",
        "    context_vector, attention_weights = self.attention(hidden, enc_output)\n",
        "\n",
        "    # x shape after passing through embedding == (batch_size, 1, embedding_dim)\n",
        "    x = self.embedding(x)\n",
        "\n",
        "    # x shape after concatenation == (batch_size, 1, embedding_dim + hidden_size)\n",
        "    x = tf.concat([tf.expand_dims(context_vector, 1), x], axis=-1)\n",
        "\n",
        "    # passing the concatenated vector to the GRU\n",
        "    output, state = self.gru(x)\n",
        "\n",
        "    # output shape == (batch_size * 1, hidden_size)\n",
        "    output = tf.reshape(output, (-1, output.shape[2]))\n",
        "\n",
        "    # output shape == (batch_size, vocab)\n",
        "    x = self.fc(output)\n",
        "\n",
        "    return x, state, attention_weights"
      ],
      "execution_count": 0,
      "outputs": []
    },
    {
      "cell_type": "code",
      "metadata": {
        "colab_type": "code",
        "id": "P5UY8wko3jFp",
        "colab": {
          "base_uri": "https://localhost:8080/",
          "height": 34
        },
        "outputId": "53dbddec-38b9-4446-e038-25a9028de83e"
      },
      "source": [
        "decoder = Decoder(vocab_tar_size, embedding_dim, units, BATCH_SIZE)\n",
        "\n",
        "sample_decoder_output, _, _ = decoder(tf.random.uniform((BATCH_SIZE, 1)),\n",
        "                                      sample_hidden, sample_output)\n",
        "\n",
        "print ('Decoder output shape: (batch_size, vocab size) {}'.format(sample_decoder_output.shape))"
      ],
      "execution_count": 24,
      "outputs": [
        {
          "output_type": "stream",
          "text": [
            "Decoder output shape: (batch_size, vocab size) (4, 1907)\n"
          ],
          "name": "stdout"
        }
      ]
    },
    {
      "cell_type": "markdown",
      "metadata": {
        "colab_type": "text",
        "id": "_ch_71VbIRfK"
      },
      "source": [
        "## Define the optimizer and the loss function"
      ]
    },
    {
      "cell_type": "code",
      "metadata": {
        "colab_type": "code",
        "id": "WmTHr5iV3jFr",
        "colab": {}
      },
      "source": [
        "optimizer = tf.keras.optimizers.Adam()\n",
        "loss_object = tf.keras.losses.SparseCategoricalCrossentropy(\n",
        "    from_logits=True, reduction='none')\n",
        "\n",
        "def loss_function(real, pred):\n",
        "  mask = tf.math.logical_not(tf.math.equal(real, 0))\n",
        "  loss_ = loss_object(real, pred)\n",
        "\n",
        "  mask = tf.cast(mask, dtype=loss_.dtype)\n",
        "  loss_ *= mask\n",
        "\n",
        "  return tf.reduce_mean(loss_)"
      ],
      "execution_count": 0,
      "outputs": []
    },
    {
      "cell_type": "markdown",
      "metadata": {
        "colab_type": "text",
        "id": "DMVWzzsfNl4e"
      },
      "source": [
        "## Checkpoints (Object-based saving)"
      ]
    },
    {
      "cell_type": "code",
      "metadata": {
        "colab_type": "code",
        "id": "Zj8bXQTgNwrF",
        "colab": {}
      },
      "source": [
        "checkpoint_dir = './training_checkpoints'\n",
        "checkpoint_prefix = os.path.join(checkpoint_dir, \"ckpt\")\n",
        "checkpoint = tf.train.Checkpoint(optimizer=optimizer,\n",
        "                                 encoder=encoder,\n",
        "                                 decoder=decoder)"
      ],
      "execution_count": 0,
      "outputs": []
    },
    {
      "cell_type": "markdown",
      "metadata": {
        "colab_type": "text",
        "id": "hpObfY22IddU"
      },
      "source": [
        "## Training\n",
        "\n",
        "1. Pass the *input* through the *encoder* which return *encoder output* and the *encoder hidden state*.\n",
        "2. The encoder output, encoder hidden state and the decoder input (which is the *start token*) is passed to the decoder.\n",
        "3. The decoder returns the *predictions* and the *decoder hidden state*.\n",
        "4. The decoder hidden state is then passed back into the model and the predictions are used to calculate the loss.\n",
        "5. Use *teacher forcing* to decide the next input to the decoder.\n",
        "6. *Teacher forcing* is the technique where the *target word* is passed as the *next input* to the decoder.\n",
        "7. The final step is to calculate the gradients and apply it to the optimizer and backpropagate."
      ]
    },
    {
      "cell_type": "code",
      "metadata": {
        "colab_type": "code",
        "id": "sC9ArXSsVfqn",
        "colab": {}
      },
      "source": [
        "@tf.function\n",
        "def train_step(inp, targ, enc_hidden):\n",
        "  loss = 0\n",
        "\n",
        "  with tf.GradientTape() as tape:\n",
        "    enc_output, enc_hidden = encoder(inp, enc_hidden)\n",
        "\n",
        "    dec_hidden = enc_hidden\n",
        "\n",
        "    dec_input = tf.expand_dims([targ_lang.word_index['<start>']] * BATCH_SIZE, 1)\n",
        "\n",
        "    # Teacher forcing - feeding the target as the next input\n",
        "    for t in range(1, targ.shape[1]):\n",
        "      # passing enc_output to the decoder\n",
        "      predictions, dec_hidden, _ = decoder(dec_input, dec_hidden, enc_output)\n",
        "\n",
        "      loss += loss_function(targ[:, t], predictions)\n",
        "\n",
        "      # using teacher forcing\n",
        "      dec_input = tf.expand_dims(targ[:, t], 1)\n",
        "\n",
        "  batch_loss = (loss / int(targ.shape[1]))\n",
        "\n",
        "  variables = encoder.trainable_variables + decoder.trainable_variables\n",
        "\n",
        "  gradients = tape.gradient(loss, variables)\n",
        "\n",
        "  optimizer.apply_gradients(zip(gradients, variables))\n",
        "\n",
        "  return batch_loss"
      ],
      "execution_count": 0,
      "outputs": []
    },
    {
      "cell_type": "code",
      "metadata": {
        "colab_type": "code",
        "id": "ddefjBMa3jF0",
        "colab": {
          "base_uri": "https://localhost:8080/",
          "height": 1000
        },
        "outputId": "83ae16cf-6ee2-4cfb-951a-1f8197ba0bfc"
      },
      "source": [
        "EPOCHS = 100\n",
        "\n",
        "for epoch in range(EPOCHS):\n",
        "  start = time.time()\n",
        "\n",
        "  enc_hidden = encoder.initialize_hidden_state()\n",
        "  total_loss = 0\n",
        "\n",
        "  for (batch, (inp, targ)) in enumerate(dataset.take(steps_per_epoch)):\n",
        "    batch_loss = train_step(inp, targ, enc_hidden)\n",
        "    total_loss += batch_loss\n",
        "\n",
        "    if batch % 100 == 0:\n",
        "      print('Epoch {} Batch {} Loss {:.4f}'.format(epoch + 1,\n",
        "                                                   batch,\n",
        "                                                   batch_loss.numpy()))\n",
        "  # saving (checkpoint) the model every 2 epochs\n",
        "  if (epoch + 1) % 2 == 0:\n",
        "    checkpoint.save(file_prefix = checkpoint_prefix)\n",
        "\n",
        "  print('Epoch {} Loss {:.4f}'.format(epoch + 1,\n",
        "                                      total_loss / steps_per_epoch))\n",
        "  print('Time taken for 1 epoch {} sec\\n'.format(time.time() - start))"
      ],
      "execution_count": 47,
      "outputs": [
        {
          "output_type": "stream",
          "text": [
            "Epoch 1 Batch 0 Loss 1.5349\n",
            "Epoch 1 Batch 100 Loss 0.9523\n",
            "Epoch 1 Loss 0.7456\n",
            "Time taken for 1 epoch 24.787477731704712 sec\n",
            "\n",
            "Epoch 2 Batch 0 Loss 0.5298\n",
            "Epoch 2 Batch 100 Loss 0.4763\n",
            "Epoch 2 Loss 0.7295\n",
            "Time taken for 1 epoch 25.05830979347229 sec\n",
            "\n",
            "Epoch 3 Batch 0 Loss 0.5623\n",
            "Epoch 3 Batch 100 Loss 0.4882\n",
            "Epoch 3 Loss 0.7121\n",
            "Time taken for 1 epoch 24.731544256210327 sec\n",
            "\n",
            "Epoch 4 Batch 0 Loss 0.4982\n",
            "Epoch 4 Batch 100 Loss 0.5423\n",
            "Epoch 4 Loss 0.6962\n",
            "Time taken for 1 epoch 24.58337664604187 sec\n",
            "\n",
            "Epoch 5 Batch 0 Loss 0.5643\n",
            "Epoch 5 Batch 100 Loss 0.5887\n",
            "Epoch 5 Loss 0.6791\n",
            "Time taken for 1 epoch 24.267367601394653 sec\n",
            "\n",
            "Epoch 6 Batch 0 Loss 0.6451\n",
            "Epoch 6 Batch 100 Loss 0.6669\n",
            "Epoch 6 Loss 0.6627\n",
            "Time taken for 1 epoch 24.285449504852295 sec\n",
            "\n",
            "Epoch 7 Batch 0 Loss 0.3584\n",
            "Epoch 7 Batch 100 Loss 1.0378\n",
            "Epoch 7 Loss 0.6476\n",
            "Time taken for 1 epoch 24.173414707183838 sec\n",
            "\n",
            "Epoch 8 Batch 0 Loss 0.4778\n",
            "Epoch 8 Batch 100 Loss 0.5265\n",
            "Epoch 8 Loss 0.6342\n",
            "Time taken for 1 epoch 24.358190059661865 sec\n",
            "\n",
            "Epoch 9 Batch 0 Loss 0.7885\n",
            "Epoch 9 Batch 100 Loss 0.5202\n",
            "Epoch 9 Loss 0.6204\n",
            "Time taken for 1 epoch 24.41507363319397 sec\n",
            "\n",
            "Epoch 10 Batch 0 Loss 0.3775\n",
            "Epoch 10 Batch 100 Loss 0.5806\n",
            "Epoch 10 Loss 0.6082\n",
            "Time taken for 1 epoch 24.23545002937317 sec\n",
            "\n",
            "Epoch 11 Batch 0 Loss 0.5362\n",
            "Epoch 11 Batch 100 Loss 0.3165\n",
            "Epoch 11 Loss 0.5968\n",
            "Time taken for 1 epoch 24.084484815597534 sec\n",
            "\n",
            "Epoch 12 Batch 0 Loss 0.4768\n",
            "Epoch 12 Batch 100 Loss 0.9667\n",
            "Epoch 12 Loss 0.5848\n",
            "Time taken for 1 epoch 24.33645462989807 sec\n",
            "\n",
            "Epoch 13 Batch 0 Loss 0.4518\n",
            "Epoch 13 Batch 100 Loss 0.4723\n",
            "Epoch 13 Loss 0.5728\n",
            "Time taken for 1 epoch 24.705646991729736 sec\n",
            "\n",
            "Epoch 14 Batch 0 Loss 0.5743\n",
            "Epoch 14 Batch 100 Loss 0.2494\n",
            "Epoch 14 Loss 0.5614\n",
            "Time taken for 1 epoch 24.12784433364868 sec\n",
            "\n",
            "Epoch 15 Batch 0 Loss 0.2510\n",
            "Epoch 15 Batch 100 Loss 0.3986\n",
            "Epoch 15 Loss 0.5512\n",
            "Time taken for 1 epoch 24.2795307636261 sec\n",
            "\n",
            "Epoch 16 Batch 0 Loss 0.3146\n",
            "Epoch 16 Batch 100 Loss 0.3814\n",
            "Epoch 16 Loss 0.5413\n",
            "Time taken for 1 epoch 24.055150508880615 sec\n",
            "\n",
            "Epoch 17 Batch 0 Loss 0.3338\n",
            "Epoch 17 Batch 100 Loss 0.4295\n",
            "Epoch 17 Loss 0.5307\n",
            "Time taken for 1 epoch 24.105061531066895 sec\n",
            "\n",
            "Epoch 18 Batch 0 Loss 0.4528\n",
            "Epoch 18 Batch 100 Loss 0.2369\n",
            "Epoch 18 Loss 0.5206\n",
            "Time taken for 1 epoch 24.151691675186157 sec\n",
            "\n",
            "Epoch 19 Batch 0 Loss 0.3018\n",
            "Epoch 19 Batch 100 Loss 0.4655\n",
            "Epoch 19 Loss 0.5103\n",
            "Time taken for 1 epoch 24.240054607391357 sec\n",
            "\n",
            "Epoch 20 Batch 0 Loss 0.4096\n",
            "Epoch 20 Batch 100 Loss 1.0515\n",
            "Epoch 20 Loss 0.5021\n",
            "Time taken for 1 epoch 24.375689268112183 sec\n",
            "\n",
            "Epoch 21 Batch 0 Loss 0.3405\n",
            "Epoch 21 Batch 100 Loss 0.5231\n",
            "Epoch 21 Loss 0.4932\n",
            "Time taken for 1 epoch 24.424351692199707 sec\n",
            "\n",
            "Epoch 22 Batch 0 Loss 0.2667\n",
            "Epoch 22 Batch 100 Loss 0.3751\n",
            "Epoch 22 Loss 0.4841\n",
            "Time taken for 1 epoch 24.49447011947632 sec\n",
            "\n",
            "Epoch 23 Batch 0 Loss 0.5239\n",
            "Epoch 23 Batch 100 Loss 0.3855\n",
            "Epoch 23 Loss 0.4752\n",
            "Time taken for 1 epoch 24.40634775161743 sec\n",
            "\n",
            "Epoch 24 Batch 0 Loss 0.2225\n",
            "Epoch 24 Batch 100 Loss 0.3853\n",
            "Epoch 24 Loss 0.4652\n",
            "Time taken for 1 epoch 24.197564363479614 sec\n",
            "\n",
            "Epoch 25 Batch 0 Loss 0.6976\n",
            "Epoch 25 Batch 100 Loss 0.5405\n",
            "Epoch 25 Loss 0.4557\n",
            "Time taken for 1 epoch 24.244094371795654 sec\n",
            "\n",
            "Epoch 26 Batch 0 Loss 0.4999\n",
            "Epoch 26 Batch 100 Loss 0.4593\n",
            "Epoch 26 Loss 0.4491\n",
            "Time taken for 1 epoch 24.75692391395569 sec\n",
            "\n",
            "Epoch 27 Batch 0 Loss 0.3426\n",
            "Epoch 27 Batch 100 Loss 0.4669\n",
            "Epoch 27 Loss 0.4397\n",
            "Time taken for 1 epoch 24.189058780670166 sec\n",
            "\n",
            "Epoch 28 Batch 0 Loss 0.5478\n",
            "Epoch 28 Batch 100 Loss 0.3219\n",
            "Epoch 28 Loss 0.4333\n",
            "Time taken for 1 epoch 24.35466432571411 sec\n",
            "\n",
            "Epoch 29 Batch 0 Loss 0.1773\n",
            "Epoch 29 Batch 100 Loss 0.3719\n",
            "Epoch 29 Loss 0.4243\n",
            "Time taken for 1 epoch 24.36896276473999 sec\n",
            "\n",
            "Epoch 30 Batch 0 Loss 0.2860\n",
            "Epoch 30 Batch 100 Loss 0.1824\n",
            "Epoch 30 Loss 0.4158\n",
            "Time taken for 1 epoch 24.25882077217102 sec\n",
            "\n",
            "Epoch 31 Batch 0 Loss 0.4572\n",
            "Epoch 31 Batch 100 Loss 0.5104\n",
            "Epoch 31 Loss 0.4062\n",
            "Time taken for 1 epoch 24.03079581260681 sec\n",
            "\n",
            "Epoch 32 Batch 0 Loss 0.2637\n",
            "Epoch 32 Batch 100 Loss 0.2889\n",
            "Epoch 32 Loss 0.3970\n",
            "Time taken for 1 epoch 24.202096939086914 sec\n",
            "\n",
            "Epoch 33 Batch 0 Loss 0.5061\n",
            "Epoch 33 Batch 100 Loss 0.3261\n",
            "Epoch 33 Loss 0.3892\n",
            "Time taken for 1 epoch 24.246952533721924 sec\n",
            "\n",
            "Epoch 34 Batch 0 Loss 0.2718\n",
            "Epoch 34 Batch 100 Loss 0.3059\n",
            "Epoch 34 Loss 0.3815\n",
            "Time taken for 1 epoch 24.52058744430542 sec\n",
            "\n",
            "Epoch 35 Batch 0 Loss 0.5780\n",
            "Epoch 35 Batch 100 Loss 0.5527\n",
            "Epoch 35 Loss 0.3759\n",
            "Time taken for 1 epoch 24.223376035690308 sec\n",
            "\n",
            "Epoch 36 Batch 0 Loss 0.4243\n",
            "Epoch 36 Batch 100 Loss 0.2295\n",
            "Epoch 36 Loss 0.3695\n",
            "Time taken for 1 epoch 24.209858417510986 sec\n",
            "\n",
            "Epoch 37 Batch 0 Loss 0.4020\n",
            "Epoch 37 Batch 100 Loss 0.5473\n",
            "Epoch 37 Loss 0.3597\n",
            "Time taken for 1 epoch 24.237240314483643 sec\n",
            "\n",
            "Epoch 38 Batch 0 Loss 0.3716\n",
            "Epoch 38 Batch 100 Loss 0.3546\n",
            "Epoch 38 Loss 0.3521\n",
            "Time taken for 1 epoch 24.480769872665405 sec\n",
            "\n",
            "Epoch 39 Batch 0 Loss 0.3063\n",
            "Epoch 39 Batch 100 Loss 0.4293\n",
            "Epoch 39 Loss 0.3450\n",
            "Time taken for 1 epoch 24.649540901184082 sec\n",
            "\n",
            "Epoch 40 Batch 0 Loss 0.4987\n",
            "Epoch 40 Batch 100 Loss 0.2697\n",
            "Epoch 40 Loss 0.3382\n",
            "Time taken for 1 epoch 24.10867667198181 sec\n",
            "\n",
            "Epoch 41 Batch 0 Loss 0.3908\n",
            "Epoch 41 Batch 100 Loss 0.2720\n",
            "Epoch 41 Loss 0.3298\n",
            "Time taken for 1 epoch 24.09561324119568 sec\n",
            "\n",
            "Epoch 42 Batch 0 Loss 0.3878\n",
            "Epoch 42 Batch 100 Loss 0.2171\n",
            "Epoch 42 Loss 0.3248\n",
            "Time taken for 1 epoch 24.159027338027954 sec\n",
            "\n",
            "Epoch 43 Batch 0 Loss 0.1976\n",
            "Epoch 43 Batch 100 Loss 0.3528\n",
            "Epoch 43 Loss 0.3159\n",
            "Time taken for 1 epoch 24.118011236190796 sec\n",
            "\n",
            "Epoch 44 Batch 0 Loss 0.1800\n",
            "Epoch 44 Batch 100 Loss 0.1977\n",
            "Epoch 44 Loss 0.3111\n",
            "Time taken for 1 epoch 24.258652210235596 sec\n",
            "\n",
            "Epoch 45 Batch 0 Loss 0.1802\n",
            "Epoch 45 Batch 100 Loss 0.6775\n",
            "Epoch 45 Loss 0.3035\n",
            "Time taken for 1 epoch 24.28286910057068 sec\n",
            "\n",
            "Epoch 46 Batch 0 Loss 0.1545\n",
            "Epoch 46 Batch 100 Loss 0.1972\n",
            "Epoch 46 Loss 0.2971\n",
            "Time taken for 1 epoch 24.5323805809021 sec\n",
            "\n",
            "Epoch 47 Batch 0 Loss 0.1549\n",
            "Epoch 47 Batch 100 Loss 0.4030\n",
            "Epoch 47 Loss 0.2914\n",
            "Time taken for 1 epoch 24.22374391555786 sec\n",
            "\n",
            "Epoch 48 Batch 0 Loss 0.3239\n",
            "Epoch 48 Batch 100 Loss 0.2544\n",
            "Epoch 48 Loss 0.2872\n",
            "Time taken for 1 epoch 24.23800301551819 sec\n",
            "\n",
            "Epoch 49 Batch 0 Loss 0.2173\n",
            "Epoch 49 Batch 100 Loss 0.2695\n",
            "Epoch 49 Loss 0.2794\n",
            "Time taken for 1 epoch 24.51461672782898 sec\n",
            "\n",
            "Epoch 50 Batch 0 Loss 0.2333\n",
            "Epoch 50 Batch 100 Loss 0.1618\n",
            "Epoch 50 Loss 0.2735\n",
            "Time taken for 1 epoch 24.50825047492981 sec\n",
            "\n",
            "Epoch 51 Batch 0 Loss 0.1152\n",
            "Epoch 51 Batch 100 Loss 0.1851\n",
            "Epoch 51 Loss 0.2666\n",
            "Time taken for 1 epoch 24.432748079299927 sec\n",
            "\n",
            "Epoch 52 Batch 0 Loss 0.1137\n",
            "Epoch 52 Batch 100 Loss 0.2796\n",
            "Epoch 52 Loss 0.2610\n",
            "Time taken for 1 epoch 24.570892810821533 sec\n",
            "\n",
            "Epoch 53 Batch 0 Loss 0.3050\n",
            "Epoch 53 Batch 100 Loss 0.1499\n",
            "Epoch 53 Loss 0.2559\n",
            "Time taken for 1 epoch 24.66934061050415 sec\n",
            "\n",
            "Epoch 54 Batch 0 Loss 0.1951\n",
            "Epoch 54 Batch 100 Loss 0.3258\n",
            "Epoch 54 Loss 0.2516\n",
            "Time taken for 1 epoch 24.960571765899658 sec\n",
            "\n",
            "Epoch 55 Batch 0 Loss 0.1483\n",
            "Epoch 55 Batch 100 Loss 0.1698\n",
            "Epoch 55 Loss 0.2464\n",
            "Time taken for 1 epoch 25.197988748550415 sec\n",
            "\n",
            "Epoch 56 Batch 0 Loss 0.2040\n",
            "Epoch 56 Batch 100 Loss 0.1673\n",
            "Epoch 56 Loss 0.2408\n",
            "Time taken for 1 epoch 25.098963022232056 sec\n",
            "\n",
            "Epoch 57 Batch 0 Loss 0.2333\n",
            "Epoch 57 Batch 100 Loss 0.3381\n",
            "Epoch 57 Loss 0.2364\n",
            "Time taken for 1 epoch 25.174095392227173 sec\n",
            "\n",
            "Epoch 58 Batch 0 Loss 0.1173\n",
            "Epoch 58 Batch 100 Loss 0.2694\n",
            "Epoch 58 Loss 0.2287\n",
            "Time taken for 1 epoch 25.458417177200317 sec\n",
            "\n",
            "Epoch 59 Batch 0 Loss 0.2903\n",
            "Epoch 59 Batch 100 Loss 0.1457\n",
            "Epoch 59 Loss 0.2232\n",
            "Time taken for 1 epoch 25.79926633834839 sec\n",
            "\n",
            "Epoch 60 Batch 0 Loss 0.2433\n",
            "Epoch 60 Batch 100 Loss 0.2367\n",
            "Epoch 60 Loss 0.2200\n",
            "Time taken for 1 epoch 25.379382848739624 sec\n",
            "\n",
            "Epoch 61 Batch 0 Loss 0.1189\n",
            "Epoch 61 Batch 100 Loss 0.1286\n",
            "Epoch 61 Loss 0.2165\n",
            "Time taken for 1 epoch 25.520222663879395 sec\n",
            "\n",
            "Epoch 62 Batch 0 Loss 0.1716\n",
            "Epoch 62 Batch 100 Loss 0.2344\n",
            "Epoch 62 Loss 0.2114\n",
            "Time taken for 1 epoch 25.669163703918457 sec\n",
            "\n",
            "Epoch 63 Batch 0 Loss 0.1049\n",
            "Epoch 63 Batch 100 Loss 0.1919\n",
            "Epoch 63 Loss 0.2038\n",
            "Time taken for 1 epoch 25.396379470825195 sec\n",
            "\n",
            "Epoch 64 Batch 0 Loss 0.2420\n",
            "Epoch 64 Batch 100 Loss 0.1533\n",
            "Epoch 64 Loss 0.2044\n",
            "Time taken for 1 epoch 25.931403160095215 sec\n",
            "\n",
            "Epoch 65 Batch 0 Loss 0.2686\n",
            "Epoch 65 Batch 100 Loss 0.1643\n",
            "Epoch 65 Loss 0.1985\n",
            "Time taken for 1 epoch 24.948979139328003 sec\n",
            "\n",
            "Epoch 66 Batch 0 Loss 0.1466\n",
            "Epoch 66 Batch 100 Loss 0.3071\n",
            "Epoch 66 Loss 0.1932\n",
            "Time taken for 1 epoch 24.52422022819519 sec\n",
            "\n",
            "Epoch 67 Batch 0 Loss 0.1797\n",
            "Epoch 67 Batch 100 Loss 0.0884\n",
            "Epoch 67 Loss 0.1886\n",
            "Time taken for 1 epoch 24.56494641304016 sec\n",
            "\n",
            "Epoch 68 Batch 0 Loss 0.1893\n",
            "Epoch 68 Batch 100 Loss 0.2400\n",
            "Epoch 68 Loss 0.1853\n",
            "Time taken for 1 epoch 24.98425817489624 sec\n",
            "\n",
            "Epoch 69 Batch 0 Loss 0.0885\n",
            "Epoch 69 Batch 100 Loss 0.1297\n",
            "Epoch 69 Loss 0.1808\n",
            "Time taken for 1 epoch 24.90410017967224 sec\n",
            "\n",
            "Epoch 70 Batch 0 Loss 0.2249\n",
            "Epoch 70 Batch 100 Loss 0.1658\n",
            "Epoch 70 Loss 0.1730\n",
            "Time taken for 1 epoch 24.885234355926514 sec\n",
            "\n",
            "Epoch 71 Batch 0 Loss 0.2406\n",
            "Epoch 71 Batch 100 Loss 0.1564\n",
            "Epoch 71 Loss 0.1710\n",
            "Time taken for 1 epoch 25.25358295440674 sec\n",
            "\n",
            "Epoch 72 Batch 0 Loss 0.0912\n",
            "Epoch 72 Batch 100 Loss 0.2116\n",
            "Epoch 72 Loss 0.1683\n",
            "Time taken for 1 epoch 25.032239198684692 sec\n",
            "\n",
            "Epoch 73 Batch 0 Loss 0.1537\n",
            "Epoch 73 Batch 100 Loss 0.2017\n",
            "Epoch 73 Loss 0.1648\n",
            "Time taken for 1 epoch 25.523530960083008 sec\n",
            "\n",
            "Epoch 74 Batch 0 Loss 0.1519\n",
            "Epoch 74 Batch 100 Loss 0.1015\n",
            "Epoch 74 Loss 0.1584\n",
            "Time taken for 1 epoch 25.59998059272766 sec\n",
            "\n",
            "Epoch 75 Batch 0 Loss 0.0926\n",
            "Epoch 75 Batch 100 Loss 0.1029\n",
            "Epoch 75 Loss 0.1552\n",
            "Time taken for 1 epoch 25.418621063232422 sec\n",
            "\n",
            "Epoch 76 Batch 0 Loss 0.0987\n",
            "Epoch 76 Batch 100 Loss 0.1218\n",
            "Epoch 76 Loss 0.1510\n",
            "Time taken for 1 epoch 25.649582624435425 sec\n",
            "\n",
            "Epoch 77 Batch 0 Loss 0.2467\n",
            "Epoch 77 Batch 100 Loss 0.0923\n",
            "Epoch 77 Loss 0.1509\n",
            "Time taken for 1 epoch 24.798582792282104 sec\n",
            "\n",
            "Epoch 78 Batch 0 Loss 0.0784\n",
            "Epoch 78 Batch 100 Loss 0.1179\n",
            "Epoch 78 Loss 0.1449\n",
            "Time taken for 1 epoch 24.640535354614258 sec\n",
            "\n",
            "Epoch 79 Batch 0 Loss 0.1460\n",
            "Epoch 79 Batch 100 Loss 0.0922\n",
            "Epoch 79 Loss 0.1440\n",
            "Time taken for 1 epoch 24.393404960632324 sec\n",
            "\n",
            "Epoch 80 Batch 0 Loss 0.1074\n",
            "Epoch 80 Batch 100 Loss 0.2103\n",
            "Epoch 80 Loss 0.1376\n",
            "Time taken for 1 epoch 24.671437740325928 sec\n",
            "\n",
            "Epoch 81 Batch 0 Loss 0.0735\n",
            "Epoch 81 Batch 100 Loss 0.0866\n",
            "Epoch 81 Loss 0.1334\n",
            "Time taken for 1 epoch 24.493685960769653 sec\n",
            "\n",
            "Epoch 82 Batch 0 Loss 0.1020\n",
            "Epoch 82 Batch 100 Loss 0.2430\n",
            "Epoch 82 Loss 0.1341\n",
            "Time taken for 1 epoch 24.81239414215088 sec\n",
            "\n",
            "Epoch 83 Batch 0 Loss 0.1309\n",
            "Epoch 83 Batch 100 Loss 0.1153\n",
            "Epoch 83 Loss 0.1295\n",
            "Time taken for 1 epoch 24.75513243675232 sec\n",
            "\n",
            "Epoch 84 Batch 0 Loss 0.1310\n",
            "Epoch 84 Batch 100 Loss 0.0714\n",
            "Epoch 84 Loss 0.1236\n",
            "Time taken for 1 epoch 24.99913477897644 sec\n",
            "\n",
            "Epoch 85 Batch 0 Loss 0.1288\n",
            "Epoch 85 Batch 100 Loss 0.1166\n",
            "Epoch 85 Loss 0.1210\n",
            "Time taken for 1 epoch 25.19957971572876 sec\n",
            "\n",
            "Epoch 86 Batch 0 Loss 0.1643\n",
            "Epoch 86 Batch 100 Loss 0.0876\n",
            "Epoch 86 Loss 0.1176\n",
            "Time taken for 1 epoch 25.124355792999268 sec\n",
            "\n",
            "Epoch 87 Batch 0 Loss 0.0990\n",
            "Epoch 87 Batch 100 Loss 0.1030\n",
            "Epoch 87 Loss 0.1172\n",
            "Time taken for 1 epoch 25.07025957107544 sec\n",
            "\n",
            "Epoch 88 Batch 0 Loss 0.1022\n",
            "Epoch 88 Batch 100 Loss 0.1114\n",
            "Epoch 88 Loss 0.1147\n",
            "Time taken for 1 epoch 25.44023585319519 sec\n",
            "\n",
            "Epoch 89 Batch 0 Loss 0.1424\n",
            "Epoch 89 Batch 100 Loss 0.0613\n",
            "Epoch 89 Loss 0.1151\n",
            "Time taken for 1 epoch 25.22853374481201 sec\n",
            "\n",
            "Epoch 90 Batch 0 Loss 0.0290\n",
            "Epoch 90 Batch 100 Loss 0.1612\n",
            "Epoch 90 Loss 0.1124\n",
            "Time taken for 1 epoch 25.5036838054657 sec\n",
            "\n",
            "Epoch 91 Batch 0 Loss 0.1075\n",
            "Epoch 91 Batch 100 Loss 0.1888\n",
            "Epoch 91 Loss 0.1078\n",
            "Time taken for 1 epoch 25.23524761199951 sec\n",
            "\n",
            "Epoch 92 Batch 0 Loss 0.0594\n",
            "Epoch 92 Batch 100 Loss 0.0716\n",
            "Epoch 92 Loss 0.1016\n",
            "Time taken for 1 epoch 25.15374207496643 sec\n",
            "\n",
            "Epoch 93 Batch 0 Loss 0.0557\n",
            "Epoch 93 Batch 100 Loss 0.1174\n",
            "Epoch 93 Loss 0.0971\n",
            "Time taken for 1 epoch 24.874388933181763 sec\n",
            "\n",
            "Epoch 94 Batch 0 Loss 0.1573\n",
            "Epoch 94 Batch 100 Loss 0.0404\n",
            "Epoch 94 Loss 0.0991\n",
            "Time taken for 1 epoch 25.055200576782227 sec\n",
            "\n",
            "Epoch 95 Batch 0 Loss 0.0701\n",
            "Epoch 95 Batch 100 Loss 0.0602\n",
            "Epoch 95 Loss 0.0935\n",
            "Time taken for 1 epoch 25.164211750030518 sec\n",
            "\n",
            "Epoch 96 Batch 0 Loss 0.1183\n",
            "Epoch 96 Batch 100 Loss 0.0801\n",
            "Epoch 96 Loss 0.0893\n",
            "Time taken for 1 epoch 24.82801079750061 sec\n",
            "\n",
            "Epoch 97 Batch 0 Loss 0.0930\n",
            "Epoch 97 Batch 100 Loss 0.1428\n",
            "Epoch 97 Loss 0.0916\n",
            "Time taken for 1 epoch 25.002925395965576 sec\n",
            "\n",
            "Epoch 98 Batch 0 Loss 0.1319\n",
            "Epoch 98 Batch 100 Loss 0.0586\n",
            "Epoch 98 Loss 0.0971\n",
            "Time taken for 1 epoch 25.046014308929443 sec\n",
            "\n",
            "Epoch 99 Batch 0 Loss 0.0647\n",
            "Epoch 99 Batch 100 Loss 0.0464\n",
            "Epoch 99 Loss 0.0995\n",
            "Time taken for 1 epoch 24.896888971328735 sec\n",
            "\n",
            "Epoch 100 Batch 0 Loss 0.0685\n",
            "Epoch 100 Batch 100 Loss 0.0521\n",
            "Epoch 100 Loss 0.1025\n",
            "Time taken for 1 epoch 25.05219793319702 sec\n",
            "\n"
          ],
          "name": "stdout"
        }
      ]
    },
    {
      "cell_type": "markdown",
      "metadata": {
        "colab_type": "text",
        "id": "mU3Ce8M6I3rz"
      },
      "source": [
        "## Translate\n",
        "\n",
        "* The evaluate function is similar to the training loop, except we don't use *teacher forcing* here. The input to the decoder at each time step is its previous predictions along with the hidden state and the encoder output.\n",
        "* Stop predicting when the model predicts the *end token*.\n",
        "* And store the *attention weights for every time step*.\n",
        "\n",
        "Note: The encoder output is calculated only once for one input."
      ]
    },
    {
      "cell_type": "code",
      "metadata": {
        "colab_type": "code",
        "id": "EbQpyYs13jF_",
        "colab": {}
      },
      "source": [
        "def evaluate(sentence):\n",
        "  attention_plot = np.zeros((max_length_targ, max_length_inp))\n",
        "\n",
        "  sentence = preprocess_sentence(sentence)\n",
        "\n",
        "  inputs = [inp_lang.word_index[i] for i in sentence.split(' ')]\n",
        "  inputs = tf.keras.preprocessing.sequence.pad_sequences([inputs],\n",
        "                                                         maxlen=max_length_inp,\n",
        "                                                         padding='post')\n",
        "  inputs = tf.convert_to_tensor(inputs)\n",
        "\n",
        "  result = ''\n",
        "\n",
        "  hidden = [tf.zeros((1, units))]\n",
        "  enc_out, enc_hidden = encoder(inputs, hidden)\n",
        "\n",
        "  dec_hidden = enc_hidden\n",
        "  dec_input = tf.expand_dims([targ_lang.word_index['<start>']], 0)\n",
        "\n",
        "  for t in range(max_length_targ):\n",
        "    predictions, dec_hidden, attention_weights = decoder(dec_input,\n",
        "                                                         dec_hidden,\n",
        "                                                         enc_out)\n",
        "\n",
        "    # storing the attention weights to plot later on\n",
        "    attention_weights = tf.reshape(attention_weights, (-1, ))\n",
        "    attention_plot[t] = attention_weights.numpy()\n",
        "\n",
        "    predicted_id = tf.argmax(predictions[0]).numpy()\n",
        "\n",
        "    result += targ_lang.index_word[predicted_id] + ' '\n",
        "\n",
        "    if targ_lang.index_word[predicted_id] == '<end>':\n",
        "      return result, sentence, attention_plot\n",
        "\n",
        "    # the predicted ID is fed back into the model\n",
        "    dec_input = tf.expand_dims([predicted_id], 0)\n",
        "\n",
        "  return result, sentence, attention_plot"
      ],
      "execution_count": 0,
      "outputs": []
    },
    {
      "cell_type": "code",
      "metadata": {
        "colab_type": "code",
        "id": "s5hQWlbN3jGF",
        "colab": {}
      },
      "source": [
        "# function for plotting the attention weights\n",
        "def plot_attention(attention, sentence, predicted_sentence):\n",
        "  fig = plt.figure(figsize=(10,10))\n",
        "  ax = fig.add_subplot(1, 1, 1)\n",
        "  ax.matshow(attention, cmap='viridis')\n",
        "\n",
        "  fontdict = {'fontsize': 14}\n",
        "\n",
        "  ax.set_xticklabels([''] + sentence, fontdict=fontdict, rotation=90)\n",
        "  ax.set_yticklabels([''] + predicted_sentence, fontdict=fontdict)\n",
        "\n",
        "  ax.xaxis.set_major_locator(ticker.MultipleLocator(1))\n",
        "  ax.yaxis.set_major_locator(ticker.MultipleLocator(1))\n",
        "\n",
        "  plt.show()"
      ],
      "execution_count": 0,
      "outputs": []
    },
    {
      "cell_type": "code",
      "metadata": {
        "colab_type": "code",
        "id": "sl9zUHzg3jGI",
        "colab": {}
      },
      "source": [
        "def translate(sentence):\n",
        "  result, sentence, attention_plot = evaluate(sentence)\n",
        "\n",
        "  print('Input: %s' % (sentence))\n",
        "  print('Output: {}'.format(result))\n",
        "\n",
        "  attention_plot = attention_plot[:len(result.split(' ')), :len(sentence.split(' '))]\n",
        "  plot_attention(attention_plot, sentence.split(' '), result.split(' '))"
      ],
      "execution_count": 0,
      "outputs": []
    },
    {
      "cell_type": "markdown",
      "metadata": {
        "colab_type": "text",
        "id": "n250XbnjOaqP"
      },
      "source": [
        "## Restore the latest checkpoint and test"
      ]
    },
    {
      "cell_type": "code",
      "metadata": {
        "colab_type": "code",
        "id": "UJpT9D5_OgP6",
        "colab": {
          "base_uri": "https://localhost:8080/",
          "height": 34
        },
        "outputId": "6d62d3e9-f3b2-40dc-9329-6d67ef0be095"
      },
      "source": [
        "# restoring the latest checkpoint in checkpoint_dir\n",
        "checkpoint.restore(tf.train.latest_checkpoint(checkpoint_dir))"
      ],
      "execution_count": 51,
      "outputs": [
        {
          "output_type": "execute_result",
          "data": {
            "text/plain": [
              "<tensorflow.python.training.tracking.util.CheckpointLoadStatus at 0x7f5c3e10e4e0>"
            ]
          },
          "metadata": {
            "tags": []
          },
          "execution_count": 51
        }
      ]
    },
    {
      "cell_type": "code",
      "metadata": {
        "colab_type": "code",
        "id": "WrAM0FDomq3E",
        "colab": {
          "base_uri": "https://localhost:8080/",
          "height": 675
        },
        "outputId": "3d2c0636-66b2-4c1e-c85c-2c459251ef3e"
      },
      "source": [
        "translate(u'hello')"
      ],
      "execution_count": 75,
      "outputs": [
        {
          "output_type": "stream",
          "text": [
            "Input: <start> hello <end>\n",
            "Output: fine . now that i do your help ? <end> \n"
          ],
          "name": "stdout"
        },
        {
          "output_type": "display_data",
          "data": {
            "image/png": "[encoded data removed]",
            "text/plain": [
              "<Figure size 720x720 with 1 Axes>"
            ]
          },
          "metadata": {
            "tags": []
          }
        }
      ]
    },
    {
      "cell_type": "code",
      "metadata": {
        "colab_type": "code",
        "id": "zSx2iM36EZQZ",
        "colab": {
          "base_uri": "https://localhost:8080/",
          "height": 675
        },
        "outputId": "733fc1d0-aa82-4ec9-97f7-b30e81eedfb2"
      },
      "source": [
        "translate(u'how are you?')"
      ],
      "execution_count": 53,
      "outputs": [
        {
          "output_type": "stream",
          "text": [
            "Input: <start> how are you ? <end>\n",
            "Output: red one hotel . may i buy art supplies ? <end> \n"
          ],
          "name": "stdout"
        },
        {
          "output_type": "display_data",
          "data": {
            "image/png": "[encoded data removed]",
            "text/plain": [
              "<Figure size 720x720 with 1 Axes>"
            ]
          },
          "metadata": {
            "tags": []
          }
        }
      ]
    },
    {
      "cell_type": "code",
      "metadata": {
        "colab_type": "code",
        "id": "A3LLCx3ZE0Ls",
        "colab": {
          "base_uri": "https://localhost:8080/",
          "height": 675
        },
        "outputId": "89d5c270-adad-4e52-c945-5133c1e240b8"
      },
      "source": [
        "translate(u'I am  good.')"
      ],
      "execution_count": 54,
      "outputs": [
        {
          "output_type": "stream",
          "text": [
            "Input: <start> i am good . <end>\n",
            "Output: how are you today ? <end> \n"
          ],
          "name": "stdout"
        },
        {
          "output_type": "display_data",
          "data": {
            "image/png": "[encoded data removed]",
            "text/plain": [
              "<Figure size 720x720 with 1 Axes>"
            ]
          },
          "metadata": {
            "tags": []
          }
        }
      ]
    },
    {
      "cell_type": "code",
      "metadata": {
        "colab_type": "code",
        "id": "DUQVLVqUE1YW",
        "colab": {
          "base_uri": "https://localhost:8080/",
          "height": 675
        },
        "outputId": "d47f9d50-0522-4578-e57f-f8b636392f78"
      },
      "source": [
        "# wrong translation\n",
        "translate(u'what do you do?')"
      ],
      "execution_count": 55,
      "outputs": [
        {
          "output_type": "stream",
          "text": [
            "Input: <start> what do you do ? <end>\n",
            "Output: i m sorry , i messed it . <end> \n"
          ],
          "name": "stdout"
        },
        {
          "output_type": "display_data",
          "data": {
            "image/png": "[encoded data removed]",
            "text/plain": [
              "<Figure size 720x720 with 1 Axes>"
            ]
          },
          "metadata": {
            "tags": []
          }
        }
      ]
    },
    {
      "cell_type": "code",
      "metadata": {
        "id": "TsyGgDEh3ETA",
        "colab_type": "code",
        "colab": {
          "base_uri": "https://localhost:8080/",
          "height": 675
        },
        "outputId": "89e42e2b-5473-45d0-cda5-051fbde374ce"
      },
      "source": [
        "translate(u'What is science?')"
      ],
      "execution_count": 56,
      "outputs": [
        {
          "output_type": "stream",
          "text": [
            "Input: <start> what is science ? <end>\n",
            "Output: i m really sorry . <end> \n"
          ],
          "name": "stdout"
        },
        {
          "output_type": "display_data",
          "data": {
            "image/png": "[encoded data removed]",
            "text/plain": [
              "<Figure size 720x720 with 1 Axes>"
            ]
          },
          "metadata": {
            "tags": []
          }
        }
      ]
    },
    {
      "cell_type": "code",
      "metadata": {
        "id": "_Mx2kGp6gZUU",
        "colab_type": "code",
        "outputId": "083c9967-aa3b-4367-a6d6-9c1b8635a6db",
        "colab": {
          "base_uri": "https://localhost:8080/",
          "height": 675
        }
      },
      "source": [
        "translate(u'who are you?')"
      ],
      "execution_count": 57,
      "outputs": [
        {
          "output_type": "stream",
          "text": [
            "Input: <start> who are you ? <end>\n",
            "Output: well , this is mike , recording capability , please ? <end> \n"
          ],
          "name": "stdout"
        },
        {
          "output_type": "display_data",
          "data": {
            "image/png": "[encoded data removed]",
            "text/plain": [
              "<Figure size 720x720 with 1 Axes>"
            ]
          },
          "metadata": {
            "tags": []
          }
        }
      ]
    },
    {
      "cell_type": "code",
      "metadata": {
        "id": "HQihsUVobRuG",
        "colab_type": "code",
        "colab": {
          "base_uri": "https://localhost:8080/",
          "height": 675
        },
        "outputId": "ab8d5569-db99-46cd-d6e6-31f4e5324498"
      },
      "source": [
        "translate('i m looking for the transfer of my bag ')"
      ],
      "execution_count": 74,
      "outputs": [
        {
          "output_type": "stream",
          "text": [
            "Input: <start> i m looking for the transfer of my bag <end>\n",
            "Output: can you like to show you at the next table for your tea ? <end> \n"
          ],
          "name": "stdout"
        },
        {
          "output_type": "display_data",
          "data": {
            "image/png": "[encoded data removed]",
            "text/plain": [
              "<Figure size 720x720 with 1 Axes>"
            ]
          },
          "metadata": {
            "tags": []
          }
        }
      ]
    },
    {
      "cell_type": "markdown",
      "metadata": {
        "colab_type": "text",
        "id": "RTe5P5ioMJwN"
      },
      "source": [
        "## Next steps\n",
        "\n",
        "* Train on real chat dataset from Msft: https://msropendata.com/datasets/1cc496ec-aaff-4576-b4bc-4a65798fa907"
      ]
    },
    {
      "cell_type": "code",
      "metadata": {
        "id": "UW8aP07G285s",
        "colab_type": "code",
        "colab": {}
      },
      "source": [
        ""
      ],
      "execution_count": 0,
      "outputs": []
    }
  ]
}