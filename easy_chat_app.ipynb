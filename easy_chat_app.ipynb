{
  "nbformat": 4,
  "nbformat_minor": 0,
  "metadata": {
    "colab": {
      "name": "easy_chat_app.ipynb",
      "provenance": [],
      "toc_visible": true,
      "machine_shape": "hm",
      "authorship_tag": "ABX9TyMrv9anlv4zDXaHgQS+PbJ1",
      "include_colab_link": true
    },
    "kernelspec": {
      "name": "python3",
      "display_name": "Python 3"
    },
    "accelerator": "GPU"
  },
  "cells": [
    {
      "cell_type": "markdown",
      "metadata": {
        "id": "view-in-github",
        "colab_type": "text"
      },
      "source": [
        "<a href=\"https://colab.research.google.com/github/kumar-abhishek/handson-ml2/blob/master/easy_chat_app.ipynb\" target=\"_parent\"><img src=\"https://colab.research.google.com/assets/colab-badge.svg\" alt=\"Open In Colab\"/></a>"
      ]
    },
    {
      "cell_type": "code",
      "metadata": {
        "id": "8WQy56yQxELF",
        "colab_type": "code",
        "colab": {
          "base_uri": "https://localhost:8080/",
          "height": 34
        },
        "outputId": "8c4228b5-e488-4d8f-f376-4db8bf070afd"
      },
      "source": [
        "\n",
        "from google.colab import drive\n",
        "import os\n",
        "import numpy as np\n",
        "import pandas as pd\n",
        "drive.mount('/content/drive', force_remount=True)"
      ],
      "execution_count": 9,
      "outputs": [
        {
          "output_type": "stream",
          "text": [
            "Mounted at /content/drive\n"
          ],
          "name": "stdout"
        }
      ]
    },
    {
      "cell_type": "code",
      "metadata": {
        "id": "xSbsUai4xIgr",
        "colab_type": "code",
        "colab": {}
      },
      "source": [
        "data_path = \"/content/drive/My Drive/chatapp\"\n",
        "\n",
        "conv_path = os.path.join(data_path, 'conversation')\n",
        "word2vec_path = os.path.join(data_path, 'word2vec')"
      ],
      "execution_count": 0,
      "outputs": []
    },
    {
      "cell_type": "code",
      "metadata": {
        "id": "LoDbNafdo_zi",
        "colab_type": "code",
        "colab": {
          "base_uri": "https://localhost:8080/",
          "height": 51
        },
        "outputId": "94369b61-8f46-4438-cb3e-c6458e64837b"
      },
      "source": [
        "# source: https://github.com/shreyans29/thesemicolon/blob/master/conversation.json\n",
        "# -*- coding: utf-8 -*-\n",
        "import os\n",
        "import json\n",
        "import nltk\n",
        "import gensim\n",
        "import numpy as np\n",
        "from gensim import corpora, models, similarities\n",
        "import pickle\n",
        "\n",
        "nltk.download('punkt')\n",
        "\n",
        "def preprocessing():\n",
        "  #os.chdir(\"D:\\semicolon\\Deep Learning\\chatbot\");\n",
        "  #model = gensim.models.Word2Vec.load('word2vec.bin')\n",
        "  model = gensim.models.Word2Vec.load(os.path.join(word2vec_path, 'word2vec.bin'))\n",
        "  #path2=\"corpus\";\n",
        "\n",
        "  x=[]\n",
        "  y=[]\n",
        "\n",
        "  #for filename in ['conversation_train.json', 'conversation_test.json', 'conversation_valid.json', 'conversation.json']:\n",
        "  for filename in os.listdir(conv_path):\n",
        "    file=open(os.path.join(conv_path, filename))\n",
        "    data = json.load(file)\n",
        "    cor=data[\"conversations\"]\n",
        "\n",
        "    \n",
        "    for i in range(len(cor)):\n",
        "        for j in range(len(cor[i])):\n",
        "            if j<len(cor[i])-1:\n",
        "                x.append(cor[i][j]);\n",
        "                y.append(cor[i][j+1]);\n",
        "\n",
        "  tok_x=[]\n",
        "  tok_y=[]\n",
        "  for i in range(len(x)):\n",
        "      tok_x.append(nltk.word_tokenize(x[i].lower()))\n",
        "      tok_y.append(nltk.word_tokenize(y[i].lower()))\n",
        "      \n",
        "      \n",
        "\n",
        "  sentend=np.ones((300,),dtype=np.float32) \n",
        "\n",
        "  vec_x=[]\n",
        "  for sent in tok_x:\n",
        "      sentvec = [model[w] for w in sent if w in model.wv.vocab]\n",
        "      vec_x.append(sentvec)\n",
        "      \n",
        "  vec_y=[]\n",
        "  for sent in tok_y:\n",
        "      sentvec = [model[w] for w in sent if w in model.wv.vocab]\n",
        "      vec_y.append(sentvec)           \n",
        "      \n",
        "      \n",
        "  for tok_sent in vec_x:\n",
        "      tok_sent[14:]=[]\n",
        "      tok_sent.append(sentend)\n",
        "      \n",
        "\n",
        "  for tok_sent in vec_x:\n",
        "      if len(tok_sent)<15:\n",
        "          for i in range(15-len(tok_sent)):\n",
        "              tok_sent.append(sentend)    \n",
        "              \n",
        "  for tok_sent in vec_y:\n",
        "      tok_sent[14:]=[]\n",
        "      tok_sent.append(sentend)\n",
        "      \n",
        "\n",
        "  for tok_sent in vec_y:\n",
        "      if len(tok_sent)<15:\n",
        "          for i in range(15-len(tok_sent)):\n",
        "              tok_sent.append(sentend)             \n",
        "              \n",
        "  with open('conversation.pickle','wb') as f:\n",
        "      pickle.dump([vec_x,vec_y],f)                \n"
      ],
      "execution_count": 11,
      "outputs": [
        {
          "output_type": "stream",
          "text": [
            "[nltk_data] Downloading package punkt to /root/nltk_data...\n",
            "[nltk_data]   Package punkt is already up-to-date!\n"
          ],
          "name": "stdout"
        }
      ]
    },
    {
      "cell_type": "code",
      "metadata": {
        "id": "xfyaQo5TtJ69",
        "colab_type": "code",
        "colab": {
          "base_uri": "https://localhost:8080/",
          "height": 105
        },
        "outputId": "f8a7e4eb-eb22-4478-e035-7920959765ec"
      },
      "source": [
        "preprocessing()"
      ],
      "execution_count": 12,
      "outputs": [
        {
          "output_type": "stream",
          "text": [
            "/usr/local/lib/python3.6/dist-packages/smart_open/smart_open_lib.py:402: UserWarning: This function is deprecated, use smart_open.open instead. See the migration notes for details: https://github.com/RaRe-Technologies/smart_open/blob/master/README.rst#migrating-to-the-new-open-function\n",
            "  'See the migration notes for details: %s' % _MIGRATION_NOTES_URL\n",
            "/usr/local/lib/python3.6/dist-packages/ipykernel_launcher.py:45: DeprecationWarning: Call to deprecated `__getitem__` (Method will be removed in 4.0.0, use self.wv.__getitem__() instead).\n",
            "/usr/local/lib/python3.6/dist-packages/ipykernel_launcher.py:50: DeprecationWarning: Call to deprecated `__getitem__` (Method will be removed in 4.0.0, use self.wv.__getitem__() instead).\n"
          ],
          "name": "stderr"
        }
      ]
    },
    {
      "cell_type": "code",
      "metadata": {
        "id": "I7Y-7ju4pmH9",
        "colab_type": "code",
        "colab": {}
      },
      "source": [
        "# -*- coding: utf-8 -*-\n",
        "\n",
        "\n",
        "import os\n",
        "import pickle\n",
        "import numpy as np\n",
        "from keras.models import Sequential\n",
        "import gensim\n",
        "from keras.layers.recurrent import LSTM,SimpleRNN\n",
        "from sklearn.model_selection import train_test_split\n",
        "import theano\n",
        "theano.config.optimizer=\"None\"\n",
        "\n",
        "def training():\n",
        "  with open('conversation.pickle', 'rb') as f:\n",
        "      vec_x,vec_y=pickle.load(f)    \n",
        "      \n",
        "  vec_x=np.array(vec_x,dtype=np.float64)\n",
        "  vec_y=np.array(vec_y,dtype=np.float64)    \n",
        "\n",
        "  x_train,x_test, y_train,y_test = train_test_split(vec_x, vec_y, test_size=0.2, random_state=1)\n",
        "      \n",
        "  model=Sequential()\n",
        "  model.add(LSTM(output_dim=300,input_shape=x_train.shape[1:],return_sequences=True, init='glorot_normal', inner_init='glorot_normal', activation='sigmoid'))\n",
        "  model.add(LSTM(output_dim=300,input_shape=x_train.shape[1:],return_sequences=True, init='glorot_normal', inner_init='glorot_normal', activation='sigmoid'))\n",
        "  model.add(LSTM(output_dim=300,input_shape=x_train.shape[1:],return_sequences=True, init='glorot_normal', inner_init='glorot_normal', activation='sigmoid'))\n",
        "  model.add(LSTM(output_dim=300,input_shape=x_train.shape[1:],return_sequences=True, init='glorot_normal', inner_init='glorot_normal', activation='sigmoid'))\n",
        "  model.compile(loss='cosine_proximity', optimizer='adam', metrics=['accuracy'])\n",
        "\n",
        "  model.fit(x_train, y_train, nb_epoch=10,validation_data=(x_test, y_test))\n",
        "  model.save('LSTM500.h5')\n",
        "  model_file = drive.CreateFile({'title' : 'LSTM500.h5'})                       \n",
        "  model_file.SetContentFile('LSTM500.h5')                       \n",
        "  model_file.Upload()\n",
        "  \"\"\"\n",
        "  model.fit(x_train, y_train, nb_epoch=5,validation_data=(x_test, y_test))\n",
        "  model.save('LSTM1000.h5');\n",
        "  model_file = drive.CreateFile({'title' : 'LSTM1000.h5'})                       \n",
        "  model_file.SetContentFile('LSTM1000.h5')                       \n",
        "  model_file.Upload()\n",
        "\n",
        "  model.fit(x_train, y_train, nb_epoch=5,validation_data=(x_test, y_test))\n",
        "  model.save('LSTM1500.h5');\n",
        "  model_file = drive.CreateFile({'title' : 'LSTM1500.h5'})                       \n",
        "  model_file.SetContentFile('LSTM1500.h5')                       \n",
        "  model_file.Upload()\n",
        "\n",
        "  model.fit(x_train, y_train, nb_epoch=5,validation_data=(x_test, y_test))\n",
        "  model.save('LSTM2000.h5');\n",
        "  model_file = drive.CreateFile({'title' : 'LSTM2000.h5'})                       \n",
        "  model_file.SetContentFile('LSTM2000.h5')                       \n",
        "  model_file.Upload()\n",
        "\n",
        "  model.fit(x_train, y_train, nb_epoch=5,validation_data=(x_test, y_test))\n",
        "  model.save('LSTM2500.h5');\n",
        "  model_file = drive.CreateFile({'title' : 'LSTM2500.h5'})                       \n",
        "  model_file.SetContentFile('LSTM2500.h5')                       \n",
        "  model_file.Upload()\n",
        "\n",
        "  model.fit(x_train, y_train, nb_epoch=5,validation_data=(x_test, y_test))\n",
        "  model.save('LSTM3000.h5');\n",
        "  model_file = drive.CreateFile({'title' : 'LSTM3000.h5'})                       \n",
        "  model_file.SetContentFile('LSTM3000.h5')                       \n",
        "  model_file.Upload()\n",
        "\n",
        "  model.fit(x_train, y_train, nb_epoch=5,validation_data=(x_test, y_test))\n",
        "  model.save('LSTM3500.h5');\n",
        "  model_file = drive.CreateFile({'title' : 'LSTM3500.h5'})                       \n",
        "  model_file.SetContentFile('LSTM3500.h5')                       \n",
        "  model_file.Upload()\n",
        "\n",
        "  model.fit(x_train, y_train, nb_epoch=5,validation_data=(x_test, y_test))\n",
        "  model.save('LSTM4000.h5');\n",
        "  model_file = drive.CreateFile({'title' : 'LSTM4000.h5'})                       \n",
        "  model_file.SetContentFile('LSTM4000.h5')                       \n",
        "  model_file.Upload()\n",
        "\n",
        "  model.fit(x_train, y_train, nb_epoch=5,validation_data=(x_test, y_test))\n",
        "  model.save('LSTM4500.h5');\n",
        "  model_file = drive.CreateFile({'title' : 'LSTM500.h5'})                       \n",
        "  model_file.SetContentFile('LSTM500.h5')                       \n",
        "  model_file.Upload()\n",
        "\n",
        "  model.fit(x_train, y_train, nb_epoch=5,validation_data=(x_test, y_test))\n",
        "  model.save('LSTM5000.h5'); \n",
        "  model_file = drive.CreateFile({'title' : 'LSTM5000.h5'})                       \n",
        "  model_file.SetContentFile('LSTM5000.h5')                       \n",
        "  model_file.Upload()\n",
        "  \"\"\"\n",
        "  predictions=model.predict(x_test) \n",
        "  mod = gensim.models.Word2Vec.load('word2vec.bin');   \n",
        "  [mod.most_similar([predictions[10][i]])[0] for i in range(15)]\n"
      ],
      "execution_count": 0,
      "outputs": []
    },
    {
      "cell_type": "code",
      "metadata": {
        "id": "pJGmzXpXK7g3",
        "colab_type": "code",
        "colab": {}
      },
      "source": [
        "training()"
      ],
      "execution_count": 0,
      "outputs": []
    },
    {
      "cell_type": "code",
      "metadata": {
        "id": "TpLisRC-n89s",
        "colab_type": "code",
        "colab": {
          "base_uri": "https://localhost:8080/",
          "height": 786
        },
        "outputId": "7634899f-abf4-4137-d0da-20c8139405a1"
      },
      "source": [
        "# -*- coding: utf-8 -*-\n",
        "\n",
        "import os\n",
        "from scipy import spatial\n",
        "import numpy as np\n",
        "import gensim\n",
        "import nltk\n",
        "from keras.models import load_model\n",
        "\n",
        "\n",
        "import theano\n",
        "theano.config.optimizer=\"None\"\n",
        "\n",
        "\n",
        "model=load_model('LSTM500.h5')\n",
        "mod = gensim.models.Word2Vec.load(os.path.join(word2vec_path,'word2vec.bin'))\n",
        "while(True):\n",
        "    x=input(\"Enter the message:\")\n",
        "    sentend=np.ones((300,),dtype=np.float32) \n",
        "\n",
        "    sent=nltk.word_tokenize(x.lower())\n",
        "    sentvec = [mod[w] for w in sent if w in mod.wv.vocab]\n",
        "\n",
        "    sentvec[14:]=[]\n",
        "    sentvec.append(sentend)\n",
        "    if len(sentvec)<15:\n",
        "        for i in range(15-len(sentvec)):\n",
        "          sentvec.append(sentend) \n",
        "    sentvec=np.array([sentvec])\n",
        "    \n",
        "    predictions = model.predict(sentvec)\n",
        "    outputlist=[mod.most_similar([predictions[0][i]])[0][0] for i in range(15)]\n",
        "    output=' '.join(outputlist)\n",
        "    print(output)\n"
      ],
      "execution_count": 8,
      "outputs": [
        {
          "output_type": "stream",
          "text": [
            "/usr/local/lib/python3.6/dist-packages/smart_open/smart_open_lib.py:402: UserWarning: This function is deprecated, use smart_open.open instead. See the migration notes for details: https://github.com/RaRe-Technologies/smart_open/blob/master/README.rst#migrating-to-the-new-open-function\n",
            "  'See the migration notes for details: %s' % _MIGRATION_NOTES_URL\n"
          ],
          "name": "stderr"
        },
        {
          "output_type": "stream",
          "text": [
            "Enter the message:hi\n"
          ],
          "name": "stdout"
        },
        {
          "output_type": "stream",
          "text": [
            "/usr/local/lib/python3.6/dist-packages/ipykernel_launcher.py:21: DeprecationWarning: Call to deprecated `__getitem__` (Method will be removed in 4.0.0, use self.wv.__getitem__() instead).\n",
            "/usr/local/lib/python3.6/dist-packages/ipykernel_launcher.py:31: DeprecationWarning: Call to deprecated `most_similar` (Method will be removed in 4.0.0, use self.wv.most_similar() instead).\n",
            "/usr/local/lib/python3.6/dist-packages/gensim/matutils.py:737: FutureWarning: Conversion of the second argument of issubdtype from `int` to `np.signedinteger` is deprecated. In future, it will be treated as `np.int64 == np.dtype(int).type`.\n",
            "  if np.issubdtype(vec.dtype, np.int):\n"
          ],
          "name": "stderr"
        },
        {
          "output_type": "stream",
          "text": [
            "know n't n't n't n't but n't n't n't n't n't n't n't n't n't\n",
            "Enter the message:how are you?\n",
            "know n't so n't n't but but n't n't n't n't n't n't n't n't\n",
            "Enter the message:what?\n",
            "know n't n't n't n't but n't n't n't n't n't n't n't n't n't\n",
            "Enter the message:what the hell\n",
            "know n't so n't n't but n't n't n't n't n't n't n't n't n't\n"
          ],
          "name": "stdout"
        },
        {
          "output_type": "error",
          "ename": "KeyboardInterrupt",
          "evalue": "ignored",
          "traceback": [
            "\u001b[0;31m---------------------------------------------------------------------------\u001b[0m",
            "\u001b[0;31mKeyboardInterrupt\u001b[0m                         Traceback (most recent call last)",
            "\u001b[0;32m/usr/local/lib/python3.6/dist-packages/ipykernel/kernelbase.py\u001b[0m in \u001b[0;36m_input_request\u001b[0;34m(self, prompt, ident, parent, password)\u001b[0m\n\u001b[1;32m    729\u001b[0m             \u001b[0;32mtry\u001b[0m\u001b[0;34m:\u001b[0m\u001b[0;34m\u001b[0m\u001b[0;34m\u001b[0m\u001b[0m\n\u001b[0;32m--> 730\u001b[0;31m                 \u001b[0mident\u001b[0m\u001b[0;34m,\u001b[0m \u001b[0mreply\u001b[0m \u001b[0;34m=\u001b[0m \u001b[0mself\u001b[0m\u001b[0;34m.\u001b[0m\u001b[0msession\u001b[0m\u001b[0;34m.\u001b[0m\u001b[0mrecv\u001b[0m\u001b[0;34m(\u001b[0m\u001b[0mself\u001b[0m\u001b[0;34m.\u001b[0m\u001b[0mstdin_socket\u001b[0m\u001b[0;34m,\u001b[0m \u001b[0;36m0\u001b[0m\u001b[0;34m)\u001b[0m\u001b[0;34m\u001b[0m\u001b[0;34m\u001b[0m\u001b[0m\n\u001b[0m\u001b[1;32m    731\u001b[0m             \u001b[0;32mexcept\u001b[0m \u001b[0mException\u001b[0m\u001b[0;34m:\u001b[0m\u001b[0;34m\u001b[0m\u001b[0;34m\u001b[0m\u001b[0m\n",
            "\u001b[0;32m/usr/local/lib/python3.6/dist-packages/jupyter_client/session.py\u001b[0m in \u001b[0;36mrecv\u001b[0;34m(self, socket, mode, content, copy)\u001b[0m\n\u001b[1;32m    802\u001b[0m         \u001b[0;32mtry\u001b[0m\u001b[0;34m:\u001b[0m\u001b[0;34m\u001b[0m\u001b[0;34m\u001b[0m\u001b[0m\n\u001b[0;32m--> 803\u001b[0;31m             \u001b[0mmsg_list\u001b[0m \u001b[0;34m=\u001b[0m \u001b[0msocket\u001b[0m\u001b[0;34m.\u001b[0m\u001b[0mrecv_multipart\u001b[0m\u001b[0;34m(\u001b[0m\u001b[0mmode\u001b[0m\u001b[0;34m,\u001b[0m \u001b[0mcopy\u001b[0m\u001b[0;34m=\u001b[0m\u001b[0mcopy\u001b[0m\u001b[0;34m)\u001b[0m\u001b[0;34m\u001b[0m\u001b[0;34m\u001b[0m\u001b[0m\n\u001b[0m\u001b[1;32m    804\u001b[0m         \u001b[0;32mexcept\u001b[0m \u001b[0mzmq\u001b[0m\u001b[0;34m.\u001b[0m\u001b[0mZMQError\u001b[0m \u001b[0;32mas\u001b[0m \u001b[0me\u001b[0m\u001b[0;34m:\u001b[0m\u001b[0;34m\u001b[0m\u001b[0;34m\u001b[0m\u001b[0m\n",
            "\u001b[0;32m/usr/local/lib/python3.6/dist-packages/zmq/sugar/socket.py\u001b[0m in \u001b[0;36mrecv_multipart\u001b[0;34m(self, flags, copy, track)\u001b[0m\n\u001b[1;32m    465\u001b[0m         \"\"\"\n\u001b[0;32m--> 466\u001b[0;31m         \u001b[0mparts\u001b[0m \u001b[0;34m=\u001b[0m \u001b[0;34m[\u001b[0m\u001b[0mself\u001b[0m\u001b[0;34m.\u001b[0m\u001b[0mrecv\u001b[0m\u001b[0;34m(\u001b[0m\u001b[0mflags\u001b[0m\u001b[0;34m,\u001b[0m \u001b[0mcopy\u001b[0m\u001b[0;34m=\u001b[0m\u001b[0mcopy\u001b[0m\u001b[0;34m,\u001b[0m \u001b[0mtrack\u001b[0m\u001b[0;34m=\u001b[0m\u001b[0mtrack\u001b[0m\u001b[0;34m)\u001b[0m\u001b[0;34m]\u001b[0m\u001b[0;34m\u001b[0m\u001b[0;34m\u001b[0m\u001b[0m\n\u001b[0m\u001b[1;32m    467\u001b[0m         \u001b[0;31m# have first part already, only loop while more to receive\u001b[0m\u001b[0;34m\u001b[0m\u001b[0;34m\u001b[0m\u001b[0;34m\u001b[0m\u001b[0m\n",
            "\u001b[0;32mzmq/backend/cython/socket.pyx\u001b[0m in \u001b[0;36mzmq.backend.cython.socket.Socket.recv\u001b[0;34m()\u001b[0m\n",
            "\u001b[0;32mzmq/backend/cython/socket.pyx\u001b[0m in \u001b[0;36mzmq.backend.cython.socket.Socket.recv\u001b[0;34m()\u001b[0m\n",
            "\u001b[0;32mzmq/backend/cython/socket.pyx\u001b[0m in \u001b[0;36mzmq.backend.cython.socket._recv_copy\u001b[0;34m()\u001b[0m\n",
            "\u001b[0;32m/usr/local/lib/python3.6/dist-packages/zmq/backend/cython/checkrc.pxd\u001b[0m in \u001b[0;36mzmq.backend.cython.checkrc._check_rc\u001b[0;34m()\u001b[0m\n",
            "\u001b[0;31mKeyboardInterrupt\u001b[0m: ",
            "\nDuring handling of the above exception, another exception occurred:\n",
            "\u001b[0;31mKeyboardInterrupt\u001b[0m                         Traceback (most recent call last)",
            "\u001b[0;32m<ipython-input-8-2e9765aaef58>\u001b[0m in \u001b[0;36m<module>\u001b[0;34m()\u001b[0m\n\u001b[1;32m     15\u001b[0m \u001b[0mmod\u001b[0m \u001b[0;34m=\u001b[0m \u001b[0mgensim\u001b[0m\u001b[0;34m.\u001b[0m\u001b[0mmodels\u001b[0m\u001b[0;34m.\u001b[0m\u001b[0mWord2Vec\u001b[0m\u001b[0;34m.\u001b[0m\u001b[0mload\u001b[0m\u001b[0;34m(\u001b[0m\u001b[0mos\u001b[0m\u001b[0;34m.\u001b[0m\u001b[0mpath\u001b[0m\u001b[0;34m.\u001b[0m\u001b[0mjoin\u001b[0m\u001b[0;34m(\u001b[0m\u001b[0mword2vec_path\u001b[0m\u001b[0;34m,\u001b[0m\u001b[0;34m'word2vec.bin'\u001b[0m\u001b[0;34m)\u001b[0m\u001b[0;34m)\u001b[0m\u001b[0;34m\u001b[0m\u001b[0;34m\u001b[0m\u001b[0m\n\u001b[1;32m     16\u001b[0m \u001b[0;32mwhile\u001b[0m\u001b[0;34m(\u001b[0m\u001b[0;32mTrue\u001b[0m\u001b[0;34m)\u001b[0m\u001b[0;34m:\u001b[0m\u001b[0;34m\u001b[0m\u001b[0;34m\u001b[0m\u001b[0m\n\u001b[0;32m---> 17\u001b[0;31m     \u001b[0mx\u001b[0m\u001b[0;34m=\u001b[0m\u001b[0minput\u001b[0m\u001b[0;34m(\u001b[0m\u001b[0;34m\"Enter the message:\"\u001b[0m\u001b[0;34m)\u001b[0m\u001b[0;34m\u001b[0m\u001b[0;34m\u001b[0m\u001b[0m\n\u001b[0m\u001b[1;32m     18\u001b[0m     \u001b[0msentend\u001b[0m\u001b[0;34m=\u001b[0m\u001b[0mnp\u001b[0m\u001b[0;34m.\u001b[0m\u001b[0mones\u001b[0m\u001b[0;34m(\u001b[0m\u001b[0;34m(\u001b[0m\u001b[0;36m300\u001b[0m\u001b[0;34m,\u001b[0m\u001b[0;34m)\u001b[0m\u001b[0;34m,\u001b[0m\u001b[0mdtype\u001b[0m\u001b[0;34m=\u001b[0m\u001b[0mnp\u001b[0m\u001b[0;34m.\u001b[0m\u001b[0mfloat32\u001b[0m\u001b[0;34m)\u001b[0m\u001b[0;34m\u001b[0m\u001b[0;34m\u001b[0m\u001b[0m\n\u001b[1;32m     19\u001b[0m \u001b[0;34m\u001b[0m\u001b[0m\n",
            "\u001b[0;32m/usr/local/lib/python3.6/dist-packages/ipykernel/kernelbase.py\u001b[0m in \u001b[0;36mraw_input\u001b[0;34m(self, prompt)\u001b[0m\n\u001b[1;32m    703\u001b[0m             \u001b[0mself\u001b[0m\u001b[0;34m.\u001b[0m\u001b[0m_parent_ident\u001b[0m\u001b[0;34m,\u001b[0m\u001b[0;34m\u001b[0m\u001b[0;34m\u001b[0m\u001b[0m\n\u001b[1;32m    704\u001b[0m             \u001b[0mself\u001b[0m\u001b[0;34m.\u001b[0m\u001b[0m_parent_header\u001b[0m\u001b[0;34m,\u001b[0m\u001b[0;34m\u001b[0m\u001b[0;34m\u001b[0m\u001b[0m\n\u001b[0;32m--> 705\u001b[0;31m             \u001b[0mpassword\u001b[0m\u001b[0;34m=\u001b[0m\u001b[0;32mFalse\u001b[0m\u001b[0;34m,\u001b[0m\u001b[0;34m\u001b[0m\u001b[0;34m\u001b[0m\u001b[0m\n\u001b[0m\u001b[1;32m    706\u001b[0m         )\n\u001b[1;32m    707\u001b[0m \u001b[0;34m\u001b[0m\u001b[0m\n",
            "\u001b[0;32m/usr/local/lib/python3.6/dist-packages/ipykernel/kernelbase.py\u001b[0m in \u001b[0;36m_input_request\u001b[0;34m(self, prompt, ident, parent, password)\u001b[0m\n\u001b[1;32m    733\u001b[0m             \u001b[0;32mexcept\u001b[0m \u001b[0mKeyboardInterrupt\u001b[0m\u001b[0;34m:\u001b[0m\u001b[0;34m\u001b[0m\u001b[0;34m\u001b[0m\u001b[0m\n\u001b[1;32m    734\u001b[0m                 \u001b[0;31m# re-raise KeyboardInterrupt, to truncate traceback\u001b[0m\u001b[0;34m\u001b[0m\u001b[0;34m\u001b[0m\u001b[0;34m\u001b[0m\u001b[0m\n\u001b[0;32m--> 735\u001b[0;31m                 \u001b[0;32mraise\u001b[0m \u001b[0mKeyboardInterrupt\u001b[0m\u001b[0;34m\u001b[0m\u001b[0;34m\u001b[0m\u001b[0m\n\u001b[0m\u001b[1;32m    736\u001b[0m             \u001b[0;32melse\u001b[0m\u001b[0;34m:\u001b[0m\u001b[0;34m\u001b[0m\u001b[0;34m\u001b[0m\u001b[0m\n\u001b[1;32m    737\u001b[0m                 \u001b[0;32mbreak\u001b[0m\u001b[0;34m\u001b[0m\u001b[0;34m\u001b[0m\u001b[0m\n",
            "\u001b[0;31mKeyboardInterrupt\u001b[0m: "
          ]
        }
      ]
    },
    {
      "cell_type": "code",
      "metadata": {
        "id": "MZ9YJhdLosmH",
        "colab_type": "code",
        "colab": {}
      },
      "source": [
        ""
      ],
      "execution_count": 0,
      "outputs": []
    },
    {
      "cell_type": "markdown",
      "metadata": {
        "id": "UTlX2FMlNlRB",
        "colab_type": "text"
      },
      "source": [
        "**Using Hands-On book approach**"
      ]
    },
    {
      "cell_type": "code",
      "metadata": {
        "id": "x-mnAaMKNo4S",
        "colab_type": "code",
        "colab": {
          "base_uri": "https://localhost:8080/",
          "height": 215
        },
        "outputId": "8efb86cb-1b13-4550-de85-2c5448b66b68"
      },
      "source": [
        "\n",
        "tf.random.set_seed(42)\n",
        "\n",
        "TFHUB_CACHE_DIR = os.path.join(os.curdir, \"my_tfhub_cache\")\n",
        "os.environ[\"TFHUB_CACHE_DIR\"] = TFHUB_CACHE_DIR\n"
      ],
      "execution_count": 29,
      "outputs": [
        {
          "output_type": "error",
          "ename": "NameError",
          "evalue": "ignored",
          "traceback": [
            "\u001b[0;31m---------------------------------------------------------------------------\u001b[0m",
            "\u001b[0;31mNameError\u001b[0m                                 Traceback (most recent call last)",
            "\u001b[0;32m<ipython-input-29-34a71a43080f>\u001b[0m in \u001b[0;36m<module>\u001b[0;34m()\u001b[0m\n\u001b[0;32m----> 1\u001b[0;31m \u001b[0mtf\u001b[0m\u001b[0;34m.\u001b[0m\u001b[0mrandom\u001b[0m\u001b[0;34m.\u001b[0m\u001b[0mset_seed\u001b[0m\u001b[0;34m(\u001b[0m\u001b[0;36m42\u001b[0m\u001b[0;34m)\u001b[0m\u001b[0;34m\u001b[0m\u001b[0;34m\u001b[0m\u001b[0m\n\u001b[0m\u001b[1;32m      2\u001b[0m \u001b[0;34m\u001b[0m\u001b[0m\n\u001b[1;32m      3\u001b[0m \u001b[0mTFHUB_CACHE_DIR\u001b[0m \u001b[0;34m=\u001b[0m \u001b[0mos\u001b[0m\u001b[0;34m.\u001b[0m\u001b[0mpath\u001b[0m\u001b[0;34m.\u001b[0m\u001b[0mjoin\u001b[0m\u001b[0;34m(\u001b[0m\u001b[0mos\u001b[0m\u001b[0;34m.\u001b[0m\u001b[0mcurdir\u001b[0m\u001b[0;34m,\u001b[0m \u001b[0;34m\"my_tfhub_cache\"\u001b[0m\u001b[0;34m)\u001b[0m\u001b[0;34m\u001b[0m\u001b[0;34m\u001b[0m\u001b[0m\n\u001b[1;32m      4\u001b[0m \u001b[0mos\u001b[0m\u001b[0;34m.\u001b[0m\u001b[0menviron\u001b[0m\u001b[0;34m[\u001b[0m\u001b[0;34m\"TFHUB_CACHE_DIR\"\u001b[0m\u001b[0;34m]\u001b[0m \u001b[0;34m=\u001b[0m \u001b[0mTFHUB_CACHE_DIR\u001b[0m\u001b[0;34m\u001b[0m\u001b[0;34m\u001b[0m\u001b[0m\n",
            "\u001b[0;31mNameError\u001b[0m: name 'tf' is not defined"
          ]
        }
      ]
    },
    {
      "cell_type": "code",
      "metadata": {
        "id": "xfi0Tp4FNwqd",
        "colab_type": "code",
        "colab": {}
      },
      "source": [
        "import tensorflow_hub as hub\n",
        "\n",
        "model = keras.Sequential([\n",
        "    hub.KerasLayer(\"https://tfhub.dev/google/tf2-preview/nnlm-en-dim50/1\",\n",
        "                   dtype=tf.string, input_shape=[], output_shape=[50]),\n",
        "    keras.layers.Dense(128, activation=\"relu\"),\n",
        "    keras.layers.Dense(1, activation=\"sigmoid\")\n",
        "])\n",
        "model.compile(loss=\"binary_crossentropy\", optimizer=\"adam\",\n",
        "              metrics=[\"accuracy\"])"
      ],
      "execution_count": 0,
      "outputs": []
    },
    {
      "cell_type": "code",
      "metadata": {
        "id": "9MjJpmREN5he",
        "colab_type": "code",
        "colab": {}
      },
      "source": [
        "for dirpath, dirnames, filenames in os.walk(TFHUB_CACHE_DIR):\n",
        "    for filename in filenames:\n",
        "        print(os.path.join(dirpath, filename))\n",
        "        "
      ],
      "execution_count": 0,
      "outputs": []
    },
    {
      "cell_type": "code",
      "metadata": {
        "id": "i4yddqefN6Ee",
        "colab_type": "code",
        "colab": {}
      },
      "source": [
        "import tensorflow_datasets as tfds\n",
        "\n",
        "datasets, info = tfds.load(\"imdb_reviews\", as_supervised=True, with_info=True)\n",
        "train_size = info.splits[\"train\"].num_examples\n",
        "batch_size = 32\n",
        "train_set = datasets[\"train\"].repeat().batch(batch_size).prefetch(1)\n",
        "history = model.fit(train_set, steps_per_epoch=train_size // batch_size, epochs=5)\n"
      ],
      "execution_count": 0,
      "outputs": []
    }
  ]
}