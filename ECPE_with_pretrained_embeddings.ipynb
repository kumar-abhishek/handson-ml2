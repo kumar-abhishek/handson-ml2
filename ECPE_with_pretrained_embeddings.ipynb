{
  "nbformat": 4,
  "nbformat_minor": 0,
  "metadata": {
    "colab": {
      "name": "ECPE.ipynb",
      "provenance": [],
      "collapsed_sections": [],
      "machine_shape": "hm",
      "authorship_tag": "ABX9TyNOufc3QLjEyc0RW0nY9BeV",
      "include_colab_link": true
    },
    "kernelspec": {
      "name": "python3",
      "display_name": "Python 3"
    },
    "accelerator": "GPU"
  },
  "cells": [
    {
      "cell_type": "markdown",
      "metadata": {
        "id": "view-in-github",
        "colab_type": "text"
      },
      "source": [
        "<a href=\"https://colab.research.google.com/github/kumar-abhishek/handson-ml2/blob/master/ECPE_with_pretrained_embeddings.ipynb\" target=\"_parent\"><img src=\"https://colab.research.google.com/assets/colab-badge.svg\" alt=\"Open In Colab\"/></a>"
      ]
    },
    {
      "cell_type": "markdown",
      "metadata": {
        "id": "mGiWL8CG97xr",
        "colab_type": "text"
      },
      "source": [
        "Algorithm\n",
        "\n",
        "1. Take the document, split into clauses\n",
        "2. Find embeddings of the clauses\n",
        "3. Feed embeddings of clauses into a Bi-LSTM layer(word-level), followed by attention layer \n",
        "4. Output of previous layer gets copied into 2 components.\n",
        "5. 1 component is for emotion extraction and is a Bi-LSTM layer(clause-level)\n",
        "6. 2nd compoent is for cause extraction and is a Bi-LSTM layer(clause-level)\n",
        "7. Loss Lp of the whole model is the weighted sum of two components:\n",
        "Lp=n*Le+(1-n)*Lc\n",
        "where n is a hyper-param\n",
        "\n",
        "\n",
        "\n",
        "\n"
      ]
    },
    {
      "cell_type": "code",
      "metadata": {
        "id": "eW2iw-d0JCe3",
        "colab_type": "code",
        "colab": {
          "base_uri": "https://localhost:8080/",
          "height": 1000
        },
        "outputId": "fbe16199-fc08-41ae-b823-115422668d75"
      },
      "source": [
        "!pip install tensorflow==2.0.0\n"
      ],
      "execution_count": 16,
      "outputs": [
        {
          "output_type": "stream",
          "text": [
            "Collecting tensorflow==2.0.0\n",
            "\u001b[?25l  Downloading https://files.pythonhosted.org/packages/46/0f/7bd55361168bb32796b360ad15a25de6966c9c1beb58a8e30c01c8279862/tensorflow-2.0.0-cp36-cp36m-manylinux2010_x86_64.whl (86.3MB)\n",
            "\u001b[K     |████████████████████████████████| 86.3MB 36kB/s \n",
            "\u001b[?25hRequirement already satisfied: keras-applications>=1.0.8 in /usr/local/lib/python3.6/dist-packages (from tensorflow==2.0.0) (1.0.8)\n",
            "Collecting gast==0.2.2\n",
            "  Downloading https://files.pythonhosted.org/packages/4e/35/11749bf99b2d4e3cceb4d55ca22590b0d7c2c62b9de38ac4a4a7f4687421/gast-0.2.2.tar.gz\n",
            "Requirement already satisfied: google-pasta>=0.1.6 in /usr/local/lib/python3.6/dist-packages (from tensorflow==2.0.0) (0.2.0)\n",
            "Requirement already satisfied: wrapt>=1.11.1 in /usr/local/lib/python3.6/dist-packages (from tensorflow==2.0.0) (1.12.1)\n",
            "Requirement already satisfied: opt-einsum>=2.3.2 in /usr/local/lib/python3.6/dist-packages (from tensorflow==2.0.0) (3.2.0)\n",
            "Requirement already satisfied: protobuf>=3.6.1 in /usr/local/lib/python3.6/dist-packages (from tensorflow==2.0.0) (3.10.0)\n",
            "Requirement already satisfied: grpcio>=1.8.6 in /usr/local/lib/python3.6/dist-packages (from tensorflow==2.0.0) (1.27.2)\n",
            "Requirement already satisfied: wheel>=0.26 in /usr/local/lib/python3.6/dist-packages (from tensorflow==2.0.0) (0.34.2)\n",
            "Requirement already satisfied: numpy<2.0,>=1.16.0 in /usr/local/lib/python3.6/dist-packages (from tensorflow==2.0.0) (1.18.2)\n",
            "Requirement already satisfied: astor>=0.6.0 in /usr/local/lib/python3.6/dist-packages (from tensorflow==2.0.0) (0.8.1)\n",
            "Requirement already satisfied: termcolor>=1.1.0 in /usr/local/lib/python3.6/dist-packages (from tensorflow==2.0.0) (1.1.0)\n",
            "Requirement already satisfied: keras-preprocessing>=1.0.5 in /usr/local/lib/python3.6/dist-packages (from tensorflow==2.0.0) (1.1.0)\n",
            "Requirement already satisfied: absl-py>=0.7.0 in /usr/local/lib/python3.6/dist-packages (from tensorflow==2.0.0) (0.9.0)\n",
            "Collecting tensorboard<2.1.0,>=2.0.0\n",
            "\u001b[?25l  Downloading https://files.pythonhosted.org/packages/76/54/99b9d5d52d5cb732f099baaaf7740403e83fe6b0cedde940fabd2b13d75a/tensorboard-2.0.2-py3-none-any.whl (3.8MB)\n",
            "\u001b[K     |████████████████████████████████| 3.8MB 46.7MB/s \n",
            "\u001b[?25hRequirement already satisfied: six>=1.10.0 in /usr/local/lib/python3.6/dist-packages (from tensorflow==2.0.0) (1.12.0)\n",
            "Collecting tensorflow-estimator<2.1.0,>=2.0.0\n",
            "\u001b[?25l  Downloading https://files.pythonhosted.org/packages/fc/08/8b927337b7019c374719145d1dceba21a8bb909b93b1ad6f8fb7d22c1ca1/tensorflow_estimator-2.0.1-py2.py3-none-any.whl (449kB)\n",
            "\u001b[K     |████████████████████████████████| 450kB 60.7MB/s \n",
            "\u001b[?25hRequirement already satisfied: h5py in /usr/local/lib/python3.6/dist-packages (from keras-applications>=1.0.8->tensorflow==2.0.0) (2.10.0)\n",
            "Requirement already satisfied: setuptools in /usr/local/lib/python3.6/dist-packages (from protobuf>=3.6.1->tensorflow==2.0.0) (46.0.0)\n",
            "Requirement already satisfied: markdown>=2.6.8 in /usr/local/lib/python3.6/dist-packages (from tensorboard<2.1.0,>=2.0.0->tensorflow==2.0.0) (3.2.1)\n",
            "Requirement already satisfied: google-auth<2,>=1.6.3 in /usr/local/lib/python3.6/dist-packages (from tensorboard<2.1.0,>=2.0.0->tensorflow==2.0.0) (1.7.2)\n",
            "Requirement already satisfied: requests<3,>=2.21.0 in /usr/local/lib/python3.6/dist-packages (from tensorboard<2.1.0,>=2.0.0->tensorflow==2.0.0) (2.21.0)\n",
            "Requirement already satisfied: werkzeug>=0.11.15 in /usr/local/lib/python3.6/dist-packages (from tensorboard<2.1.0,>=2.0.0->tensorflow==2.0.0) (1.0.0)\n",
            "Requirement already satisfied: google-auth-oauthlib<0.5,>=0.4.1 in /usr/local/lib/python3.6/dist-packages (from tensorboard<2.1.0,>=2.0.0->tensorflow==2.0.0) (0.4.1)\n",
            "Requirement already satisfied: rsa<4.1,>=3.1.4 in /usr/local/lib/python3.6/dist-packages (from google-auth<2,>=1.6.3->tensorboard<2.1.0,>=2.0.0->tensorflow==2.0.0) (4.0)\n",
            "Requirement already satisfied: cachetools<3.2,>=2.0.0 in /usr/local/lib/python3.6/dist-packages (from google-auth<2,>=1.6.3->tensorboard<2.1.0,>=2.0.0->tensorflow==2.0.0) (3.1.1)\n",
            "Requirement already satisfied: pyasn1-modules>=0.2.1 in /usr/local/lib/python3.6/dist-packages (from google-auth<2,>=1.6.3->tensorboard<2.1.0,>=2.0.0->tensorflow==2.0.0) (0.2.8)\n",
            "Requirement already satisfied: urllib3<1.25,>=1.21.1 in /usr/local/lib/python3.6/dist-packages (from requests<3,>=2.21.0->tensorboard<2.1.0,>=2.0.0->tensorflow==2.0.0) (1.24.3)\n",
            "Requirement already satisfied: idna<2.9,>=2.5 in /usr/local/lib/python3.6/dist-packages (from requests<3,>=2.21.0->tensorboard<2.1.0,>=2.0.0->tensorflow==2.0.0) (2.8)\n",
            "Requirement already satisfied: chardet<3.1.0,>=3.0.2 in /usr/local/lib/python3.6/dist-packages (from requests<3,>=2.21.0->tensorboard<2.1.0,>=2.0.0->tensorflow==2.0.0) (3.0.4)\n",
            "Requirement already satisfied: certifi>=2017.4.17 in /usr/local/lib/python3.6/dist-packages (from requests<3,>=2.21.0->tensorboard<2.1.0,>=2.0.0->tensorflow==2.0.0) (2019.11.28)\n",
            "Requirement already satisfied: requests-oauthlib>=0.7.0 in /usr/local/lib/python3.6/dist-packages (from google-auth-oauthlib<0.5,>=0.4.1->tensorboard<2.1.0,>=2.0.0->tensorflow==2.0.0) (1.3.0)\n",
            "Requirement already satisfied: pyasn1>=0.1.3 in /usr/local/lib/python3.6/dist-packages (from rsa<4.1,>=3.1.4->google-auth<2,>=1.6.3->tensorboard<2.1.0,>=2.0.0->tensorflow==2.0.0) (0.4.8)\n",
            "Requirement already satisfied: oauthlib>=3.0.0 in /usr/local/lib/python3.6/dist-packages (from requests-oauthlib>=0.7.0->google-auth-oauthlib<0.5,>=0.4.1->tensorboard<2.1.0,>=2.0.0->tensorflow==2.0.0) (3.1.0)\n",
            "Building wheels for collected packages: gast\n",
            "  Building wheel for gast (setup.py) ... \u001b[?25l\u001b[?25hdone\n",
            "  Created wheel for gast: filename=gast-0.2.2-cp36-none-any.whl size=7540 sha256=74182586624c53fa3faea26c413a71f6afeaa737cf2e685afbe272f1a5b74460\n",
            "  Stored in directory: /root/.cache/pip/wheels/5c/2e/7e/a1d4d4fcebe6c381f378ce7743a3ced3699feb89bcfbdadadd\n",
            "Successfully built gast\n",
            "Installing collected packages: gast, tensorboard, tensorflow-estimator, tensorflow\n",
            "  Found existing installation: gast 0.3.3\n",
            "    Uninstalling gast-0.3.3:\n",
            "      Successfully uninstalled gast-0.3.3\n",
            "  Found existing installation: tensorboard 1.15.0\n",
            "    Uninstalling tensorboard-1.15.0:\n",
            "      Successfully uninstalled tensorboard-1.15.0\n",
            "  Found existing installation: tensorflow-estimator 1.15.1\n",
            "    Uninstalling tensorflow-estimator-1.15.1:\n",
            "      Successfully uninstalled tensorflow-estimator-1.15.1\n",
            "  Found existing installation: tensorflow 1.15.2\n",
            "    Uninstalling tensorflow-1.15.2:\n",
            "      Successfully uninstalled tensorflow-1.15.2\n",
            "Successfully installed gast-0.2.2 tensorboard-2.1.1 tensorflow-2.2.0rc1 tensorflow-estimator-2.2.0rc0\n"
          ],
          "name": "stdout"
        },
        {
          "output_type": "display_data",
          "data": {
            "application/vnd.colab-display-data+json": {
              "pip_warning": {
                "packages": [
                  "gast",
                  "tensorboard",
                  "tensorflow",
                  "tensorflow_estimator"
                ]
              }
            }
          },
          "metadata": {
            "tags": []
          }
        }
      ]
    },
    {
      "cell_type": "code",
      "metadata": {
        "id": "O7ZKapWzJx47",
        "colab_type": "code",
        "colab": {
          "base_uri": "https://localhost:8080/",
          "height": 85
        },
        "outputId": "4a4a3f2f-a798-477d-936b-a13d4dac5f56"
      },
      "source": [
        "%tensorflow_version 2.x\n",
        "%tensorflow_version\n"
      ],
      "execution_count": 91,
      "outputs": [
        {
          "output_type": "stream",
          "text": [
            "Currently selected TF version: 2.x\n",
            "Available versions:\n",
            "* 1.x\n",
            "* 2.x\n"
          ],
          "name": "stdout"
        }
      ]
    },
    {
      "cell_type": "code",
      "metadata": {
        "id": "R_h12sNp3T2n",
        "colab_type": "code",
        "colab": {}
      },
      "source": [
        "\n",
        "import unicodedata\n",
        "import re\n",
        "import numpy as np\n",
        "import os\n",
        "import io\n",
        "import time\n",
        "import keras\n",
        "import tensorflow as tf\n",
        "from tensorflow.keras.preprocessing.sequence import pad_sequences"
      ],
      "execution_count": 0,
      "outputs": []
    },
    {
      "cell_type": "code",
      "metadata": {
        "id": "Y1dRpjtec_sy",
        "colab_type": "code",
        "colab": {}
      },
      "source": [
        "emotion_seeds = set([\"ashamed\", \"delighted\", \"pleased\", \"concerned\", \"delight\", \"happy\", \"embarrassed\", \"furious\", \"nervous\", \n",
        "                     \"miffed\", \"angry\", \"mad\", \"anger\", \"excitement\", \"horror\", \"resentful\", \"astonished\", \"revulsion\", \n",
        "                     \"frightened\", \"cross\", \"sad\", \"down\", \"astonishment\", \"miserable\", \"worried\", \"sorrow\", \"overjoyed\",\n",
        "                     \"dismay\", \"grief\", \"annoyance\", \"alarmed\", \"astounded\", \"anguish\", \"despair\", \"infuriated\", \n",
        "                     \"embarrassment\", \"peeved\", \"amused\", \"disgruntled\", \"indignant\", \"thrilled\", \"anxious\", \"excited\",\n",
        "                     \"exasperation\", \"petrified\", \"heartbroken\", \"saddened\", \"depressed\", \"dismayed\", \"frustrated\", \"fedup\", \"livid\",\n",
        "                     \"revulsion\", \"bewildered\", \"flabbergasted\", \"happier\", \"ecstatic\", \"elation\", \"exhilarated\", \"exhilaration\",\n",
        "                     \"glee\", \"gleeful\", \"crestfallen\", \"sadness\", \"amusement\", \"dejected\", \"desolate\", \"despondency\", \"horrors\",\n",
        "                     \"agitated\", \"disquiet\", \"horrified\", \"exasperated\", \"irked\", \"disgruntlement\", \"sickened\", \"revolted\",\n",
        "                     \"devastated\", \"heartbreak\", \"inconsolable\", \"bewilderment\", \"nonplussed\", \"puzzlement\", \"disquieted\",\n",
        "                     \"glum\", \"downcast\", \"griefstricken\", \"startled\", \"disgusted\"])"
      ],
      "execution_count": 0,
      "outputs": []
    },
    {
      "cell_type": "code",
      "metadata": {
        "id": "1dCwi_DhBrBU",
        "colab_type": "code",
        "colab": {}
      },
      "source": [
        "# input is sentence, output is emotion cause pairs\n",
        "# Determine clauses by splitting on punctuation.\n",
        "\n",
        "# preprocess\n",
        "\n",
        "# Converts the unicode file to ascii\n",
        "def unicode_to_ascii(s):\n",
        "  return ''.join(c for c in unicodedata.normalize('NFD', s)\n",
        "      if unicodedata.category(c) != 'Mn')\n",
        "\n",
        "def remove_nonascii(w):\n",
        "  w = unicode_to_ascii(w.lower().strip())\n",
        "\n",
        "  # creating a space between a word and the punctuation following it\n",
        "  # eg: \"he is a boy.\" => \"he is a boy .\"\n",
        "  # Reference:- https://stackoverflow.com/questions/3645931/python-padding-punctuation-with-white-spaces-keeping-punctuation\n",
        "  w = re.sub(r\"([?.!,¿])\", r\" \\1 \", w)\n",
        "  w = re.sub(r'[\" \"]+', \" \", w)\n",
        "\n",
        "  # replacing everything with space except (a-z, A-Z, \".\", \"?\", \"!\", \",\")\n",
        "  w = re.sub(r\"[^a-zA-Z?.!,¿]+\", \" \", w)\n",
        "\n",
        "  w = w.strip()\n",
        "  return w\n",
        "\n",
        "\n",
        "def preprocess_sentence(w):\n",
        "  w = remove_nonascii(w)  \n",
        "  # adding a start and an end token to the sentence\n",
        "  # so that the model know when to start and stop predicting.\n",
        "  w = '<start> ' + w + ' <end>'\n",
        "  return w"
      ],
      "execution_count": 0,
      "outputs": []
    },
    {
      "cell_type": "code",
      "metadata": {
        "id": "UM7Kub3NJDyj",
        "colab_type": "code",
        "colab": {}
      },
      "source": [
        "def extract_cause(text):\n",
        "  cur_cause=''\n",
        "  try:\n",
        "    cur_cause = re.findall('<cause>(.*?)<\\\\\\cause>', text)[0]\n",
        "    # Remove tags from line\n",
        "    text=re.sub('<cause>', '', text)\n",
        "    text=re.sub('<\\\\\\cause>', '', text)\n",
        "  except:\n",
        "    pass\n",
        "  #print('here:', text)\n",
        "  return (cur_cause, text)"
      ],
      "execution_count": 0,
      "outputs": []
    },
    {
      "cell_type": "code",
      "metadata": {
        "id": "TSCLxRvA7mbA",
        "colab_type": "code",
        "colab": {}
      },
      "source": [
        "def clean_filter_clauses(all_clauses):\n",
        "  cause = ''\n",
        "  clauses=[]\n",
        "  for clause in all_clauses:\n",
        "    e_cause, e_text = extract_cause(clause)\n",
        "    if e_cause!='':\n",
        "      cause = remove_nonascii(e_cause)\n",
        "    clauses.append(remove_nonascii(e_text))\n",
        "  return cause, clauses\n",
        "\n"
      ],
      "execution_count": 0,
      "outputs": []
    },
    {
      "cell_type": "markdown",
      "metadata": {
        "id": "D8b9UvTqebR6",
        "colab_type": "text"
      },
      "source": [
        ""
      ]
    },
    {
      "cell_type": "code",
      "metadata": {
        "id": "yBMZz5Le2f71",
        "colab_type": "code",
        "colab": {}
      },
      "source": [
        "\n",
        "path_to_file = \"data.txt\"  \n",
        "# 1. Remove any accents\n",
        "# 2. Clean the sentences\n",
        "# 3. Return word pairs in the format: [document, emotion, cause, clauses list]\n",
        "document=[]\n",
        "emotion=[]\n",
        "cause=[]\n",
        "clause=[]\n",
        "def create_dataset(path, num_examples):\n",
        "  document.clear()\n",
        "  emotion.clear()\n",
        "  cause.clear()\n",
        "  clause.clear()\n",
        "  lines = io.open(path, encoding='UTF-8').read().strip().split('\\n')\n",
        "  for i, line in enumerate(lines[:num_examples]):\n",
        "    cur_emotion = re.findall('<(.*?)>', line)[0]\n",
        "    # removing emotion tag in document\n",
        "    text_without_emotion=line[2+len(cur_emotion):len(line)-len(cur_emotion)-3]\n",
        "    #document.append(text_without_emotion)\n",
        "    emotion.append(cur_emotion)\n",
        "\n",
        "    # Determine clauses by splitting on punctuation.\n",
        "    all_clauses = re.split(\"[.,!;:\\\"]+\", text_without_emotion)\n",
        "    filter_cause, filter_clauses = clean_filter_clauses(all_clauses)\n",
        "    cause.append(filter_cause)\n",
        "    clause.append([filter_clauses])\n",
        "    doc = extract_cause(text_without_emotion)[1]\n",
        "    # clean up document\n",
        "    clean_doc = preprocess_sentence(doc)\n",
        "    document.append(clean_doc)\n",
        "\n",
        "    # clean up clauses\n",
        "    # TODO\n",
        "  return [document, emotion, cause, clause]"
      ],
      "execution_count": 0,
      "outputs": []
    },
    {
      "cell_type": "code",
      "metadata": {
        "id": "Ve40pjba24tJ",
        "colab_type": "code",
        "colab": {
          "base_uri": "https://localhost:8080/",
          "height": 649
        },
        "outputId": "96758ae4-60fc-4bc4-be5d-33358790e811"
      },
      "source": [
        "document, emotion, cause, clause_list = create_dataset(path_to_file, 500)\n",
        "print(len(document))\n",
        "for i in range(5):\n",
        "  print(document[i])\n",
        "  print(emotion[i])\n",
        "  print(cause[i])\n",
        "  print(clause_list[i])\n",
        "  print('\\n--------\\n')"
      ],
      "execution_count": 142,
      "outputs": [
        {
          "output_type": "stream",
          "text": [
            "500\n",
            "<start> i suppose i am happy , being so tiny it means i am able to surprise people with what is generally seen as my confident and outgoing personality . <end>\n",
            "happy\n",
            "being so tiny\n",
            "[['i suppose i am happy', 'being so tiny', 'it means i am able to surprise people with what is generally seen as my confident and outgoing personality', '']]\n",
            "\n",
            "--------\n",
            "\n",
            "<start> lennox has always truly wanted to fight for the world title and was happy , because he was taking the tough route . <end>\n",
            "happy\n",
            "because he was taking the tough route\n",
            "[['lennox has always truly wanted to fight for the world title and was happy', 'because he was taking the tough route', '']]\n",
            "\n",
            "--------\n",
            "\n",
            "<start> he was a professional musician now , still sensitive and happy , doing something he loved . <end>\n",
            "happy\n",
            "doing something he loved\n",
            "[['he was a professional musician now', 'still sensitive and happy', 'doing something he loved', '']]\n",
            "\n",
            "--------\n",
            "\n",
            "<start> holmes is happy , because , he has the freedom of the house when we are out . <end>\n",
            "happy\n",
            "he has the freedom of the house when we are out\n",
            "[['holmes is happy', 'because', 'he has the freedom of the house when we are out', '']]\n",
            "\n",
            "--------\n",
            "\n",
            "<start> i had problems with tutors trying to encourage me to diversify my work and experiment with other styles , but i was quite happy , with the direction my work was heading so i stubbornly stuck to it . <end>\n",
            "happy\n",
            "with the direction my work was heading\n",
            "[['i had problems with tutors trying to encourage me to diversify my work and experiment with other styles', 'but i was quite happy', 'with the direction my work was heading so i stubbornly stuck to it', '']]\n",
            "\n",
            "--------\n",
            "\n"
          ],
          "name": "stdout"
        }
      ]
    },
    {
      "cell_type": "code",
      "metadata": {
        "id": "RnB45wnBgip8",
        "colab_type": "code",
        "colab": {
          "base_uri": "https://localhost:8080/",
          "height": 71
        },
        "outputId": "c178ff8d-c6b6-4257-83e3-25d654668669"
      },
      "source": [
        "#X=document\n",
        "X=[tf.constant(sentence) for sentence in document]\n",
        "print(X[0], X[0].shape, (X[0].numpy()))\n",
        "y=emotion\n",
        "print(y)"
      ],
      "execution_count": 143,
      "outputs": [
        {
          "output_type": "stream",
          "text": [
            "tf.Tensor(b'<start> i suppose i am happy , being so tiny it means i am able to surprise people with what is generally seen as my confident and outgoing personality . <end>', shape=(), dtype=string) () b'<start> i suppose i am happy , being so tiny it means i am able to surprise people with what is generally seen as my confident and outgoing personality . <end>'\n",
            "['happy', 'happy', 'happy', 'happy', 'happy', 'happy', 'happy', 'happy', 'happy', 'happy', 'happy', 'happy', 'happy', 'happy', 'happy', 'happy', 'happy', 'happy', 'happy', 'happy', 'happy', 'happy', 'happy', 'happy', 'happy', 'happy', 'happy', 'happy', 'happy', 'happy', 'happy', 'happy', 'happy', 'happy', 'happy', 'happy', 'happy', 'happy', 'happy', 'happy', 'happy', 'happy', 'happy', 'happy', 'happy', 'happy', 'happy', 'happy', 'happy', 'happy', 'happy', 'happy', 'happy', 'happy', 'happy', 'happy', 'happy', 'happy', 'happy', 'happy', 'happy', 'happy', 'happy', 'happy', 'happy', 'happy', 'happy', 'happy', 'happy', 'happy', 'happy', 'happy', 'happy', 'happy', 'happy', 'happy', 'happy', 'happy', 'happy', 'happy', 'happy', 'happy', 'happy', 'happy', 'happy', 'happy', 'happy', 'happy', 'happy', 'happy', 'happy', 'happy', 'happy', 'happy', 'happy', 'happy', 'happy', 'happy', 'happy', 'happy', 'happy', 'happy', 'happy', 'happy', 'happy', 'happy', 'happy', 'happy', 'happy', 'happy', 'happy', 'happy', 'happy', 'happy', 'happy', 'happy', 'happy', 'happy', 'happy', 'happy', 'happy', 'happy', 'happy', 'happy', 'happy', 'happy', 'happy', 'happy', 'happy', 'happy', 'happy', 'happy', 'happy', 'happy', 'happy', 'happy', 'happy', 'happy', 'happy', 'happy', 'happy', 'happy', 'happy', 'happy', 'happy', 'happy', 'happy', 'happy', 'happy', 'happy', 'happy', 'happy', 'happy', 'happy', 'happy', 'happy', 'happy', 'happy', 'happy', 'happy', 'happy', 'happy', 'happy', 'happy', 'happy', 'happy', 'happy', 'happy', 'happy', 'happy', 'happy', 'happy', 'happy', 'happy', 'happy', 'happy', 'happy', 'happy', 'happy', 'happy', 'happy', 'happy', 'happy', 'happy', 'happy', 'happy', 'happy', 'happy', 'happy', 'happy', 'happy', 'happy', 'happy', 'happy', 'happy', 'happy', 'happy', 'happy', 'happy', 'happy', 'happy', 'happy', 'happy', 'happy', 'happy', 'happy', 'happy', 'happy', 'happy', 'happy', 'happy', 'sad', 'sad', 'sad', 'sad', 'sad', 'sad', 'sad', 'sad', 'sad', 'sad', 'sad', 'sad', 'sad', 'sad', 'sad', 'sad', 'sad', 'sad', 'sad', 'sad', 'sad', 'sad', 'sad', 'sad', 'sad', 'sad', 'sad', 'sad', 'sad', 'sad', 'sad', 'sad', 'sad', 'sad', 'sad', 'sad', 'sad', 'sad', 'sad', 'sad', 'sad', 'sad', 'sad', 'sad', 'sad', 'sad', 'sad', 'sad', 'sad', 'sad', 'sad', 'sad', 'sad', 'sad', 'sad', 'sad', 'sad', 'sad', 'sad', 'sad', 'sad', 'sad', 'sad', 'sad', 'sad', 'sad', 'sad', 'sad', 'sad', 'sad', 'sad', 'sad', 'sad', 'sad', 'sad', 'sad', 'sad', 'sad', 'sad', 'sad', 'sad', 'sad', 'sad', 'sad', 'sad', 'sad', 'sad', 'sad', 'sad', 'sad', 'sad', 'sad', 'sad', 'sad', 'sad', 'sad', 'sad', 'sad', 'sad', 'sad', 'sad', 'sad', 'sad', 'sad', 'sad', 'sad', 'sad', 'surprise', 'surprise', 'surprise', 'surprise', 'surprise', 'surprise', 'surprise', 'surprise', 'surprise', 'surprise', 'surprise', 'surprise', 'surprise', 'surprise', 'surprise', 'surprise', 'surprise', 'surprise', 'surprise', 'surprise', 'surprise', 'surprise', 'surprise', 'surprise', 'surprise', 'surprise', 'surprise', 'surprise', 'surprise', 'surprise', 'surprise', 'surprise', 'surprise', 'surprise', 'surprise', 'surprise', 'surprise', 'surprise', 'surprise', 'surprise', 'surprise', 'surprise', 'surprise', 'surprise', 'surprise', 'surprise', 'surprise', 'surprise', 'surprise', 'surprise', 'surprise', 'surprise', 'surprise', 'disgust', 'disgust', 'disgust', 'disgust', 'disgust', 'disgust', 'disgust', 'disgust', 'disgust', 'disgust', 'disgust', 'disgust', 'disgust', 'disgust', 'disgust', 'disgust', 'disgust', 'disgust', 'disgust', 'disgust', 'disgust', 'disgust', 'disgust', 'disgust', 'disgust', 'disgust', 'disgust', 'disgust', 'disgust', 'disgust', 'disgust', 'disgust', 'disgust', 'disgust', 'disgust', 'disgust', 'disgust', 'disgust', 'anger', 'anger', 'anger', 'anger', 'anger', 'anger', 'anger', 'anger', 'anger', 'anger', 'anger', 'anger', 'anger', 'anger', 'anger', 'anger', 'anger', 'anger', 'anger', 'anger', 'anger', 'anger', 'anger', 'anger', 'anger', 'anger', 'anger', 'anger', 'anger', 'anger', 'anger', 'anger', 'anger', 'anger', 'anger', 'anger', 'anger', 'anger', 'anger', 'anger', 'anger', 'anger', 'anger', 'anger', 'anger', 'anger', 'anger', 'anger', 'anger', 'anger', 'anger', 'anger', 'anger', 'anger', 'anger', 'anger', 'anger', 'anger', 'anger', 'anger', 'anger', 'anger', 'anger', 'anger', 'anger', 'anger', 'anger', 'anger', 'anger', 'anger', 'anger', 'anger', 'anger', 'anger', 'anger', 'anger', 'anger', 'anger', 'anger', 'anger', 'anger', 'anger', 'anger', 'anger', 'anger', 'anger', 'anger', 'anger', 'anger', 'anger', 'anger']\n"
          ],
          "name": "stdout"
        }
      ]
    },
    {
      "cell_type": "code",
      "metadata": {
        "id": "pBVHLFB0Ky5o",
        "colab_type": "code",
        "colab": {}
      },
      "source": [
        "tokenizer_emotion=keras.preprocessing.text.Tokenizer(num_words=10000, oov_token=\"xxxxxxx\")\n",
        "tokenizer_emotion.fit_on_texts(emotion_seeds)\n"
      ],
      "execution_count": 0,
      "outputs": []
    },
    {
      "cell_type": "code",
      "metadata": {
        "id": "9iAnFAxmxtVV",
        "colab_type": "code",
        "colab": {
          "base_uri": "https://localhost:8080/",
          "height": 54
        },
        "outputId": "c467238e-f389-4150-8569-8daacafb54df"
      },
      "source": [
        "\"\"\"\n",
        "tokenizer=keras.preprocessing.text.Tokenizer(num_words=10000, oov_token=\"xxxxxxx\")\n",
        "tokenizer_emotion=keras.preprocessing.text.Tokenizer(num_words=10000, oov_token=\"xxxxxxx\")\n",
        "def use_tokenizer():\n",
        "  tokenizer.fit_on_texts(X)\n",
        "  tokenizer_emotion.fit_on_texts(emotion_seeds)\n",
        "  X_dict=tokenizer.word_index\n",
        "\n",
        "  X_seq=tokenizer.texts_to_sequences(X)\n",
        "  X_padded_seq=pad_sequences(X_seq,padding='post',maxlen=40) \n",
        "  print(X_padded_seq[:3], X_padded_seq.shape, type(X_padded_seq))\n",
        "  print(X_padded_seq.shape)\n",
        "  \n",
        "  return X_padded_seq\n",
        "\"\"\""
      ],
      "execution_count": 145,
      "outputs": [
        {
          "output_type": "execute_result",
          "data": {
            "text/plain": [
              "'\\ntokenizer=keras.preprocessing.text.Tokenizer(num_words=10000, oov_token=\"xxxxxxx\")\\ntokenizer_emotion=keras.preprocessing.text.Tokenizer(num_words=10000, oov_token=\"xxxxxxx\")\\ndef use_tokenizer():\\n  tokenizer.fit_on_texts(X)\\n  tokenizer_emotion.fit_on_texts(emotion_seeds)\\n  X_dict=tokenizer.word_index\\n\\n  X_seq=tokenizer.texts_to_sequences(X)\\n  X_padded_seq=pad_sequences(X_seq,padding=\\'post\\',maxlen=40) \\n  print(X_padded_seq[:3], X_padded_seq.shape, type(X_padded_seq))\\n  print(X_padded_seq.shape)\\n  \\n  return X_padded_seq\\n'"
            ]
          },
          "metadata": {
            "tags": []
          },
          "execution_count": 145
        }
      ]
    },
    {
      "cell_type": "code",
      "metadata": {
        "id": "BJki4OW_x-vi",
        "colab_type": "code",
        "colab": {
          "base_uri": "https://localhost:8080/",
          "height": 34
        },
        "outputId": "1b6b88b5-847b-4593-b538-6ad0e1fcca07"
      },
      "source": [
        "\"\"\"\n",
        "X_padded_seq = use_tokenizer()\n",
        "\"\"\""
      ],
      "execution_count": 146,
      "outputs": [
        {
          "output_type": "execute_result",
          "data": {
            "text/plain": [
              "'\\nX_padded_seq = use_tokenizer()\\n'"
            ]
          },
          "metadata": {
            "tags": []
          },
          "execution_count": 146
        }
      ]
    },
    {
      "cell_type": "code",
      "metadata": {
        "id": "wkIi0Z7zgFoM",
        "colab_type": "code",
        "colab": {}
      },
      "source": [
        "from keras.utils import to_categorical\n",
        "\n",
        "y=tokenizer_emotion.texts_to_sequences(y)\n",
        "y=np.array(y)"
      ],
      "execution_count": 0,
      "outputs": []
    },
    {
      "cell_type": "code",
      "metadata": {
        "id": "IT1VS2u-gF9N",
        "colab_type": "code",
        "colab": {}
      },
      "source": [
        "import tensorflow_hub as hub\n",
        "from tensorflow.keras.layers import Dense, Dropout, Embedding, LSTM, Bidirectional, Flatten\n",
        "\n",
        "TFHUB_CACHE_DIR = os.path.join(os.curdir, \"my_tfhub_cache\")\n",
        "os.environ[\"TFHUB_CACHE_DIR\"] = TFHUB_CACHE_DIR\n",
        "\n",
        "\n",
        "def UseEmbedding(x):\n",
        "    return elmo_model(tf.squeeze(tf.cast(x, tf.string)), signature=\"default\", as_dict=True)[\"default\"]\n",
        "\n",
        "#text_model = tf.keras.Sequential([tf.keras.layers.Embedding(input_length=40,input_dim=10000,output_dim=50, input_shape=[None]),\n",
        "text_model = tf.keras.Sequential([\n",
        "    hub.KerasLayer(\"https://tfhub.dev/google/tf2-preview/nnlm-en-dim50/1\", dtype=tf.string, input_shape=[], output_shape=[50]),\n",
        "    #hub.KerasLayer(\"https://tfhub.dev/google/tf2-preview/nnlm-en-dim50/1\",trainable=True, dtype=tf.string),\n",
        "    #Bidirectional(LSTM(128), input_shape=[None, 50]),\n",
        "    #Flatten(),\n",
        "    Dense(64, activation=\"relu\"),\n",
        "    Dense(len(tokenizer_emotion.word_index), activation='softmax')\n",
        "])"
      ],
      "execution_count": 0,
      "outputs": []
    },
    {
      "cell_type": "code",
      "metadata": {
        "id": "yr5fsVxVgLPn",
        "colab_type": "code",
        "colab": {
          "base_uri": "https://localhost:8080/",
          "height": 255
        },
        "outputId": "bf78001f-21a7-4d2a-c85f-55debdf1cea8"
      },
      "source": [
        "text_model.compile(loss='sparse_categorical_crossentropy',optimizer='adam',metrics=['accuracy'])\n",
        "\n",
        "text_model.summary()\n"
      ],
      "execution_count": 255,
      "outputs": [
        {
          "output_type": "stream",
          "text": [
            "Model: \"sequential_47\"\n",
            "_________________________________________________________________\n",
            "Layer (type)                 Output Shape              Param #   \n",
            "=================================================================\n",
            "keras_layer_49 (KerasLayer)  (None, 50)                48190600  \n",
            "_________________________________________________________________\n",
            "dense_86 (Dense)             (None, 64)                3264      \n",
            "_________________________________________________________________\n",
            "dense_87 (Dense)             (None, 89)                5785      \n",
            "=================================================================\n",
            "Total params: 48,199,649\n",
            "Trainable params: 9,049\n",
            "Non-trainable params: 48,190,600\n",
            "_________________________________________________________________\n"
          ],
          "name": "stdout"
        }
      ]
    },
    {
      "cell_type": "code",
      "metadata": {
        "id": "DPpNWjtpgQka",
        "colab_type": "code",
        "colab": {
          "base_uri": "https://localhost:8080/",
          "height": 428
        },
        "outputId": "021704ea-3f63-4507-af85-665b972658c1"
      },
      "source": [
        "\"\"\"print(X_padded_seq.shape, y.shape)\n",
        "text_model.fit(X_padded_seq, y, epochs=5)\n",
        "\"\"\"\n",
        "import numpy\n",
        "print(type(X), X)\n",
        "#print(type(document), numpy.asarray(document).shape, type(y), y.shape)\n",
        "text_model.fit(numpy.asarray(document), numpy.asarray(y), epochs=10)"
      ],
      "execution_count": 257,
      "outputs": [
        {
          "output_type": "stream",
          "text": [
            "<class 'list'> [<tf.Tensor: id=16945, shape=(), dtype=string, numpy=b'<start> i suppose i am happy , being so tiny it means i am able to surprise people with what is generally seen as my confident and outgoing personality . <end>'>, <tf.Tensor: id=16946, shape=(), dtype=string, numpy=b'<start> lennox has always truly wanted to fight for the world title and was happy , because he was taking the tough route . <end>'>, <tf.Tensor: id=16947, shape=(), dtype=string, numpy=b'<start> he was a professional musician now , still sensitive and happy , doing something he loved . <end>'>, <tf.Tensor: id=16948, shape=(), dtype=string, numpy=b'<start> holmes is happy , because , he has the freedom of the house when we are out . <end>'>, <tf.Tensor: id=16949, shape=(), dtype=string, numpy=b'<start> i had problems with tutors trying to encourage me to diversify my work and experiment with other styles , but i was quite happy , with the direction my work was heading so i stubbornly stuck to it . <end>'>, <tf.Tensor: id=16950, shape=(), dtype=string, numpy=b'<start> these days he is quite happy , since , he is travelling by trolley . <end>'>, <tf.Tensor: id=16951, shape=(), dtype=string, numpy=b'<start> i m really happy , in the group now . <end>'>, <tf.Tensor: id=16952, shape=(), dtype=string, numpy=b'<start> i was given a dummy in which to do my preliminary sketches , but the dummy was designed so beautifully by amelia edwards that i was really happy , with my work . <end>'>, <tf.Tensor: id=16953, shape=(), dtype=string, numpy=b'<start> i must say i was totally happy , about her going on at yeo davis , with me in the government . <end>'>, <tf.Tensor: id=16954, shape=(), dtype=string, numpy=b'<start> indeed , the two m boys themselves were not totally happy at first , at having these initially undisciplined children visiting their home and generally being around on a regular basis . <end>'>, <tf.Tensor: id=16955, shape=(), dtype=string, numpy=b'<start> i am very happy , with the way i am playing but i accept that he believes he should be england s fly half . <end>'>, <tf.Tensor: id=16956, shape=(), dtype=string, numpy=b'<start> but seriously , i m very happy , that you re staying . <end>'>, <tf.Tensor: id=16957, shape=(), dtype=string, numpy=b'<start> we are very happy , that the volkswagen tour has enabled us to welcome this renowned orchestra to the festival for the first time . <end>'>, <tf.Tensor: id=16958, shape=(), dtype=string, numpy=b'<start> in the last days of the trail , however , he became much happier , to take risks , although babies remained unkissed . <end>'>, <tf.Tensor: id=16959, shape=(), dtype=string, numpy=b'<start> a drop of scotch during occasional periods of self criticism helped him to become happy , with himself , but most of the time he was happy anyway . <end>'>, <tf.Tensor: id=16960, shape=(), dtype=string, numpy=b'<start> he felt suddenly happy , at being alive . <end>'>, <tf.Tensor: id=16961, shape=(), dtype=string, numpy=b'<start> what i did n t understand was why i did n t feel happy , walking down the street afterwards . <end>'>, <tf.Tensor: id=16962, shape=(), dtype=string, numpy=b'<start> sarah tried to stop herself from feeling happy , at this revelation . <end>'>, <tf.Tensor: id=16963, shape=(), dtype=string, numpy=b'<start> he seemed happy , with this . <end>'>, <tf.Tensor: id=16964, shape=(), dtype=string, numpy=b'<start> nevertheless , no writer , however self sufficient , writes without a thought of an audience , and tolkien was happy , to discover anyone who could appreciate what he was up to . <end>'>, <tf.Tensor: id=16965, shape=(), dtype=string, numpy=b'<start> he s just happy , to get on with it . <end>'>, <tf.Tensor: id=16966, shape=(), dtype=string, numpy=b'<start> neil kinnock was happy , that his deputy should spell out his commitment to equality as labour s objective . <end>'>, <tf.Tensor: id=16967, shape=(), dtype=string, numpy=b'<start> i was happy , that i was having my own baby but sometimes i used to cry for nothing and i was easily upset . <end>'>, <tf.Tensor: id=16968, shape=(), dtype=string, numpy=b'<start> we are not happy , that the group is meeting sinn fein and will demand an explanation from the consulate . <end>'>, <tf.Tensor: id=16969, shape=(), dtype=string, numpy=b'<start> i m so happy , you could make it , my favourite jockey . <end>'>, <tf.Tensor: id=16970, shape=(), dtype=string, numpy=b'<start> said his co boss curbishley i was a bit disappointed when lennie lawrence at middlesbrough did n t come up with the price we d fixed but i m happy , the lad is still here . <end>'>, <tf.Tensor: id=16971, shape=(), dtype=string, numpy=b'<start> do you have a delight , in animals and skill in their management ? <end>'>, <tf.Tensor: id=16972, shape=(), dtype=string, numpy=b'<start> the book also moves close to a highly critical analysis of science and yet never becomes anti science , only anti scientific jones s own delight , in physics enthusiastically drawing the sting out of his own criticism . <end>'>, <tf.Tensor: id=16973, shape=(), dtype=string, numpy=b'<start> but he was sniffily dismayed at their delight , in consumerism and sheep like attitude to the reactionary rubbish in the papers . <end>'>, <tf.Tensor: id=16974, shape=(), dtype=string, numpy=b'<start> trying to hide her enormous delight , in his return , juliet turned to david . <end>'>, <tf.Tensor: id=16975, shape=(), dtype=string, numpy=b'<start> estelle s delight , in thomas made your mother very happy , ashley recalled , her head resting against his chest . <end>'>, <tf.Tensor: id=16976, shape=(), dtype=string, numpy=b'<start> she cackled and slapped her knees , bent double and wheezing with delight , at her own witticisms . <end>'>, <tf.Tensor: id=16977, shape=(), dtype=string, numpy=b'<start> my delight , at everything i saw , was beyond bounds gardens were allotted my sister and self there was the canal to fish in , and a pony to ride besides animals of different kinds <end>'>, <tf.Tensor: id=16978, shape=(), dtype=string, numpy=b'<start> they were astonished to see the penguin , and swooped low to call out with delight , at her sleek feathers and solid little body . <end>'>, <tf.Tensor: id=16979, shape=(), dtype=string, numpy=b'<start> the anc , while expressing delight , at their decision , nevertheless continued to call for the dissolution of the tricameral parliament , which it regarded as essentially racist . <end>'>, <tf.Tensor: id=16980, shape=(), dtype=string, numpy=b'<start> her stumbling repetition masked a growing delight , at his basic error . <end>'>, <tf.Tensor: id=16981, shape=(), dtype=string, numpy=b'<start> bobby robson s delight , at having guided his team to another major tourament was coupled with gratitude to the year old goalkeeper . <end>'>, <tf.Tensor: id=16982, shape=(), dtype=string, numpy=b'<start> expressing his delight , at being appointed , he said this is the one job i had hoped for . <end>'>, <tf.Tensor: id=16983, shape=(), dtype=string, numpy=b'<start> headmaster jim jones recalled her delight , at winning the egg and spoon race . <end>'>, <tf.Tensor: id=16984, shape=(), dtype=string, numpy=b'<start> the delight , at being finally united with joan was tempered by a feeling of discomfort about ronnie leahy . <end>'>, <tf.Tensor: id=16985, shape=(), dtype=string, numpy=b'<start> minton s sober and workmanlike drawings instance his delight , in registering rhythmic activity and industrial shapes . <end>'>, <tf.Tensor: id=16986, shape=(), dtype=string, numpy=b'<start> his delight and sense of wonder , at the growth of his baby were erratic as other interests pressed , but real enough . <end>'>, <tf.Tensor: id=16987, shape=(), dtype=string, numpy=b'<start> yes , i d like to declare a small case of french flu , a dangerous fondness for flaubert , a childish delight , in french road signs , and a love of the light as you look north . <end>'>, <tf.Tensor: id=16988, shape=(), dtype=string, numpy=b'<start> the celebration of sexuality found in the works of sidur , neizvestny and others , stemmed partly from the mischievous delight , in taunting society s taboos . <end>'>, <tf.Tensor: id=16989, shape=(), dtype=string, numpy=b'<start> it was also due to a barbaric delight , in high sounding verbiage , and probably this was the most powerful reason for its use . <end>'>, <tf.Tensor: id=16990, shape=(), dtype=string, numpy=b'<start> re was at first pleased but soon realised that hathor s delight , in killing might lead to the destruction of all mankind , which he had not intended . <end>'>, <tf.Tensor: id=16991, shape=(), dtype=string, numpy=b'<start> their cheerfulness and delight , at still being alive only made charlie feel more guilty . <end>'>, <tf.Tensor: id=16992, shape=(), dtype=string, numpy=b'<start> this time ronni admitted it , feeling a little like a traitor at the confession and at the sense of pure delight she felt , at guido s gesture . <end>'>, <tf.Tensor: id=16993, shape=(), dtype=string, numpy=b'<start> in the end , the poems must be read as expressions of sheer delight , in friendship . <end>'>, <tf.Tensor: id=16994, shape=(), dtype=string, numpy=b'<start> with such obvious delight , in food , it s hard to see how blanc remains so slim . <end>'>, <tf.Tensor: id=16995, shape=(), dtype=string, numpy=b'<start> the animal seemed to take a perverse delight , in terrorizing him . <end>'>, <tf.Tensor: id=16996, shape=(), dtype=string, numpy=b'<start> all he d glimpsed through the window was matta playing solitaire of some kind , so why had the man taken such delight , in terrifying him ? <end>'>, <tf.Tensor: id=16997, shape=(), dtype=string, numpy=b'<start> but do i take delight , in pushing you down , making you worse ? <end>'>, <tf.Tensor: id=16998, shape=(), dtype=string, numpy=b'<start> todd showed delight , in simple songs and reverence when invited to pray . <end>'>, <tf.Tensor: id=16999, shape=(), dtype=string, numpy=b'<start> but my chairman and vice chairman have given me another year s contract , and i m absolutely delighted , to be staying at nottingham forest . <end>'>, <tf.Tensor: id=17000, shape=(), dtype=string, numpy=b'<start> i m absolutely delighted , that we achieved what we set out to do at the beginning of the week , which was to ensure that the ryder cup stayed on this side of the atlantic . <end>'>, <tf.Tensor: id=17001, shape=(), dtype=string, numpy=b'<start> highly delighted , with the transaction , we made our way back to althorp street , wondering how we were to break the news to mrs sugden . <end>'>, <tf.Tensor: id=17002, shape=(), dtype=string, numpy=b'<start> both mr souness and jim smith , the portsmouth manager , emphasised how delighted they were , with the overall quality of yesterday s tie . <end>'>, <tf.Tensor: id=17003, shape=(), dtype=string, numpy=b'<start> she was on her feet taking his hand , smiling at him , telling him how delighted she was , to meet him . <end>'>, <tf.Tensor: id=17004, shape=(), dtype=string, numpy=b'<start> sir i am writing to say how delighted i am , with your magazine ! <end>'>, <tf.Tensor: id=17005, shape=(), dtype=string, numpy=b'<start> mr mitterrand appears so delighted , with the ultra courteous edouard balladur , that some socialists wonder whether he has at last found the prime minister of his dreams . <end>'>, <tf.Tensor: id=17006, shape=(), dtype=string, numpy=b'<start> i was responsible for community programme for the last months of its life , so i m delighted , to be involved in introducing community action . <end>'>, <tf.Tensor: id=17007, shape=(), dtype=string, numpy=b'<start> so we re delighted , to bring our conference to support our members in portsmouth . <end>'>, <tf.Tensor: id=17008, shape=(), dtype=string, numpy=b'<start> the buenos aires flight was delayed and the plane horribly hot , but this did n t upset the passengers who seemed delighted , to be going home . <end>'>, <tf.Tensor: id=17009, shape=(), dtype=string, numpy=b'<start> the proprietress seemed delighted , to see them . <end>'>, <tf.Tensor: id=17010, shape=(), dtype=string, numpy=b'<start> for the watching world , she smiled and laughed , seeming perfectly delighted , with her husband and newfound status . <end>'>, <tf.Tensor: id=17011, shape=(), dtype=string, numpy=b'<start> he did n t seem too delighted , to see you , said betty . <end>'>, <tf.Tensor: id=17012, shape=(), dtype=string, numpy=b'<start> advertisers said they were delighted , to see many of their proposals reflected in the government s approach . <end>'>, <tf.Tensor: id=17013, shape=(), dtype=string, numpy=b'<start> whether or not the palace actually arranged for the drawing to be removed , there can be little doubt that they were delighted , to be rid of it . <end>'>, <tf.Tensor: id=17014, shape=(), dtype=string, numpy=b'<start> i am delighted , that you are so cheerful and optimistic . <end>'>, <tf.Tensor: id=17015, shape=(), dtype=string, numpy=b'<start> on the other hand , she suspected that fowler thrown would be delighted , to have a private view of newley s collection . <end>'>, <tf.Tensor: id=17016, shape=(), dtype=string, numpy=b'<start> obviously , staff will be delighted , that the appointment of a new director has been made , and sad that tom has gone but it is the proposed reorganisation which will occupy the minds of most staff . <end>'>, <tf.Tensor: id=17017, shape=(), dtype=string, numpy=b'<start> i was delighted , to see the photograph of the staff from department one , published in the january february issue of wimpey news . <end>'>, <tf.Tensor: id=17018, shape=(), dtype=string, numpy=b'<start> they were delighted , with the turnout of spectators and the general organisations by local authorities . <end>'>, <tf.Tensor: id=17019, shape=(), dtype=string, numpy=b'<start> we are delighted , to help the museum extend its collection , said mr watson . <end>'>, <tf.Tensor: id=17020, shape=(), dtype=string, numpy=b'<start> not having entered art competitions before , i m delighted , to have reached the finals . <end>'>, <tf.Tensor: id=17021, shape=(), dtype=string, numpy=b'<start> i m delighted , to learn that his advice has been sought in the present enterprise . <end>'>, <tf.Tensor: id=17022, shape=(), dtype=string, numpy=b'<start> we act cool , like we re not delighted , to meet up again , then we sit round the kitchen table and talk . <end>'>, <tf.Tensor: id=17023, shape=(), dtype=string, numpy=b'<start> my lord mayor , i m delighted , to have this opportunity to debate the government s health reforms again . <end>'>, <tf.Tensor: id=17024, shape=(), dtype=string, numpy=b'<start> delighted , to be taken for another ride in another car , the little boy chuckled . <end>'>, <tf.Tensor: id=17025, shape=(), dtype=string, numpy=b'<start> i m delighted , that you ve been able to come along at such short notice . <end>'>, <tf.Tensor: id=17026, shape=(), dtype=string, numpy=b'<start> what is it ? asked the eight year old , delighted , that he had somehow managed to amuse this mature woman of nineteen . <end>'>, <tf.Tensor: id=17027, shape=(), dtype=string, numpy=b'<start> now that i ve seen the finished copy i m delighted , that i encouraged susan to write it , said mrs major . <end>'>, <tf.Tensor: id=17028, shape=(), dtype=string, numpy=b'<start> li yuan was smiling broadly , pleased with himself , proud of his scheme , and delighted , that he had tsu ma s approval . <end>'>, <tf.Tensor: id=17029, shape=(), dtype=string, numpy=b'<start> though relieved , and fiercely delighted , that she had apparently stopped him in his tracks , polly was apprehensive about going back up on deck . <end>'>, <tf.Tensor: id=17030, shape=(), dtype=string, numpy=b'<start> i m delighted , they left you the house , julia told margaret . <end>'>, <tf.Tensor: id=17031, shape=(), dtype=string, numpy=b'<start> we were all very worried about you and i m delighted , you re home again . <end>'>, <tf.Tensor: id=17032, shape=(), dtype=string, numpy=b'<start> i m delighted , you re so pleased to see me . <end>'>, <tf.Tensor: id=17033, shape=(), dtype=string, numpy=b'<start> lee and ian have shown they have what it takes to earn first year professional terms and i m delighted , they ve agreed to join us . <end>'>, <tf.Tensor: id=17034, shape=(), dtype=string, numpy=b'<start> mcgoldrick signed on for four years after talks with highbury boss george graham and said i m delighted , it s all gone through so smoothly . <end>'>, <tf.Tensor: id=17035, shape=(), dtype=string, numpy=b'<start> sammy stuck his nose in the air , delighted , at such attention . <end>'>, <tf.Tensor: id=17036, shape=(), dtype=string, numpy=b'<start> the dog , delighted , at last to have some attention paid to it , raced ahead , scenting rabbits , his great tail pluming . <end>'>, <tf.Tensor: id=17037, shape=(), dtype=string, numpy=b'<start> he appeared delighted , at the prospect . <end>'>, <tf.Tensor: id=17038, shape=(), dtype=string, numpy=b'<start> looking anything but delighted , at the prospect , he stood up . <end>'>, <tf.Tensor: id=17039, shape=(), dtype=string, numpy=b'<start> she grinned , delighted , at this mind reading . <end>'>, <tf.Tensor: id=17040, shape=(), dtype=string, numpy=b'<start> she cackled , delighted , with the queasy mixture on the plate , hot brown coffee lapping at the pale wedge of sugared pastry . <end>'>, <tf.Tensor: id=17041, shape=(), dtype=string, numpy=b'<start> delighted , with their silver medals for reaching the final against the world champions , england saw the match open with an expected win by the world champion jorgen persson over english champion chen xinhua , . <end>'>, <tf.Tensor: id=17042, shape=(), dtype=string, numpy=b'<start> in my youth , says baxter , i was quickly past my fundamentals and was running up into a multitude of controversies , and greatly delighted , with metaphysical and scholastic writings . <end>'>, <tf.Tensor: id=17043, shape=(), dtype=string, numpy=b'<start> modigliani , delighted , with the atmosphere of warmth and sincerity , resumed his friendship with soutine and indenbaum . <end>'>, <tf.Tensor: id=17044, shape=(), dtype=string, numpy=b'<start> and , remember , as with all our offers , we guarantee to refund your money if you re not delighted , with your purchase . <end>'>, <tf.Tensor: id=17045, shape=(), dtype=string, numpy=b'<start> he chuckled , delighted , at having amazed her . <end>'>, <tf.Tensor: id=17046, shape=(), dtype=string, numpy=b'<start> delighted , at having gained his complete attention , lori squirmed in her seat . <end>'>, <tf.Tensor: id=17047, shape=(), dtype=string, numpy=b'<start> morrissey was ecstatic , at the response . <end>'>, <tf.Tensor: id=17048, shape=(), dtype=string, numpy=b'<start> if you use a fax card you ll be ecstatic , to see that wordstar has the capacity to create faxable files in a matter of seconds . <end>'>, <tf.Tensor: id=17049, shape=(), dtype=string, numpy=b'<start> with a grimace , donal murmured gloomily , he was n t exactly ecstatic , at my explanation . <end>'>, <tf.Tensor: id=17050, shape=(), dtype=string, numpy=b'<start> thank you , thank you ! she cried , quite ecstatic , that he d unbent . <end>'>, <tf.Tensor: id=17051, shape=(), dtype=string, numpy=b'<start> well ? he barked , clearly not ecstatic , that she thought she could lay down conditions . <end>'>, <tf.Tensor: id=17052, shape=(), dtype=string, numpy=b'<start> every time they got near him , he backed off , ecstatic , with excitement , tail wagging furiously . <end>'>, <tf.Tensor: id=17053, shape=(), dtype=string, numpy=b'<start> the elation , of witnessing birth may be followed by a sense of disorientation at being a displaced person . <end>'>, <tf.Tensor: id=17054, shape=(), dtype=string, numpy=b'<start> but richard s elation , at regaining his health was short lived because his kidneys started to fail . <end>'>, <tf.Tensor: id=17055, shape=(), dtype=string, numpy=b'<start> rescued dogs are often somewhat nervous of people , and yet may also become excited , to see you , when you have been out , for example . <end>'>, <tf.Tensor: id=17056, shape=(), dtype=string, numpy=b'<start> i could n t wait for the pictures to come out , i was so excited , to see them . <end>'>, <tf.Tensor: id=17057, shape=(), dtype=string, numpy=b'<start> i am so excited , about seeing my sons again . <end>'>, <tf.Tensor: id=17058, shape=(), dtype=string, numpy=b'<start> they are naturally excited , about getting the championship back after years , he said . <end>'>, <tf.Tensor: id=17059, shape=(), dtype=string, numpy=b'<start> this man introduced me to an agent who did n t look all that excited , to see me and was only obliging a friend . <end>'>, <tf.Tensor: id=17060, shape=(), dtype=string, numpy=b'<start> , now that he was committed to a course of action he felt exhilarated . <end>'>, <tf.Tensor: id=17061, shape=(), dtype=string, numpy=b'<start> he was exhilarated , when he heard ornette coleman improvising free jazz with his plastic saxophone at a club . <end>'>, <tf.Tensor: id=17062, shape=(), dtype=string, numpy=b'<start> reflecting on the experience , donia said i think you re exhilarated , by the determination and strength of the human spirit . <end>'>, <tf.Tensor: id=17063, shape=(), dtype=string, numpy=b'<start> her cheeks were already aglow from a combination of the heat and the exhilaration , of being the centre of attention , and this had lent an extra , youthful radiance to her beauty . <end>'>, <tf.Tensor: id=17064, shape=(), dtype=string, numpy=b'<start> clive also attended , visibly gleeful , that he had spared the school any undesirable publicity by unloading me in the nick of time . <end>'>, <tf.Tensor: id=17065, shape=(), dtype=string, numpy=b'<start> mention of the press s glee , at the humiliation of the investigators behind this summer s high profile surveillance project operation blackbird , who were fooled by an obvious hoax , brings out tarr s own nascent conspiracy theory . <end>'>, <tf.Tensor: id=17066, shape=(), dtype=string, numpy=b'<start> many labour mps could not hide their glee , at the snp s action , such is their antipathy to cross party co operation . <end>'>, <tf.Tensor: id=17067, shape=(), dtype=string, numpy=b'<start> whereas in crime and punishment and in the novels which follow he can , though his narrow glee , over being ahead of the fact is unworthy of his art and of what idealism and deeper realism intend . <end>'>, <tf.Tensor: id=17068, shape=(), dtype=string, numpy=b'<start> on reaching the fish i let out a cry of triumph , overjoyed , to have got there while conveniently forgetting the verdon like wall which lay above . <end>'>, <tf.Tensor: id=17069, shape=(), dtype=string, numpy=b'<start> thacker was not overjoyed , to see them , but he played along , switching on the charm . <end>'>, <tf.Tensor: id=17070, shape=(), dtype=string, numpy=b'<start> most estate agents were overjoyed , at the election result . <end>'>, <tf.Tensor: id=17071, shape=(), dtype=string, numpy=b'<start> the warden and his wife , being owners of a siamese cat , were not overjoyed , to see emily but they reluctantly fed her a saucer of milk , saying that she could stay for one night . <end>'>, <tf.Tensor: id=17072, shape=(), dtype=string, numpy=b'<start> louise was overjoyed , with the suggestion . <end>'>, <tf.Tensor: id=17073, shape=(), dtype=string, numpy=b'<start> so the chief librarian was surprised and not particularly overjoyed , to be dragged down from his rooftop sun terrace by harry s telephone call . <end>'>, <tf.Tensor: id=17074, shape=(), dtype=string, numpy=b'<start> the young lord was overjoyed , to see what a beautiful wife his friends had found for him . <end>'>, <tf.Tensor: id=17075, shape=(), dtype=string, numpy=b'<start> the very idea is preposterous and i was overjoyed , to see that you believed me . <end>'>, <tf.Tensor: id=17076, shape=(), dtype=string, numpy=b'<start> you know joanna will be overjoyed , to see you in any condition . <end>'>, <tf.Tensor: id=17077, shape=(), dtype=string, numpy=b'<start> they take young grandpas , said linda , amazed and overjoyed , he d had the idea for himself and still not able to get over her daughter s news . <end>'>, <tf.Tensor: id=17078, shape=(), dtype=string, numpy=b'<start> i do n t suppose you re overjoyed , that i ve got a friend in the rival camp . <end>'>, <tf.Tensor: id=17079, shape=(), dtype=string, numpy=b'<start> neighbours recalled how ms bailey was overjoyed , at the birth of her daughter . <end>'>, <tf.Tensor: id=17080, shape=(), dtype=string, numpy=b'<start> but his father was overjoyed , to see him , and at once threw a party . <end>'>, <tf.Tensor: id=17081, shape=(), dtype=string, numpy=b'<start> landlords were not pleased , to find that their apartment blocks had overnight become the property of the tenants . <end>'>, <tf.Tensor: id=17082, shape=(), dtype=string, numpy=b'<start> he seemed pleased , to remind us of yet more evidence of bouilland s humming modernity , and took us out into the sun again . <end>'>, <tf.Tensor: id=17083, shape=(), dtype=string, numpy=b'<start> the london irish women s centre are pleased , to announce that the irish language classes for adults will continue with siobhan ni neill on fridays from . am to . starting on feb . <end>'>, <tf.Tensor: id=17084, shape=(), dtype=string, numpy=b'<start> we were pleased , to see the canadians do so well in the world cup after they had beaten us over there ! <end>'>, <tf.Tensor: id=17085, shape=(), dtype=string, numpy=b'<start> we are pleased , to see the guidance state unequivocally that major retail developments are inappropriate in green belts . <end>'>, <tf.Tensor: id=17086, shape=(), dtype=string, numpy=b'<start> i have said we will be pleased , to provide back up with visitor s packs etc and that i would inform you of the request . <end>'>, <tf.Tensor: id=17087, shape=(), dtype=string, numpy=b'<start> i am pleased , that there has been a threefold increase in , for example , hrt prescriptions during the past years . <end>'>, <tf.Tensor: id=17088, shape=(), dtype=string, numpy=b'<start> i am pleased , that they have responded very positively . <end>'>, <tf.Tensor: id=17089, shape=(), dtype=string, numpy=b'<start> george grindal was pleased , that he could turn to the bedside cabinet and take up the feeding glass containing orange juice . <end>'>, <tf.Tensor: id=17090, shape=(), dtype=string, numpy=b'<start> guinness is particularly pleased , that its own employees can participate in these programmes through matched giving schemes . <end>'>, <tf.Tensor: id=17091, shape=(), dtype=string, numpy=b'<start> yes , yes , i did , she told him , feeling ridiculously pleased , that he was clearly enjoying her first attempt at baking a cake . <end>'>, <tf.Tensor: id=17092, shape=(), dtype=string, numpy=b'<start> lexie s parents are pleased , that their efforts may prevent other children dying from the side effects of steroid treatment . <end>'>, <tf.Tensor: id=17093, shape=(), dtype=string, numpy=b'<start> i think everyone is very pleased , they ve changed their minds , said england s most capped player , rory underwood . <end>'>, <tf.Tensor: id=17094, shape=(), dtype=string, numpy=b'<start> i was so pleased , she lived until just after sam was born . <end>'>, <tf.Tensor: id=17095, shape=(), dtype=string, numpy=b'<start> blake says how pleased he is , with the firm s improved performance , acknowledging the considerable efforts and progress it has made . <end>'>, <tf.Tensor: id=17096, shape=(), dtype=string, numpy=b'<start> your mother and i are so pleased , you are so happy . <end>'>, <tf.Tensor: id=17097, shape=(), dtype=string, numpy=b'<start> she washed the floor thorough and was pleased , she had done so . <end>'>, <tf.Tensor: id=17098, shape=(), dtype=string, numpy=b'<start> to tell you the truth , i was n t at all pleased , about russell sitting in the same coach with us . <end>'>, <tf.Tensor: id=17099, shape=(), dtype=string, numpy=b'<start> i could never have agreed to such a plan , but was pleased , at mick s change of mood . <end>'>, <tf.Tensor: id=17100, shape=(), dtype=string, numpy=b'<start> the king was bluntly informing him that he was ill pleased , at the lack of progress corbett was making . <end>'>, <tf.Tensor: id=17101, shape=(), dtype=string, numpy=b'<start> smiling across the room at laura s tall , slender figure , she added , besides , everyone in your office was so pleased , at your promotion . <end>'>, <tf.Tensor: id=17102, shape=(), dtype=string, numpy=b'<start> i was particularly pleased , at the emphasis on investment in education and training , in science research and development and the commitments he gave on transport and health and community care . <end>'>, <tf.Tensor: id=17103, shape=(), dtype=string, numpy=b'<start> i can see you re pleased , with yourself <end>'>, <tf.Tensor: id=17104, shape=(), dtype=string, numpy=b'<start> everyone seemed very pleased , with the arrangements philippe had made , did n t they , rose ? <end>'>, <tf.Tensor: id=17105, shape=(), dtype=string, numpy=b'<start> i saw him return this morning , so pleased , with himself . <end>'>, <tf.Tensor: id=17106, shape=(), dtype=string, numpy=b'<start> he laughed , showing his white , sharp teeth , pleased , with his joke . <end>'>, <tf.Tensor: id=17107, shape=(), dtype=string, numpy=b'<start> i m delighted that you were pleased , with the response . <end>'>, <tf.Tensor: id=17108, shape=(), dtype=string, numpy=b'<start> apparently skipper landed , felt extremely pleased w , ith himself and threw an enormous buck with a twist in it . <end>'>, <tf.Tensor: id=17109, shape=(), dtype=string, numpy=b'<start> even my father was n t too pleased , about continually having to clean his porch roof , which our residents had covered in droppings and other nest debris . <end>'>, <tf.Tensor: id=17110, shape=(), dtype=string, numpy=b'<start> at the beginning of the o level summer term i weighed eight stone three pounds and , if i was pleased , at having lost two pounds , i certainly did n t say so . <end>'>, <tf.Tensor: id=17111, shape=(), dtype=string, numpy=b'<start> she smiled , as if pleased , at displaying her superiority . <end>'>, <tf.Tensor: id=17112, shape=(), dtype=string, numpy=b'<start> he liked to think of her being pleased , at getting a letter . <end>'>, <tf.Tensor: id=17113, shape=(), dtype=string, numpy=b'<start> i hope you were pleased , with how much we sold . <end>'>, <tf.Tensor: id=17114, shape=(), dtype=string, numpy=b'<start> mrs thatcher has mastered the sound bite , to be repeated at intervals like a mantra so very pleased , with how it s going . <end>'>, <tf.Tensor: id=17115, shape=(), dtype=string, numpy=b'<start> i m very pleased , with how we ve reacted to our bad start to the season . <end>'>, <tf.Tensor: id=17116, shape=(), dtype=string, numpy=b'<start> she was pleased , at how low her voice was , how steady . <end>'>, <tf.Tensor: id=17117, shape=(), dtype=string, numpy=b'<start> whatever i want , she wants , and she s pleased , at how things have turned out . <end>'>, <tf.Tensor: id=17118, shape=(), dtype=string, numpy=b'<start> they obviously thought i was doing terribly badly at that time and were very pleased a , t how well they had rigged me out until i put on the mac . <end>'>, <tf.Tensor: id=17119, shape=(), dtype=string, numpy=b'<start> nevertheless , your father and mother , too for that matter ! may well be very pleased , if your boyfriend takes the time to have a chat with them . <end>'>, <tf.Tensor: id=17120, shape=(), dtype=string, numpy=b'<start> katherine , i haven t yet told you how pleased we all are , that you shall be going to school here and be with us at valois frequently . <end>'>, <tf.Tensor: id=17121, shape=(), dtype=string, numpy=b'<start> i am supposed to be going there with sister agape , but i d be pleased , if you would take my place . <end>'>, <tf.Tensor: id=17122, shape=(), dtype=string, numpy=b'<start> as it was , i felt thrilled , to be walking on the same ground that young thomson had trodden long before . <end>'>, <tf.Tensor: id=17123, shape=(), dtype=string, numpy=b'<start> a friend said joan is thrilled , katy has found such a nice chap . <end>'>, <tf.Tensor: id=17124, shape=(), dtype=string, numpy=b'<start> professor winston said i m thrilled , to see them all here . <end>'>, <tf.Tensor: id=17125, shape=(), dtype=string, numpy=b'<start> most pool owners are thrilled , if they can persuade their fish to breed successfully . <end>'>, <tf.Tensor: id=17126, shape=(), dtype=string, numpy=b'<start> i felt thrilled , to be back in abyssinia and stared entranced at the arid landscape of the danakil desert . <end>'>, <tf.Tensor: id=17127, shape=(), dtype=string, numpy=b'<start> i m thrilled , to see her ! <end>'>, <tf.Tensor: id=17128, shape=(), dtype=string, numpy=b'<start> keith , a general operator at associated octel s plant in ellesmere port , is thrilled , to see his brother back home . <end>'>, <tf.Tensor: id=17129, shape=(), dtype=string, numpy=b'<start> his excitement , at the prospect of exploiting that potential is palpable , though he has no illusions about current difficulties . <end>'>, <tf.Tensor: id=17130, shape=(), dtype=string, numpy=b'<start> for months now i have been trying to contain excitement , at the thought of the compact disc . <end>'>, <tf.Tensor: id=17131, shape=(), dtype=string, numpy=b'<start> because of what had happened , some of her excitement , at the thought of seeing czechoslovakia had ebbed . <end>'>, <tf.Tensor: id=17132, shape=(), dtype=string, numpy=b'<start> manufacturers could play on the excitement , of a commentary to sell their sets . <end>'>, <tf.Tensor: id=17133, shape=(), dtype=string, numpy=b'<start> i had lost the excitement , of the first ramble to the trossachs which had all been new territory . <end>'>, <tf.Tensor: id=17134, shape=(), dtype=string, numpy=b'<start> but a dry day would bring bigger crowds and add to the excitement , of the vital third round of the tournament . <end>'>, <tf.Tensor: id=17135, shape=(), dtype=string, numpy=b'<start> travellers might get used to jet lag in the sense that they learn to live with it , or they might find it progressively more irksome as their initial excitement , with travel begins to wear thin . <end>'>, <tf.Tensor: id=17136, shape=(), dtype=string, numpy=b'<start> i enjoyed his excitement , with politics . <end>'>, <tf.Tensor: id=17137, shape=(), dtype=string, numpy=b'<start> all around there was the electric atmosphere of , first night excitement . <end>'>, <tf.Tensor: id=17138, shape=(), dtype=string, numpy=b'<start> this would normally push up her heart rate but with her pulse already racing due to the alcohol , dancing and general , party excitement the increase is not as noticeable as normal . <end>'>, <tf.Tensor: id=17139, shape=(), dtype=string, numpy=b'<start> , it was a sort of excitement to him . <end>'>, <tf.Tensor: id=17140, shape=(), dtype=string, numpy=b'<start> as christmas approached , the excitement , of preparation began to get through to her . <end>'>, <tf.Tensor: id=17141, shape=(), dtype=string, numpy=b'<start> you are afraid and full of excitement , at thoughts of what you might find . <end>'>, <tf.Tensor: id=17142, shape=(), dtype=string, numpy=b'<start> he had seen beyond the excitement , of being approached for his first book he already visualised it on the bookshelves ! <end>'>, <tf.Tensor: id=17143, shape=(), dtype=string, numpy=b'<start> perhaps only she knows the journey he has made , from the cocky jack the lad who neglected the discipline of academic study for the raw excitement , of left wing politics to the measured politician with an answer for everyone . <end>'>, <tf.Tensor: id=17144, shape=(), dtype=string, numpy=b'<start> we are off and have great excitement , fishing up treasure fake tied to bladders . <end>'>, <tf.Tensor: id=17145, shape=(), dtype=string, numpy=b'<start> neither he nor peter can conceal excitement , at being back in the limelight again . <end>'>, <tf.Tensor: id=17146, shape=(), dtype=string, numpy=b'<start> i have explained to pupils that i do not know the answer and so i can share the excitement , of working out a problem with them . <end>'>, <tf.Tensor: id=17147, shape=(), dtype=string, numpy=b'<start> i remember being highly amused , at his rendering of a young rook s cry whilst gobbling a worm it was perfectly true to nature . <end>'>, <tf.Tensor: id=17148, shape=(), dtype=string, numpy=b'<start> she was already feeling a bit better and she felt quite amused , at this cool domination , especially as she was not going to pay any attention to it . <end>'>, <tf.Tensor: id=17149, shape=(), dtype=string, numpy=b'<start> even falling asleep as he was , mcleish was amused , at bruce davidson s hopeful , proprietorial air . <end>'>, <tf.Tensor: id=17150, shape=(), dtype=string, numpy=b'<start> clattering on , trying to hold five ponies and eat an ice cream , perdita was not amused , to hear whoops and noisy hooting behind her . <end>'>, <tf.Tensor: id=17151, shape=(), dtype=string, numpy=b'<start> hauser was amused , at the suggestion . <end>'>, <tf.Tensor: id=17152, shape=(), dtype=string, numpy=b'<start> robert stephenson , when john met him after the week s delay , was amused , at the story of the triumph of rhyll . <end>'>, <tf.Tensor: id=17153, shape=(), dtype=string, numpy=b'<start> our amusement , at his false assumption seemed to ease the tension between us . <end>'>, <tf.Tensor: id=17154, shape=(), dtype=string, numpy=b'<start> however , i thought you might share my amusement , at the thought of baked beans at a low tension ! <end>'>, <tf.Tensor: id=17155, shape=(), dtype=string, numpy=b'<start> his amusement , at the scene was rekindled . <end>'>, <tf.Tensor: id=17156, shape=(), dtype=string, numpy=b'<start> i was quite sad , to hear my right hon . friend the minister of agriculture , fisheries and food say that he was prepared to sit in the negotiations for months . <end>'>, <tf.Tensor: id=17157, shape=(), dtype=string, numpy=b'<start> i am really sad , nobody wants to do it like i have done it for them . <end>'>, <tf.Tensor: id=17158, shape=(), dtype=string, numpy=b'<start> the denning family feel sad , , that although sharpness is still thriving , it ll never be the busy port it once was . <end>'>, <tf.Tensor: id=17159, shape=(), dtype=string, numpy=b'<start> now it makes me sad , to think of them growing up . <end>'>, <tf.Tensor: id=17160, shape=(), dtype=string, numpy=b'<start> i m sad , since it folded , but it s come at a good time , she tells me . <end>'>, <tf.Tensor: id=17161, shape=(), dtype=string, numpy=b'<start> i am desperately sad , that our scheme did not come to fruition , but i am glad that someone will take it over and bring these jobs to the area . <end>'>, <tf.Tensor: id=17162, shape=(), dtype=string, numpy=b'<start> i am sad , we have not been afforded the same welcome given to the beirut hostages , he told a deeply moved audience at the agm last month . <end>'>, <tf.Tensor: id=17163, shape=(), dtype=string, numpy=b'<start> we were all sad , it was over . <end>'>, <tf.Tensor: id=17164, shape=(), dtype=string, numpy=b'<start> i m particularly sad , my mother has n t had the opportunity to buy even his mc . <end>'>, <tf.Tensor: id=17165, shape=(), dtype=string, numpy=b'<start> it s possible to be sad , about your babies becoming children , and yet accept the fact that you wo n t have any more . <end>'>, <tf.Tensor: id=17166, shape=(), dtype=string, numpy=b'<start> anne was sad , at the death of the misses dolan , but too much was happening for her to dwell on it . <end>'>, <tf.Tensor: id=17167, shape=(), dtype=string, numpy=b'<start> everyone will be sad , because of their departure . <end>'>, <tf.Tensor: id=17168, shape=(), dtype=string, numpy=b'<start> the truth was that mr wolski was sad , mainly with himself , for he did not wish to stay on at the zoo any longer . <end>'>, <tf.Tensor: id=17169, shape=(), dtype=string, numpy=b'<start> he was sad , about missing the forthcoming whiskies . <end>'>, <tf.Tensor: id=17170, shape=(), dtype=string, numpy=b'<start> i was sad and also slightly amused , to read the recent letter from a reader about the skilled worker only being offered an hour . <end>'>, <tf.Tensor: id=17171, shape=(), dtype=string, numpy=b'<start> madam speaker , i know that there will be great sadness , at this news . <end>'>, <tf.Tensor: id=17172, shape=(), dtype=string, numpy=b'<start> some grandparents have the sadness , of losing rather than gaining grandchildren . <end>'>, <tf.Tensor: id=17173, shape=(), dtype=string, numpy=b'<start> i am saddened , the article uses the spurious connection between dialect and poverty as a means of attacking english teaching in this country . <end>'>, <tf.Tensor: id=17174, shape=(), dtype=string, numpy=b'<start> john parsons in nice is saddened , to see the former world no humbled in another comeback attempt at the age of . <end>'>, <tf.Tensor: id=17175, shape=(), dtype=string, numpy=b'<start> we are saddened , to learn that for some people , the conference failed to develop strategies for action . <end>'>, <tf.Tensor: id=17176, shape=(), dtype=string, numpy=b'<start> i am saddened , to find that such thinking still exists within the profession . <end>'>, <tf.Tensor: id=17177, shape=(), dtype=string, numpy=b'<start> a clergyman who trains priests yesterday said he was saddened but not surprised , that he had been sacked after admitting he does not believe in god . <end>'>, <tf.Tensor: id=17178, shape=(), dtype=string, numpy=b'<start> rosemary sandford of darlington association on disability , said they were saddened and disappointed , they were not given the opportunity to express their views at the meeting . <end>'>, <tf.Tensor: id=17179, shape=(), dtype=string, numpy=b'<start> he turned away , his feeling of anguish , at the nothingness of it all , overwhelming him . <end>'>, <tf.Tensor: id=17180, shape=(), dtype=string, numpy=b'<start> she still , after all these years , did not know , and one hand clenched in involuntary anguish , at what she thought of as her intolerable betrayal of her brother . <end>'>, <tf.Tensor: id=17181, shape=(), dtype=string, numpy=b'<start> we feel very strongly about that and that the law should be changed for future children , so that they should be spared the anguish , of separation and no contact at all . <end>'>, <tf.Tensor: id=17182, shape=(), dtype=string, numpy=b'<start> in the pictures of belsen , the sheer anguish , on the faces of the tommies , contrasts starkly with the indifference of the ss recorded in their cheery souvenir albums . <end>'>, <tf.Tensor: id=17183, shape=(), dtype=string, numpy=b'<start> he remembers the anguish , of disapproval , and the comforting security of guardians . <end>'>, <tf.Tensor: id=17184, shape=(), dtype=string, numpy=b'<start> but last night he insisted he had no grudge against taylor , even though in his column he openly discussed his innermost anguish , at being one of only three england players not to kick a ball during finals . <end>'>, <tf.Tensor: id=17185, shape=(), dtype=string, numpy=b'<start> lee sharpe last night relived the anguish , of discovering he had a disease which he feared could not only end his career but kill him . <end>'>, <tf.Tensor: id=17186, shape=(), dtype=string, numpy=b'<start> segments in d major and b minor accord with episodes of the drama as this unfolds , but two isolated d minor movements underscore dido s anguish , at being betrayed . <end>'>, <tf.Tensor: id=17187, shape=(), dtype=string, numpy=b'<start> at a news conference at the royal geographical society in london , they described the mental and physical anguish , of their day trek . <end>'>, <tf.Tensor: id=17188, shape=(), dtype=string, numpy=b'<start> politicians who objected to mrs thatcher and her radical conviction politics suffered the anguish , of apparently unresolvable frustration . <end>'>, <tf.Tensor: id=17189, shape=(), dtype=string, numpy=b'<start> both were crestfallen , after stevie s erratic performance on the th . <end>'>, <tf.Tensor: id=17190, shape=(), dtype=string, numpy=b'<start> there s no reason to feel dejected , not about the future . <end>'>, <tf.Tensor: id=17191, shape=(), dtype=string, numpy=b'<start> it s not just health problems they suffer but many people can get really depressed , because they are living in houses where they have to keep washing the mould off the walls . <end>'>, <tf.Tensor: id=17192, shape=(), dtype=string, numpy=b'<start> even the prince of wales , depressed at the thought of the ordeal to come , cheered up at the sight of the food . <end>'>, <tf.Tensor: id=17193, shape=(), dtype=string, numpy=b'<start> in spite of everything , burun felt depressed , by the whole affair , and could not understand why . <end>'>, <tf.Tensor: id=17194, shape=(), dtype=string, numpy=b'<start> then , still depressed , at being ditched , he drank eight pints on a night out with other squaddies , said prosecutor graham boal . <end>'>, <tf.Tensor: id=17195, shape=(), dtype=string, numpy=b'<start> behind her she heard emilia say , i think the child will be quite desolate , to see me go . <end>'>, <tf.Tensor: id=17196, shape=(), dtype=string, numpy=b'<start> i am desolate , that anthony has died . <end>'>, <tf.Tensor: id=17197, shape=(), dtype=string, numpy=b'<start> the sense of relief that the danes had let us all painlessly off the maastricht hook was immediately replaced by a despondency , at the government s response . <end>'>, <tf.Tensor: id=17198, shape=(), dtype=string, numpy=b'<start> julie is devastated , to discover she is adopted , and she sets out to find her natural parents . <end>'>, <tf.Tensor: id=17199, shape=(), dtype=string, numpy=b'<start> it was hot , sunny and the water looked so cool and inviting that maggie felt quite downcast , about having no swimsuit . <end>'>, <tf.Tensor: id=17200, shape=(), dtype=string, numpy=b'<start> dolores felt glum , at the sight . <end>'>, <tf.Tensor: id=17201, shape=(), dtype=string, numpy=b'<start> the people of america and throughout the world were stunned and grief stricken , by the president s assassination . <end>'>, <tf.Tensor: id=17202, shape=(), dtype=string, numpy=b'<start> the queen was grief stricken , because of his death . <end>'>, <tf.Tensor: id=17203, shape=(), dtype=string, numpy=b'<start> her emotion this time was not prompted by , grief for her mother but by the seriousness of the moment . <end>'>, <tf.Tensor: id=17204, shape=(), dtype=string, numpy=b'<start> kurzlinger hated voss for what he had done and the man s grief , for his murdered love , was not to be underestimated . <end>'>, <tf.Tensor: id=17205, shape=(), dtype=string, numpy=b'<start> amanda s grief , for her father , was compounded by anxiety over his ontological status . <end>'>, <tf.Tensor: id=17206, shape=(), dtype=string, numpy=b'<start> a year old girl works herself into a frenzy of grief , for a friend killed by right wing vigilantes . <end>'>, <tf.Tensor: id=17207, shape=(), dtype=string, numpy=b'<start> to express their grief , over the warrington atrocity , the people of dublin sent thousands of floral tributes to liverpool this morning with the irish air corps . <end>'>, <tf.Tensor: id=17208, shape=(), dtype=string, numpy=b'<start> within the ranks of the music press , there seemed to be a genuine grief , at the split , and the band s loyal followers responded accordingly , filling the letter pages with tearful , doleful sentiment . <end>'>, <tf.Tensor: id=17209, shape=(), dtype=string, numpy=b'<start> in spite of her grief , at being parted from her cousins , she could not help but feel excited . <end>'>, <tf.Tensor: id=17210, shape=(), dtype=string, numpy=b'<start> john had been moved to norfolk and promoted to corporal and he wrote to anne nearly every day , loving letters which helped to make her grief , for her mother , more bearable . <end>'>, <tf.Tensor: id=17211, shape=(), dtype=string, numpy=b'<start> relatives often carry enormous personal burdens , for example the grief , of losing a child s expected bright future , or the tragic decline into senility of a loved companion . <end>'>, <tf.Tensor: id=17212, shape=(), dtype=string, numpy=b'<start> he was not overwhelmed with grief , not for kit , but evidently his eyes felt otherwise . <end>'>, <tf.Tensor: id=17213, shape=(), dtype=string, numpy=b'<start> her grief , at his death , was deep and sincere . <end>'>, <tf.Tensor: id=17214, shape=(), dtype=string, numpy=b'<start> and even those could be put down to excessive grief , at the loss of his wife . <end>'>, <tf.Tensor: id=17215, shape=(), dtype=string, numpy=b'<start> and though the heartbreak , of her troubled marriage , still haunts her she raised a grin as prince harry waved from their car in london . <end>'>, <tf.Tensor: id=17216, shape=(), dtype=string, numpy=b'<start> they suffered the heartbreak of , losing three children through premature births . <end>'>, <tf.Tensor: id=17217, shape=(), dtype=string, numpy=b'<start> jane moss said yesterday that the double heartbreak , of her daughter s death and the murder of her own mum years ago , made her want to care for the needy . <end>'>, <tf.Tensor: id=17218, shape=(), dtype=string, numpy=b'<start> for the owner , it can mean heartbreak , the loss of a family pet . <end>'>, <tf.Tensor: id=17219, shape=(), dtype=string, numpy=b'<start> so many families will face the heartbreak , of burglary , before christmas . <end>'>, <tf.Tensor: id=17220, shape=(), dtype=string, numpy=b'<start> she regarded the wife of former beirut hostage jackie mann as a dear friend and was heartbroken , she could not see her before she died of lung cancer on november . <end>'>, <tf.Tensor: id=17221, shape=(), dtype=string, numpy=b'<start> yeovil town captain mark shail was heartbroken last night , over the rash moment which may cost him the chance of playing in the dream fa cup tie against arsenal . <end>'>, <tf.Tensor: id=17222, shape=(), dtype=string, numpy=b'<start> britt is heartbroken , that her eight year marriage to toyboy husband slim jim mcdonnell , , is to end in divorce . <end>'>, <tf.Tensor: id=17223, shape=(), dtype=string, numpy=b'<start> she was heartbroken , to hear the voice of camilla . <end>'>, <tf.Tensor: id=17224, shape=(), dtype=string, numpy=b'<start> she d be heartbroken , if her father was n t at her wedding . <end>'>, <tf.Tensor: id=17225, shape=(), dtype=string, numpy=b'<start> their mother died a month later heartbroken , by the loss of her mate . <end>'>, <tf.Tensor: id=17226, shape=(), dtype=string, numpy=b'<start> no wonder she was now inconsolable , at the prospect of the child being returned to london . <end>'>, <tf.Tensor: id=17227, shape=(), dtype=string, numpy=b'<start> several hours passed while he sat there , knowing that maud would be inconsolable , at having missed a charity dinner . <end>'>, <tf.Tensor: id=17228, shape=(), dtype=string, numpy=b'<start> nails became miserable , with anxiety . <end>'>, <tf.Tensor: id=17229, shape=(), dtype=string, numpy=b'<start> she s miserable , that it all has to end . <end>'>, <tf.Tensor: id=17230, shape=(), dtype=string, numpy=b'<start> me , i m miserable , that it s all beginning . <end>'>, <tf.Tensor: id=17231, shape=(), dtype=string, numpy=b'<start> even so , i was miserable , when we were second from last . <end>'>, <tf.Tensor: id=17232, shape=(), dtype=string, numpy=b'<start> and i know , that s miserable for you , but what else can you do ? <end>'>, <tf.Tensor: id=17233, shape=(), dtype=string, numpy=b'<start> it is miserable for us , to look back on these things . <end>'>, <tf.Tensor: id=17234, shape=(), dtype=string, numpy=b'<start> life , you know , it s miserable for them . <end>'>, <tf.Tensor: id=17235, shape=(), dtype=string, numpy=b'<start> thenceforward i was always wanting to take the joys of solitude and of society in their extreme forms , and was alternatively miserable , from the lack of company or the presence of uncongenial company . <end>'>, <tf.Tensor: id=17236, shape=(), dtype=string, numpy=b'<start> the walk to the town centre is long enough to invigorate me and short enough to avoid getting miserable , from the cold . <end>'>, <tf.Tensor: id=17237, shape=(), dtype=string, numpy=b'<start> i was miserable , with cold , but although i was prepared to admit that i was miserable , i was n t prepared to admit that my misery had any connection with cold . <end>'>, <tf.Tensor: id=17238, shape=(), dtype=string, numpy=b'<start> he was miserable , at being left out . <end>'>, <tf.Tensor: id=17239, shape=(), dtype=string, numpy=b'<start> since many parents were miserable , at being separated from their offspring , and it would be a struggle for some to pay money for their misery , they finally decided to have them home again . <end>'>, <tf.Tensor: id=17240, shape=(), dtype=string, numpy=b'<start> members requested the committee s sorrow , that the work had begun without permission , should be passed on to the county council . <end>'>, <tf.Tensor: id=17241, shape=(), dtype=string, numpy=b'<start> it soon developed into disillusion as the town s death toll grew and ended in jubilant relief not unmixed with sorrow , at the memory of towns folk who would not return . <end>'>, <tf.Tensor: id=17242, shape=(), dtype=string, numpy=b'<start> goebbels himself had signed her travel papers under pressure from his sympathetic wife magda , who had mistaken lais s hysterical sobs for sorrow , at karl s death . <end>'>, <tf.Tensor: id=17243, shape=(), dtype=string, numpy=b'<start> he is portrayed as showing sorrow , at the destruction caused by german bombers , and it is he who saves the day by first giving himself up and then being shot by clogger . <end>'>, <tf.Tensor: id=17244, shape=(), dtype=string, numpy=b'<start> three of our candles are in this colour to represent our sorrow , for our failure to love in so many parts of our lives . <end>'>, <tf.Tensor: id=17245, shape=(), dtype=string, numpy=b'<start> the awakened will gives rise to fear of god , sorrow , for sin , hope for forgiveness and love of god leah s first four children . <end>'>, <tf.Tensor: id=17246, shape=(), dtype=string, numpy=b'<start> he told of his sorrow , at having to quit a job he passionately enjoyed . <end>'>, <tf.Tensor: id=17247, shape=(), dtype=string, numpy=b'<start> was n t there one word of sympathy he could offer to ease her sorrow , at having loved and lost him ? <end>'>, <tf.Tensor: id=17248, shape=(), dtype=string, numpy=b'<start> to his great sorrow , he could never recall his mother . <end>'>, <tf.Tensor: id=17249, shape=(), dtype=string, numpy=b'<start> yet the dog had grown old and less capable , and one day the gillie had come and explained with great sorrow , that the dog had suffered a stroke , and must be put down . <end>'>, <tf.Tensor: id=17250, shape=(), dtype=string, numpy=b'<start> peers expressed their sorrow , at the news of the separation of the prince and princess of wales , after the lord chancellor lord mackay of clashfern relayed the prime minister s announcement to them . <end>'>, <tf.Tensor: id=17251, shape=(), dtype=string, numpy=b'<start> he expressed at once his sorrow , for my father s death . <end>'>, <tf.Tensor: id=17252, shape=(), dtype=string, numpy=b'<start> i join the hon . gentleman in expressing our sorrow , at that tragic loss . <end>'>, <tf.Tensor: id=17253, shape=(), dtype=string, numpy=b'<start> both of them were aware of alain s black anger and marguerite was feeling the sorrow , of leaving her own house . <end>'>, <tf.Tensor: id=17254, shape=(), dtype=string, numpy=b'<start> despite my anger and despair , at what had happened to brian , killing myself now would n t make amends for not helping him . <end>'>, <tf.Tensor: id=17255, shape=(), dtype=string, numpy=b'<start> he had understood james s despair , at the enormity of the ruin , but not what the loss of edward was already meaning . <end>'>, <tf.Tensor: id=17256, shape=(), dtype=string, numpy=b'<start> away from the defence debate dr mowlam also yesterday spoke of her despair , at the growing homeless problem in her constituency . <end>'>, <tf.Tensor: id=17257, shape=(), dtype=string, numpy=b'<start> nizan s despair in , at the nazi soviet pact and the soviet invasion of poland , echoed sartre s despair in at the soviet repression in hungary . <end>'>, <tf.Tensor: id=17258, shape=(), dtype=string, numpy=b'<start> in their communiqu , the finance ministers could usefully point out that the current despair , over eastern germany , is overdone . <end>'>, <tf.Tensor: id=17259, shape=(), dtype=string, numpy=b'<start> it does at times reveal a certain despair , over her present situation a fact that is rather concerning . <end>'>, <tf.Tensor: id=17260, shape=(), dtype=string, numpy=b'<start> lewis verne smith sat shaking his head , less as a gesture of denial than of a generalized despair , at the state of the world . <end>'>, <tf.Tensor: id=17261, shape=(), dtype=string, numpy=b'<start> i feel despair , at being deceived and betrayed . <end>'>, <tf.Tensor: id=17262, shape=(), dtype=string, numpy=b'<start> labour supporters must be in despair , at not being able to race away from the tories in the run up to the election . <end>'>, <tf.Tensor: id=17263, shape=(), dtype=string, numpy=b'<start> now you see in our day and generation , we do n t need to be reminded of the importance of little things . the more we learn about the atom , the more we re astonished , at its complexity and its unseen power . <end>'>, <tf.Tensor: id=17264, shape=(), dtype=string, numpy=b'<start> lin foh blinked , quite astonished , at being spoken to so sharply . <end>'>, <tf.Tensor: id=17265, shape=(), dtype=string, numpy=b'<start> when ramsey came to read the book himself , later in life , he was astonished , and at one point burst out laughing , to discover what irrational expressions he could use . <end>'>, <tf.Tensor: id=17266, shape=(), dtype=string, numpy=b'<start> i was astonished , at the smallness of the area which these enclosed . <end>'>, <tf.Tensor: id=17267, shape=(), dtype=string, numpy=b'<start> from the outset , commentators seem to have been astonished , at the great interest the competition evoked . <end>'>, <tf.Tensor: id=17268, shape=(), dtype=string, numpy=b'<start> he was astonished , at the change in him . <end>'>, <tf.Tensor: id=17269, shape=(), dtype=string, numpy=b'<start> now as he strode north determined on its recovery he was ashamed and astonished , at his own folly . <end>'>, <tf.Tensor: id=17270, shape=(), dtype=string, numpy=b'<start> but when i got to be twenty one , i was astonished , at how much he had learned in seven years . <end>'>, <tf.Tensor: id=17271, shape=(), dtype=string, numpy=b'<start> she was astonished , and secretly pleased , that he had remembered her name . <end>'>, <tf.Tensor: id=17272, shape=(), dtype=string, numpy=b'<start> those new to the area were always astonished , at the vivid crimson of the earth and buildings . <end>'>, <tf.Tensor: id=17273, shape=(), dtype=string, numpy=b'<start> maggie was quite astonished , at her own determination on that score . <end>'>, <tf.Tensor: id=17274, shape=(), dtype=string, numpy=b'<start> but she was even more astonished , at her ladyship s next words . <end>'>, <tf.Tensor: id=17275, shape=(), dtype=string, numpy=b'<start> eleanor thorne half sat up in the great bed , astonished , at the freshness , the absolute appeal of her idea . <end>'>, <tf.Tensor: id=17276, shape=(), dtype=string, numpy=b'<start> i m astonished , at what you ve achieved , kitty . <end>'>, <tf.Tensor: id=17277, shape=(), dtype=string, numpy=b'<start> from all you say of papa , announced dr neil naughtily , i m astonished , to learn that he went bankrupt . <end>'>, <tf.Tensor: id=17278, shape=(), dtype=string, numpy=b'<start> she saw his fear , his bewilderment , and above all , a kind of astonishment , at the enormity of the complications that lay ahead . <end>'>, <tf.Tensor: id=17279, shape=(), dtype=string, numpy=b'<start> my previous astonishment , at the fact that people who came here like de michelis the former foreign secretary , or like ex prime minister andreotti , never endowed us with any money is now diminished . <end>'>, <tf.Tensor: id=17280, shape=(), dtype=string, numpy=b'<start> martha replied , and left her twin sister blinking in astonishment , at a possibility that had n t occurred to her before , but which was now enticingly attractive . <end>'>, <tf.Tensor: id=17281, shape=(), dtype=string, numpy=b'<start> mrs syms s astonishment , at her appearance was almost comical . <end>'>, <tf.Tensor: id=17282, shape=(), dtype=string, numpy=b'<start> carolyn watched him , caught between her astonishment , at his presence here , and the sudden absolutely natural way they were talking . <end>'>, <tf.Tensor: id=17283, shape=(), dtype=string, numpy=b'<start> miss logan concealed her astonishment , at this curious lecture , but felt bound to enquire further . <end>'>, <tf.Tensor: id=17284, shape=(), dtype=string, numpy=b'<start> but there was some astonishment , at the size and timing of the exceptional write offs , which will result in , job losses from a worldwide total of , . <end>'>, <tf.Tensor: id=17285, shape=(), dtype=string, numpy=b'<start> john lahr told me of his astonishment , at how unpleasant he could be to waiters at the indian restaurant they visited together . <end>'>, <tf.Tensor: id=17286, shape=(), dtype=string, numpy=b'<start> when the peat brown eyes fixed on hers again , their level gaze showed he had recovered from his astonishment , at seeing her . <end>'>, <tf.Tensor: id=17287, shape=(), dtype=string, numpy=b'<start> an oxfordshire reader expresses astonishment , that so many of the hotels featured in this column border on fawlty towers . <end>'>, <tf.Tensor: id=17288, shape=(), dtype=string, numpy=b'<start> we write to express astonishment , at the standard of writing that has featured in much of your pre election coverage . <end>'>, <tf.Tensor: id=17289, shape=(), dtype=string, numpy=b'<start> lomponda wa botende , a former chief of staff , expressed his astonishment , at the report , and the defence ministry denied that any coup attempt had been made . <end>'>, <tf.Tensor: id=17290, shape=(), dtype=string, numpy=b'<start> he felt a mixture of astonishment , at himself and irritation that his rigid daily routine was going to be broken after forty undisturbed years . <end>'>, <tf.Tensor: id=17291, shape=(), dtype=string, numpy=b'<start> alexei was unable to hide his astonishment , at siban s subdued tone . <end>'>, <tf.Tensor: id=17292, shape=(), dtype=string, numpy=b'<start> ex hacker stephen gold says he remains astounded , at the arrogance of the law commission for not drawing on the experience of others . <end>'>, <tf.Tensor: id=17293, shape=(), dtype=string, numpy=b'<start> he added i m astounded , he has not been on the fringe of the dutch team . <end>'>, <tf.Tensor: id=17294, shape=(), dtype=string, numpy=b'<start> a man was astounded , to walk into his son s bedroom and find him sitting playing chess with his dog . <end>'>, <tf.Tensor: id=17295, shape=(), dtype=string, numpy=b'<start> some workers have been astounded , at the amount of extra paperwork . <end>'>, <tf.Tensor: id=17296, shape=(), dtype=string, numpy=b'<start> serge was astounded , to see a bedraggled lili appear in his room in the middle of the night . <end>'>, <tf.Tensor: id=17297, shape=(), dtype=string, numpy=b'<start> he must have managed to purloin a copy of the house key from somewhere and was obviously astounded , to find someone already scouring the house , especially her . <end>'>, <tf.Tensor: id=17298, shape=(), dtype=string, numpy=b'<start> and even as i did i was astounded , at myself . <end>'>, <tf.Tensor: id=17299, shape=(), dtype=string, numpy=b'<start> his last illness was the most violent , and his doctors were astounded , that he survived it . <end>'>, <tf.Tensor: id=17300, shape=(), dtype=string, numpy=b'<start> she seemed to be almost floating and maggie was astounded , that the sharp stones had not given her enough pain to waken her . <end>'>, <tf.Tensor: id=17301, shape=(), dtype=string, numpy=b'<start> zen was so astounded , at finding cinzia there on that particular evening that he could think of nothing whatever to say . <end>'>, <tf.Tensor: id=17302, shape=(), dtype=string, numpy=b'<start> before she left for london , cllr cooper said i am astounded , to have been chosen . <end>'>, <tf.Tensor: id=17303, shape=(), dtype=string, numpy=b'<start> please do , said ianthe , who was temporarily a little bewildered , at penelope s appearance and unconventional clothes . <end>'>, <tf.Tensor: id=17304, shape=(), dtype=string, numpy=b'<start> what s so terrible for imp in that ? she blustered , still bewildered , why he should find the idea of it so important . <end>'>, <tf.Tensor: id=17305, shape=(), dtype=string, numpy=b'<start> david filled her dreams the ecstasy of their lovemaking , and the pain and bewilderment , of his abrupt departure . <end>'>, <tf.Tensor: id=17306, shape=(), dtype=string, numpy=b'<start> there was such masculine bewilderment in his deep voice , at the unexpected display of emotion that fran smiled . <end>'>, <tf.Tensor: id=17307, shape=(), dtype=string, numpy=b'<start> i m downright flabbergasted , to know you re treatin dolly so unkind an beatin er as well . <end>'>, <tf.Tensor: id=17308, shape=(), dtype=string, numpy=b'<start> upon his arrival , he was nonplussed , to find the yard and buildings deserted . <end>'>, <tf.Tensor: id=17309, shape=(), dtype=string, numpy=b'<start> george knew that she was a bit nonplussed , at his eagerness for her to have her own social life . <end>'>, <tf.Tensor: id=17310, shape=(), dtype=string, numpy=b'<start> joan s great skill , then as now , was to be completely nonplussed , by anything richard did . <end>'>, <tf.Tensor: id=17311, shape=(), dtype=string, numpy=b'<start> branson was nonplussed , by elliott s refusal in fact , it constituted the perfect challenge . <end>'>, <tf.Tensor: id=17312, shape=(), dtype=string, numpy=b'<start> fabia felt it might be a touch cruel to laugh at him again but , feeling certain he would run a mile if she took him seriously , she was a little nonplussed , about how to answer him . <end>'>, <tf.Tensor: id=17313, shape=(), dtype=string, numpy=b'<start> rocastle got a page long interview expressing some puzzlement , at wilko keeping him out of the first team . <end>'>, <tf.Tensor: id=17314, shape=(), dtype=string, numpy=b'<start> he seemed startled , to see me as if applicants , once embarked on musical offices , rarely returned . <end>'>, <tf.Tensor: id=17315, shape=(), dtype=string, numpy=b'<start> i am startled , to find myself addressing you instead . <end>'>, <tf.Tensor: id=17316, shape=(), dtype=string, numpy=b'<start> now the special envoy of the un high commissioner for refugees , jose maria mendiluce , says he is revolted , to hear those words from mr boban . <end>'>, <tf.Tensor: id=17317, shape=(), dtype=string, numpy=b'<start> i am outraged and revolted , by the decision of my supervisors . <end>'>, <tf.Tensor: id=17318, shape=(), dtype=string, numpy=b'<start> a lot of people , they re absolutely revolted , by the fact that these evil , depraved ira godfathers can recruit impressionable young irish people into committing appalling acts of violence . <end>'>, <tf.Tensor: id=17319, shape=(), dtype=string, numpy=b'<start> evreux s communist mayor , roland plaisance , said he was revolted , by the firing and praised gaillot s commitment to staying close to the poor and the excluded . <end>'>, <tf.Tensor: id=17320, shape=(), dtype=string, numpy=b'<start> one of greece s largest hunting clubs , located in the northern port city of salonica , said in an announcement that it was revolted , by the dog fights . <end>'>, <tf.Tensor: id=17321, shape=(), dtype=string, numpy=b'<start> i am sickened , to now learn that the government has acquiesced to the other ec leaders on this issue at the edinburgh summit and that , for the sake of subsidiarity , this directive has been dropped . <end>'>, <tf.Tensor: id=17322, shape=(), dtype=string, numpy=b'<start> os guinness has captured this middle class revulsion , against materialism and affluent decadence in his best selling book the dust of death . <end>'>, <tf.Tensor: id=17323, shape=(), dtype=string, numpy=b'<start> in many schools in the s a revulsion , against decontextualised exercises brought about a complete abandonment of the teaching of grammar . <end>'>, <tf.Tensor: id=17324, shape=(), dtype=string, numpy=b'<start> what we are seeing now is a public revulsion , against violence in society which is feeding through to a desire for greater sensitivity by programme makers , he said . <end>'>, <tf.Tensor: id=17325, shape=(), dtype=string, numpy=b'<start> even in the s the anti semitism of literary figures like hilaire belloc and g . k . chesterton co existed uneasily with their revulsion , at the racial policies of the new germany . <end>'>, <tf.Tensor: id=17326, shape=(), dtype=string, numpy=b'<start> thomas coram s revulsion , at the infant corpses in london gutters led him to campaign for a hospital for foundlings , established in . <end>'>, <tf.Tensor: id=17327, shape=(), dtype=string, numpy=b'<start> revulsion , at injustice , poverty and denied opportunity , he says , impels people to work for a better world . <end>'>, <tf.Tensor: id=17328, shape=(), dtype=string, numpy=b'<start> however , i quite enjoyed describing the horrors of my creation , and shared with edward young , the architect , his revulsion , for the hideous house , covered in peeling stucco , as chilling within as without . <end>'>, <tf.Tensor: id=17329, shape=(), dtype=string, numpy=b'<start> he said he would be happy to lead the march planned for next sunday to show the city s revulsion , for terrorism . <end>'>, <tf.Tensor: id=17330, shape=(), dtype=string, numpy=b'<start> but equally , it provided a home for some of the darkest forms of distrust of and revulsion , from sex and marriage . <end>'>, <tf.Tensor: id=17331, shape=(), dtype=string, numpy=b'<start> this instinctive revulsion , from regulation , is the foundation of his libertarian heritage , and it gives rise to a particular vision of how broadcasting should develop , and what its purposes should be . <end>'>, <tf.Tensor: id=17332, shape=(), dtype=string, numpy=b'<start> it is unfortunate that such considerations may be thrust out of view by continuing public and perhaps personal revulsion , towards the concept of child sexuality . <end>'>, <tf.Tensor: id=17333, shape=(), dtype=string, numpy=b'<start> there was , as yet , no significant revulsion amongst the general public , towards the use of nuclear weapons to save manpower . <end>'>, <tf.Tensor: id=17334, shape=(), dtype=string, numpy=b'<start> nell swallowed down the revulsion , of the word normal . <end>'>, <tf.Tensor: id=17335, shape=(), dtype=string, numpy=b'<start> its roots were both theological and caused by the revulsion , of the burnings in mary s reign . <end>'>, <tf.Tensor: id=17336, shape=(), dtype=string, numpy=b'<start> colette works at marshalling our feelings of revulsion , at this voracious creature who has almost killed the poor box thorn . <end>'>, <tf.Tensor: id=17337, shape=(), dtype=string, numpy=b'<start> revulsion , at what has been happening there is not a prerogative of the politically correct . <end>'>, <tf.Tensor: id=17338, shape=(), dtype=string, numpy=b'<start> if so , he would undo her revulsion , with tonight s business . <end>'>, <tf.Tensor: id=17339, shape=(), dtype=string, numpy=b'<start> such side effects seem to be becoming increasingly common these days , and many patients are becoming disgruntled , with these drugs and are seeking safer alternatives . <end>'>, <tf.Tensor: id=17340, shape=(), dtype=string, numpy=b'<start> we were feeling rather disgruntled , at how many good films we d obviously missed , when a man came on to the stage to read the nominations for one of the categories . <end>'>, <tf.Tensor: id=17341, shape=(), dtype=string, numpy=b'<start> he looked disgruntled , to see harbury , despite eliot s explanation that he wanted harbury to give what further help shildon needed . <end>'>, <tf.Tensor: id=17342, shape=(), dtype=string, numpy=b'<start> he could pretend she was a good housewife , cook and mother to other men who were disgruntled , at their wives , brilliant careers . <end>'>, <tf.Tensor: id=17343, shape=(), dtype=string, numpy=b'<start> it linked the poor performance with the exodus to the west of more than , east germans disgruntled , with communism . <end>'>, <tf.Tensor: id=17344, shape=(), dtype=string, numpy=b'<start> woody allen wrote and directed this comedy in which he stars as new yorker isaac davis who is in love with his city but disgruntled , with his job as a tv comedy writer . <end>'>, <tf.Tensor: id=17345, shape=(), dtype=string, numpy=b'<start> but they were caught out when accounts assistant anne riley , disgruntled , at being sacked , told chairman douglas bishop of their alleged antics . <end>'>, <tf.Tensor: id=17346, shape=(), dtype=string, numpy=b'<start> charles opened his eyes warily , disgruntled , at being dragged out of his dream . <end>'>, <tf.Tensor: id=17347, shape=(), dtype=string, numpy=b'<start> nor , in the western part of the country , does disgruntlement , with mr kohl mean gruntlement for social democrats . <end>'>, <tf.Tensor: id=17348, shape=(), dtype=string, numpy=b'<start> be prepared to train twice as hard on your weaker side and each time you feel fed up , through lack of progress , switch to your stronger side to give yourself a boost . <end>'>, <tf.Tensor: id=17349, shape=(), dtype=string, numpy=b'<start> we are getting a bit fed up , of people saying how badly opponents play against us . <end>'>, <tf.Tensor: id=17350, shape=(), dtype=string, numpy=b'<start> factory workers fed up , with secretary carolyn bullock s dodgy parking hoisted her car on to the firm s roof with a crane . <end>'>, <tf.Tensor: id=17351, shape=(), dtype=string, numpy=b'<start> in an increasingly health conscious world , executives from brazil to britain have become increasingly fed up , with luncheon excesses . <end>'>, <tf.Tensor: id=17352, shape=(), dtype=string, numpy=b'<start> i know they are working on a building site but we are just fed up , with this disruption . <end>'>, <tf.Tensor: id=17353, shape=(), dtype=string, numpy=b'<start> the cave man got fed up , with walking <end>'>, <tf.Tensor: id=17354, shape=(), dtype=string, numpy=b'<start> they have also aroused protestant anger , against dr runcie , at the same time as he has become involved in a row over his attack on the pharisees of british society . <end>'>, <tf.Tensor: id=17355, shape=(), dtype=string, numpy=b'<start> to his own surprise all his anger , against edouard had evaporated . <end>'>, <tf.Tensor: id=17356, shape=(), dtype=string, numpy=b'<start> fear fingered ruth again , and she suppressed a futile burst of anger , against adam . <end>'>, <tf.Tensor: id=17357, shape=(), dtype=string, numpy=b'<start> this is often the feeling the bereaved find most difficult to acknowledge , their anger , against the dead person for abandoning them to face the world alone . <end>'>, <tf.Tensor: id=17358, shape=(), dtype=string, numpy=b'<start> in me battled a flood of relief at being reprieved and anger , at such vile deception . <end>'>, <tf.Tensor: id=17359, shape=(), dtype=string, numpy=b'<start> despite a flaring anger , at this impertinence her eyes were drawn to the strong column of his throat as he swallowed . <end>'>, <tf.Tensor: id=17360, shape=(), dtype=string, numpy=b'<start> john smith , understandably , is boiling with anger , at the tory refusal to recall parliament . <end>'>, <tf.Tensor: id=17361, shape=(), dtype=string, numpy=b'<start> in the commons , labour mps unleashed their anger , at the liberal democrats for promising to back the government . <end>'>, <tf.Tensor: id=17362, shape=(), dtype=string, numpy=b'<start> as lieutenant governor , he is remembered for fleeing down the statehouse fire escape to avoid senators anger , over his choice of committee assignments . <end>'>, <tf.Tensor: id=17363, shape=(), dtype=string, numpy=b'<start> i m not ashamed of it , she retorted , taut with anger , over his reference to her mother . <end>'>, <tf.Tensor: id=17364, shape=(), dtype=string, numpy=b'<start> liz s anger , towards raquel dates back to a charity dinner this year . <end>'>, <tf.Tensor: id=17365, shape=(), dtype=string, numpy=b'<start> tonight , one of hadley s victims described her anger , towards him , and her relief he d been found guilty . <end>'>, <tf.Tensor: id=17366, shape=(), dtype=string, numpy=b'<start> yet she still finds herself full of frustration and anger , towards him . <end>'>, <tf.Tensor: id=17367, shape=(), dtype=string, numpy=b'<start> duncan could imagine their anger , at being forced into another emergency manoeuvre . <end>'>, <tf.Tensor: id=17368, shape=(), dtype=string, numpy=b'<start> but his initial anger , at finding the latest two victims of the insane killer s bloodlust , blazed into an all consuming hatred of the man who had done it . <end>'>, <tf.Tensor: id=17369, shape=(), dtype=string, numpy=b'<start> after this she ceased to blame herself for the breakdown of their marriage , but instead expressed considerable anger , towards her husband . <end>'>, <tf.Tensor: id=17370, shape=(), dtype=string, numpy=b'<start> under de gaulle , therefore , the information minister was a broadcasting minister to whom the head of state sometimes expressed , day by day , his anger , with the content of news and current affairs programmes . <end>'>, <tf.Tensor: id=17371, shape=(), dtype=string, numpy=b'<start> i felt a stifled anger , against her . <end>'>, <tf.Tensor: id=17372, shape=(), dtype=string, numpy=b'<start> for a moment she felt anger , at his unfeeling attitude , but common sense prevailed . <end>'>, <tf.Tensor: id=17373, shape=(), dtype=string, numpy=b'<start> i was very very angry , to read batty s comments about leeds . <end>'>, <tf.Tensor: id=17374, shape=(), dtype=string, numpy=b'<start> however , in this case , the crowd was angry , that extra time was not going to be played and vented their fury on the pitch and the police rather than on one another . <end>'>, <tf.Tensor: id=17375, shape=(), dtype=string, numpy=b'<start> he was angry , that bernard had gone too . <end>'>, <tf.Tensor: id=17376, shape=(), dtype=string, numpy=b'<start> for the opposition , sam galbraith said he was particularly angry , that the government was reneging on the ballot subsidy . <end>'>, <tf.Tensor: id=17377, shape=(), dtype=string, numpy=b'<start> you re angry , i m here , are n t you ? <end>'>, <tf.Tensor: id=17378, shape=(), dtype=string, numpy=b'<start> i m so angry , our little boy is dead because someone wanted to drive fast . <end>'>, <tf.Tensor: id=17379, shape=(), dtype=string, numpy=b'<start> his mother had begun to feel very angry , about his refusal to eat as he had started to lose weight , which worried her . <end>'>, <tf.Tensor: id=17380, shape=(), dtype=string, numpy=b'<start> hoskyns , who only had another year to live , was angry , at his university . <end>'>, <tf.Tensor: id=17381, shape=(), dtype=string, numpy=b'<start> he got quite angry , at the impossibility of clarissa having given any such instructions . <end>'>, <tf.Tensor: id=17382, shape=(), dtype=string, numpy=b'<start> a european consumers pressure group is angry , at the chaotic state of control on such potentially lethal products . <end>'>, <tf.Tensor: id=17383, shape=(), dtype=string, numpy=b'<start> my father used to get so angry , at her stubbornness not at all like me , used to doing what i was told . <end>'>, <tf.Tensor: id=17384, shape=(), dtype=string, numpy=b'<start> i recall thinking that i had to be home soon or mother would be angry , at me for missing supper . <end>'>, <tf.Tensor: id=17385, shape=(), dtype=string, numpy=b'<start> how on earth , when her heart was thumping and her body drowning in a wave of heat , could she stay angry , at him ? <end>'>, <tf.Tensor: id=17386, shape=(), dtype=string, numpy=b'<start> connahs quay were angry , over halkyn s decision to call off their match at pant newydd an hour before the scheduled start . <end>'>, <tf.Tensor: id=17387, shape=(), dtype=string, numpy=b'<start> rachel could see the reasoning behind that , but nevertheless felt angry , towards damian flint not because he had so obviously done the right thing , but because he was so clearly in complete control of a situation that had always been beyond rachel . <end>'>, <tf.Tensor: id=17388, shape=(), dtype=string, numpy=b'<start> when tony s father was interviewed he said he felt angry , with tony for having taken the tablets , especially as his girl friend , pat , had been with him when he found tony unconscious . <end>'>, <tf.Tensor: id=17389, shape=(), dtype=string, numpy=b'<start> however , now he knew she was angry , with him for leaving her for so long . <end>'>, <tf.Tensor: id=17390, shape=(), dtype=string, numpy=b'<start> my father will be angry , with me if you leave early ! <end>'>, <tf.Tensor: id=17391, shape=(), dtype=string, numpy=b'<start> lissa hated the cold incisiveness of his tone , and she was angry , with herself for caring so much . <end>'>, <tf.Tensor: id=17392, shape=(), dtype=string, numpy=b'<start> angry , at being separated from jeanne , modigliani spent much of his time drinking in a windowless little bar where local artists met , where he drank and ran up debts . <end>'>, <tf.Tensor: id=17393, shape=(), dtype=string, numpy=b'<start> christina blushed , angry , at being spoken to like a member of staff . <end>'>, <tf.Tensor: id=17394, shape=(), dtype=string, numpy=b'<start> town s fans are angry , at losing the club s leading scorer . <end>'>, <tf.Tensor: id=17395, shape=(), dtype=string, numpy=b'<start> out of breath , and furious , to note that he was n t even panting , she struggled to free herself , then glared at him . <end>'>, <tf.Tensor: id=17396, shape=(), dtype=string, numpy=b'<start> many of the latecomers , especially as the afternoon wore on , were furious , to find the doors locked , not having heard of the noon closure and so thinking they had all day . <end>'>, <tf.Tensor: id=17397, shape=(), dtype=string, numpy=b'<start> and she was furious , that mr clarke did not break the news to her before holding a press conference . <end>'>, <tf.Tensor: id=17398, shape=(), dtype=string, numpy=b'<start> icc chairman sir colin cowdrey left is clearly furious , that every time he has been ready to make a statement about the texaco trophy events of august , pakistan s lawyers have threatened writs . <end>'>, <tf.Tensor: id=17399, shape=(), dtype=string, numpy=b'<start> a spokesperson said glen is furious , that the new anarchy promo features footage of sid vicious as well as himself . <end>'>, <tf.Tensor: id=17400, shape=(), dtype=string, numpy=b'<start> she is furious , that he has married beneath him , but appalled when her vicious attack on him threatens to end their relationship for ever . <end>'>, <tf.Tensor: id=17401, shape=(), dtype=string, numpy=b'<start> peter says the poles were furious , that we wanted to show prostitutes in their hotel bar , claiming they never had them . <end>'>, <tf.Tensor: id=17402, shape=(), dtype=string, numpy=b'<start> they were furious , mr reynolds had accused their leader , des o malley , of being dishonest . <end>'>, <tf.Tensor: id=17403, shape=(), dtype=string, numpy=b'<start> mayor s chaplain tony rees was furious , he had n t been refunded a overpayment . <end>'>, <tf.Tensor: id=17404, shape=(), dtype=string, numpy=b'<start> he refused to be roused by her anger , suspecting she was furious , he d turned down her invitation to stay . <end>'>, <tf.Tensor: id=17405, shape=(), dtype=string, numpy=b'<start> apparently i was furious i , had not been consulted <end>'>, <tf.Tensor: id=17406, shape=(), dtype=string, numpy=b'<start> not only was he going to be absolutely furious , about her being in this police station , but she dreaded having to tell her cousin about it too . <end>'>, <tf.Tensor: id=17407, shape=(), dtype=string, numpy=b'<start> on another occasion he had been struck once by another man at work and we were furious , at him for not returning the blow . <end>'>, <tf.Tensor: id=17408, shape=(), dtype=string, numpy=b'<start> behind the scenes , british diplomats in seoul , korea were furious , at the way last night s meeting was handled . <end>'>, <tf.Tensor: id=17409, shape=(), dtype=string, numpy=b'<start> she is furious , at the betrayal and supporters of the sacked prime minister , nawaz sharif , have resorted to fisticuffs . <end>'>, <tf.Tensor: id=17410, shape=(), dtype=string, numpy=b'<start> but today , the oxford university sports director was furious , at her exclusion . <end>'>, <tf.Tensor: id=17411, shape=(), dtype=string, numpy=b'<start> somerset are furious , over suggestions that the ghost , who took for , should be left out . <end>'>, <tf.Tensor: id=17412, shape=(), dtype=string, numpy=b'<start> she was furious , with me . <end>'>, <tf.Tensor: id=17413, shape=(), dtype=string, numpy=b'<start> at the hostel they were furious , with us for bringing the police , they just wanted us out , literally , and we were out ! <end>'>, <tf.Tensor: id=17414, shape=(), dtype=string, numpy=b'<start> he was furious , with me for ringing him . <end>'>, <tf.Tensor: id=17415, shape=(), dtype=string, numpy=b'<start> furuseth was furious , with himself . <end>'>, <tf.Tensor: id=17416, shape=(), dtype=string, numpy=b'<start> us banks , which also lost heavily , were furious , with the bundesbank for refusing to compensate them . <end>'>, <tf.Tensor: id=17417, shape=(), dtype=string, numpy=b'<start> conner is still furious , about losing tuesday s protest . <end>'>, <tf.Tensor: id=17418, shape=(), dtype=string, numpy=b'<start> she would be doubly furious , at having been deceived in exactly the same way by two successive men . <end>'>, <tf.Tensor: id=17419, shape=(), dtype=string, numpy=b'<start> the king was furious , at being tricked again , and by nothing more than a pair of animals , at that . <end>'>, <tf.Tensor: id=17420, shape=(), dtype=string, numpy=b'<start> he was incensed , stunned , at her action , and stood rigid with anger as he felt the slime roll down his cheek . <end>'>, <tf.Tensor: id=17421, shape=(), dtype=string, numpy=b'<start> a gang of local ruffians was passing by and , when they saw what was happening , became infuriated , against richard baxter . <end>'>, <tf.Tensor: id=17422, shape=(), dtype=string, numpy=b'<start> i go along and watch women s football and get really infuriated , to see a man out there refereeing the game , and often in a very condescending manner ! <end>'>, <tf.Tensor: id=17423, shape=(), dtype=string, numpy=b'<start> the sources said he is infuriated , with her after a row that erupted last week , and is likely to distance himself from her . <end>'>, <tf.Tensor: id=17424, shape=(), dtype=string, numpy=b'<start> i was suddenly infuriated , at the thought of what we had believed about the germans in england . <end>'>, <tf.Tensor: id=17425, shape=(), dtype=string, numpy=b'<start> i was even more infuriated , to read that their short separation was a tragedy . <end>'>, <tf.Tensor: id=17426, shape=(), dtype=string, numpy=b'<start> and while she sounded sympathetic , she was in reality infuriated , with doreen . <end>'>, <tf.Tensor: id=17427, shape=(), dtype=string, numpy=b'<start> his teachers were suspicious of his popularity , annoyed by his lack of interest in academic work and infuriated , that he could still achieve high marks in examinations . <end>'>, <tf.Tensor: id=17428, shape=(), dtype=string, numpy=b'<start> i am spell bound by the sound of french , infuriated , when i ca n t read it in the books i am given . <end>'>, <tf.Tensor: id=17429, shape=(), dtype=string, numpy=b'<start> then you can do so today at the barbecue , lucy hissed , suddenly infuriated , with them both , although more so with silas than with doreen . <end>'>, <tf.Tensor: id=17430, shape=(), dtype=string, numpy=b'<start> i m infuriated , with myself , he gritted from behind clenched teeth , his scowl deepening . <end>'>, <tf.Tensor: id=17431, shape=(), dtype=string, numpy=b'<start> mrs rosenbloom nearly always found out about it and she would be mad , that he had taken me from my work with the children . <end>'>, <tf.Tensor: id=17432, shape=(), dtype=string, numpy=b'<start> they must be mad , that they expect a delicate business to be speeded up as though it was a crude factory bench operation . <end>'>, <tf.Tensor: id=17433, shape=(), dtype=string, numpy=b'<start> gazza was blazing mad , that his training ground discussion had been mis interpreted as a bust up . <end>'>, <tf.Tensor: id=17434, shape=(), dtype=string, numpy=b'<start> jane , my darling , it s not because she s mad , that i hate her . <end>'>, <tf.Tensor: id=17435, shape=(), dtype=string, numpy=b'<start> in fact i expect he ll be mad , i ve told you that much . <end>'>, <tf.Tensor: id=17436, shape=(), dtype=string, numpy=b'<start> he gets mad w , hen gary does n t sleep , he says it s my fault , he says i make him do it and she stopped again . <end>'>, <tf.Tensor: id=17437, shape=(), dtype=string, numpy=b'<start> i was so mad , when your father tried to twist my arm . <end>'>, <tf.Tensor: id=17438, shape=(), dtype=string, numpy=b'<start> i was mad , about her being killed , mad at whoever killed her . <end>'>, <tf.Tensor: id=17439, shape=(), dtype=string, numpy=b'<start> philip was mad , at himself for not taking the cutters off the boy . <end>'>, <tf.Tensor: id=17440, shape=(), dtype=string, numpy=b'<start> he says old plumpton gets mad , at them . <end>'>, <tf.Tensor: id=17441, shape=(), dtype=string, numpy=b'<start> he must be pretty mad , at her for not being at home when they arrived . <end>'>, <tf.Tensor: id=17442, shape=(), dtype=string, numpy=b'<start> you ve got every right to be mad , at me , mike . <end>'>, <tf.Tensor: id=17443, shape=(), dtype=string, numpy=b'<start> and i m mad , at you , you ve no ambition . <end>'>, <tf.Tensor: id=17444, shape=(), dtype=string, numpy=b'<start> the other day he slapped liam across the face and got mad , at me when i complained . <end>'>]\n",
            "Train on 500 samples\n",
            "Epoch 1/10\n",
            "500/500 [==============================] - 1s 2ms/sample - loss: 1.2382 - accuracy: 0.4720\n",
            "Epoch 2/10\n",
            "500/500 [==============================] - 1s 2ms/sample - loss: 1.2124 - accuracy: 0.4840\n",
            "Epoch 3/10\n",
            "500/500 [==============================] - 1s 2ms/sample - loss: 1.1882 - accuracy: 0.4940\n",
            "Epoch 4/10\n",
            "500/500 [==============================] - 1s 2ms/sample - loss: 1.1667 - accuracy: 0.5020\n",
            "Epoch 5/10\n",
            "500/500 [==============================] - 1s 2ms/sample - loss: 1.1460 - accuracy: 0.5080\n",
            "Epoch 6/10\n",
            "500/500 [==============================] - 1s 2ms/sample - loss: 1.1211 - accuracy: 0.5260\n",
            "Epoch 7/10\n",
            "500/500 [==============================] - 1s 2ms/sample - loss: 1.1014 - accuracy: 0.5360\n",
            "Epoch 8/10\n",
            "500/500 [==============================] - 1s 2ms/sample - loss: 1.0824 - accuracy: 0.5440\n",
            "Epoch 9/10\n",
            "500/500 [==============================] - 1s 2ms/sample - loss: 1.0652 - accuracy: 0.5560\n",
            "Epoch 10/10\n",
            "500/500 [==============================] - 1s 2ms/sample - loss: 1.0482 - accuracy: 0.5740\n"
          ],
          "name": "stdout"
        },
        {
          "output_type": "execute_result",
          "data": {
            "text/plain": [
              "<tensorflow.python.keras.callbacks.History at 0x7f6efb632128>"
            ]
          },
          "metadata": {
            "tags": []
          },
          "execution_count": 257
        }
      ]
    },
    {
      "cell_type": "code",
      "metadata": {
        "id": "VF191PQCxbdB",
        "colab_type": "code",
        "colab": {
          "base_uri": "https://localhost:8080/",
          "height": 51
        },
        "outputId": "413c6c4f-e69f-4a34-fb23-a66c77c1eca9"
      },
      "source": [
        "test_input=['he was tortured']\n",
        "\"\"\"\n",
        "test_X_seq=tokenizer.texts_to_sequences(test_input)\n",
        "print(test_X_seq)\n",
        "\n",
        "test_X_padded_seq=pad_sequences(test_X_seq,padding='post',maxlen=40)\n",
        "print(test_X_padded_seq)\n",
        "\"\"\"\n",
        "output = text_model.predict_classes(test_input)\n",
        "print(output)\n",
        "for word, index in tokenizer_emotion.word_index.items():\n",
        "  if index==output:\n",
        "    print(word, index, output)\n",
        "    break"
      ],
      "execution_count": 258,
      "outputs": [
        {
          "output_type": "stream",
          "text": [
            "[38]\n",
            "anger 38 [38]\n"
          ],
          "name": "stdout"
        }
      ]
    },
    {
      "cell_type": "code",
      "metadata": {
        "id": "0XGR9Ukf2GJ4",
        "colab_type": "code",
        "colab": {}
      },
      "source": [
        ""
      ],
      "execution_count": 0,
      "outputs": []
    },
    {
      "cell_type": "code",
      "metadata": {
        "id": "2zP2vDsB2GMH",
        "colab_type": "code",
        "colab": {}
      },
      "source": [
        ""
      ],
      "execution_count": 0,
      "outputs": []
    },
    {
      "cell_type": "code",
      "metadata": {
        "id": "10Imo1ef2GN4",
        "colab_type": "code",
        "colab": {}
      },
      "source": [
        ""
      ],
      "execution_count": 0,
      "outputs": []
    },
    {
      "cell_type": "markdown",
      "metadata": {
        "id": "jN2pgZyTyqrK",
        "colab_type": "text"
      },
      "source": [
        "Questions:\n",
        "1. Do we need seeding the model?\n",
        "2. HW:\n",
        " a. Use pretrained embeddings\n",
        " **b. use functional apis**\n",
        " c. Limit output to the emotions set(say 10)\n",
        " d. Look at other sources of data(emotion-cause or emotion-entailments)\n",
        "\n",
        "\n"
      ]
    },
    {
      "cell_type": "markdown",
      "metadata": {
        "id": "WxoQxxIyEASK",
        "colab_type": "text"
      },
      "source": [
        ""
      ]
    }
  ]
}