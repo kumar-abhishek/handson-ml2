{
  "nbformat": 4,
  "nbformat_minor": 0,
  "metadata": {
    "kernelspec": {
      "display_name": "Python 3",
      "language": "python",
      "name": "python3"
    },
    "language_info": {
      "codemirror_mode": {
        "name": "ipython",
        "version": 3
      },
      "file_extension": ".py",
      "mimetype": "text/x-python",
      "name": "python",
      "nbconvert_exporter": "python",
      "pygments_lexer": "ipython3",
      "version": "3.7.6"
    },
    "colab": {
      "name": "key_phrase_extraction.ipynb",
      "provenance": [],
      "collapsed_sections": [],
      "toc_visible": true,
      "include_colab_link": true
    }
  },
  "cells": [
    {
      "cell_type": "markdown",
      "metadata": {
        "id": "view-in-github",
        "colab_type": "text"
      },
      "source": [
        "<a href=\"https://colab.research.google.com/github/kumar-abhishek/handson-ml2/blob/master/key_phrase_extraction.ipynb\" target=\"_parent\"><img src=\"https://colab.research.google.com/assets/colab-badge.svg\" alt=\"Open In Colab\"/></a>"
      ]
    },
    {
      "cell_type": "code",
      "metadata": {
        "id": "56E22u-UPs2g",
        "colab_type": "code",
        "colab": {
          "base_uri": "https://localhost:8080/",
          "height": 751
        },
        "outputId": "410c81d9-ea56-4a21-b45a-34d6fe04b067"
      },
      "source": [
        "!pip install git+https://github.com/boudinfl/pke.git"
      ],
      "execution_count": null,
      "outputs": [
        {
          "output_type": "stream",
          "text": [
            "Collecting git+https://github.com/boudinfl/pke.git\n",
            "  Cloning https://github.com/boudinfl/pke.git to /tmp/pip-req-build-uy0n0wjg\n",
            "  Running command git clone -q https://github.com/boudinfl/pke.git /tmp/pip-req-build-uy0n0wjg\n",
            "Requirement already satisfied: nltk in /usr/local/lib/python3.6/dist-packages (from pke==1.8.1) (3.2.5)\n",
            "Requirement already satisfied: networkx in /usr/local/lib/python3.6/dist-packages (from pke==1.8.1) (2.4)\n",
            "Requirement already satisfied: numpy in /usr/local/lib/python3.6/dist-packages (from pke==1.8.1) (1.18.5)\n",
            "Requirement already satisfied: scipy in /usr/local/lib/python3.6/dist-packages (from pke==1.8.1) (1.4.1)\n",
            "Requirement already satisfied: spacy in /usr/local/lib/python3.6/dist-packages (from pke==1.8.1) (2.2.4)\n",
            "Requirement already satisfied: six in /usr/local/lib/python3.6/dist-packages (from pke==1.8.1) (1.12.0)\n",
            "Requirement already satisfied: sklearn in /usr/local/lib/python3.6/dist-packages (from pke==1.8.1) (0.0)\n",
            "Collecting unidecode\n",
            "\u001b[?25l  Downloading https://files.pythonhosted.org/packages/d0/42/d9edfed04228bacea2d824904cae367ee9efd05e6cce7ceaaedd0b0ad964/Unidecode-1.1.1-py2.py3-none-any.whl (238kB)\n",
            "\u001b[K     |████████████████████████████████| 245kB 7.3MB/s \n",
            "\u001b[?25hRequirement already satisfied: future in /usr/local/lib/python3.6/dist-packages (from pke==1.8.1) (0.16.0)\n",
            "Requirement already satisfied: joblib in /usr/local/lib/python3.6/dist-packages (from pke==1.8.1) (0.15.1)\n",
            "Requirement already satisfied: decorator>=4.3.0 in /usr/local/lib/python3.6/dist-packages (from networkx->pke==1.8.1) (4.4.2)\n",
            "Requirement already satisfied: murmurhash<1.1.0,>=0.28.0 in /usr/local/lib/python3.6/dist-packages (from spacy->pke==1.8.1) (1.0.2)\n",
            "Requirement already satisfied: srsly<1.1.0,>=1.0.2 in /usr/local/lib/python3.6/dist-packages (from spacy->pke==1.8.1) (1.0.2)\n",
            "Requirement already satisfied: wasabi<1.1.0,>=0.4.0 in /usr/local/lib/python3.6/dist-packages (from spacy->pke==1.8.1) (0.7.0)\n",
            "Requirement already satisfied: thinc==7.4.0 in /usr/local/lib/python3.6/dist-packages (from spacy->pke==1.8.1) (7.4.0)\n",
            "Requirement already satisfied: catalogue<1.1.0,>=0.0.7 in /usr/local/lib/python3.6/dist-packages (from spacy->pke==1.8.1) (1.0.0)\n",
            "Requirement already satisfied: blis<0.5.0,>=0.4.0 in /usr/local/lib/python3.6/dist-packages (from spacy->pke==1.8.1) (0.4.1)\n",
            "Requirement already satisfied: tqdm<5.0.0,>=4.38.0 in /usr/local/lib/python3.6/dist-packages (from spacy->pke==1.8.1) (4.41.1)\n",
            "Requirement already satisfied: plac<1.2.0,>=0.9.6 in /usr/local/lib/python3.6/dist-packages (from spacy->pke==1.8.1) (1.1.3)\n",
            "Requirement already satisfied: cymem<2.1.0,>=2.0.2 in /usr/local/lib/python3.6/dist-packages (from spacy->pke==1.8.1) (2.0.3)\n",
            "Requirement already satisfied: requests<3.0.0,>=2.13.0 in /usr/local/lib/python3.6/dist-packages (from spacy->pke==1.8.1) (2.23.0)\n",
            "Requirement already satisfied: setuptools in /usr/local/lib/python3.6/dist-packages (from spacy->pke==1.8.1) (47.3.1)\n",
            "Requirement already satisfied: preshed<3.1.0,>=3.0.2 in /usr/local/lib/python3.6/dist-packages (from spacy->pke==1.8.1) (3.0.2)\n",
            "Requirement already satisfied: scikit-learn in /usr/local/lib/python3.6/dist-packages (from sklearn->pke==1.8.1) (0.22.2.post1)\n",
            "Requirement already satisfied: importlib-metadata>=0.20; python_version < \"3.8\" in /usr/local/lib/python3.6/dist-packages (from catalogue<1.1.0,>=0.0.7->spacy->pke==1.8.1) (1.6.1)\n",
            "Requirement already satisfied: chardet<4,>=3.0.2 in /usr/local/lib/python3.6/dist-packages (from requests<3.0.0,>=2.13.0->spacy->pke==1.8.1) (3.0.4)\n",
            "Requirement already satisfied: idna<3,>=2.5 in /usr/local/lib/python3.6/dist-packages (from requests<3.0.0,>=2.13.0->spacy->pke==1.8.1) (2.9)\n",
            "Requirement already satisfied: urllib3!=1.25.0,!=1.25.1,<1.26,>=1.21.1 in /usr/local/lib/python3.6/dist-packages (from requests<3.0.0,>=2.13.0->spacy->pke==1.8.1) (1.24.3)\n",
            "Requirement already satisfied: certifi>=2017.4.17 in /usr/local/lib/python3.6/dist-packages (from requests<3.0.0,>=2.13.0->spacy->pke==1.8.1) (2020.6.20)\n",
            "Requirement already satisfied: zipp>=0.5 in /usr/local/lib/python3.6/dist-packages (from importlib-metadata>=0.20; python_version < \"3.8\"->catalogue<1.1.0,>=0.0.7->spacy->pke==1.8.1) (3.1.0)\n",
            "Building wheels for collected packages: pke\n",
            "  Building wheel for pke (setup.py) ... \u001b[?25l\u001b[?25hdone\n",
            "  Created wheel for pke: filename=pke-1.8.1-cp36-none-any.whl size=8759715 sha256=8c444f7a510afcbbef41324bd9e4392110b7008def0e3ac90408dc4345cdb7e0\n",
            "  Stored in directory: /tmp/pip-ephem-wheel-cache-hvms30v_/wheels/8d/24/54/6582e854e9e32dd6c632af6762b3a5d2f6b181c2992e165462\n",
            "Successfully built pke\n",
            "Installing collected packages: unidecode, pke\n",
            "Successfully installed pke-1.8.1 unidecode-1.1.1\n"
          ],
          "name": "stdout"
        }
      ]
    },
    {
      "cell_type": "code",
      "metadata": {
        "id": "cpGjL2rbQMfe",
        "colab_type": "code",
        "colab": {
          "base_uri": "https://localhost:8080/",
          "height": 632
        },
        "outputId": "7c2ff353-bcf7-4a90-fca3-561b69777458"
      },
      "source": [
        "!python -m nltk.downloader stopwords\n",
        "!python -m nltk.downloader universal_tagset\n",
        "!python -m spacy download en # download the english model\n"
      ],
      "execution_count": null,
      "outputs": [
        {
          "output_type": "stream",
          "text": [
            "/usr/lib/python3.6/runpy.py:125: RuntimeWarning: 'nltk.downloader' found in sys.modules after import of package 'nltk', but prior to execution of 'nltk.downloader'; this may result in unpredictable behaviour\n",
            "  warn(RuntimeWarning(msg))\n",
            "[nltk_data] Downloading package stopwords to /root/nltk_data...\n",
            "[nltk_data]   Unzipping corpora/stopwords.zip.\n",
            "/usr/lib/python3.6/runpy.py:125: RuntimeWarning: 'nltk.downloader' found in sys.modules after import of package 'nltk', but prior to execution of 'nltk.downloader'; this may result in unpredictable behaviour\n",
            "  warn(RuntimeWarning(msg))\n",
            "[nltk_data] Downloading package universal_tagset to /root/nltk_data...\n",
            "[nltk_data]   Unzipping taggers/universal_tagset.zip.\n",
            "Requirement already satisfied: en_core_web_sm==2.2.5 from https://github.com/explosion/spacy-models/releases/download/en_core_web_sm-2.2.5/en_core_web_sm-2.2.5.tar.gz#egg=en_core_web_sm==2.2.5 in /usr/local/lib/python3.6/dist-packages (2.2.5)\n",
            "Requirement already satisfied: spacy>=2.2.2 in /usr/local/lib/python3.6/dist-packages (from en_core_web_sm==2.2.5) (2.2.4)\n",
            "Requirement already satisfied: murmurhash<1.1.0,>=0.28.0 in /usr/local/lib/python3.6/dist-packages (from spacy>=2.2.2->en_core_web_sm==2.2.5) (1.0.2)\n",
            "Requirement already satisfied: blis<0.5.0,>=0.4.0 in /usr/local/lib/python3.6/dist-packages (from spacy>=2.2.2->en_core_web_sm==2.2.5) (0.4.1)\n",
            "Requirement already satisfied: wasabi<1.1.0,>=0.4.0 in /usr/local/lib/python3.6/dist-packages (from spacy>=2.2.2->en_core_web_sm==2.2.5) (0.7.0)\n",
            "Requirement already satisfied: tqdm<5.0.0,>=4.38.0 in /usr/local/lib/python3.6/dist-packages (from spacy>=2.2.2->en_core_web_sm==2.2.5) (4.41.1)\n",
            "Requirement already satisfied: setuptools in /usr/local/lib/python3.6/dist-packages (from spacy>=2.2.2->en_core_web_sm==2.2.5) (47.3.1)\n",
            "Requirement already satisfied: numpy>=1.15.0 in /usr/local/lib/python3.6/dist-packages (from spacy>=2.2.2->en_core_web_sm==2.2.5) (1.18.5)\n",
            "Requirement already satisfied: thinc==7.4.0 in /usr/local/lib/python3.6/dist-packages (from spacy>=2.2.2->en_core_web_sm==2.2.5) (7.4.0)\n",
            "Requirement already satisfied: requests<3.0.0,>=2.13.0 in /usr/local/lib/python3.6/dist-packages (from spacy>=2.2.2->en_core_web_sm==2.2.5) (2.23.0)\n",
            "Requirement already satisfied: catalogue<1.1.0,>=0.0.7 in /usr/local/lib/python3.6/dist-packages (from spacy>=2.2.2->en_core_web_sm==2.2.5) (1.0.0)\n",
            "Requirement already satisfied: preshed<3.1.0,>=3.0.2 in /usr/local/lib/python3.6/dist-packages (from spacy>=2.2.2->en_core_web_sm==2.2.5) (3.0.2)\n",
            "Requirement already satisfied: srsly<1.1.0,>=1.0.2 in /usr/local/lib/python3.6/dist-packages (from spacy>=2.2.2->en_core_web_sm==2.2.5) (1.0.2)\n",
            "Requirement already satisfied: cymem<2.1.0,>=2.0.2 in /usr/local/lib/python3.6/dist-packages (from spacy>=2.2.2->en_core_web_sm==2.2.5) (2.0.3)\n",
            "Requirement already satisfied: plac<1.2.0,>=0.9.6 in /usr/local/lib/python3.6/dist-packages (from spacy>=2.2.2->en_core_web_sm==2.2.5) (1.1.3)\n",
            "Requirement already satisfied: urllib3!=1.25.0,!=1.25.1,<1.26,>=1.21.1 in /usr/local/lib/python3.6/dist-packages (from requests<3.0.0,>=2.13.0->spacy>=2.2.2->en_core_web_sm==2.2.5) (1.24.3)\n",
            "Requirement already satisfied: idna<3,>=2.5 in /usr/local/lib/python3.6/dist-packages (from requests<3.0.0,>=2.13.0->spacy>=2.2.2->en_core_web_sm==2.2.5) (2.9)\n",
            "Requirement already satisfied: chardet<4,>=3.0.2 in /usr/local/lib/python3.6/dist-packages (from requests<3.0.0,>=2.13.0->spacy>=2.2.2->en_core_web_sm==2.2.5) (3.0.4)\n",
            "Requirement already satisfied: certifi>=2017.4.17 in /usr/local/lib/python3.6/dist-packages (from requests<3.0.0,>=2.13.0->spacy>=2.2.2->en_core_web_sm==2.2.5) (2020.6.20)\n",
            "Requirement already satisfied: importlib-metadata>=0.20; python_version < \"3.8\" in /usr/local/lib/python3.6/dist-packages (from catalogue<1.1.0,>=0.0.7->spacy>=2.2.2->en_core_web_sm==2.2.5) (1.6.1)\n",
            "Requirement already satisfied: zipp>=0.5 in /usr/local/lib/python3.6/dist-packages (from importlib-metadata>=0.20; python_version < \"3.8\"->catalogue<1.1.0,>=0.0.7->spacy>=2.2.2->en_core_web_sm==2.2.5) (3.1.0)\n",
            "\u001b[38;5;2m✔ Download and installation successful\u001b[0m\n",
            "You can now load the model via spacy.load('en_core_web_sm')\n",
            "\u001b[38;5;2m✔ Linking successful\u001b[0m\n",
            "/usr/local/lib/python3.6/dist-packages/en_core_web_sm -->\n",
            "/usr/local/lib/python3.6/dist-packages/spacy/data/en\n",
            "You can now load the model via spacy.load('en')\n"
          ],
          "name": "stdout"
        }
      ]
    },
    {
      "cell_type": "code",
      "metadata": {
        "id": "FJ_eBwygOsSy",
        "colab_type": "code",
        "colab": {
          "base_uri": "https://localhost:8080/",
          "height": 204
        },
        "outputId": "03996b5d-a32f-48b0-8856-3d88247a3789"
      },
      "source": [
        "import pke\n",
        "\n",
        "# initialize keyphrase extraction model, here TopicRank\n",
        "extractor = pke.unsupervised.TopicRank()\n",
        "\n",
        "review_cosmopolitan=\"Stayed 1 night in Jun 2020. The rooms were clean and staff helpful.\\\n",
        " I reserved a room with a Terrace and I really enjoyed and a whole lot more if the glass had been cleaner. \\\n",
        " Wonderful staff and amenities, divine beds and great gym. Only complaint is the cleaning person when through \\\n",
        " our belongings while we were at the pool. We left the room around 11:15am and we made sure to hide my wife’s \\\n",
        " iPad in our back pack and zipped it up and when we came back to the room we noticed the room was clean and \\\n",
        " we also noticed the iPad was just laying around in a bench. If they went through our bag we don’t know what else \\\n",
        " they went through. Our privacy was compromised we felt so uncomfortable. We made a complaint to the front desk \\\n",
        " but have not got any update. Don’t even want to ever stay at this hotel. Very modern set up and staff friendly. Would recommend.\\\n",
        " loved both pools, atmosphere liked restaurant options, ate at Blue Ribbon, and had lunch by the Boulevard Pool \\\n",
        " I was a little disappointed that I booked a 'city view' room, but that's not what I go.\\\n",
        " Concierge was a big help on my preparation, activities and dining.\"\n",
        "\n",
        "# load the content of the document, here document is expected to be in raw\n",
        "# format (i.e. a simple text file) and preprocessing is carried out using spacy\n",
        "extractor.load_document(input=review_cosmopolitan, language='en')\n",
        "\n",
        "# keyphrase candidate selection, in the case of TopicRank: sequences of nouns\n",
        "# and adjectives (i.e. `(Noun|Adj)*`)\n",
        "extractor.candidate_selection()\n",
        "\n",
        "# candidate weighting, in the case of TopicRank: using a random walk algorithm\n",
        "extractor.candidate_weighting()\n",
        "\n",
        "# N-best selection, keyphrases contains the 10 highest scored candidates as\n",
        "# (keyphrase, score) tuples\n",
        "keyphrases = extractor.get_n_best(n=40)\n",
        "for phrase_prob_pair in keyphrases:\n",
        "  if len(phrase_prob_pair[0].split())>1:\n",
        "    print(phrase_prob_pair[0])"
      ],
      "execution_count": null,
      "outputs": [
        {
          "output_type": "stream",
          "text": [
            "WARNING:root:Not enough candidates to choose from (40 requested, 39 given)\n"
          ],
          "name": "stderr"
        },
        {
          "output_type": "stream",
          "text": [
            "staff helpful\n",
            "divine beds\n",
            "wonderful staff\n",
            "great gym\n",
            "restaurant options\n",
            "blue ribbon\n",
            "city view\n",
            "back pack\n",
            "front desk\n",
            "little disappointed\n"
          ],
          "name": "stdout"
        }
      ]
    },
    {
      "cell_type": "code",
      "metadata": {
        "id": "r8lYombaPuo7",
        "colab_type": "code",
        "colab": {
          "base_uri": "https://localhost:8080/",
          "height": 238
        },
        "outputId": "0297a09c-f4c3-4e49-b2f9-2fad45146ac0"
      },
      "source": [
        "# https://www.expedia.com/Las-Vegas-Hotels-TI-Treasure-Island-Hotel-And-Casino.h15930.Hotel-Information?chkin=2020-06-21&chkout=2020-06-22&x_pwa=1&rfrr=HSR&pwa_ts=1592757748667&referrerUrl=aHR0cHM6Ly93d3cuZXhwZWRpYS5jb20vSG90ZWwtU2VhcmNo&useRewards=false&rm1=a1&regionId=178276&destination=Las+Vegas+%28and+vicinity%29%2C+Nevada%2C+United+States+of+America&destType=MARKET&neighborhoodId=800045&trackingData=AAAAEEOHiXi_VTypGLsryPlYbvL8B-2R17b2lm5VUZba0Xx3K4wACcRiZ9_9cKnJyf6y3-5CohoVpqexsUYyuhpOPBcrYVD9Aq1IiNPgdxNVJDYBeoq4KJLsU5-lGVz8Lp7kpfNzS-PnLzjwJvKfILFgoiHZjDO7ykh5uMDa-No1ZRXNW8uOrebxlgfSr_XRJtxPik0CJ7cBtoOShIB8m02N7YaVvhG1VJGH1a_qjkupfUPF56RFGT-h8hNlUeY46VKOk4tk8ZMM2ImjJrKOwnavnOkGpwynLT6cqb112C9S-5TMw6W8ip4u33k1qaacWHfCMRsfYr-QbA3XIJM-CKnI8QLhaQ6HDMBRf-ML8as44CFjAAwefhr-BG_R56qXpyTSQwCpWpE62Kc1KeK-3TlhMp0sK89Vlcs-QmrlRqFlIVgXY2d1oFshBVf_K4jNvWmdYLdt-aDtXT3NBTOu7tmDcpqS9Fz1VWw4Z5F0Z09hb5Jn52_7vj1EA-zWODxfiOq7JH3VbwY7raQ4JjVhQwlGlfzIR7c0ARtKd_TGB57rKIs8-7GuEvtCPDkkzcaegwl3vGpail5jVQn0MXHu6mXbArwSSIXpc-Fc2_WiiHch-QlNFtCa-fvl7CZ6yAypdtGWAqADqptuZfUwDPAJVp0mzB0QlMX7jfuD0XbefkfqyTkWv2RM4xMhjJ8H1n6Vh80-yM5r2V78XdaR1Qd4cGGRVBrbMP0v0L0zLKrpwHrqQC9E3eGuIuNnOeC6gD0HXPI-iyADBag3TkofHZYalI0JigEZqy_5EL4DhHUIWhNqa_2D&rank=3&testVersionOverride=Buttercup%2C31936.102311.0%2C33775.98848.1%2C33131.102168.2%2C33090.106739.0%2C31956.106721.1%2C33739.99567.0%2C34550.106434.0%2C37898.106530.0%2C37186.106071.0%2C37930.106761.0&slots=HSR_DYN&position=8&beaconIssued=2020-06-21T16%3A42%3A27&sort=RECOMMENDED&top_dp=56&top_cur=USD&selectedRoomType=1615&selectedRatePlan=1615\n",
        "review_treasure_island=\"No microwave, no sanitizer no new towel s No napkins in the room. I loved the view I had from my room\\\n",
        " on the 30th floor it was beautiful. But I was upset that I walk in my room the fire alarm had a low battery so I had to deal \\\n",
        " with it beeping all night it was room 30049 then the lamp shade on the desk annoyed me because it was slanted. I have a \\\n",
        " problem with things needing to be in there place correctly. Also on the 30th floor the ICE Machine didn’t work then the \\\n",
        " vending machines for the drinks was out also the snack machine didn’t take credit cards like it said it did. So I would like \\\n",
        " them to see that all the amenities wasn’t working. I like the pool, the music, the roulette tables are amazing. I just \\\n",
        " don’t like the resort fee. I think it’s too much. Room looked like it had not been touched in a while. Every surface was \\\n",
        " very dusty. It was an ok stay for one night but it could have been better. Loved it all.... Very clean and staff was very welcoming...I really recommend it....\\\n",
        " The location of things on the main floor. Didnt like the restaurant or pool it was small an to many people in a small setting and hotel staff took plenty long to bring anything to our room when asked.\\\n",
        " I liked the location, however the hotel is dated and the staff wasn’t organized. We were looking for am accessible hotel that would be home base\\\n",
        "  for our day trips. Treasure Island actually exceeded our expectations in EVERY way!! Considering that Vegas was just coming out from \\\n",
        "  #stayhome we were pleasantly surprised how wonderful our experience was at Treasure Island. It's obvious they were very thoughtful in \\\n",
        "  how they approached the delicacy of meeting COVID Restrictions and keeping their guests and staff safe. I give the staff and management \\\n",
        "  the highest score possible! We were given a guide with the times and days that their restaurants and activities would be available.\\\n",
        "   Not everything was open quite yet. We were provided with enough towels for our stay so there would be no maid service unless we requested. \\\n",
        "   We requested (and actually received) an accessible room with a roll-in shower which had a wall shower fixture that could be adjusted to \\\n",
        "   meet both the shower seat and standing. The finishing touch was there was even a peephole in the door at wheelchair level. I swear \\\n",
        "   I've never seen THAT before!! YAY!! Accessible parking is right next to the bridge on Level 3 which means your just a bridge and an \\\n",
        "   elevator away from the casino and the hotel rooms. This is fabulous not just for people with accessibilities but for families with \\\n",
        "   children who don't want the long casino walks to the hotel lobby or hotel elevators!!\"\n",
        "\n",
        "extractor = pke.unsupervised.TopicRank()\n",
        "\n",
        "\n",
        "# load the content of the document, here document is expected to be in raw\n",
        "# format (i.e. a simple text file) and preprocessing is carried out using spacy\n",
        "extractor.load_document(input=review_treasure_island, language='en')\n",
        "\n",
        "# keyphrase candidate selection, in the case of TopicRank: sequences of nouns\n",
        "# and adjectives (i.e. `(Noun|Adj)*`)\n",
        "extractor.candidate_selection()\n",
        "\n",
        "# candidate weighting, in the case of TopicRank: using a random walk algorithm\n",
        "extractor.candidate_weighting()\n",
        "\n",
        "# N-best selection, keyphrases contains the 10 highest scored candidates as\n",
        "# (keyphrase, score) tuples\n",
        "keyphrases = extractor.get_n_best(n=50)\n",
        "for phrase_prob_pair in keyphrases:\n",
        "  if len(phrase_prob_pair[0].split())>1:\n",
        "    print(phrase_prob_pair[0])\n"
      ],
      "execution_count": null,
      "outputs": [
        {
          "output_type": "stream",
          "text": [
            "30th floor\n",
            "accessible hotel\n",
            "day trips\n",
            "ice machine\n",
            "treasure island\n",
            "many people\n",
            "ok stay\n",
            "wheelchair level\n",
            "highest score possible\n",
            "roulette tables\n",
            "covid restrictions\n",
            "fire alarm\n",
            "home base\n"
          ],
          "name": "stdout"
        }
      ]
    },
    {
      "cell_type": "code",
      "metadata": {
        "id": "muLas5FcTMvn",
        "colab_type": "code",
        "colab": {}
      },
      "source": [
        ""
      ],
      "execution_count": null,
      "outputs": []
    }
  ]
}