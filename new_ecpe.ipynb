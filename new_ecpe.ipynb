{
  "nbformat": 4,
  "nbformat_minor": 0,
  "metadata": {
    "colab": {
      "name": "new_ecpe.ipynb",
      "provenance": [],
      "machine_shape": "hm",
      "authorship_tag": "ABX9TyP7zA8GbSNesS54TToPcW8z",
      "include_colab_link": true
    },
    "kernelspec": {
      "name": "python3",
      "display_name": "Python 3"
    },
    "accelerator": "GPU"
  },
  "cells": [
    {
      "cell_type": "markdown",
      "metadata": {
        "id": "view-in-github",
        "colab_type": "text"
      },
      "source": [
        "<a href=\"https://colab.research.google.com/github/kumar-abhishek/handson-ml2/blob/master/new_ecpe.ipynb\" target=\"_parent\"><img src=\"https://colab.research.google.com/assets/colab-badge.svg\" alt=\"Open In Colab\"/></a>"
      ]
    },
    {
      "cell_type": "code",
      "metadata": {
        "id": "fWGQ-Sot6DXX",
        "colab_type": "code",
        "outputId": "d09de5b0-6610-4692-b16e-6ab49942a118",
        "colab": {
          "base_uri": "https://localhost:8080/",
          "height": 1000
        }
      },
      "source": [
        "!pip install tensorflow==2.0.0\n"
      ],
      "execution_count": 0,
      "outputs": [
        {
          "output_type": "stream",
          "text": [
            "Collecting tensorflow==2.0.0\n",
            "\u001b[?25l  Downloading https://files.pythonhosted.org/packages/46/0f/7bd55361168bb32796b360ad15a25de6966c9c1beb58a8e30c01c8279862/tensorflow-2.0.0-cp36-cp36m-manylinux2010_x86_64.whl (86.3MB)\n",
            "\u001b[K     |████████████████████████████████| 86.3MB 37kB/s \n",
            "\u001b[?25hRequirement already satisfied: keras-applications>=1.0.8 in /usr/local/lib/python3.6/dist-packages (from tensorflow==2.0.0) (1.0.8)\n",
            "Requirement already satisfied: google-pasta>=0.1.6 in /usr/local/lib/python3.6/dist-packages (from tensorflow==2.0.0) (0.2.0)\n",
            "Requirement already satisfied: protobuf>=3.6.1 in /usr/local/lib/python3.6/dist-packages (from tensorflow==2.0.0) (3.10.0)\n",
            "Requirement already satisfied: wrapt>=1.11.1 in /usr/local/lib/python3.6/dist-packages (from tensorflow==2.0.0) (1.12.1)\n",
            "Requirement already satisfied: grpcio>=1.8.6 in /usr/local/lib/python3.6/dist-packages (from tensorflow==2.0.0) (1.28.1)\n",
            "Requirement already satisfied: termcolor>=1.1.0 in /usr/local/lib/python3.6/dist-packages (from tensorflow==2.0.0) (1.1.0)\n",
            "Requirement already satisfied: keras-preprocessing>=1.0.5 in /usr/local/lib/python3.6/dist-packages (from tensorflow==2.0.0) (1.1.0)\n",
            "Collecting tensorflow-estimator<2.1.0,>=2.0.0\n",
            "\u001b[?25l  Downloading https://files.pythonhosted.org/packages/fc/08/8b927337b7019c374719145d1dceba21a8bb909b93b1ad6f8fb7d22c1ca1/tensorflow_estimator-2.0.1-py2.py3-none-any.whl (449kB)\n",
            "\u001b[K     |████████████████████████████████| 450kB 33.5MB/s \n",
            "\u001b[?25hRequirement already satisfied: opt-einsum>=2.3.2 in /usr/local/lib/python3.6/dist-packages (from tensorflow==2.0.0) (3.2.1)\n",
            "Collecting gast==0.2.2\n",
            "  Downloading https://files.pythonhosted.org/packages/4e/35/11749bf99b2d4e3cceb4d55ca22590b0d7c2c62b9de38ac4a4a7f4687421/gast-0.2.2.tar.gz\n",
            "Collecting tensorboard<2.1.0,>=2.0.0\n",
            "\u001b[?25l  Downloading https://files.pythonhosted.org/packages/76/54/99b9d5d52d5cb732f099baaaf7740403e83fe6b0cedde940fabd2b13d75a/tensorboard-2.0.2-py3-none-any.whl (3.8MB)\n",
            "\u001b[K     |████████████████████████████████| 3.8MB 40.6MB/s \n",
            "\u001b[?25hRequirement already satisfied: six>=1.10.0 in /usr/local/lib/python3.6/dist-packages (from tensorflow==2.0.0) (1.12.0)\n",
            "Requirement already satisfied: wheel>=0.26 in /usr/local/lib/python3.6/dist-packages (from tensorflow==2.0.0) (0.34.2)\n",
            "Requirement already satisfied: numpy<2.0,>=1.16.0 in /usr/local/lib/python3.6/dist-packages (from tensorflow==2.0.0) (1.18.3)\n",
            "Requirement already satisfied: astor>=0.6.0 in /usr/local/lib/python3.6/dist-packages (from tensorflow==2.0.0) (0.8.1)\n",
            "Requirement already satisfied: absl-py>=0.7.0 in /usr/local/lib/python3.6/dist-packages (from tensorflow==2.0.0) (0.9.0)\n",
            "Requirement already satisfied: h5py in /usr/local/lib/python3.6/dist-packages (from keras-applications>=1.0.8->tensorflow==2.0.0) (2.10.0)\n",
            "Requirement already satisfied: setuptools in /usr/local/lib/python3.6/dist-packages (from protobuf>=3.6.1->tensorflow==2.0.0) (46.1.3)\n",
            "Requirement already satisfied: google-auth-oauthlib<0.5,>=0.4.1 in /usr/local/lib/python3.6/dist-packages (from tensorboard<2.1.0,>=2.0.0->tensorflow==2.0.0) (0.4.1)\n",
            "Requirement already satisfied: markdown>=2.6.8 in /usr/local/lib/python3.6/dist-packages (from tensorboard<2.1.0,>=2.0.0->tensorflow==2.0.0) (3.2.1)\n",
            "Requirement already satisfied: requests<3,>=2.21.0 in /usr/local/lib/python3.6/dist-packages (from tensorboard<2.1.0,>=2.0.0->tensorflow==2.0.0) (2.21.0)\n",
            "Requirement already satisfied: werkzeug>=0.11.15 in /usr/local/lib/python3.6/dist-packages (from tensorboard<2.1.0,>=2.0.0->tensorflow==2.0.0) (1.0.1)\n",
            "Requirement already satisfied: google-auth<2,>=1.6.3 in /usr/local/lib/python3.6/dist-packages (from tensorboard<2.1.0,>=2.0.0->tensorflow==2.0.0) (1.7.2)\n",
            "Requirement already satisfied: requests-oauthlib>=0.7.0 in /usr/local/lib/python3.6/dist-packages (from google-auth-oauthlib<0.5,>=0.4.1->tensorboard<2.1.0,>=2.0.0->tensorflow==2.0.0) (1.3.0)\n",
            "Requirement already satisfied: idna<2.9,>=2.5 in /usr/local/lib/python3.6/dist-packages (from requests<3,>=2.21.0->tensorboard<2.1.0,>=2.0.0->tensorflow==2.0.0) (2.8)\n",
            "Requirement already satisfied: certifi>=2017.4.17 in /usr/local/lib/python3.6/dist-packages (from requests<3,>=2.21.0->tensorboard<2.1.0,>=2.0.0->tensorflow==2.0.0) (2020.4.5.1)\n",
            "Requirement already satisfied: chardet<3.1.0,>=3.0.2 in /usr/local/lib/python3.6/dist-packages (from requests<3,>=2.21.0->tensorboard<2.1.0,>=2.0.0->tensorflow==2.0.0) (3.0.4)\n",
            "Requirement already satisfied: urllib3<1.25,>=1.21.1 in /usr/local/lib/python3.6/dist-packages (from requests<3,>=2.21.0->tensorboard<2.1.0,>=2.0.0->tensorflow==2.0.0) (1.24.3)\n",
            "Requirement already satisfied: rsa<4.1,>=3.1.4 in /usr/local/lib/python3.6/dist-packages (from google-auth<2,>=1.6.3->tensorboard<2.1.0,>=2.0.0->tensorflow==2.0.0) (4.0)\n",
            "Requirement already satisfied: pyasn1-modules>=0.2.1 in /usr/local/lib/python3.6/dist-packages (from google-auth<2,>=1.6.3->tensorboard<2.1.0,>=2.0.0->tensorflow==2.0.0) (0.2.8)\n",
            "Requirement already satisfied: cachetools<3.2,>=2.0.0 in /usr/local/lib/python3.6/dist-packages (from google-auth<2,>=1.6.3->tensorboard<2.1.0,>=2.0.0->tensorflow==2.0.0) (3.1.1)\n",
            "Requirement already satisfied: oauthlib>=3.0.0 in /usr/local/lib/python3.6/dist-packages (from requests-oauthlib>=0.7.0->google-auth-oauthlib<0.5,>=0.4.1->tensorboard<2.1.0,>=2.0.0->tensorflow==2.0.0) (3.1.0)\n",
            "Requirement already satisfied: pyasn1>=0.1.3 in /usr/local/lib/python3.6/dist-packages (from rsa<4.1,>=3.1.4->google-auth<2,>=1.6.3->tensorboard<2.1.0,>=2.0.0->tensorflow==2.0.0) (0.4.8)\n",
            "Building wheels for collected packages: gast\n",
            "  Building wheel for gast (setup.py) ... \u001b[?25l\u001b[?25hdone\n",
            "  Created wheel for gast: filename=gast-0.2.2-cp36-none-any.whl size=7540 sha256=87fac7e83840a4832552e18b4e33c63cf057109e39522c46e64e8735aca8f369\n",
            "  Stored in directory: /root/.cache/pip/wheels/5c/2e/7e/a1d4d4fcebe6c381f378ce7743a3ced3699feb89bcfbdadadd\n",
            "Successfully built gast\n",
            "\u001b[31mERROR: tensorflow-probability 0.10.0rc0 has requirement gast>=0.3.2, but you'll have gast 0.2.2 which is incompatible.\u001b[0m\n",
            "Installing collected packages: tensorflow-estimator, gast, tensorboard, tensorflow\n",
            "  Found existing installation: tensorflow-estimator 2.2.0\n",
            "    Uninstalling tensorflow-estimator-2.2.0:\n",
            "      Successfully uninstalled tensorflow-estimator-2.2.0\n",
            "  Found existing installation: gast 0.3.3\n",
            "    Uninstalling gast-0.3.3:\n",
            "      Successfully uninstalled gast-0.3.3\n",
            "  Found existing installation: tensorboard 2.2.1\n",
            "    Uninstalling tensorboard-2.2.1:\n",
            "      Successfully uninstalled tensorboard-2.2.1\n",
            "  Found existing installation: tensorflow 2.2.0rc3\n",
            "    Uninstalling tensorflow-2.2.0rc3:\n",
            "      Successfully uninstalled tensorflow-2.2.0rc3\n",
            "Successfully installed gast-0.2.2 tensorboard-2.0.2 tensorflow-2.0.0 tensorflow-estimator-2.0.1\n"
          ],
          "name": "stdout"
        }
      ]
    },
    {
      "cell_type": "code",
      "metadata": {
        "id": "OKgKnMIm6hdc",
        "colab_type": "code",
        "outputId": "dc512e25-8f6b-45f7-eb44-27326f2939f3",
        "colab": {
          "base_uri": "https://localhost:8080/",
          "height": 429
        }
      },
      "source": [
        "!pip install tensorflow-probability==0.8.0"
      ],
      "execution_count": 0,
      "outputs": [
        {
          "output_type": "stream",
          "text": [
            "Collecting tensorflow-probability==0.8.0\n",
            "\u001b[?25l  Downloading https://files.pythonhosted.org/packages/f8/72/29ef1e5f386b65544d4e7002dfeca1e55b099ed182cd6d405c21a19ae259/tensorflow_probability-0.8.0-py2.py3-none-any.whl (2.5MB)\n",
            "\r\u001b[K     |▏                               | 10kB 28.3MB/s eta 0:00:01\r\u001b[K     |▎                               | 20kB 3.0MB/s eta 0:00:01\r\u001b[K     |▍                               | 30kB 4.1MB/s eta 0:00:01\r\u001b[K     |▌                               | 40kB 2.9MB/s eta 0:00:01\r\u001b[K     |▋                               | 51kB 3.2MB/s eta 0:00:01\r\u001b[K     |▉                               | 61kB 3.8MB/s eta 0:00:01\r\u001b[K     |█                               | 71kB 4.1MB/s eta 0:00:01\r\u001b[K     |█                               | 81kB 4.3MB/s eta 0:00:01\r\u001b[K     |█▏                              | 92kB 4.8MB/s eta 0:00:01\r\u001b[K     |█▎                              | 102kB 4.6MB/s eta 0:00:01\r\u001b[K     |█▍                              | 112kB 4.6MB/s eta 0:00:01\r\u001b[K     |█▋                              | 122kB 4.6MB/s eta 0:00:01\r\u001b[K     |█▊                              | 133kB 4.6MB/s eta 0:00:01\r\u001b[K     |█▉                              | 143kB 4.6MB/s eta 0:00:01\r\u001b[K     |██                              | 153kB 4.6MB/s eta 0:00:01\r\u001b[K     |██                              | 163kB 4.6MB/s eta 0:00:01\r\u001b[K     |██▏                             | 174kB 4.6MB/s eta 0:00:01\r\u001b[K     |██▍                             | 184kB 4.6MB/s eta 0:00:01\r\u001b[K     |██▌                             | 194kB 4.6MB/s eta 0:00:01\r\u001b[K     |██▋                             | 204kB 4.6MB/s eta 0:00:01\r\u001b[K     |██▊                             | 215kB 4.6MB/s eta 0:00:01\r\u001b[K     |██▉                             | 225kB 4.6MB/s eta 0:00:01\r\u001b[K     |███                             | 235kB 4.6MB/s eta 0:00:01\r\u001b[K     |███▏                            | 245kB 4.6MB/s eta 0:00:01\r\u001b[K     |███▎                            | 256kB 4.6MB/s eta 0:00:01\r\u001b[K     |███▍                            | 266kB 4.6MB/s eta 0:00:01\r\u001b[K     |███▌                            | 276kB 4.6MB/s eta 0:00:01\r\u001b[K     |███▋                            | 286kB 4.6MB/s eta 0:00:01\r\u001b[K     |███▊                            | 296kB 4.6MB/s eta 0:00:01\r\u001b[K     |████                            | 307kB 4.6MB/s eta 0:00:01\r\u001b[K     |████                            | 317kB 4.6MB/s eta 0:00:01\r\u001b[K     |████▏                           | 327kB 4.6MB/s eta 0:00:01\r\u001b[K     |████▎                           | 337kB 4.6MB/s eta 0:00:01\r\u001b[K     |████▍                           | 348kB 4.6MB/s eta 0:00:01\r\u001b[K     |████▌                           | 358kB 4.6MB/s eta 0:00:01\r\u001b[K     |████▊                           | 368kB 4.6MB/s eta 0:00:01\r\u001b[K     |████▉                           | 378kB 4.6MB/s eta 0:00:01\r\u001b[K     |█████                           | 389kB 4.6MB/s eta 0:00:01\r\u001b[K     |█████                           | 399kB 4.6MB/s eta 0:00:01\r\u001b[K     |█████▏                          | 409kB 4.6MB/s eta 0:00:01\r\u001b[K     |█████▎                          | 419kB 4.6MB/s eta 0:00:01\r\u001b[K     |█████▌                          | 430kB 4.6MB/s eta 0:00:01\r\u001b[K     |█████▋                          | 440kB 4.6MB/s eta 0:00:01\r\u001b[K     |█████▊                          | 450kB 4.6MB/s eta 0:00:01\r\u001b[K     |█████▉                          | 460kB 4.6MB/s eta 0:00:01\r\u001b[K     |██████                          | 471kB 4.6MB/s eta 0:00:01\r\u001b[K     |██████                          | 481kB 4.6MB/s eta 0:00:01\r\u001b[K     |██████▎                         | 491kB 4.6MB/s eta 0:00:01\r\u001b[K     |██████▍                         | 501kB 4.6MB/s eta 0:00:01\r\u001b[K     |██████▌                         | 512kB 4.6MB/s eta 0:00:01\r\u001b[K     |██████▋                         | 522kB 4.6MB/s eta 0:00:01\r\u001b[K     |██████▊                         | 532kB 4.6MB/s eta 0:00:01\r\u001b[K     |██████▉                         | 542kB 4.6MB/s eta 0:00:01\r\u001b[K     |███████                         | 552kB 4.6MB/s eta 0:00:01\r\u001b[K     |███████▏                        | 563kB 4.6MB/s eta 0:00:01\r\u001b[K     |███████▎                        | 573kB 4.6MB/s eta 0:00:01\r\u001b[K     |███████▍                        | 583kB 4.6MB/s eta 0:00:01\r\u001b[K     |███████▌                        | 593kB 4.6MB/s eta 0:00:01\r\u001b[K     |███████▋                        | 604kB 4.6MB/s eta 0:00:01\r\u001b[K     |███████▉                        | 614kB 4.6MB/s eta 0:00:01\r\u001b[K     |████████                        | 624kB 4.6MB/s eta 0:00:01\r\u001b[K     |████████                        | 634kB 4.6MB/s eta 0:00:01\r\u001b[K     |████████▏                       | 645kB 4.6MB/s eta 0:00:01\r\u001b[K     |████████▎                       | 655kB 4.6MB/s eta 0:00:01\r\u001b[K     |████████▍                       | 665kB 4.6MB/s eta 0:00:01\r\u001b[K     |████████▋                       | 675kB 4.6MB/s eta 0:00:01\r\u001b[K     |████████▊                       | 686kB 4.6MB/s eta 0:00:01\r\u001b[K     |████████▉                       | 696kB 4.6MB/s eta 0:00:01\r\u001b[K     |█████████                       | 706kB 4.6MB/s eta 0:00:01\r\u001b[K     |█████████                       | 716kB 4.6MB/s eta 0:00:01\r\u001b[K     |█████████▎                      | 727kB 4.6MB/s eta 0:00:01\r\u001b[K     |█████████▍                      | 737kB 4.6MB/s eta 0:00:01\r\u001b[K     |█████████▌                      | 747kB 4.6MB/s eta 0:00:01\r\u001b[K     |█████████▋                      | 757kB 4.6MB/s eta 0:00:01\r\u001b[K     |█████████▊                      | 768kB 4.6MB/s eta 0:00:01\r\u001b[K     |█████████▉                      | 778kB 4.6MB/s eta 0:00:01\r\u001b[K     |██████████                      | 788kB 4.6MB/s eta 0:00:01\r\u001b[K     |██████████▏                     | 798kB 4.6MB/s eta 0:00:01\r\u001b[K     |██████████▎                     | 808kB 4.6MB/s eta 0:00:01\r\u001b[K     |██████████▍                     | 819kB 4.6MB/s eta 0:00:01\r\u001b[K     |██████████▌                     | 829kB 4.6MB/s eta 0:00:01\r\u001b[K     |██████████▋                     | 839kB 4.6MB/s eta 0:00:01\r\u001b[K     |██████████▉                     | 849kB 4.6MB/s eta 0:00:01\r\u001b[K     |███████████                     | 860kB 4.6MB/s eta 0:00:01\r\u001b[K     |███████████                     | 870kB 4.6MB/s eta 0:00:01\r\u001b[K     |███████████▏                    | 880kB 4.6MB/s eta 0:00:01\r\u001b[K     |███████████▎                    | 890kB 4.6MB/s eta 0:00:01\r\u001b[K     |███████████▍                    | 901kB 4.6MB/s eta 0:00:01\r\u001b[K     |███████████▋                    | 911kB 4.6MB/s eta 0:00:01\r\u001b[K     |███████████▊                    | 921kB 4.6MB/s eta 0:00:01\r\u001b[K     |███████████▉                    | 931kB 4.6MB/s eta 0:00:01\r\u001b[K     |████████████                    | 942kB 4.6MB/s eta 0:00:01\r\u001b[K     |████████████                    | 952kB 4.6MB/s eta 0:00:01\r\u001b[K     |████████████▏                   | 962kB 4.6MB/s eta 0:00:01\r\u001b[K     |████████████▍                   | 972kB 4.6MB/s eta 0:00:01\r\u001b[K     |████████████▌                   | 983kB 4.6MB/s eta 0:00:01\r\u001b[K     |████████████▋                   | 993kB 4.6MB/s eta 0:00:01\r\u001b[K     |████████████▊                   | 1.0MB 4.6MB/s eta 0:00:01\r\u001b[K     |████████████▉                   | 1.0MB 4.6MB/s eta 0:00:01\r\u001b[K     |█████████████                   | 1.0MB 4.6MB/s eta 0:00:01\r\u001b[K     |█████████████▏                  | 1.0MB 4.6MB/s eta 0:00:01\r\u001b[K     |█████████████▎                  | 1.0MB 4.6MB/s eta 0:00:01\r\u001b[K     |█████████████▍                  | 1.1MB 4.6MB/s eta 0:00:01\r\u001b[K     |█████████████▌                  | 1.1MB 4.6MB/s eta 0:00:01\r\u001b[K     |█████████████▋                  | 1.1MB 4.6MB/s eta 0:00:01\r\u001b[K     |█████████████▊                  | 1.1MB 4.6MB/s eta 0:00:01\r\u001b[K     |██████████████                  | 1.1MB 4.6MB/s eta 0:00:01\r\u001b[K     |██████████████                  | 1.1MB 4.6MB/s eta 0:00:01\r\u001b[K     |██████████████▏                 | 1.1MB 4.6MB/s eta 0:00:01\r\u001b[K     |██████████████▎                 | 1.1MB 4.6MB/s eta 0:00:01\r\u001b[K     |██████████████▍                 | 1.1MB 4.6MB/s eta 0:00:01\r\u001b[K     |██████████████▌                 | 1.1MB 4.6MB/s eta 0:00:01\r\u001b[K     |██████████████▊                 | 1.2MB 4.6MB/s eta 0:00:01\r\u001b[K     |██████████████▉                 | 1.2MB 4.6MB/s eta 0:00:01\r\u001b[K     |███████████████                 | 1.2MB 4.6MB/s eta 0:00:01\r\u001b[K     |███████████████                 | 1.2MB 4.6MB/s eta 0:00:01\r\u001b[K     |███████████████▏                | 1.2MB 4.6MB/s eta 0:00:01\r\u001b[K     |███████████████▎                | 1.2MB 4.6MB/s eta 0:00:01\r\u001b[K     |███████████████▌                | 1.2MB 4.6MB/s eta 0:00:01\r\u001b[K     |███████████████▋                | 1.2MB 4.6MB/s eta 0:00:01\r\u001b[K     |███████████████▊                | 1.2MB 4.6MB/s eta 0:00:01\r\u001b[K     |███████████████▉                | 1.2MB 4.6MB/s eta 0:00:01\r\u001b[K     |████████████████                | 1.3MB 4.6MB/s eta 0:00:01\r\u001b[K     |████████████████                | 1.3MB 4.6MB/s eta 0:00:01\r\u001b[K     |████████████████▎               | 1.3MB 4.6MB/s eta 0:00:01\r\u001b[K     |████████████████▍               | 1.3MB 4.6MB/s eta 0:00:01\r\u001b[K     |████████████████▌               | 1.3MB 4.6MB/s eta 0:00:01\r\u001b[K     |████████████████▋               | 1.3MB 4.6MB/s eta 0:00:01\r\u001b[K     |████████████████▊               | 1.3MB 4.6MB/s eta 0:00:01\r\u001b[K     |████████████████▉               | 1.3MB 4.6MB/s eta 0:00:01\r\u001b[K     |█████████████████               | 1.3MB 4.6MB/s eta 0:00:01\r\u001b[K     |█████████████████▏              | 1.4MB 4.6MB/s eta 0:00:01\r\u001b[K     |█████████████████▎              | 1.4MB 4.6MB/s eta 0:00:01\r\u001b[K     |█████████████████▍              | 1.4MB 4.6MB/s eta 0:00:01\r\u001b[K     |█████████████████▌              | 1.4MB 4.6MB/s eta 0:00:01\r\u001b[K     |█████████████████▊              | 1.4MB 4.6MB/s eta 0:00:01\r\u001b[K     |█████████████████▉              | 1.4MB 4.6MB/s eta 0:00:01\r\u001b[K     |██████████████████              | 1.4MB 4.6MB/s eta 0:00:01\r\u001b[K     |██████████████████              | 1.4MB 4.6MB/s eta 0:00:01\r\u001b[K     |██████████████████▏             | 1.4MB 4.6MB/s eta 0:00:01\r\u001b[K     |██████████████████▎             | 1.4MB 4.6MB/s eta 0:00:01\r\u001b[K     |██████████████████▌             | 1.5MB 4.6MB/s eta 0:00:01\r\u001b[K     |██████████████████▋             | 1.5MB 4.6MB/s eta 0:00:01\r\u001b[K     |██████████████████▊             | 1.5MB 4.6MB/s eta 0:00:01\r\u001b[K     |██████████████████▉             | 1.5MB 4.6MB/s eta 0:00:01\r\u001b[K     |███████████████████             | 1.5MB 4.6MB/s eta 0:00:01\r\u001b[K     |███████████████████             | 1.5MB 4.6MB/s eta 0:00:01\r\u001b[K     |███████████████████▎            | 1.5MB 4.6MB/s eta 0:00:01\r\u001b[K     |███████████████████▍            | 1.5MB 4.6MB/s eta 0:00:01\r\u001b[K     |███████████████████▌            | 1.5MB 4.6MB/s eta 0:00:01\r\u001b[K     |███████████████████▋            | 1.5MB 4.6MB/s eta 0:00:01\r\u001b[K     |███████████████████▊            | 1.6MB 4.6MB/s eta 0:00:01\r\u001b[K     |███████████████████▉            | 1.6MB 4.6MB/s eta 0:00:01\r\u001b[K     |████████████████████            | 1.6MB 4.6MB/s eta 0:00:01\r\u001b[K     |████████████████████▏           | 1.6MB 4.6MB/s eta 0:00:01\r\u001b[K     |████████████████████▎           | 1.6MB 4.6MB/s eta 0:00:01\r\u001b[K     |████████████████████▍           | 1.6MB 4.6MB/s eta 0:00:01\r\u001b[K     |████████████████████▌           | 1.6MB 4.6MB/s eta 0:00:01\r\u001b[K     |████████████████████▋           | 1.6MB 4.6MB/s eta 0:00:01\r\u001b[K     |████████████████████▉           | 1.6MB 4.6MB/s eta 0:00:01\r\u001b[K     |█████████████████████           | 1.6MB 4.6MB/s eta 0:00:01\r\u001b[K     |█████████████████████           | 1.7MB 4.6MB/s eta 0:00:01\r\u001b[K     |█████████████████████▏          | 1.7MB 4.6MB/s eta 0:00:01\r\u001b[K     |█████████████████████▎          | 1.7MB 4.6MB/s eta 0:00:01\r\u001b[K     |█████████████████████▍          | 1.7MB 4.6MB/s eta 0:00:01\r\u001b[K     |█████████████████████▋          | 1.7MB 4.6MB/s eta 0:00:01\r\u001b[K     |█████████████████████▊          | 1.7MB 4.6MB/s eta 0:00:01\r\u001b[K     |█████████████████████▉          | 1.7MB 4.6MB/s eta 0:00:01\r\u001b[K     |██████████████████████          | 1.7MB 4.6MB/s eta 0:00:01\r\u001b[K     |██████████████████████          | 1.7MB 4.6MB/s eta 0:00:01\r\u001b[K     |██████████████████████▏         | 1.8MB 4.6MB/s eta 0:00:01\r\u001b[K     |██████████████████████▍         | 1.8MB 4.6MB/s eta 0:00:01\r\u001b[K     |██████████████████████▌         | 1.8MB 4.6MB/s eta 0:00:01\r\u001b[K     |██████████████████████▋         | 1.8MB 4.6MB/s eta 0:00:01\r\u001b[K     |██████████████████████▊         | 1.8MB 4.6MB/s eta 0:00:01\r\u001b[K     |██████████████████████▉         | 1.8MB 4.6MB/s eta 0:00:01\r\u001b[K     |███████████████████████         | 1.8MB 4.6MB/s eta 0:00:01\r\u001b[K     |███████████████████████▏        | 1.8MB 4.6MB/s eta 0:00:01\r\u001b[K     |███████████████████████▎        | 1.8MB 4.6MB/s eta 0:00:01\r\u001b[K     |███████████████████████▍        | 1.8MB 4.6MB/s eta 0:00:01\r\u001b[K     |███████████████████████▌        | 1.9MB 4.6MB/s eta 0:00:01\r\u001b[K     |███████████████████████▋        | 1.9MB 4.6MB/s eta 0:00:01\r\u001b[K     |███████████████████████▊        | 1.9MB 4.6MB/s eta 0:00:01\r\u001b[K     |████████████████████████        | 1.9MB 4.6MB/s eta 0:00:01\r\u001b[K     |████████████████████████        | 1.9MB 4.6MB/s eta 0:00:01\r\u001b[K     |████████████████████████▏       | 1.9MB 4.6MB/s eta 0:00:01\r\u001b[K     |████████████████████████▎       | 1.9MB 4.6MB/s eta 0:00:01\r\u001b[K     |████████████████████████▍       | 1.9MB 4.6MB/s eta 0:00:01\r\u001b[K     |████████████████████████▌       | 1.9MB 4.6MB/s eta 0:00:01\r\u001b[K     |████████████████████████▊       | 1.9MB 4.6MB/s eta 0:00:01\r\u001b[K     |████████████████████████▉       | 2.0MB 4.6MB/s eta 0:00:01\r\u001b[K     |█████████████████████████       | 2.0MB 4.6MB/s eta 0:00:01\r\u001b[K     |█████████████████████████       | 2.0MB 4.6MB/s eta 0:00:01\r\u001b[K     |█████████████████████████▏      | 2.0MB 4.6MB/s eta 0:00:01\r\u001b[K     |█████████████████████████▎      | 2.0MB 4.6MB/s eta 0:00:01\r\u001b[K     |█████████████████████████▌      | 2.0MB 4.6MB/s eta 0:00:01\r\u001b[K     |█████████████████████████▋      | 2.0MB 4.6MB/s eta 0:00:01\r\u001b[K     |█████████████████████████▊      | 2.0MB 4.6MB/s eta 0:00:01\r\u001b[K     |█████████████████████████▉      | 2.0MB 4.6MB/s eta 0:00:01\r\u001b[K     |██████████████████████████      | 2.0MB 4.6MB/s eta 0:00:01\r\u001b[K     |██████████████████████████      | 2.1MB 4.6MB/s eta 0:00:01\r\u001b[K     |██████████████████████████▎     | 2.1MB 4.6MB/s eta 0:00:01\r\u001b[K     |██████████████████████████▍     | 2.1MB 4.6MB/s eta 0:00:01\r\u001b[K     |██████████████████████████▌     | 2.1MB 4.6MB/s eta 0:00:01\r\u001b[K     |██████████████████████████▋     | 2.1MB 4.6MB/s eta 0:00:01\r\u001b[K     |██████████████████████████▊     | 2.1MB 4.6MB/s eta 0:00:01\r\u001b[K     |███████████████████████████     | 2.1MB 4.6MB/s eta 0:00:01\r\u001b[K     |███████████████████████████     | 2.1MB 4.6MB/s eta 0:00:01\r\u001b[K     |███████████████████████████▏    | 2.1MB 4.6MB/s eta 0:00:01\r\u001b[K     |███████████████████████████▎    | 2.2MB 4.6MB/s eta 0:00:01\r\u001b[K     |███████████████████████████▍    | 2.2MB 4.6MB/s eta 0:00:01\r\u001b[K     |███████████████████████████▌    | 2.2MB 4.6MB/s eta 0:00:01\r\u001b[K     |███████████████████████████▊    | 2.2MB 4.6MB/s eta 0:00:01\r\u001b[K     |███████████████████████████▉    | 2.2MB 4.6MB/s eta 0:00:01\r\u001b[K     |████████████████████████████    | 2.2MB 4.6MB/s eta 0:00:01\r\u001b[K     |████████████████████████████    | 2.2MB 4.6MB/s eta 0:00:01\r\u001b[K     |████████████████████████████▏   | 2.2MB 4.6MB/s eta 0:00:01\r\u001b[K     |████████████████████████████▎   | 2.2MB 4.6MB/s eta 0:00:01\r\u001b[K     |████████████████████████████▌   | 2.2MB 4.6MB/s eta 0:00:01\r\u001b[K     |████████████████████████████▋   | 2.3MB 4.6MB/s eta 0:00:01\r\u001b[K     |████████████████████████████▊   | 2.3MB 4.6MB/s eta 0:00:01\r\u001b[K     |████████████████████████████▉   | 2.3MB 4.6MB/s eta 0:00:01\r\u001b[K     |█████████████████████████████   | 2.3MB 4.6MB/s eta 0:00:01\r\u001b[K     |█████████████████████████████   | 2.3MB 4.6MB/s eta 0:00:01\r\u001b[K     |█████████████████████████████▎  | 2.3MB 4.6MB/s eta 0:00:01\r\u001b[K     |█████████████████████████████▍  | 2.3MB 4.6MB/s eta 0:00:01\r\u001b[K     |█████████████████████████████▌  | 2.3MB 4.6MB/s eta 0:00:01\r\u001b[K     |█████████████████████████████▋  | 2.3MB 4.6MB/s eta 0:00:01\r\u001b[K     |█████████████████████████████▊  | 2.3MB 4.6MB/s eta 0:00:01\r\u001b[K     |█████████████████████████████▉  | 2.4MB 4.6MB/s eta 0:00:01\r\u001b[K     |██████████████████████████████  | 2.4MB 4.6MB/s eta 0:00:01\r\u001b[K     |██████████████████████████████▏ | 2.4MB 4.6MB/s eta 0:00:01\r\u001b[K     |██████████████████████████████▎ | 2.4MB 4.6MB/s eta 0:00:01\r\u001b[K     |██████████████████████████████▍ | 2.4MB 4.6MB/s eta 0:00:01\r\u001b[K     |██████████████████████████████▌ | 2.4MB 4.6MB/s eta 0:00:01\r\u001b[K     |██████████████████████████████▋ | 2.4MB 4.6MB/s eta 0:00:01\r\u001b[K     |██████████████████████████████▉ | 2.4MB 4.6MB/s eta 0:00:01\r\u001b[K     |███████████████████████████████ | 2.4MB 4.6MB/s eta 0:00:01\r\u001b[K     |███████████████████████████████ | 2.4MB 4.6MB/s eta 0:00:01\r\u001b[K     |███████████████████████████████▏| 2.5MB 4.6MB/s eta 0:00:01\r\u001b[K     |███████████████████████████████▎| 2.5MB 4.6MB/s eta 0:00:01\r\u001b[K     |███████████████████████████████▍| 2.5MB 4.6MB/s eta 0:00:01\r\u001b[K     |███████████████████████████████▋| 2.5MB 4.6MB/s eta 0:00:01\r\u001b[K     |███████████████████████████████▊| 2.5MB 4.6MB/s eta 0:00:01\r\u001b[K     |███████████████████████████████▉| 2.5MB 4.6MB/s eta 0:00:01\r\u001b[K     |████████████████████████████████| 2.5MB 4.6MB/s eta 0:00:01\r\u001b[K     |████████████████████████████████| 2.5MB 4.6MB/s \n",
            "\u001b[?25hCollecting cloudpickle==1.1.1\n",
            "  Downloading https://files.pythonhosted.org/packages/24/fb/4f92f8c0f40a0d728b4f3d5ec5ff84353e705d8ff5e3e447620ea98b06bd/cloudpickle-1.1.1-py2.py3-none-any.whl\n",
            "Requirement already satisfied: numpy>=1.13.3 in /usr/local/lib/python3.6/dist-packages (from tensorflow-probability==0.8.0) (1.18.3)\n",
            "Requirement already satisfied: decorator in /usr/local/lib/python3.6/dist-packages (from tensorflow-probability==0.8.0) (4.4.2)\n",
            "Requirement already satisfied: gast<0.3,>=0.2 in /usr/local/lib/python3.6/dist-packages (from tensorflow-probability==0.8.0) (0.2.2)\n",
            "Requirement already satisfied: six>=1.10.0 in /usr/local/lib/python3.6/dist-packages (from tensorflow-probability==0.8.0) (1.12.0)\n",
            "\u001b[31mERROR: gym 0.17.1 has requirement cloudpickle<1.4.0,>=1.2.0, but you'll have cloudpickle 1.1.1 which is incompatible.\u001b[0m\n",
            "Installing collected packages: cloudpickle, tensorflow-probability\n",
            "  Found existing installation: cloudpickle 1.3.0\n",
            "    Uninstalling cloudpickle-1.3.0:\n",
            "      Successfully uninstalled cloudpickle-1.3.0\n",
            "  Found existing installation: tensorflow-probability 0.10.0rc0\n",
            "    Uninstalling tensorflow-probability-0.10.0rc0:\n",
            "      Successfully uninstalled tensorflow-probability-0.10.0rc0\n",
            "Successfully installed cloudpickle-1.1.1 tensorflow-probability-0.8.0\n"
          ],
          "name": "stdout"
        },
        {
          "output_type": "display_data",
          "data": {
            "application/vnd.colab-display-data+json": {
              "pip_warning": {
                "packages": [
                  "cloudpickle"
                ]
              }
            }
          },
          "metadata": {
            "tags": []
          }
        }
      ]
    },
    {
      "cell_type": "code",
      "metadata": {
        "id": "8s7Hq5tj6jHf",
        "colab_type": "code",
        "outputId": "87ed4fb2-1209-44e3-896c-00482f9a50d6",
        "colab": {
          "base_uri": "https://localhost:8080/",
          "height": 85
        }
      },
      "source": [
        "%tensorflow_version 2.x\n",
        "%tensorflow_version\n",
        "\n"
      ],
      "execution_count": 0,
      "outputs": [
        {
          "output_type": "stream",
          "text": [
            "Currently selected TF version: 2.x\n",
            "Available versions:\n",
            "* 1.x\n",
            "* 2.x\n"
          ],
          "name": "stdout"
        }
      ]
    },
    {
      "cell_type": "code",
      "metadata": {
        "id": "bGvLlsaM6kix",
        "colab_type": "code",
        "colab": {}
      },
      "source": [
        "\n",
        "import unicodedata\n",
        "import re\n",
        "import numpy as np\n",
        "import os\n",
        "import io\n",
        "import time\n",
        "from tensorflow import keras\n",
        "import tensorflow as tf\n",
        "from tensorflow.keras.preprocessing.sequence import pad_sequences"
      ],
      "execution_count": 0,
      "outputs": []
    },
    {
      "cell_type": "code",
      "metadata": {
        "id": "LAdiSXCn6lmN",
        "colab_type": "code",
        "colab": {}
      },
      "source": [
        "emotion_seeds = set([\"ashamed\", \"delighted\", \"pleased\", \"concerned\", \"delight\", \"happy\", \"embarrassed\", \"furious\", \"nervous\", \n",
        "                     \"miffed\", \"angry\", \"mad\", \"anger\", \"excitement\", \"horror\", \"resentful\", \"astonished\", \"revulsion\", \n",
        "                     \"frightened\", \"cross\", \"sad\", \"down\", \"astonishment\", \"miserable\", \"worried\", \"sorrow\", \"overjoyed\",\n",
        "                     \"dismay\", \"grief\", \"annoyance\", \"alarmed\", \"astounded\", \"anguish\", \"despair\", \"infuriated\", \n",
        "                     \"embarrassment\", \"peeved\", \"amused\", \"disgruntled\", \"indignant\", \"thrilled\", \"anxious\", \"excited\",\n",
        "                     \"exasperation\", \"petrified\", \"heartbroken\", \"saddened\", \"depressed\", \"dismayed\", \"frustrated\", \"fedup\", \"livid\",\n",
        "                     \"revulsion\", \"bewildered\", \"flabbergasted\", \"happier\", \"ecstatic\", \"elation\", \"exhilarated\", \"exhilaration\",\n",
        "                     \"glee\", \"gleeful\", \"crestfallen\", \"sadness\", \"amusement\", \"dejected\", \"desolate\", \"despondency\", \"horrors\",\n",
        "                     \"agitated\", \"disquiet\", \"horrified\", \"exasperated\", \"irked\", \"disgruntlement\", \"sickened\", \"revolted\",\n",
        "                     \"devastated\", \"heartbreak\", \"inconsolable\", \"bewilderment\", \"nonplussed\", \"puzzlement\", \"disquieted\",\n",
        "                     \"glum\", \"downcast\", \"griefstricken\", \"startled\", \"disgusted\"])"
      ],
      "execution_count": 0,
      "outputs": []
    },
    {
      "cell_type": "code",
      "metadata": {
        "id": "w8IVMVZgyfZb",
        "colab_type": "code",
        "outputId": "22f72771-bc13-4297-bd21-41b5b4d123d0",
        "colab": {
          "base_uri": "https://localhost:8080/",
          "height": 1000
        }
      },
      "source": [
        "emotion_seeds"
      ],
      "execution_count": 0,
      "outputs": [
        {
          "output_type": "execute_result",
          "data": {
            "text/plain": [
              "{'agitated',\n",
              " 'alarmed',\n",
              " 'amused',\n",
              " 'amusement',\n",
              " 'anger',\n",
              " 'angry',\n",
              " 'anguish',\n",
              " 'annoyance',\n",
              " 'anxious',\n",
              " 'ashamed',\n",
              " 'astonished',\n",
              " 'astonishment',\n",
              " 'astounded',\n",
              " 'bewildered',\n",
              " 'bewilderment',\n",
              " 'concerned',\n",
              " 'crestfallen',\n",
              " 'cross',\n",
              " 'dejected',\n",
              " 'delight',\n",
              " 'delighted',\n",
              " 'depressed',\n",
              " 'desolate',\n",
              " 'despair',\n",
              " 'despondency',\n",
              " 'devastated',\n",
              " 'disgruntled',\n",
              " 'disgruntlement',\n",
              " 'disgusted',\n",
              " 'dismay',\n",
              " 'dismayed',\n",
              " 'disquiet',\n",
              " 'disquieted',\n",
              " 'down',\n",
              " 'downcast',\n",
              " 'ecstatic',\n",
              " 'elation',\n",
              " 'embarrassed',\n",
              " 'embarrassment',\n",
              " 'exasperated',\n",
              " 'exasperation',\n",
              " 'excited',\n",
              " 'excitement',\n",
              " 'exhilarated',\n",
              " 'exhilaration',\n",
              " 'fedup',\n",
              " 'flabbergasted',\n",
              " 'frightened',\n",
              " 'frustrated',\n",
              " 'furious',\n",
              " 'glee',\n",
              " 'gleeful',\n",
              " 'glum',\n",
              " 'grief',\n",
              " 'griefstricken',\n",
              " 'happier',\n",
              " 'happy',\n",
              " 'heartbreak',\n",
              " 'heartbroken',\n",
              " 'horrified',\n",
              " 'horror',\n",
              " 'horrors',\n",
              " 'inconsolable',\n",
              " 'indignant',\n",
              " 'infuriated',\n",
              " 'irked',\n",
              " 'livid',\n",
              " 'mad',\n",
              " 'miffed',\n",
              " 'miserable',\n",
              " 'nervous',\n",
              " 'nonplussed',\n",
              " 'overjoyed',\n",
              " 'peeved',\n",
              " 'petrified',\n",
              " 'pleased',\n",
              " 'puzzlement',\n",
              " 'resentful',\n",
              " 'revolted',\n",
              " 'revulsion',\n",
              " 'sad',\n",
              " 'saddened',\n",
              " 'sadness',\n",
              " 'sickened',\n",
              " 'sorrow',\n",
              " 'startled',\n",
              " 'thrilled',\n",
              " 'worried'}"
            ]
          },
          "metadata": {
            "tags": []
          },
          "execution_count": 57
        }
      ]
    },
    {
      "cell_type": "code",
      "metadata": {
        "id": "1nBLnXu06m5p",
        "colab_type": "code",
        "colab": {}
      },
      "source": [
        "# input is sentence, output is emotion cause pairs\n",
        "# Determine clauses by splitting on punctuation.\n",
        "\n",
        "# preprocess\n",
        "\n",
        "# Converts the unicode file to ascii\n",
        "def unicode_to_ascii(s):\n",
        "  return ''.join(c for c in unicodedata.normalize('NFD', s)\n",
        "      if unicodedata.category(c) != 'Mn')\n",
        "\n",
        "def remove_nonascii(w):\n",
        "  w = unicode_to_ascii(w.lower().strip())\n",
        "\n",
        "  # creating a space between a word and the punctuation following it\n",
        "  # eg: \"he is a boy.\" => \"he is a boy .\"\n",
        "  # Reference:- https://stackoverflow.com/questions/3645931/python-padding-punctuation-with-white-spaces-keeping-punctuation\n",
        "  w = re.sub(r\"([?.!,¿])\", r\" \\1 \", w)\n",
        "  w = re.sub(r'[\" \"]+', \" \", w)\n",
        "\n",
        "  # replacing everything with space except (a-z, A-Z, \".\", \"?\", \"!\", \",\")\n",
        "  w = re.sub(r\"[^a-zA-Z?.!,¿]+\", \" \", w)\n",
        "\n",
        "  w = w.strip()\n",
        "  return w\n",
        "\n",
        "\n",
        "def preprocess_sentence(w):\n",
        "  w = remove_nonascii(w)  \n",
        "  # adding a start and an end token to the sentence\n",
        "  # so that the model know when to start and stop predicting.\n",
        "  w = '<start> ' + w + ' <end>'\n",
        "  return w"
      ],
      "execution_count": 0,
      "outputs": []
    },
    {
      "cell_type": "code",
      "metadata": {
        "id": "A06WqmXA6od_",
        "colab_type": "code",
        "colab": {}
      },
      "source": [
        "def extract_cause(text):\n",
        "  cur_cause=''\n",
        "  try:\n",
        "    cur_cause = re.findall('<cause>(.*?)<\\\\\\cause>', text)[0]\n",
        "    # Remove tags from line\n",
        "    text=re.sub('<cause>', '', text)\n",
        "    text=re.sub('<\\\\\\cause>', '', text)\n",
        "  except:\n",
        "    pass\n",
        "  #print('here:', text)\n",
        "  return (cur_cause, text)"
      ],
      "execution_count": 0,
      "outputs": []
    },
    {
      "cell_type": "code",
      "metadata": {
        "id": "rt0Jtl0v6p7C",
        "colab_type": "code",
        "colab": {}
      },
      "source": [
        "def clean_filter_clauses(all_clauses):\n",
        "  cause = ''\n",
        "  clauses=[]\n",
        "  for clause in all_clauses:\n",
        "    e_cause, e_text = extract_cause(clause)\n",
        "    if e_cause!='':\n",
        "      cause = remove_nonascii(e_cause)\n",
        "    clauses.append(remove_nonascii(e_text))\n",
        "  return cause, clauses\n",
        "\n"
      ],
      "execution_count": 0,
      "outputs": []
    },
    {
      "cell_type": "code",
      "metadata": {
        "id": "Z4uOCxZl6skI",
        "colab_type": "code",
        "colab": {}
      },
      "source": [
        "\n",
        "path_to_file = \"data.txt\"  \n",
        "# 1. Remove any accents\n",
        "# 2. Clean the sentences\n",
        "# 3. Return word pairs in the format: [document, emotion, cause, clauses list]\n",
        "document=[]\n",
        "emotion=[]\n",
        "cause=[]\n",
        "clause=[]\n",
        "clause_global=[]\n",
        "emotion_label=[]\n",
        "cause_label=[]\n",
        "def create_dataset(path, num_examples):\n",
        "  document.clear()\n",
        "  emotion.clear()\n",
        "  cause.clear()\n",
        "  clause.clear()\n",
        "  clause_global.clear()\n",
        "  emotion_label.clear()\n",
        "  cause_label.clear()\n",
        "  lines = io.open(path, encoding='UTF-8').read().strip().split('\\n')\n",
        "  for i, line in enumerate(lines[:num_examples]):\n",
        "    cur_emotion = re.findall('<(.*?)>', line)[0]\n",
        "    # removing emotion tag in document\n",
        "    text_without_emotion=line[2+len(cur_emotion):len(line)-len(cur_emotion)-3]\n",
        "    #document.append(text_without_emotion)\n",
        "    emotion.append(cur_emotion)\n",
        "\n",
        "    # Determine clauses by splitting on punctuation.\n",
        "    all_clauses = re.split(\"[.,!;:\\\"]+\", text_without_emotion)\n",
        "    filter_cause, filter_clauses = clean_filter_clauses(all_clauses)\n",
        "    cause.append(filter_cause)\n",
        "    clause.append([filter_clauses])\n",
        "    doc = extract_cause(text_without_emotion)[1]\n",
        "    # clean up document\n",
        "    clean_doc = preprocess_sentence(doc)\n",
        "    document.append(clean_doc)\n",
        "\n",
        "    clause_global.extend(filter_clauses)\n",
        "    for fclause in filter_clauses:\n",
        "      if fclause==filter_cause:\n",
        "        cause_label.append(1)\n",
        "      else:\n",
        "        cause_label.append(0)\n",
        "\n",
        "      has_emotion_label=False\n",
        "      for eseed in emotion_seeds:\n",
        "        if eseed in fclause:\n",
        "          has_emotion_label=True\n",
        "          emotion_label.append(eseed)\n",
        "          break\n",
        "      if has_emotion_label==False:\n",
        "        emotion_label.append('')\n",
        "        \n",
        "  return [document, emotion, cause, clause, clause_global, cause_label, emotion_label]"
      ],
      "execution_count": 0,
      "outputs": []
    },
    {
      "cell_type": "code",
      "metadata": {
        "id": "oxZfXpSQ6trV",
        "colab_type": "code",
        "outputId": "bb589723-7197-4362-e003-360d9583fd60",
        "colab": {
          "base_uri": "https://localhost:8080/",
          "height": 561
        }
      },
      "source": [
        "document, emotion, cause, clause_list, clause_global, cause_label, emotion_label = create_dataset(path_to_file, 500)\n",
        "print('number of documents: ', len(document),'\\n')\n",
        "for i in range(5):\n",
        "  # print(document[i])\n",
        "  #print('emotion', emotion[i])\n",
        "  # print(cause[i])\n",
        "  # print(clause_list[i])\n",
        "  # print('\\n')\n",
        "  print('clause: ', clause_global[i])\n",
        "  print('cause label: ', cause_label[i])\n",
        "  print('emotion label: ', emotion_label[i])\n",
        "  print('\\n--------\\n')"
      ],
      "execution_count": 0,
      "outputs": [
        {
          "output_type": "stream",
          "text": [
            "number of documents:  500 \n",
            "\n",
            "clause:  i suppose i am happy\n",
            "cause label:  0\n",
            "emotion label:  happy\n",
            "\n",
            "--------\n",
            "\n",
            "clause:  being so tiny\n",
            "cause label:  1\n",
            "emotion label:  \n",
            "\n",
            "--------\n",
            "\n",
            "clause:  it means i am able to surprise people with what is generally seen as my confident and outgoing personality\n",
            "cause label:  0\n",
            "emotion label:  \n",
            "\n",
            "--------\n",
            "\n",
            "clause:  \n",
            "cause label:  0\n",
            "emotion label:  \n",
            "\n",
            "--------\n",
            "\n",
            "clause:  lennox has always truly wanted to fight for the world title and was happy\n",
            "cause label:  0\n",
            "emotion label:  happy\n",
            "\n",
            "--------\n",
            "\n"
          ],
          "name": "stdout"
        }
      ]
    },
    {
      "cell_type": "code",
      "metadata": {
        "id": "0b_RpTzi6xJ-",
        "colab_type": "code",
        "colab": {}
      },
      "source": [
        "# X=document\n",
        "# y=emotion\n",
        "# y=np.asarray(y)\n",
        "# print(y, type(y))\n",
        "\n",
        "X=clause_global\n",
        "y_cause=np.asarray(cause_label)\n",
        "y_emotion=np.asarray(emotion_label)"
      ],
      "execution_count": 0,
      "outputs": []
    },
    {
      "cell_type": "code",
      "metadata": {
        "id": "sO-L6XjD6yjK",
        "colab_type": "code",
        "outputId": "faac4522-d3ad-490d-ccaa-bedff3167e1b",
        "colab": {
          "base_uri": "https://localhost:8080/",
          "height": 105
        }
      },
      "source": [
        "print(clause_global)\n",
        "print( type(clause_global))\n",
        "\n",
        "print('y_cause: ', y_cause, type(y_cause))\n",
        "print('y_emotion: ', y_emotion)"
      ],
      "execution_count": 0,
      "outputs": [
        {
          "output_type": "stream",
          "text": [
            "['i suppose i am happy', 'being so tiny', 'it means i am able to surprise people with what is generally seen as my confident and outgoing personality', '', 'lennox has always truly wanted to fight for the world title and was happy', 'because he was taking the tough route', '', 'he was a professional musician now', 'still sensitive and happy', 'doing something he loved', '', 'holmes is happy', 'because', 'he has the freedom of the house when we are out', '', 'i had problems with tutors trying to encourage me to diversify my work and experiment with other styles', 'but i was quite happy', 'with the direction my work was heading so i stubbornly stuck to it', '', 'these days he is quite happy', 'since', 'he is travelling by trolley', '', 'i m really happy', 'in the group now', '', '', 'i was given a dummy in which to do my preliminary sketches', 'but the dummy was designed so beautifully by amelia edwards that i was really happy', 'with my work', '', 'i must say i was totally happy', 'about her going on at yeo davis', 'with me in the government', '', 'indeed', 'the two m boys themselves were not totally happy at first', 'at having these initially undisciplined children visiting their home and generally being around on a regular basis', '', 'i am very happy', 'with the way i am playing but i accept that he believes he should be england s fly half', '', 'but seriously', 'i m very happy', 'that you re staying', '', 'we are very happy', 'that the volkswagen tour has enabled us to welcome this renowned orchestra to the festival for the first time', '', 'in the last days of the trail', 'however', 'he became much happier', 'to take risks', 'although babies remained unkissed', '', 'a drop of scotch during occasional periods of self criticism helped him to become happy', 'with himself', 'but most of the time he was happy anyway', '', 'he felt suddenly happy', 'at being alive', '', 'what i did n t understand was why i did n t feel happy', 'walking down the street afterwards', '', 'sarah tried to stop herself from feeling happy', 'at this revelation', '', 'he seemed happy', 'with this', '', 'nevertheless', 'no writer', 'however self sufficient', 'writes without a thought of an audience', 'and tolkien was happy', 'to discover anyone who could appreciate what he was up to', '', 'he s just happy', 'to get on with it', '', 'neil kinnock was happy', 'that his deputy should spell out his commitment to equality as labour s objective', '', 'i was happy', 'that i was having my own baby but sometimes i used to cry for nothing and i was easily upset', '', 'we are not happy', 'that the group is meeting sinn fein and will demand an explanation from the consulate', '', 'i m so happy', 'you could make it', 'my favourite jockey', '', '', 'said his co boss curbishley', 'i was a bit disappointed when lennie lawrence at middlesbrough did n t come up with the price we d fixed but i m happy', 'the lad is still here', '', 'do you have a delight', 'in animals and skill in their management ?', 'the book also moves close to a highly critical analysis of science and yet never becomes anti science', 'only anti scientific', 'jones s own delight', 'in physics enthusiastically drawing the sting out of his own criticism', '', 'but he was sniffily dismayed at their delight', 'in consumerism and sheep like attitude to the reactionary rubbish in the papers', '', 'trying to hide her enormous delight', 'in his return', 'juliet turned to david', '', 'estelle s delight', 'in thomas made your mother very happy', '', 'ashley recalled', 'her head resting against his chest', '', 'she cackled and slapped her knees', 'bent double and wheezing with delight', 'at her own witticisms', '', 'my delight', 'at everything i saw', 'was beyond bounds gardens were allotted my sister and self', 'there was the canal to fish in', 'and a pony to ride besides animals of different kinds', 'they were astonished to see the penguin', 'and swooped low to call out with delight', 'at her sleek feathers and solid little body', '', 'the anc', 'while expressing delight', 'at their decision', 'nevertheless continued to call for the dissolution of the tricameral parliament', 'which it regarded as essentially racist', '', 'her stumbling repetition masked a growing delight', 'at his basic error', '', 'bobby robson s delight', 'at having guided his team to another major tourament was coupled with gratitude to the year old goalkeeper', '', 'expressing his delight', 'at being appointed', 'he said', 'this is the one job i had hoped for', '', '', 'headmaster jim jones recalled her delight', 'at winning the egg and spoon race', '', 'the delight', 'at being finally united with joan was tempered by a feeling of discomfort about ronnie leahy', '', 'minton s sober and workmanlike drawings instance his delight', 'in registering rhythmic activity and industrial shapes', '', 'his delight and sense of wonder', 'at the growth of his baby were erratic as other interests pressed', 'but real enough', '', 'yes', 'i d like to declare a small case of french flu', 'a dangerous fondness for flaubert', 'a childish delight', 'in french road signs', 'and a love of the light as you look north', '', 'the celebration of sexuality found in the works of sidur', 'neizvestny and others', 'stemmed partly from the mischievous delight', 'in taunting society s taboos', '', 'it was also due to a barbaric delight', 'in high sounding verbiage', 'and probably this was the most powerful reason for its use', '', 're was at first pleased but soon realised that hathor s delight', 'in killing might lead to the destruction of all mankind', 'which he had not intended', '', 'their cheerfulness and delight', 'at still being alive only made charlie feel more guilty', '', 'this time ronni admitted it', 'feeling a little like a traitor at the confession and at the sense of pure delight she felt', 'at guido s gesture', '', 'in the end', 'the poems must be read as expressions of sheer delight', 'in friendship', '', 'with such obvious delight', 'in food', 'it s hard to see how blanc remains so slim', '', 'the animal seemed to take a perverse delight', 'in terrorizing him', '', 'all he d glimpsed through the window was matta playing solitaire of some kind', 'so why had the man taken such delight', 'in terrifying him ?', 'but do i take delight', 'cause in pushing you down', 'making you worse cause ?', 'todd showed delight', 'in simple songs and reverence when invited to pray', '', 'but my chairman and vice chairman have given me another year s contract', 'and i m absolutely delighted', 'to be staying at nottingham forest', '', 'i m absolutely delighted', 'cause that we achieved what we set out to do at the beginning of the week', 'which was to ensure that the ryder cup stayed on this side of the atlantic cause', '', 'highly delighted', 'with the transaction', 'we made our way back to althorp street', 'wondering how we were to break the news to mrs sugden', '', 'both mr souness and jim smith', 'the portsmouth manager', 'emphasised how delighted they were', 'with the overall quality of yesterday s tie', '', 'she was on her feet taking his hand', 'smiling at him', 'telling him how delighted she was', 'to meet him', '', 'sir', 'i am writing to say how delighted i am', 'with your magazine', '', 'mr mitterrand appears so delighted', 'with the ultra courteous edouard balladur', 'that some socialists wonder whether he has at last found the prime minister of his dreams', '', 'i was responsible for community programme for the last months of its life', 'so i m delighted', 'to be involved in introducing community action', '', 'so we re delighted', 'to bring our conference to support our members in portsmouth', '', 'the buenos aires flight was delayed and the plane horribly hot', 'but this did n t upset the passengers who seemed delighted', 'to be going home', '', 'the proprietress seemed delighted', 'to see them', '', 'for the watching world', 'she smiled and laughed', 'seeming perfectly delighted', 'with her husband and newfound status', '', 'he did n t seem too delighted', 'to see you', '', 'said betty', '', 'advertisers said they were delighted', 'to see many of their proposals reflected in the government s approach', '', 'whether or not the palace actually arranged for the drawing to be removed', 'there can be little doubt that they were delighted', 'to be rid of it', '', 'i am delighted', 'that you are so cheerful and optimistic', '', 'on the other hand', 'she suspected that fowler thrown would be delighted', 'to have a private view of newley s collection', '', 'obviously', 'staff will be delighted', 'that the appointment of a new director has been made', 'and sad that tom has gone but it is the proposed reorganisation which will occupy the minds of most staff', '', 'i was delighted', 'cause to see the photograph of the staff from department one', 'published in the january february issue of wimpey news cause', '', 'they were delighted', 'with the turnout of spectators and the general organisations by local authorities', '', 'we are delighted', 'to help the museum extend its collection', '', 'said mr watson', '', 'not having entered art competitions before', 'i m delighted', 'to have reached the finals', '', 'i m delighted', 'to learn that his advice has been sought in the present enterprise', '', 'we act cool', 'like we re not delighted', 'to meet up again', 'then we sit round the kitchen table and talk', '', 'my lord mayor', 'i m delighted', 'to have this opportunity to debate the government s health reforms again', '', 'delighted', 'to be taken for another ride in another car', 'the little boy chuckled', '', 'i m delighted', 'that you ve been able to come along at such short notice', '', 'what is it ?', 'asked the eight year old', 'delighted', 'that he had somehow managed to amuse this mature woman of nineteen', '', 'now that i ve seen the finished copy i m delighted', 'that i encouraged susan to write it', '', 'said mrs major', '', 'li yuan was smiling broadly', 'pleased with himself', 'proud of his scheme', 'and delighted', 'that he had tsu ma s approval', '', 'though relieved', 'and fiercely delighted', 'that she had apparently stopped him in his tracks', 'polly was apprehensive about going back up on deck', '', 'i m delighted', 'they left you the house', '', 'julia told margaret', '', 'we were all very worried about you and i m delighted', 'you re home again', '', 'i m delighted', 'you re so pleased to see me', '', '', 'lee and ian have shown they have what it takes to earn first year professional terms and i m delighted', 'they ve agreed to join us', '', 'mcgoldrick signed on for four years after talks with highbury boss george graham and said', 'i m delighted', 'it s all gone through so smoothly', '', '', 'sammy stuck his nose in the air', 'delighted', 'at such attention', '', 'the dog', 'delighted', 'at last to have some attention paid to it', 'raced ahead', 'scenting rabbits', 'his great tail pluming', '', 'he appeared delighted', 'at the prospect', '', 'looking anything but delighted', 'at the prospect', 'he stood up', '', 'she grinned', 'delighted', 'at this mind reading', '', 'she cackled', 'delighted', 'with the queasy mixture on the plate', 'hot brown coffee lapping at the pale wedge of sugared pastry', '', 'delighted', 'with their silver medals for reaching the final against the world champions', 'england saw the match open with an expected win by the world champion jorgen persson over english champion chen xinhua', '', '', 'in my youth', '', 'says baxter', 'i was quickly past my fundamentals and was running up into a multitude of controversies', 'and greatly delighted', 'with metaphysical and scholastic writings', '', '', 'modigliani', 'delighted', 'with the atmosphere of warmth and sincerity', 'resumed his friendship with soutine and indenbaum', '', 'and', 'remember', 'as with all our offers', 'we guarantee to refund your money if you re not delighted', 'with your purchase', '', 'he chuckled', 'delighted', 'at having amazed her', '', 'delighted', 'at having gained his complete attention', 'lori squirmed in her seat', '', 'morrissey was ecstatic', 'at the response', '', 'if you use a fax card you ll be ecstatic', 'to see that wordstar has the capacity to create faxable files in a matter of seconds', '', 'with a grimace', 'donal murmured gloomily', 'he was n t exactly ecstatic', 'at my explanation', '', '', 'thank you', 'thank you', '', 'she cried', 'quite ecstatic', 'that he d unbent', '', 'well ?', 'he barked', 'clearly not ecstatic', 'that she thought she could lay down conditions', '', 'every time they got near him', 'he backed off', 'ecstatic', 'with excitement', 'tail wagging furiously', '', 'the elation', 'of witnessing birth may be followed by a sense of disorientation at being a displaced person', '', 'but richard s elation', 'at regaining his health was short lived because his kidneys started to fail', '', 'rescued dogs are often somewhat nervous of people', 'and yet may also become excited', 'to see you', 'when you have been out', 'for example', '', 'i could n t wait for the pictures to come out', 'i was so excited', 'to see them', '', 'i am so excited', 'about seeing my sons again', '', 'they are naturally excited', 'about getting the championship back after years', '', 'he said', '', 'this man introduced me to an agent who did n t look all that excited', 'to see me and was only obliging a friend', '', '', 'now that he was committed to a course of action he felt exhilarated', '', 'he was exhilarated', 'when he heard ornette coleman improvising free jazz with his plastic saxophone at a club', '', 'reflecting on the experience', 'donia said', 'i think you re exhilarated', 'by the determination and strength of the human spirit', '', 'her cheeks were already aglow from a combination of the heat and the exhilaration', 'of being the centre of attention', 'and this had lent an extra', 'youthful radiance to her beauty', '', 'clive also attended', 'visibly gleeful', 'that he had spared the school any undesirable publicity by unloading me in the nick of time', '', 'mention of the press s glee', 'at the humiliation of the investigators behind this summer s high profile surveillance project operation blackbird', 'who were fooled by an obvious hoax', 'brings out tarr s own nascent conspiracy theory', '', 'many labour mps could not hide their glee', 'at the snp s action', 'such is their antipathy to cross party co operation', '', 'whereas in crime and punishment and in the novels which follow he can', 'though his narrow glee', 'over being ahead of the fact is unworthy of his art and of what idealism', 'and deeper realism', 'intend', '', 'on reaching the fish i let out a cry of triumph', 'overjoyed', 'to have got there while conveniently forgetting the verdon like wall which lay above', '', 'thacker was not overjoyed', 'to see them', 'but he played along', 'switching on the charm', '', 'most estate agents were overjoyed', 'at the election result', '', 'the warden and his wife', 'being owners of a siamese cat', 'were not overjoyed', 'to see emily but they reluctantly fed her a saucer of milk', 'saying that she could stay for one night', '', 'louise was overjoyed', 'with the suggestion', '', 'so the chief librarian was surprised and not particularly overjoyed', 'to be dragged down from his rooftop sun terrace by harry s telephone call', '', 'the young lord was overjoyed', 'to see what a beautiful wife his friends had found for him', '', 'the very idea is preposterous and i was overjoyed', 'to see that you believed me', '', 'you know joanna will be overjoyed', 'to see you in any condition', '', '', 'they take young grandpas', '', 'said linda', 'amazed and overjoyed', 'he d had the idea for himself and still not able to get over her daughter s news', '', 'i do n t suppose you re overjoyed', 'that i ve got a friend in the rival camp', '', '', 'neighbours recalled how ms bailey was overjoyed', 'at the birth of her daughter', '', 'but his father was overjoyed', 'to see him', 'and at once threw a party', '', 'landlords were not pleased', 'to find that their apartment blocks had overnight become the property of the tenants', '', 'he seemed pleased', 'to remind us of yet more evidence of bouilland s humming modernity', 'and took us out into the sun again', '', 'the london irish women s centre are pleased', 'cause to announce that the irish language classes for adults will continue with siobhan ni neill on fridays from', 'am to', 'starting on feb cause', '', 'we were pleased', 'to see the canadians do so well in the world cup after they had beaten us over there', '', '', 'we are pleased', 'to see the guidance state unequivocally that major retail developments are inappropriate in green belts', '', 'i have said we will be pleased', 'to provide back up with visitor s packs etc and that i would inform you of the request', '', 'i am pleased', 'cause that there has been a threefold increase in', 'for example', 'hrt prescriptions during the past years cause', '', 'i am pleased', 'that they have responded very positively', '', 'george grindal was pleased', 'that he could turn to the bedside cabinet and take up the feeding glass containing orange juice', '', 'guinness is particularly pleased', 'that its own employees can participate in these programmes through matched giving schemes', '', 'yes', 'yes', 'i did', '', 'she told him', 'feeling ridiculously pleased', 'that he was clearly enjoying her first attempt at baking a cake', '', 'lexie s parents are pleased', 'that their efforts may prevent other children dying from the side effects of steroid treatment', '', 'i think everyone is very pleased', 'they ve changed their minds', '', 'said england s most capped player', 'rory underwood', '', 'i was so pleased', 'she lived until just after sam was born', '', 'blake says how pleased he is', 'with the firm s improved performance', 'acknowledging the considerable efforts and progress it has made', '', 'your mother and i are so pleased', 'you are so happy', '', 'she washed the floor thorough and was pleased', 'she had done so', '', 'to tell you the truth', 'i was n t at all pleased', 'about russell sitting in the same coach with us', '', 'i could never have agreed to such a plan', 'but was pleased', 'at mick s change of mood', '', 'the king was bluntly informing him that he was ill pleased', 'at the lack of progress corbett was making', '', 'smiling across the room at laura s tall', 'slender figure', 'she added', 'besides', 'everyone in your office was so pleased', 'at your promotion', '', 'i was particularly pleased', 'cause at the emphasis on investment in education and training', 'in science research and development and the commitments he gave on transport and health and community care cause', '', 'i can see you re pleased', 'with yourself', 'everyone seemed very pleased', 'with the arrangements philippe had made', 'did n t they', 'rose ?', '', 'i saw him return this morning', 'so pleased', 'with himself', '', '', 'he laughed', 'showing his white', 'sharp teeth', 'pleased', 'with his joke', '', 'i m delighted that you were pleased', 'with the response', '', 'apparently skipper landed', 'felt extremely pleased w', 'ith himself and threw an enormous buck with a twist in it', '', 'even my father was n t too pleased', 'cause about continually having to clean his porch roof', 'which our residents had covered in droppings and other nest debris cause', '', 'at the beginning of the o level summer term i weighed eight stone three pounds and', 'if i was pleased', 'at having lost two pounds', 'i certainly did n t say so', '', 'she smiled', 'as if pleased', 'at displaying her superiority', '', 'he liked to think of her being pleased', 'at getting a letter', '', 'i hope you were pleased', 'with how much we sold', '', 'mrs thatcher has mastered the sound bite', 'to be repeated at intervals like a mantra', 'so very pleased', 'with how it s going', '', '', 'i m very pleased', 'with how we ve reacted to our bad start to the season', '', '', 'she was pleased', 'cause at how low her voice was', 'how steady cause', '', 'whatever i want', 'she wants', 'and she s pleased', 'at how things have turned out', '', 'they obviously thought i was doing terribly badly at that time and were very pleased a', 'cause t how well they had rigged me out until i put on the mac', 'cause', 'nevertheless', 'your father and mother', 'too for that matter', 'may well be very pleased', 'if your boyfriend takes the time to have a chat with them', '', 'katherine', 'i haven t yet told you how pleased we all are', 'that you shall be going to school here and be with us at valois frequently', '', 'i am supposed to be going there with sister agape', 'but i d be pleased', 'if you would take my place', '', 'as it was', 'i felt thrilled', 'to be walking on the same ground that young thomson had trodden long before', '', 'a friend said', 'joan is thrilled', 'katy has found such a nice chap', '', '', 'professor winston said', 'i m thrilled', 'to see them all here', '', 'most pool owners are thrilled', 'if they can persuade their fish to breed successfully', '', 'i felt thrilled', 'to be back in abyssinia and stared entranced at the arid landscape of the danakil desert', '', 'i m thrilled', 'to see her', '', 'keith', 'a general operator at associated octel s plant in ellesmere port', 'is thrilled', 'to see his brother back home', '', 'his excitement', 'at the prospect of exploiting that potential is palpable', 'though he has no illusions about current difficulties', '', 'for months now i have been trying to contain excitement', 'at the thought of the compact disc', '', 'because of what had happened', 'some of her excitement', 'at the thought of seeing czechoslovakia had ebbed', '', 'manufacturers could play on the excitement', 'of a commentary to sell their sets', '', 'i had lost the excitement', 'of the first ramble to the trossachs which had all been new territory', '', 'but a dry day would bring bigger crowds and add to the excitement', 'of the vital third round of the tournament', '', 'travellers might get used to jet lag in the sense that they learn to live with it', 'or they might find it progressively more irksome as their initial excitement', 'with travel begins to wear thin', '', 'i enjoyed his excitement', 'with politics', '', 'all around there was the electric atmosphere of', 'first night excitement', '', 'this would normally push up her heart rate but with her pulse already racing due to the alcohol', 'dancing and general', 'party excitement the increase is not as noticeable as normal', '', '', 'it was a sort of excitement to him', '', '', 'as christmas approached', 'the excitement', 'of preparation began to get through to her', '', 'you are afraid and full of excitement', 'at thoughts of what you might find', '', 'he had seen beyond the excitement', 'of being approached for his first book', 'he already visualised it on the bookshelves', '', 'perhaps only she knows the journey he has made', 'from the cocky jack the lad who neglected the discipline of academic study for the raw excitement', 'of left wing politics to the measured politician with an answer for everyone', '', 'we are off and have great excitement', 'fishing up treasure fake tied to bladders', '', 'neither he nor peter can conceal excitement', 'at being back in the limelight again', '', 'i have explained to pupils that i do not know the answer', 'and so i can share the excitement', 'of working out a problem with them', '', 'i remember being highly amused', 'at his rendering of a young rook s cry whilst gobbling a worm', 'it was perfectly true to nature', '', 'she was already feeling a bit better and she felt quite amused', 'at this cool domination', 'especially as she was not going to pay any attention to it', '', 'even falling asleep as he was', 'mcleish was amused', 'cause at bruce davidson s hopeful', 'proprietorial air cause', '', 'clattering on', 'trying to hold five ponies and eat an ice cream', 'perdita was not amused', 'to hear whoops and noisy hooting behind her', '', 'hauser was amused', 'at the suggestion', '', 'robert stephenson', 'when john met him after the week s delay', 'was amused', 'at the story of the triumph of rhyll', '', 'our amusement', 'at his false assumption seemed to ease the tension between us', '', 'however', 'i thought you might share my amusement', 'at the thought of baked beans at a low tension', '', 'his amusement', 'at the scene was rekindled', '', 'i was quite sad', 'cause to hear my right hon', 'friend the minister of agriculture', 'fisheries and food say that he was prepared to sit in the negotiations for months cause', '', 'i am really sad', '', 'nobody wants to do it like i have done it for them', '', 'the denning family feel sad', '', 'cause that although sharpness is still thriving', 'it ll never be the busy port it once was cause', '', 'now it makes me sad', '', 'to think of them growing up', '', 'i m sad', 'since it folded', 'but it s come at a good time', '', 'she tells me', '', 'i am desperately sad', 'that our scheme did not come to fruition', 'but i am glad that someone will take it over and bring these jobs to the area', '', 'i am sad', '', 'we have not been afforded the same welcome given to the beirut hostages', '', 'he told a deeply moved audience at the agm last month', '', 'we were all sad', '', 'it was over', '', '', 'i m particularly sad', '', 'my mother has n t had the opportunity to buy even his mc', '', 'it s possible to be sad', 'about your babies becoming children', 'and yet accept the fact that you wo n t have any more', '', 'anne was sad', 'at the death of the misses dolan', 'but too much was happening for her to dwell on it', '', 'everyone will be sad', 'because of their departure', '', 'the truth was that mr wolski was sad', 'mainly with himself', 'for he did not wish to stay on at the zoo any longer', '', 'he was sad', 'about missing the forthcoming whiskies', '', 'i was sad and also slightly amused', 'to read the recent letter from a reader about the skilled worker only being offered an hour', '', 'madam speaker', 'i know that there will be great sadness', 'at this news', '', 'some grandparents have the sadness', 'of losing rather than gaining grandchildren', '', 'i am saddened', '', 'the article uses the spurious connection between dialect and poverty as a means of attacking english teaching in this country', '', 'john parsons in nice is saddened', 'to see the former world no humbled in another comeback attempt at the age of', '', 'we are saddened', 'cause to learn that for some people', 'the conference failed to develop strategies for action cause', '', 'i am saddened', 'to find that such thinking still exists within the profession', '', 'a clergyman who trains priests yesterday said he was saddened but not surprised', 'that he had been sacked after admitting he does not believe in god', '', 'rosemary sandford of darlington association on disability', 'said they were saddened and disappointed', 'they were not given the opportunity to express their views at the meeting', '', 'he turned away', 'his feeling of anguish', 'at the nothingness of it all', 'overwhelming him', '', 'she still', 'after all these years', 'did not know', 'and one hand clenched in involuntary anguish', 'at what she thought of as her intolerable betrayal of her brother', '', 'we feel very strongly about that and that the law should be changed for future children', 'so that they should be spared the anguish', 'of separation and no contact at all', '', '', 'in the pictures of belsen', 'the sheer anguish', 'on the faces of the tommies', 'contrasts starkly with the indifference of the ss recorded in their cheery souvenir albums', '', 'he remembers the anguish', 'of disapproval', 'and the comforting security of guardians', '', 'but last night he insisted he had no grudge against taylor', 'even though in his column he openly discussed his innermost anguish', 'at being one of only three england players not to kick a ball during finals', '', 'lee sharpe last night relived the anguish', 'of discovering he had a disease which he feared could not only end his career but kill him', '', 'segments in d major and b minor accord with episodes of the drama as this unfolds', 'but two isolated d minor movements underscore dido s anguish', 'at being betrayed', '', 'at a news conference at the royal geographical society in london', 'they described the mental and physical anguish', 'of their day trek', '', 'politicians who objected to mrs thatcher and her radical conviction politics suffered the anguish', 'of apparently unresolvable frustration', '', 'both were crestfallen', 'after stevie s erratic performance on the th', '', 'there s no reason to feel dejected', 'not about the future', '', 'it s not just health problems they suffer but many people can get really depressed', 'because they are living in houses where they have to keep washing the mould off the walls', '', 'even the prince of wales', 'depressed at the thought of the ordeal to come', 'cheered up at the sight of the food', '', 'in spite of everything', 'burun felt depressed', 'by the whole affair', 'and could not understand why', '', 'then', 'still depressed', 'at being ditched', 'he drank eight pints on a night out with other squaddies', 'said prosecutor graham boal', '', 'behind her she heard emilia say', 'i think the child will be quite desolate', '', 'to see me go', '', 'i am desolate', 'that anthony has died', '', 'the sense of relief that the danes had let us all painlessly off the maastricht hook', 'was immediately replaced by a despondency', 'at the government s response', '', 'julie is devastated', 'to discover she is adopted', 'and she sets out to find her natural parents', '', 'it was hot', 'sunny and the water looked so cool and inviting that maggie felt quite downcast', 'about having no swimsuit', '', 'dolores felt glum', 'at the sight', '', 'the people of america and throughout the world were stunned and grief stricken', 'by the president s assassination', '', 'the queen was grief stricken', 'because of his death', '', 'her emotion this time was not prompted by', 'grief for her mother but by the seriousness of the moment', '', 'kurzlinger hated voss for what he had done and the man s grief', 'for his murdered love', 'was not to be underestimated', '', 'amanda s grief', 'for her father', 'was compounded by anxiety over his ontological status', '', 'a year old girl works herself into a frenzy of grief', 'for a friend killed by right wing vigilantes', '', 'to express their grief', 'over the warrington atrocity', 'the people of dublin sent thousands of floral tributes to liverpool this morning with the irish air corps', '', 'within the ranks of the music press', 'there seemed to be a genuine grief', 'at the split', 'and the band s loyal followers responded accordingly', 'filling the letter pages with tearful', 'doleful sentiment', '', 'in spite of her grief', 'at being parted from her cousins', 'she could not help but feel excited', '', 'john had been moved to norfolk and promoted to corporal and he wrote to anne nearly every day', 'loving letters which helped to make her grief', 'for her mother', 'more bearable', '', 'relatives often carry enormous personal burdens', 'for example the grief', 'of losing a child s expected bright future', 'or the tragic decline into senility of a loved companion', '', 'he was not overwhelmed with grief', '', 'not for kit', 'but evidently his eyes felt otherwise', '', 'her grief', 'at his death', 'was deep and sincere', '', 'and even those could be put down to excessive grief', 'at the loss of his wife', '', 'and though the heartbreak', 'of her troubled marriage', 'still haunts her she raised a grin as prince harry waved from their car in london', '', 'they suffered the heartbreak of', '', 'losing three children through premature births', '', 'jane moss said yesterday that the double heartbreak', 'of her daughter s death and the murder of her own mum years ago', 'made her want to care for the needy', '', 'for the owner', 'it can mean heartbreak', '', 'the loss of a family pet', '', 'so many families will face the heartbreak', 'of burglary', 'before christmas', '', 'she regarded the wife of former beirut hostage jackie mann as a dear friend and was heartbroken', 'she could not see her before she died of lung cancer on november', '', 'yeovil town captain mark shail was heartbroken last night', 'over the rash moment which may cost him the chance of playing in the dream fa cup tie against arsenal', '', 'britt is heartbroken', 'cause that her eight year marriage to toyboy husband slim', 'jim mcdonnell', '', 'is to end in divorce cause', '', 'she was heartbroken', 'to hear the voice of camilla', '', 'she d be heartbroken', 'if her father was n t at her wedding', '', 'their mother died a month later heartbroken', 'by the loss of her mate', '', 'no wonder she was now inconsolable', 'at the prospect of the child being returned to london', '', 'several hours passed while he sat there', 'knowing that maud would be inconsolable', 'at having missed a charity dinner', '', 'nails became miserable', 'with anxiety', '', 'she s miserable', 'that it all has to end', '', 'me', 'i m miserable', 'that it s all beginning', '', 'even so', 'i was miserable', 'when we were second from last', '', 'and i know', 'that s miserable for you', 'but what else can you do ?', '', 'it is miserable for us', 'to look back on these things', '', 'life', 'you know', 'it s miserable for them', '', 'thenceforward i was always wanting to take the joys of solitude and of society in their extreme forms', 'and was alternatively miserable', 'from the lack of company or the presence of uncongenial company', '', 'the walk to the town centre is long enough to invigorate me and short enough to avoid getting miserable', 'from the cold', '', 'i was miserable', 'with cold', 'but although i was prepared to admit that i was miserable', 'i was n t prepared to admit that my misery had any connection with cold', '', 'he was miserable', 'at being left out', '', 'since many parents were miserable', 'at being separated from their offspring', 'and it would be a struggle for some to pay money for their misery', 'they finally decided to have them home again', '', 'members requested the committee s sorrow', 'that the work had begun without permission', 'should be passed on to the county council', '', 'it soon developed into disillusion as the town s death toll grew and ended in jubilant relief not unmixed with sorrow', 'at the memory of towns folk who would not return', '', 'goebbels himself had signed her travel papers under pressure from his sympathetic wife magda', 'who had mistaken lais s hysterical sobs for sorrow', 'at karl s death', '', 'he is portrayed as showing sorrow', 'at the destruction caused by german bombers', 'and it is he who saves the day', 'by first giving himself up and then being shot by clogger', '', 'three of our candles are in this colour to represent our sorrow', 'for our failure to love in so many parts of our lives', '', 'the awakened will gives rise to fear of god', 'sorrow', 'for sin', 'hope for forgiveness and love of god leah s first four children', '', 'he told of his sorrow', 'at having to quit a job he passionately enjoyed', '', 'was n t there one word of sympathy he could offer to ease her sorrow', 'at having loved and lost him ?', 'to his great sorrow', 'he could never recall his mother', '', 'yet the dog had grown old and less capable', 'and one day the gillie had come and explained with great sorrow', 'cause that the dog had suffered a stroke', 'and must be put down cause', '', 'peers expressed their sorrow', 'at the news of the separation of the prince and princess of wales', 'after the lord chancellor lord mackay of clashfern relayed the prime minister s announcement to them', '', 'he expressed at once his sorrow', 'for my father s death', '', 'i join the hon', 'gentleman in expressing our sorrow', 'at that tragic loss', '', 'both of them were aware of alain s black anger and marguerite was feeling the sorrow', 'of leaving her own house', '', 'despite my anger and despair', 'at what had happened to brian', 'killing myself now would n t make amends for not helping him', '', 'he had understood james s despair', 'at the enormity of the ruin', 'but not what the loss of edward was already meaning', '', 'away from the defence debate dr mowlam also yesterday spoke of her despair', 'at the growing homeless problem in her constituency', '', 'nizan s despair in', 'at the nazi soviet pact and the soviet invasion of poland', 'echoed sartre s despair in at the soviet repression in hungary', '', 'in their communiqu', 'the finance ministers could usefully point out that the current despair', 'over eastern germany', 'is overdone', '', 'it does at times reveal a certain despair', 'over her present situation a fact that is rather concerning', '', 'lewis verne smith sat shaking his head', 'less as a gesture of denial than of a generalized despair', 'at the state of the world', '', 'i feel despair', 'at being deceived and betrayed', '', 'labour supporters must be in despair', 'at not being able to race away from the tories in the run up to the election', '', 'now you see in our day and generation', 'we do n t need to be reminded of the importance of little things', 'the more we learn about the atom', 'the more we re astonished', 'at its complexity and its unseen power', '', 'lin foh blinked', 'quite astonished', 'at being spoken to so sharply', '', 'when ramsey came to read the book himself', 'later in life', 'he was astonished', 'and at one point burst out laughing', 'to discover what irrational expressions he could use', '', 'i was astonished', 'at the smallness of the area which these enclosed', '', 'from the outset', 'commentators seem to have been astonished', 'at the great interest the competition evoked', '', 'he was astonished', 'at the change in him', '', 'now as he strode north determined on its recovery he was ashamed and astonished', 'at his own folly', '', 'but when i got to be twenty one', 'i was astonished', 'at how much he had learned in seven years', '', 'she was astonished', 'and secretly pleased', 'that he had remembered her name', '', 'those new to the area were always astonished', 'at the vivid crimson of the earth and buildings', '', 'maggie was quite astonished', 'at her own determination on that score', '', 'but she was even more astonished', 'at her ladyship s next words', '', 'eleanor thorne half sat up in the great bed', 'astonished', 'cause at the freshness', 'the absolute appeal of her idea cause', '', 'i m astonished', 'at what you ve achieved', 'kitty', '', 'from all you say of papa', '', 'announced dr neil naughtily', 'i m astonished', 'to learn that he went bankrupt', '', 'she saw his fear', 'his bewilderment', 'and above all', 'a kind of astonishment', 'at the enormity of the complications that lay ahead', '', 'my previous astonishment', 'cause at the fact that people who came here like de michelis the former foreign secretary', 'or like ex prime minister andreotti', 'never endowed us with any money cause is now diminished', '', 'martha replied', 'and left her twin sister blinking in astonishment', 'at a possibility that had n t occurred to her before', 'but which was now enticingly attractive', '', 'mrs syms s astonishment', 'at her appearance was almost comical', '', 'carolyn watched him', 'caught between her astonishment', 'at his presence here', 'and the sudden absolutely natural way they were talking', '', 'miss logan concealed her astonishment', 'at this curious lecture', 'but felt bound to enquire further', '', 'but there was some astonishment', 'at the size and timing of the exceptional write offs', 'which will result in', 'job losses from a worldwide total of', '', '', 'john lahr told me of his astonishment', 'at how unpleasant he could be to waiters at the indian restaurant they visited together', '', 'when the peat brown eyes fixed on hers again', 'their level gaze showed he had recovered from his astonishment', 'at seeing her', '', 'an oxfordshire reader expresses astonishment', 'that so many of the hotels featured in this column border on fawlty towers', '', 'we write to express astonishment', 'at the standard of writing that has featured in much of your pre election coverage', '', 'lomponda wa botende', 'a former chief of staff', 'expressed his astonishment', 'at the report', 'and the defence ministry denied that any coup attempt had been made', '', 'he felt a mixture of astonishment', 'at himself and irritation that his rigid daily routine was going to be broken after forty undisturbed years', '', 'alexei was unable to hide his astonishment', 'at siban s subdued tone', '', 'ex hacker stephen gold says he remains astounded', 'cause at the arrogance', 'of the law commission for not drawing on the experience of others cause', '', 'he added', 'i m astounded', 'he has not been on the fringe of the dutch team', '', '', 'a man was astounded', 'to walk into his son s bedroom and find him sitting playing chess with his dog', '', 'some workers have been astounded', 'at the amount of extra paperwork', '', 'serge was astounded', 'to see a bedraggled lili appear in his room in the middle of the night', '', 'he must have managed to purloin a copy of the house key from somewhere and was obviously astounded', 'cause to find someone already scouring the house', 'especially her cause', '', 'and even as i did i was astounded', 'at myself', '', 'his last illness was the most violent', 'and his doctors were astounded', 'that he survived it', '', 'she seemed to be almost floating and maggie was astounded', 'that the sharp stones had not given her enough pain to waken her', '', 'zen was so astounded', 'at finding cinzia there on that particular evening that he could think of nothing whatever to say', '', 'before she left for london', 'cllr cooper said', 'i am astounded', 'to have been chosen', '', 'please do', '', 'said ianthe', 'who was temporarily a little bewildered', 'at penelope s appearance and unconventional clothes', '', 'what s so terrible for imp in that ?', 'she blustered', 'still bewildered', 'why he should find the idea of it so important', '', 'david filled her dreams', 'the ecstasy of their lovemaking', 'and the pain and bewilderment', 'of his abrupt departure', '', 'there was such masculine bewilderment in his deep voice', 'at the unexpected display of emotion that fran smiled', '', 'i m downright flabbergasted', 'to know you re treatin dolly so unkind an beatin er as well', '', 'upon his arrival', 'he was nonplussed', 'to find the yard and buildings deserted', '', 'george knew that she was a bit nonplussed', 'at his eagerness for her to have her own social life', '', 'joan s great skill', 'then as now', 'was to be completely nonplussed', 'by anything richard did', '', 'branson was nonplussed', 'by elliott s refusal', 'in fact', 'it constituted the perfect challenge', '', 'fabia felt it might be a touch cruel to laugh at him again but', 'feeling certain he would run a mile if she took him seriously', 'she was a little nonplussed', 'about how to answer him', '', 'rocastle got a page long interview expressing some puzzlement', 'at wilko keeping him out of the first team', '', 'he seemed startled', 'to see me as if applicants', 'once embarked on musical offices', 'rarely returned', '', 'i am startled', 'to find myself addressing you instead', '', 'now the special envoy of the un high commissioner for refugees', 'jose maria mendiluce', 'says he is revolted', 'to hear those words from mr boban', '', 'i am outraged and revolted', 'by the decision of my supervisors', '', 'a lot of people', 'they re absolutely revolted', 'cause by the fact that these evil', 'depraved ira godfathers can recruit impressionable young irish people into committing appalling acts of violence cause', '', 'evreux s communist mayor', 'roland plaisance', 'said he was revolted', 'by the firing and praised gaillot s commitment to staying close to the poor and the excluded', '', 'one of greece s largest hunting clubs', 'located in the northern port city of salonica', 'said in an announcement that it was revolted', 'by the dog fights', '', 'i am sickened', 'cause to now learn that the government has acquiesced to the other ec leaders on this issue at the edinburgh summit and that', 'for the sake of subsidiarity', 'this directive has been dropped cause', '', 'os guinness has captured this middle class revulsion', 'against materialism and affluent decadence in his best selling book the dust of death', '', 'in many schools in the s a revulsion', 'against decontextualised exercises brought about a complete abandonment of the teaching of grammar', '', 'what we are seeing now is a public revulsion', 'against violence in society which is feeding through to a desire for greater sensitivity by programme makers', '', 'he said', '', 'even in the s the anti semitism of literary figures like hilaire belloc and g', 'k', 'chesterton co existed uneasily with their revulsion', 'at the racial policies of the new germany', '', 'thomas coram s revulsion', 'at the infant corpses in london gutters led him to campaign for a hospital for foundlings', 'established in', '', 'revulsion', 'cause at injustice', 'poverty and denied opportunity cause', 'he says', 'impels people to work for a better world', '', 'however', 'i quite enjoyed describing the horrors of my creation', 'and shared with edward young', 'the architect', 'his revulsion', 'for the hideous house', 'covered in peeling stucco', 'as chilling within as without', '', 'he said he would be happy to lead the march planned for next sunday to show the city s revulsion', 'for terrorism', '', '', 'but equally', 'it provided a home for some of the darkest forms of distrust of and revulsion', 'from sex and marriage', '', 'this instinctive revulsion', 'from regulation', '', 'is the foundation of his libertarian heritage', 'and it gives rise to a particular vision of how broadcasting should develop', 'and what its purposes should be', '', 'it is unfortunate that such considerations may be thrust out of view by continuing public and perhaps personal revulsion', 'towards the concept of child sexuality', '', 'there was', 'as yet', 'no significant revulsion amongst the general public', 'towards the use of nuclear weapons to save manpower', '', 'nell swallowed down the revulsion', 'of the word normal', '', 'its roots were both theological and caused by the revulsion', 'of the burnings in mary s reign', '', 'colette works at marshalling our feelings of revulsion', 'at this voracious creature who has almost killed the poor box thorn', '', 'revulsion', 'at what has been happening there is not a prerogative of the politically correct', '', 'if so', 'he would undo her revulsion', 'with tonight s business', '', 'such side effects seem to be becoming increasingly common these days', 'and many patients are becoming disgruntled', 'with these drugs and are seeking safer alternatives', '', 'we were feeling rather disgruntled', 'cause at how many good films we d obviously missed', 'cause when a man came on to the stage to read the nominations for one of the categories', '', 'he looked disgruntled', 'to see harbury', 'despite eliot s explanation that he wanted harbury to give what further help shildon needed', '', 'he could pretend she was a good housewife', 'cook and mother to other men who were disgruntled', 'cause at their wives', 'brilliant careers cause', '', 'it linked the poor performance with the exodus to the west of more than', 'east germans disgruntled', 'with communism', '', 'woody allen wrote and directed this comedy in which he stars as new yorker isaac davis who is in love with his city but disgruntled', 'with his job as a tv comedy writer', '', 'but they were caught out when accounts assistant anne riley', 'disgruntled', 'at being sacked', 'told chairman douglas bishop of their alleged antics', '', 'charles opened his eyes warily', 'disgruntled', 'at being dragged out of his dream', '', 'nor', 'in the western part of the country', 'does disgruntlement', 'with mr kohl mean gruntlement for social democrats', '', 'be prepared to train twice as hard on your weaker side and each time you feel fed up', 'through lack of progress', 'switch to your stronger side to give yourself a boost', '', 'we are getting a bit fed up', 'of people saying how badly opponents play against us', '', 'factory workers fed up', 'with secretary carolyn bullock s dodgy parking hoisted her car on to the firm s roof with a crane', '', 'in an increasingly health conscious world', 'executives from brazil to britain have become increasingly fed up', 'with luncheon excesses', '', 'i know they are working on a building site but we are just fed up', 'with this disruption', '', '', 'the cave man got fed up', 'with walking', 'they have also aroused protestant anger', 'against dr runcie', 'at the same time as he has become involved in a row over his attack on the pharisees', 'of british society', '', 'to his own surprise all his anger', 'against edouard had evaporated', '', 'fear fingered ruth again', 'and she suppressed a futile burst of anger', 'against adam', '', 'this is often the feeling the bereaved find most difficult to acknowledge', 'their anger', 'against the dead person for abandoning them to face the world alone', '', 'in me battled a flood of relief at being reprieved and anger', 'at such vile deception', '', 'despite a flaring anger', 'at this impertinence her eyes were drawn to the strong column of his throat as he swallowed', '', 'john smith', 'understandably', 'is boiling with anger', 'at the tory refusal to recall parliament', '', 'in the commons', 'labour mps unleashed their anger', 'at the liberal democrats for promising to back the government', '', 'as lieutenant governor', 'he is remembered for fleeing down the statehouse fire escape to avoid senators anger', 'over his choice of committee assignments', '', 'i m not ashamed of it', '', 'she retorted', 'taut with anger', 'over his reference to her mother', '', 'liz s anger', 'towards raquel dates back to a charity dinner this year', '', 'tonight', 'one of hadley s victims described her anger', 'towards him', 'and her relief he d been found guilty', '', 'yet she still finds herself full of frustration and anger', 'towards him', '', 'duncan could imagine their anger', 'at being forced into another emergency manoeuvre', '', 'but his initial anger', 'at finding the latest two victims of the insane killer s bloodlust', 'blazed into an all consuming hatred of the man who had done it', '', 'after this she ceased to blame herself for the breakdown of their marriage', 'but instead expressed considerable anger', 'towards her husband', '', 'under de gaulle', 'therefore', 'the information minister was a broadcasting minister to whom the head of state sometimes expressed', 'day by day', 'his anger', 'with the content of news and current affairs programmes', '', 'i felt a stifled anger', 'against her', '', 'for a moment she felt anger', 'at his unfeeling attitude', 'but common sense prevailed', '', 'i was very very angry', 'to read batty s comments about leeds', '', 'however', 'in this case', 'the crowd was angry', 'that extra time was not going to be played and vented their fury on the pitch and the police rather than on one another', '', 'he was angry', 'that bernard had gone too', '', 'for the opposition', 'sam galbraith said he was particularly angry', 'that the government was reneging on the ballot subsidy', '', 'you re angry', 'i m here', 'are n t you ?', '', 'i m so angry', 'our little boy is dead because someone wanted to drive fast', '', '', 'his mother had begun to feel very angry', 'about his refusal to eat as he had started to lose weight', 'which worried her', '', 'hoskyns', 'who only had another year to live', 'was angry', 'at his university', '', 'he got quite angry', 'at the impossibility of clarissa having given any such instructions', '', 'a european consumers pressure group is angry', 'at the chaotic state of control on such potentially lethal products', '', 'my father used to get so angry', 'at her stubbornness not at all like me', 'used to doing what i was told', '', '', 'i recall thinking that i had to be home soon or mother would be angry', 'at me for missing supper', '', 'how on earth', 'when her heart was thumping and her body drowning in a wave of heat', 'could she stay angry', 'at him ?', 'connahs quay were angry', 'over halkyn s decision to call off their match at pant newydd an hour before the scheduled start', '', 'rachel could see the reasoning behind that', 'but nevertheless felt angry', 'towards damian flint not because he had so obviously done the right thing', 'but because he was so clearly in complete control of a situation that had always been beyond rachel', '', 'when tony s father was interviewed he said he felt angry', 'with tony for having taken the tablets', 'especially as his girl friend', 'pat', 'had been with him when he found tony unconscious', '', 'however', 'now he knew she was angry', 'with him for leaving her for so long', '', 'my father will be angry', 'with me if you leave early', '', '', 'lissa hated the cold incisiveness of his tone', 'and she was angry', 'with herself for caring so much', '', 'angry', 'at being separated from jeanne', 'modigliani spent much of his time drinking in a windowless little bar where local artists met', 'where he drank and ran up debts', '', 'christina blushed', 'angry', 'at being spoken to like a member of staff', '', 'town s fans are angry', 'at losing the club s leading scorer', '', 'out of breath', 'and furious', 'to note that he was n t even panting', 'she struggled to free herself', 'then glared at him', '', 'many of the latecomers', 'especially as the afternoon wore on', 'were furious', 'to find the doors locked', 'not having heard of the noon closure and so thinking they had all day', '', 'and she was furious', 'that mr clarke did not break the news to her before holding a press conference', '', 'icc chairman sir colin cowdrey left is clearly furious', 'cause that every time he has been ready to make a statement about the texaco trophy events of august', 'pakistan s lawyers have threatened writs cause', '', 'a spokesperson said', 'glen is furious', 'cause that the new anarchy', 'promo features footage of sid vicious as well as himself cause', '', 'she is furious', 'that he has married beneath him', 'but appalled when her vicious attack on him threatens to end their relationship for ever', '', 'peter says', 'the poles were furious', 'cause that we wanted to show prostitutes in their hotel bar', 'claiming they never had them cause', '', 'they were furious', 'cause mr reynolds had accused their leader', 'des o malley', 'of being dishonest cause', '', 'mayor s chaplain tony rees was furious', 'he had n t been refunded a overpayment', '', 'he refused to be roused by her anger', 'suspecting she was furious', 'he d turned down her invitation to stay', '', 'apparently i was furious i', 'had not been consulted', 'not only was he going to be absolutely furious', 'about her being in this police station', 'but she dreaded having to tell her cousin about it too', '', 'on another occasion he had been struck once by another man at work and we were furious', 'at him for not returning the blow', '', 'behind the scenes', 'british diplomats in seoul', 'korea were furious', 'at the way last night s meeting was handled', '', 'she is furious', 'at the betrayal', 'and supporters of the sacked prime minister', 'nawaz sharif', 'have resorted to fisticuffs', '', 'but today', 'the oxford university sports director was furious', 'at her exclusion', '', 'somerset are furious', 'cause over suggestions that the ghost', '', 'who took for', 'should be left out cause', '', 'she was furious', 'with me', '', 'at the hostel they were furious', 'with us for bringing the police', 'they just wanted us out', 'literally', 'and we were out', '', 'he was furious', 'with me for ringing him', '', 'furuseth was furious', 'with himself', '', 'us banks', 'which also lost heavily', 'were furious', 'with the bundesbank for refusing to compensate them', '', 'conner is still furious', 'about losing tuesday s protest', '', 'she would be doubly furious', 'at having been deceived in exactly the same way by two successive men', '', 'the king was furious', 'at being tricked again', 'and by nothing more than a pair of animals', 'at that', '', 'he was incensed', 'stunned', 'at her action', 'and stood rigid with anger as he felt the slime roll down his cheek', '', 'a gang of local ruffians was passing by and', 'when they saw what was happening', 'became infuriated', 'against richard baxter', '', 'i go along and watch women s football and get really infuriated', 'cause to see a man out there refereeing the game', 'and often in a very condescending manner cause', '', 'the sources said he is infuriated', 'with her after a row that erupted last week', 'and is likely to distance himself from her', '', 'i was suddenly infuriated', 'at the thought of what we had believed about the germans in england', '', 'i was even more infuriated', 'cause to read that their short separation was a tragedy', 'cause', '', 'and while she sounded sympathetic', 'she was in reality infuriated', 'with doreen', '', 'his teachers were suspicious of his popularity', 'annoyed by his lack of interest in academic work and infuriated', 'that he could still achieve high marks in examinations', '', 'i am spell bound by the sound of french', 'infuriated', 'when i ca n t read it in the books i am given', '', 'then you can do so today at the barbecue', '', 'lucy hissed', 'suddenly infuriated', 'with them both', 'although more so with silas than with doreen', '', 'i m infuriated', 'with myself', '', 'he gritted from behind clenched teeth', 'his scowl deepening', '', 'mrs rosenbloom nearly always found out about it and she would be mad', 'that he had taken me from my work with the children', '', 'they must be mad', 'that they expect a delicate business to be speeded up as though it was a crude factory bench operation', '', 'gazza was blazing mad', 'cause that his training ground discussion', 'had been mis interpreted as a bust up cause', '', 'jane', 'my darling', 'it s not because she s mad', 'that i hate her', '', 'in fact i expect he ll be mad', 'i ve told you that much', '', '', 'he gets mad w', 'hen gary does n t sleep', 'he says it s my fault', 'he says i make him do it and she stopped again', '', 'i was so mad', 'when your father tried to twist my arm', '', 'i was mad', 'about her being killed', 'mad at whoever killed her', '', 'philip was mad', 'at himself for not taking the cutters off the boy', '', 'he says old plumpton gets mad', 'at them', '', 'he must be pretty mad', 'at her for not being at home when they arrived', '', 'you ve got every right to be mad', 'at me', 'mike', '', 'and i m mad', 'at you', 'you ve no ambition', '', 'the other day he slapped liam across the face and got mad', 'at me when i complained', '']\n",
            "<class 'list'>\n",
            "y_cause:  [0 1 0 ... 0 0 0] <class 'numpy.ndarray'>\n",
            "y_emotion:  ['happy' '' '' ... 'cross' '' '']\n"
          ],
          "name": "stdout"
        }
      ]
    },
    {
      "cell_type": "code",
      "metadata": {
        "id": "j-mYsdx46zib",
        "colab_type": "code",
        "outputId": "fc02cb91-835d-478a-c60d-d0ac72e0106d",
        "colab": {
          "base_uri": "https://localhost:8080/",
          "height": 71
        }
      },
      "source": [
        "tokenizer_emotion=keras.preprocessing.text.Tokenizer(num_words=1000, oov_token=\"xxxxxxx\")\n",
        "tokenizer_emotion.fit_on_texts(emotion_seeds)\n",
        "print(len(tokenizer_emotion.word_index), len(emotion_seeds), tokenizer_emotion.word_index) \n",
        "y_emotion_tokenized=[]\n",
        "for emotion in y_emotion:\n",
        "  if emotion in tokenizer_emotion.word_index:\n",
        "    y_emotion_tokenized.append(tokenizer_emotion.word_index[emotion])\n",
        "  else:\n",
        "    y_emotion_tokenized.append(1)\n",
        "y_emotion_tokenized = np.asarray(y_emotion_tokenized)\n",
        "print(y_emotion_tokenized)"
      ],
      "execution_count": 0,
      "outputs": [
        {
          "output_type": "stream",
          "text": [
            "89 88 {'xxxxxxx': 1, 'exhilarated': 2, 'revulsion': 3, 'infuriated': 4, 'elation': 5, 'worried': 6, 'bewilderment': 7, 'horrors': 8, 'indignant': 9, 'sickened': 10, 'frustrated': 11, 'ecstatic': 12, 'overjoyed': 13, 'ashamed': 14, 'horrified': 15, 'peeved': 16, 'delighted': 17, 'disquieted': 18, 'heartbroken': 19, 'sad': 20, 'thrilled': 21, 'excited': 22, 'dejected': 23, 'astonishment': 24, 'horror': 25, 'sorrow': 26, 'fedup': 27, 'amusement': 28, 'glee': 29, 'downcast': 30, 'nervous': 31, 'revolted': 32, 'grief': 33, 'saddened': 34, 'livid': 35, 'depressed': 36, 'desolate': 37, 'inconsolable': 38, 'angry': 39, 'disgruntlement': 40, 'anger': 41, 'startled': 42, 'anxious': 43, 'nonplussed': 44, 'miserable': 45, 'exhilaration': 46, 'despondency': 47, 'anguish': 48, 'pleased': 49, 'petrified': 50, 'sadness': 51, 'miffed': 52, 'cross': 53, 'astonished': 54, 'gleeful': 55, 'exasperated': 56, 'frightened': 57, 'alarmed': 58, 'bewildered': 59, 'down': 60, 'disgruntled': 61, 'happy': 62, 'astounded': 63, 'resentful': 64, 'annoyance': 65, 'heartbreak': 66, 'furious': 67, 'glum': 68, 'dismayed': 69, 'disquiet': 70, 'embarrassed': 71, 'mad': 72, 'griefstricken': 73, 'amused': 74, 'excitement': 75, 'devastated': 76, 'dismay': 77, 'delight': 78, 'disgusted': 79, 'exasperation': 80, 'concerned': 81, 'flabbergasted': 82, 'despair': 83, 'happier': 84, 'crestfallen': 85, 'agitated': 86, 'embarrassment': 87, 'puzzlement': 88, 'irked': 89}\n",
            "[62  1  1 ... 53  1  1]\n"
          ],
          "name": "stdout"
        }
      ]
    },
    {
      "cell_type": "code",
      "metadata": {
        "id": "z2FOJkWN60e8",
        "colab_type": "code",
        "outputId": "7e569554-d774-43f9-ab05-cfbb571ddd90",
        "colab": {
          "base_uri": "https://localhost:8080/",
          "height": 136
        }
      },
      "source": [
        "tokenizer=keras.preprocessing.text.Tokenizer(num_words=1000, oov_token=\"xxxxxxx\")\n",
        "tokenizer_emotion=keras.preprocessing.text.Tokenizer(num_words=1000, oov_token=\"xxxxxxx\")\n",
        "\n",
        "tokenizer.fit_on_texts(X)\n",
        "tokenizer_emotion.fit_on_texts(emotion_seeds)\n",
        "X_dict=tokenizer.word_index\n",
        "\n",
        "X_seq=tokenizer.texts_to_sequences(X)\n",
        "X_padded_seq=pad_sequences(X_seq,padding='post',maxlen=30) \n",
        "print(X_padded_seq[:3], X_padded_seq.shape, type(X_padded_seq))\n",
        "print(X_padded_seq.shape)\n"
      ],
      "execution_count": 0,
      "outputs": [
        {
          "output_type": "stream",
          "text": [
            "[[  8 450   8  55  45   0   0   0   0   0   0   0   0   0   0   0   0   0\n",
            "    0   0   0   0   0   0   0   0   0   0   0   0]\n",
            " [ 39  29 826   0   0   0   0   0   0   0   0   0   0   0   0   0   0   0\n",
            "    0   0   0   0   0   0   0   0   0   0   0   0]\n",
            " [ 19 451   8  55 246   3 452 112  13  56  27 453 308  30  42 827   6 828\n",
            "  829   0   0   0   0   0   0   0   0   0   0   0]] (2020, 30) <class 'numpy.ndarray'>\n",
            "(2020, 30)\n"
          ],
          "name": "stdout"
        }
      ]
    },
    {
      "cell_type": "code",
      "metadata": {
        "id": "MPwoX6Zb62CR",
        "colab_type": "code",
        "colab": {}
      },
      "source": [
        "import tensorflow_hub as hub\n",
        "from keras.models import Model, Sequential\n",
        "\n",
        "clauses_model = keras.layers.Input(shape=X_padded_seq.shape[1:], name='clause_input')\n",
        "clauses_embeddings = keras.layers.Embedding(input_length=30,input_dim=1000,output_dim=50) (clauses_model)\n",
        "output1 = keras.layers.Bidirectional(keras.layers.LSTM(64, return_sequences=True))(clauses_embeddings)\n",
        "\n",
        "attention_output = keras.layers.Attention()([output1, output1, output1]) # no idea why we use output3, 3 times TODO!!!\n",
        "\n",
        "output_emotion = keras.layers.Bidirectional(keras.layers.LSTM(64))(attention_output)\n",
        "output_emotion_dense1 = keras.layers.Dense(128, activation=\"relu\") (output_emotion)\n",
        "output_emotion_dense2 = keras.layers.Dense(len(tokenizer_emotion.word_index), activation='softmax', name='emotion_output') (output_emotion_dense1)\n",
        "\n",
        "\n",
        "output_cause = keras.layers.Bidirectional(keras.layers.LSTM(64))(attention_output)\n",
        "output_cause_dense1 = keras.layers.Dense(128, activation=\"relu\") (output_cause)\n",
        "#output_cause_dense2 = keras.layers.Dense(len(tokenizer.word_index), activation='softmax', name='cause_output') (output_cause_dense1)\n",
        "output_cause_dense2 = keras.layers.Dense(1, activation='sigmoid', name='cause_output') (output_cause_dense1)\n",
        "\n",
        "model = keras.Model(inputs=clauses_model, outputs=[output_emotion_dense2, output_cause_dense2])\n",
        "model.compile(loss={'emotion_output': 'sparse_categorical_crossentropy', 'cause_output': 'binary_crossentropy'},\n",
        "              optimizer=\"adam\", loss_weights=[0.5, 0.5], metrics=['accuracy'])\n",
        "\n"
      ],
      "execution_count": 0,
      "outputs": []
    },
    {
      "cell_type": "code",
      "metadata": {
        "id": "AP-SYPVM63Qn",
        "colab_type": "code",
        "outputId": "0d307488-f012-43e8-de74-8792e15d3cb2",
        "colab": {
          "base_uri": "https://localhost:8080/",
          "height": 581
        }
      },
      "source": [
        "model.fit({'clause_input': X_padded_seq}, {'emotion_output': y_emotion_tokenized, 'cause_output': y_cause}, epochs=15)"
      ],
      "execution_count": 0,
      "outputs": [
        {
          "output_type": "stream",
          "text": [
            "Train on 2020 samples\n",
            "Epoch 1/15\n",
            "2020/2020 [==============================] - 4s 2ms/sample - loss: 0.6415 - emotion_output_loss: 1.0248 - cause_output_loss: 0.2578 - emotion_output_accuracy: 0.7535 - cause_output_accuracy: 0.9163\n",
            "Epoch 2/15\n",
            "2020/2020 [==============================] - 4s 2ms/sample - loss: 0.5964 - emotion_output_loss: 0.9418 - cause_output_loss: 0.2368 - emotion_output_accuracy: 0.7609 - cause_output_accuracy: 0.9272\n",
            "Epoch 3/15\n",
            "2020/2020 [==============================] - 4s 2ms/sample - loss: 0.5462 - emotion_output_loss: 0.8658 - cause_output_loss: 0.2228 - emotion_output_accuracy: 0.7688 - cause_output_accuracy: 0.9332\n",
            "Epoch 4/15\n",
            "2020/2020 [==============================] - 4s 2ms/sample - loss: 0.5167 - emotion_output_loss: 0.8156 - cause_output_loss: 0.2132 - emotion_output_accuracy: 0.7861 - cause_output_accuracy: 0.9381\n",
            "Epoch 5/15\n",
            "2020/2020 [==============================] - 4s 2ms/sample - loss: 0.4823 - emotion_output_loss: 0.7724 - cause_output_loss: 0.1879 - emotion_output_accuracy: 0.7941 - cause_output_accuracy: 0.9441\n",
            "Epoch 6/15\n",
            "2020/2020 [==============================] - 4s 2ms/sample - loss: 0.4658 - emotion_output_loss: 0.7360 - cause_output_loss: 0.1915 - emotion_output_accuracy: 0.7950 - cause_output_accuracy: 0.9470\n",
            "Epoch 7/15\n",
            "2020/2020 [==============================] - 4s 2ms/sample - loss: 0.4515 - emotion_output_loss: 0.7147 - cause_output_loss: 0.1904 - emotion_output_accuracy: 0.8035 - cause_output_accuracy: 0.9436\n",
            "Epoch 8/15\n",
            "2020/2020 [==============================] - 4s 2ms/sample - loss: 0.4264 - emotion_output_loss: 0.6803 - cause_output_loss: 0.1807 - emotion_output_accuracy: 0.8040 - cause_output_accuracy: 0.9520\n",
            "Epoch 9/15\n",
            "2020/2020 [==============================] - 4s 2ms/sample - loss: 0.4162 - emotion_output_loss: 0.6634 - cause_output_loss: 0.1658 - emotion_output_accuracy: 0.8089 - cause_output_accuracy: 0.9545\n",
            "Epoch 10/15\n",
            "2020/2020 [==============================] - 4s 2ms/sample - loss: 0.3916 - emotion_output_loss: 0.6315 - cause_output_loss: 0.1660 - emotion_output_accuracy: 0.8119 - cause_output_accuracy: 0.9564\n",
            "Epoch 11/15\n",
            "2020/2020 [==============================] - 4s 2ms/sample - loss: 0.3853 - emotion_output_loss: 0.6137 - cause_output_loss: 0.1541 - emotion_output_accuracy: 0.8139 - cause_output_accuracy: 0.9554\n",
            "Epoch 12/15\n",
            "2020/2020 [==============================] - 4s 2ms/sample - loss: 0.3800 - emotion_output_loss: 0.5944 - cause_output_loss: 0.1713 - emotion_output_accuracy: 0.8277 - cause_output_accuracy: 0.9535\n",
            "Epoch 13/15\n",
            "2020/2020 [==============================] - 4s 2ms/sample - loss: 0.3654 - emotion_output_loss: 0.5760 - cause_output_loss: 0.1576 - emotion_output_accuracy: 0.8233 - cause_output_accuracy: 0.9559\n",
            "Epoch 14/15\n",
            "2020/2020 [==============================] - 4s 2ms/sample - loss: 0.3517 - emotion_output_loss: 0.5449 - cause_output_loss: 0.1587 - emotion_output_accuracy: 0.8322 - cause_output_accuracy: 0.9564\n",
            "Epoch 15/15\n",
            "2020/2020 [==============================] - 4s 2ms/sample - loss: 0.3336 - emotion_output_loss: 0.5416 - cause_output_loss: 0.1459 - emotion_output_accuracy: 0.8416 - cause_output_accuracy: 0.9579\n"
          ],
          "name": "stdout"
        },
        {
          "output_type": "execute_result",
          "data": {
            "text/plain": [
              "<tensorflow.python.keras.callbacks.History at 0x7f86d3d7c080>"
            ]
          },
          "metadata": {
            "tags": []
          },
          "execution_count": 54
        }
      ]
    },
    {
      "cell_type": "code",
      "metadata": {
        "id": "_Zr5PtaL64cx",
        "colab_type": "code",
        "outputId": "6ac52d16-9066-4b5c-a344-35b81da15ad7",
        "colab": {
          "base_uri": "https://localhost:8080/",
          "height": 514
        }
      },
      "source": [
        "print(model.metrics_names)\n",
        "\n",
        "print(model.evaluate(X_padded_seq, y_cause, verbose=0))\n",
        "\n",
        "print(model.evaluate(X_padded_seq, y_emotion, verbose=0))\n"
      ],
      "execution_count": 0,
      "outputs": [
        {
          "output_type": "stream",
          "text": [
            "['loss', 'emotion_output_loss', 'cause_output_loss', 'emotion_output_accuracy', 'cause_output_accuracy']\n"
          ],
          "name": "stdout"
        },
        {
          "output_type": "error",
          "ename": "ValueError",
          "evalue": "ignored",
          "traceback": [
            "\u001b[0;31m---------------------------------------------------------------------------\u001b[0m",
            "\u001b[0;31mValueError\u001b[0m                                Traceback (most recent call last)",
            "\u001b[0;32m<ipython-input-47-6a2c94c4c5ee>\u001b[0m in \u001b[0;36m<module>\u001b[0;34m()\u001b[0m\n\u001b[1;32m      1\u001b[0m \u001b[0mprint\u001b[0m\u001b[0;34m(\u001b[0m\u001b[0mmodel\u001b[0m\u001b[0;34m.\u001b[0m\u001b[0mmetrics_names\u001b[0m\u001b[0;34m)\u001b[0m\u001b[0;34m\u001b[0m\u001b[0;34m\u001b[0m\u001b[0m\n\u001b[1;32m      2\u001b[0m \u001b[0;34m\u001b[0m\u001b[0m\n\u001b[0;32m----> 3\u001b[0;31m \u001b[0mprint\u001b[0m\u001b[0;34m(\u001b[0m\u001b[0mmodel\u001b[0m\u001b[0;34m.\u001b[0m\u001b[0mevaluate\u001b[0m\u001b[0;34m(\u001b[0m\u001b[0mX_padded_seq\u001b[0m\u001b[0;34m,\u001b[0m \u001b[0my_cause\u001b[0m\u001b[0;34m,\u001b[0m \u001b[0mverbose\u001b[0m\u001b[0;34m=\u001b[0m\u001b[0;36m0\u001b[0m\u001b[0;34m)\u001b[0m\u001b[0;34m)\u001b[0m\u001b[0;34m\u001b[0m\u001b[0;34m\u001b[0m\u001b[0m\n\u001b[0m\u001b[1;32m      4\u001b[0m \u001b[0;34m\u001b[0m\u001b[0m\n\u001b[1;32m      5\u001b[0m \u001b[0mprint\u001b[0m\u001b[0;34m(\u001b[0m\u001b[0mmodel\u001b[0m\u001b[0;34m.\u001b[0m\u001b[0mevaluate\u001b[0m\u001b[0;34m(\u001b[0m\u001b[0mX_padded_seq\u001b[0m\u001b[0;34m,\u001b[0m \u001b[0my_emotion\u001b[0m\u001b[0;34m,\u001b[0m \u001b[0mverbose\u001b[0m\u001b[0;34m=\u001b[0m\u001b[0;36m0\u001b[0m\u001b[0;34m)\u001b[0m\u001b[0;34m)\u001b[0m\u001b[0;34m\u001b[0m\u001b[0;34m\u001b[0m\u001b[0m\n",
            "\u001b[0;32m/usr/local/lib/python3.6/dist-packages/tensorflow_core/python/keras/engine/training.py\u001b[0m in \u001b[0;36mevaluate\u001b[0;34m(self, x, y, batch_size, verbose, sample_weight, steps, callbacks, max_queue_size, workers, use_multiprocessing)\u001b[0m\n\u001b[1;32m    831\u001b[0m         \u001b[0mmax_queue_size\u001b[0m\u001b[0;34m=\u001b[0m\u001b[0mmax_queue_size\u001b[0m\u001b[0;34m,\u001b[0m\u001b[0;34m\u001b[0m\u001b[0;34m\u001b[0m\u001b[0m\n\u001b[1;32m    832\u001b[0m         \u001b[0mworkers\u001b[0m\u001b[0;34m=\u001b[0m\u001b[0mworkers\u001b[0m\u001b[0;34m,\u001b[0m\u001b[0;34m\u001b[0m\u001b[0;34m\u001b[0m\u001b[0m\n\u001b[0;32m--> 833\u001b[0;31m         use_multiprocessing=use_multiprocessing)\n\u001b[0m\u001b[1;32m    834\u001b[0m \u001b[0;34m\u001b[0m\u001b[0m\n\u001b[1;32m    835\u001b[0m   def predict(self,\n",
            "\u001b[0;32m/usr/local/lib/python3.6/dist-packages/tensorflow_core/python/keras/engine/training_v2.py\u001b[0m in \u001b[0;36mevaluate\u001b[0;34m(self, model, x, y, batch_size, verbose, sample_weight, steps, callbacks, **kwargs)\u001b[0m\n\u001b[1;32m    454\u001b[0m     return self._model_iteration(\n\u001b[1;32m    455\u001b[0m         \u001b[0mmodel\u001b[0m\u001b[0;34m,\u001b[0m \u001b[0mModeKeys\u001b[0m\u001b[0;34m.\u001b[0m\u001b[0mTEST\u001b[0m\u001b[0;34m,\u001b[0m \u001b[0mx\u001b[0m\u001b[0;34m=\u001b[0m\u001b[0mx\u001b[0m\u001b[0;34m,\u001b[0m \u001b[0my\u001b[0m\u001b[0;34m=\u001b[0m\u001b[0my\u001b[0m\u001b[0;34m,\u001b[0m \u001b[0mbatch_size\u001b[0m\u001b[0;34m=\u001b[0m\u001b[0mbatch_size\u001b[0m\u001b[0;34m,\u001b[0m \u001b[0mverbose\u001b[0m\u001b[0;34m=\u001b[0m\u001b[0mverbose\u001b[0m\u001b[0;34m,\u001b[0m\u001b[0;34m\u001b[0m\u001b[0;34m\u001b[0m\u001b[0m\n\u001b[0;32m--> 456\u001b[0;31m         sample_weight=sample_weight, steps=steps, callbacks=callbacks, **kwargs)\n\u001b[0m\u001b[1;32m    457\u001b[0m \u001b[0;34m\u001b[0m\u001b[0m\n\u001b[1;32m    458\u001b[0m   def predict(self, model, x, batch_size=None, verbose=0, steps=None,\n",
            "\u001b[0;32m/usr/local/lib/python3.6/dist-packages/tensorflow_core/python/keras/engine/training_v2.py\u001b[0m in \u001b[0;36m_model_iteration\u001b[0;34m(self, model, mode, x, y, batch_size, verbose, sample_weight, steps, callbacks, **kwargs)\u001b[0m\n\u001b[1;32m    394\u001b[0m           \u001b[0msample_weights\u001b[0m\u001b[0;34m=\u001b[0m\u001b[0msample_weight\u001b[0m\u001b[0;34m,\u001b[0m\u001b[0;34m\u001b[0m\u001b[0;34m\u001b[0m\u001b[0m\n\u001b[1;32m    395\u001b[0m           \u001b[0msteps\u001b[0m\u001b[0;34m=\u001b[0m\u001b[0msteps\u001b[0m\u001b[0;34m,\u001b[0m\u001b[0;34m\u001b[0m\u001b[0;34m\u001b[0m\u001b[0m\n\u001b[0;32m--> 396\u001b[0;31m           distribution_strategy=strategy)\n\u001b[0m\u001b[1;32m    397\u001b[0m       \u001b[0mtotal_samples\u001b[0m \u001b[0;34m=\u001b[0m \u001b[0m_get_total_number_of_samples\u001b[0m\u001b[0;34m(\u001b[0m\u001b[0madapter\u001b[0m\u001b[0;34m)\u001b[0m\u001b[0;34m\u001b[0m\u001b[0;34m\u001b[0m\u001b[0m\n\u001b[1;32m    398\u001b[0m       \u001b[0muse_sample\u001b[0m \u001b[0;34m=\u001b[0m \u001b[0mtotal_samples\u001b[0m \u001b[0;32mis\u001b[0m \u001b[0;32mnot\u001b[0m \u001b[0;32mNone\u001b[0m\u001b[0;34m\u001b[0m\u001b[0;34m\u001b[0m\u001b[0m\n",
            "\u001b[0;32m/usr/local/lib/python3.6/dist-packages/tensorflow_core/python/keras/engine/training_v2.py\u001b[0m in \u001b[0;36m_process_inputs\u001b[0;34m(model, x, y, batch_size, epochs, sample_weights, class_weights, shuffle, steps, distribution_strategy, max_queue_size, workers, use_multiprocessing)\u001b[0m\n\u001b[1;32m    592\u001b[0m         \u001b[0mbatch_size\u001b[0m\u001b[0;34m=\u001b[0m\u001b[0mbatch_size\u001b[0m\u001b[0;34m,\u001b[0m\u001b[0;34m\u001b[0m\u001b[0;34m\u001b[0m\u001b[0m\n\u001b[1;32m    593\u001b[0m         \u001b[0mcheck_steps\u001b[0m\u001b[0;34m=\u001b[0m\u001b[0;32mFalse\u001b[0m\u001b[0;34m,\u001b[0m\u001b[0;34m\u001b[0m\u001b[0;34m\u001b[0m\u001b[0m\n\u001b[0;32m--> 594\u001b[0;31m         steps=steps)\n\u001b[0m\u001b[1;32m    595\u001b[0m   adapter = adapter_cls(\n\u001b[1;32m    596\u001b[0m       \u001b[0mx\u001b[0m\u001b[0;34m,\u001b[0m\u001b[0;34m\u001b[0m\u001b[0;34m\u001b[0m\u001b[0m\n",
            "\u001b[0;32m/usr/local/lib/python3.6/dist-packages/tensorflow_core/python/keras/engine/training.py\u001b[0m in \u001b[0;36m_standardize_user_data\u001b[0;34m(self, x, y, sample_weight, class_weight, batch_size, check_steps, steps_name, steps, validation_split, shuffle, extract_tensors_from_dataset)\u001b[0m\n\u001b[1;32m   2517\u001b[0m           \u001b[0mshapes\u001b[0m\u001b[0;34m=\u001b[0m\u001b[0;32mNone\u001b[0m\u001b[0;34m,\u001b[0m\u001b[0;34m\u001b[0m\u001b[0;34m\u001b[0m\u001b[0m\n\u001b[1;32m   2518\u001b[0m           \u001b[0mcheck_batch_axis\u001b[0m\u001b[0;34m=\u001b[0m\u001b[0;32mFalse\u001b[0m\u001b[0;34m,\u001b[0m  \u001b[0;31m# Don't enforce the batch size.\u001b[0m\u001b[0;34m\u001b[0m\u001b[0;34m\u001b[0m\u001b[0m\n\u001b[0;32m-> 2519\u001b[0;31m           exception_prefix='target')\n\u001b[0m\u001b[1;32m   2520\u001b[0m \u001b[0;34m\u001b[0m\u001b[0m\n\u001b[1;32m   2521\u001b[0m       \u001b[0;31m# Generate sample-wise weight values given the `sample_weight` and\u001b[0m\u001b[0;34m\u001b[0m\u001b[0;34m\u001b[0m\u001b[0;34m\u001b[0m\u001b[0m\n",
            "\u001b[0;32m/usr/local/lib/python3.6/dist-packages/tensorflow_core/python/keras/engine/training_utils.py\u001b[0m in \u001b[0;36mstandardize_input_data\u001b[0;34m(data, names, shapes, check_batch_axis, exception_prefix)\u001b[0m\n\u001b[1;32m    529\u001b[0m                        \u001b[0;34m'Expected to see '\u001b[0m \u001b[0;34m+\u001b[0m \u001b[0mstr\u001b[0m\u001b[0;34m(\u001b[0m\u001b[0mlen\u001b[0m\u001b[0;34m(\u001b[0m\u001b[0mnames\u001b[0m\u001b[0;34m)\u001b[0m\u001b[0;34m)\u001b[0m \u001b[0;34m+\u001b[0m \u001b[0;34m' array(s), '\u001b[0m\u001b[0;34m\u001b[0m\u001b[0;34m\u001b[0m\u001b[0m\n\u001b[1;32m    530\u001b[0m                        \u001b[0;34m'but instead got the following list of '\u001b[0m \u001b[0;34m+\u001b[0m\u001b[0;34m\u001b[0m\u001b[0;34m\u001b[0m\u001b[0m\n\u001b[0;32m--> 531\u001b[0;31m                        str(len(data)) + ' arrays: ' + str(data)[:200] + '...')\n\u001b[0m\u001b[1;32m    532\u001b[0m     \u001b[0;32melif\u001b[0m \u001b[0mlen\u001b[0m\u001b[0;34m(\u001b[0m\u001b[0mnames\u001b[0m\u001b[0;34m)\u001b[0m \u001b[0;34m>\u001b[0m \u001b[0;36m1\u001b[0m\u001b[0;34m:\u001b[0m\u001b[0;34m\u001b[0m\u001b[0;34m\u001b[0m\u001b[0m\n\u001b[1;32m    533\u001b[0m       raise ValueError('Error when checking model ' + exception_prefix +\n",
            "\u001b[0;31mValueError\u001b[0m: Error when checking model target: the list of Numpy arrays that you are passing to your model is not the size the model expected. Expected to see 2 array(s), but instead got the following list of 1 arrays: [array([[0],\n       [1],\n       [0],\n       ...,\n       [0],\n       [0],\n       [0]])]..."
          ]
        }
      ]
    },
    {
      "cell_type": "code",
      "metadata": {
        "id": "mIPVD7qB9lGR",
        "colab_type": "code",
        "outputId": "2db9a4dd-a653-4979-e17f-cd7a2e9183a6",
        "colab": {
          "base_uri": "https://localhost:8080/",
          "height": 935
        }
      },
      "source": [
        "#print(X_padded_seq)\n",
        "#print(clause_global[:30])\n",
        "cause_\n",
        "print('causes: ', model.predict({'clause_input': X_padded_seq})[1][0:30])\n",
        "print('-----')\n",
        "print('emotions: ', model.predict({'clause_input': X_padded_seq})[0][1])"
      ],
      "execution_count": 0,
      "outputs": [
        {
          "output_type": "stream",
          "text": [
            "causes:  [[0.00467286]\n",
            " [0.992792  ]\n",
            " [0.02149299]\n",
            " [0.06135821]\n",
            " [0.00425297]\n",
            " [0.9056627 ]\n",
            " [0.06135821]\n",
            " [0.04169598]\n",
            " [0.00545982]\n",
            " [0.9654536 ]\n",
            " [0.06135821]\n",
            " [0.04261762]\n",
            " [0.08833924]\n",
            " [0.9931287 ]\n",
            " [0.06135821]\n",
            " [0.06187195]\n",
            " [0.00519952]\n",
            " [0.02860957]\n",
            " [0.06135821]\n",
            " [0.00462639]\n",
            " [0.07743061]\n",
            " [0.9834853 ]\n",
            " [0.06135821]\n",
            " [0.00577381]\n",
            " [0.05706501]\n",
            " [0.06135821]\n",
            " [0.06135821]\n",
            " [0.01724556]\n",
            " [0.00385681]\n",
            " [0.99007004]]\n",
            "-----\n",
            "emotions:  [2.76657391e-10 9.74585474e-01 3.67879024e-04 2.77448225e-06\n",
            " 2.81436442e-05 6.73639181e-04 2.37168797e-06 2.15344357e-06\n",
            " 6.58098907e-06 3.18277071e-10 2.27236596e-05 1.91533282e-11\n",
            " 1.35762430e-05 6.75020772e-07 4.47698267e-06 1.49005774e-09\n",
            " 7.46561923e-10 2.88858804e-09 2.57263742e-11 5.14428439e-06\n",
            " 8.92757812e-10 3.93658041e-07 7.06891683e-07 8.25328425e-06\n",
            " 3.73397242e-08 4.18882116e-11 5.67624147e-06 1.34727923e-10\n",
            " 6.57428336e-06 3.84644605e-04 1.60065429e-06 5.04704713e-06\n",
            " 4.07084963e-06 1.82253341e-08 1.41259657e-10 2.08438111e-09\n",
            " 8.37347528e-04 6.05308060e-07 8.59375723e-05 7.07448722e-09\n",
            " 2.27016299e-05 1.13556275e-07 2.00646832e-06 1.25989705e-11\n",
            " 2.65581639e-05 1.13665226e-06 1.15283383e-05 2.16591561e-05\n",
            " 9.52890531e-08 5.11857001e-09 2.83446582e-11 6.25355115e-11\n",
            " 3.42421508e-10 2.27126748e-05 2.56530852e-10 8.89504637e-10\n",
            " 2.15070826e-11 5.50089752e-10 4.50490228e-10 3.30237003e-06\n",
            " 1.79817863e-02 8.13896349e-06 3.32870113e-04 3.55934056e-08\n",
            " 7.67051034e-10 3.86857157e-10 8.99002146e-07 1.15179764e-05\n",
            " 1.93621654e-05 5.80456794e-10 1.16129439e-10 3.48288537e-10\n",
            " 4.43294691e-03 2.66088106e-11 9.85432780e-06 5.72964927e-06\n",
            " 1.76042522e-05 4.19202624e-11 4.62108618e-09 4.96490765e-11\n",
            " 2.43397802e-11 2.67560939e-11 1.27120661e-10 5.68079577e-06\n",
            " 2.76207402e-06 2.33085575e-06 1.11225940e-09 1.26249877e-09\n",
            " 6.41625988e-08]\n"
          ],
          "name": "stdout"
        }
      ]
    },
    {
      "cell_type": "code",
      "metadata": {
        "id": "6m5zwCbW9uu5",
        "colab_type": "code",
        "colab": {}
      },
      "source": [
        "# # test code to test the model prediction\n",
        "# test_input=[['he was mad'], ['because I am sick']]\n",
        "# test_X_seq=tokenizer.texts_to_sequences(test_input)\n",
        "# print(test_X_seq)\n",
        "\n",
        "# test_X_padded_seq=pad_sequences(test_X_seq,padding='post',maxlen=30)\n",
        "# print(test_X_padded_seq)\n",
        "\n",
        "# #output = model.predict_classes(test_X_padded_seq)\n",
        "# output = model.predict(test_X_padded_seq)\n",
        "# print(output[0], output[1])\n",
        "# # for word, index in tokenizer_emotion.word_index.items():\n",
        "# #   if index==output:\n",
        "# #     print(word, index, output)\n",
        "# #     break"
      ],
      "execution_count": 0,
      "outputs": []
    },
    {
      "cell_type": "code",
      "metadata": {
        "id": "gY74_bY80FGW",
        "colab_type": "code",
        "colab": {}
      },
      "source": [
        "#input : emotion * cause\n",
        "\n",
        "\n",
        "# logistic regresson\n",
        "\n",
        "\n",
        "\n",
        "#output"
      ],
      "execution_count": 0,
      "outputs": []
    },
    {
      "cell_type": "code",
      "metadata": {
        "id": "Q97V-EpL9u9y",
        "colab_type": "code",
        "colab": {}
      },
      "source": [
        ""
      ],
      "execution_count": 0,
      "outputs": []
    }
  ]
}