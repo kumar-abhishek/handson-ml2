{
  "nbformat": 4,
  "nbformat_minor": 0,
  "metadata": {
    "colab": {
      "name": "new_ecpe.ipynb",
      "provenance": [],
      "collapsed_sections": [],
      "machine_shape": "hm",
      "authorship_tag": "ABX9TyMPTS935H4VA2ChhFcUFYWa",
      "include_colab_link": true
    },
    "kernelspec": {
      "name": "python3",
      "display_name": "Python 3"
    },
    "accelerator": "TPU"
  },
  "cells": [
    {
      "cell_type": "markdown",
      "metadata": {
        "id": "view-in-github",
        "colab_type": "text"
      },
      "source": [
        "<a href=\"https://colab.research.google.com/github/kumar-abhishek/handson-ml2/blob/emotion-cause/new_ecpe.ipynb\" target=\"_parent\"><img src=\"https://colab.research.google.com/assets/colab-badge.svg\" alt=\"Open In Colab\"/></a>"
      ]
    },
    {
      "cell_type": "code",
      "metadata": {
        "id": "fWGQ-Sot6DXX",
        "colab_type": "code",
        "colab": {}
      },
      "source": [
        "#!pip install tensorflow==2.0.0\n"
      ],
      "execution_count": 0,
      "outputs": []
    },
    {
      "cell_type": "code",
      "metadata": {
        "id": "OKgKnMIm6hdc",
        "colab_type": "code",
        "colab": {}
      },
      "source": [
        "#!pip install tensorflow-probability==0.8.0"
      ],
      "execution_count": 0,
      "outputs": []
    },
    {
      "cell_type": "code",
      "metadata": {
        "id": "8s7Hq5tj6jHf",
        "colab_type": "code",
        "outputId": "0a814b94-61f1-49f2-c340-9db8717b0cf5",
        "colab": {
          "base_uri": "https://localhost:8080/",
          "height": 85
        }
      },
      "source": [
        "%tensorflow_version 2.x\n",
        "%tensorflow_version\n",
        "\n"
      ],
      "execution_count": 119,
      "outputs": [
        {
          "output_type": "stream",
          "text": [
            "Currently selected TF version: 2.x\n",
            "Available versions:\n",
            "* 1.x\n",
            "* 2.x\n"
          ],
          "name": "stdout"
        }
      ]
    },
    {
      "cell_type": "code",
      "metadata": {
        "id": "bGvLlsaM6kix",
        "colab_type": "code",
        "colab": {}
      },
      "source": [
        "\n",
        "import unicodedata\n",
        "import re\n",
        "import numpy as np\n",
        "import os\n",
        "import io\n",
        "import time\n",
        "from tensorflow import keras\n",
        "import tensorflow as tf\n",
        "from tensorflow.keras.preprocessing.sequence import pad_sequences"
      ],
      "execution_count": 0,
      "outputs": []
    },
    {
      "cell_type": "code",
      "metadata": {
        "id": "LAdiSXCn6lmN",
        "colab_type": "code",
        "colab": {}
      },
      "source": [
        "emotion_seeds = list([\"ashamed\", \"embarrassed\", \"happy\", \"furious\", \"angry\", \n",
        "                     \"miffed\", \"nervous\", \"mad\", \"anger\", \"excitement\", \"horror\", \"resentful\", \"astonished\", \"revulsion\", \n",
        "                     \"frightened\", \"cross\", \"sad\", \"down\", \"astonishment\", \"miserable\", \"worried\", \"sorrow\", \"overjoyed\",\n",
        "                     \"dismay\", \"grief\", \"annoyance\", \"alarmed\", \"astounded\", \"anguish\", \"despair\", \"infuriated\", \n",
        "                     \"embarrassment\", \"peeved\", \"amused\", \"disgruntled\", \"indignant\", \"thrilled\", \"anxious\", \"excited\",\n",
        "                     \"exasperation\", \"petrified\", \"heartbroken\", \"saddened\", \"depressed\", \"dismayed\", \"frustrated\", \"fedup\", \"livid\",\n",
        "                     \"revulsion\", \"bewildered\", \"flabbergasted\", \"happier\", \"ecstatic\", \"elation\", \"exhilarated\", \"exhilaration\",\n",
        "                     \"glee\", \"gleeful\", \"crestfallen\", \"sadness\", \"amusement\", \"dejected\", \"desolate\", \"despondency\", \"horrors\",\n",
        "                     \"agitated\", \"disquiet\", \"horrified\", \"exasperated\", \"irked\", \"disgruntlement\", \"sickened\", \"revolted\",\n",
        "                     \"devastated\", \"heartbreak\", \"inconsolable\", \"bewilderment\", \"nonplussed\", \"puzzlement\", \"disquieted\",\n",
        "                     \"glum\", \"downcast\", \"griefstricken\", \"startled\", \"disgust\", \"disgusted\", \"delight\", \"delighted\", \"pleased\", \"concerned\", \"surprise\"])"
      ],
      "execution_count": 0,
      "outputs": []
    },
    {
      "cell_type": "code",
      "metadata": {
        "id": "SUu4uQIMuKzd",
        "colab_type": "code",
        "colab": {}
      },
      "source": [
        "emotion_seeds = list([\"happy\", \"sad\", \"surprise\", \"disgust\", \"anger\", \"fear\", \"shame\"])"
      ],
      "execution_count": 0,
      "outputs": []
    },
    {
      "cell_type": "markdown",
      "metadata": {
        "id": "T7B6M48f6NaC",
        "colab_type": "text"
      },
      "source": [
        ""
      ]
    },
    {
      "cell_type": "code",
      "metadata": {
        "id": "1nBLnXu06m5p",
        "colab_type": "code",
        "colab": {}
      },
      "source": [
        "# input is sentence, output is emotion cause pairs\n",
        "# Determine clauses by splitting on punctuation.\n",
        "\n",
        "# preprocess\n",
        "\n",
        "# Converts the unicode file to ascii\n",
        "def unicode_to_ascii(s):\n",
        "  return ''.join(c for c in unicodedata.normalize('NFD', s)\n",
        "      if unicodedata.category(c) != 'Mn')\n",
        "\n",
        "def remove_nonascii(w):\n",
        "  w = unicode_to_ascii(w.lower().strip())\n",
        "\n",
        "  # creating a space between a word and the punctuation following it\n",
        "  # eg: \"he is a boy.\" => \"he is a boy .\"\n",
        "  # Reference:- https://stackoverflow.com/questions/3645931/python-padding-punctuation-with-white-spaces-keeping-punctuation\n",
        "  w = re.sub(r\"([?.!,¿])\", r\" \\1 \", w)\n",
        "  w = re.sub(r'[\" \"]+', \" \", w)\n",
        "\n",
        "  # replacing everything with space except (a-z, A-Z, \".\", \"?\", \"!\", \",\")\n",
        "  w = re.sub(r\"[^a-zA-Z?.!,¿]+\", \" \", w)\n",
        "\n",
        "  w = w.strip()\n",
        "  return w\n",
        "\n",
        "\n",
        "def preprocess_sentence(w):\n",
        "  w = remove_nonascii(w)\n",
        "  # adding a start and an end token to the sentence\n",
        "  # so that the model know when to start and stop predicting.\n",
        "  w = '<start> ' + w + ' <end>'\n",
        "  return w"
      ],
      "execution_count": 0,
      "outputs": []
    },
    {
      "cell_type": "code",
      "metadata": {
        "id": "bg5pjkFs-ApL",
        "colab_type": "code",
        "colab": {}
      },
      "source": [
        "# remove puncutation from within a cause in a doc\n",
        "import string\n",
        "def remove_puncutation_in_cause(text):\n",
        "    # punctuation marks \n",
        "    punctuations = '''!()-[]{};:'\"\\,<>./?@#$%^&*_~'''\n",
        "  \n",
        "    start = text.find(\"<cause>\")\n",
        "\n",
        "    # traverse the given string and if any punctuation \n",
        "    # marks occur replace it with null \n",
        "    #print('text: ', text)\n",
        "    start_text = text[:start]\n",
        "    cause = re.findall('<cause>(.*?)<\\\\\\cause>', text)[0]\n",
        "    cause = \"\".join(c for c in cause if c not in string.punctuation)\n",
        "    end = text.find(\"<\\cause>\")\n",
        "    end_text = text[end+8:] \n",
        "\n",
        "    text = start_text + \"<cause>\" + cause + \"<\\cause>\" + end_text\n",
        "    return text"
      ],
      "execution_count": 0,
      "outputs": []
    },
    {
      "cell_type": "code",
      "metadata": {
        "id": "A06WqmXA6od_",
        "colab_type": "code",
        "colab": {}
      },
      "source": [
        "def extract_cause(text):\n",
        "  cur_cause=''\n",
        "  try:\n",
        "    cur_cause = re.findall('<cause>(.*?)<\\\\\\cause>', text)[0]\n",
        "    # Remove tags from line\n",
        "    text=re.sub('<cause>', '', text)\n",
        "    text=re.sub('<\\\\\\cause>', '', text)\n",
        "  except:\n",
        "    pass\n",
        "  return (cur_cause, text)"
      ],
      "execution_count": 0,
      "outputs": []
    },
    {
      "cell_type": "code",
      "metadata": {
        "id": "6aoalx8iYkHC",
        "colab_type": "code",
        "outputId": "9918b7a3-e1cd-45b4-d876-a88b83cd5732",
        "colab": {
          "base_uri": "https://localhost:8080/",
          "height": 71
        }
      },
      "source": [
        "extract_cause(\"<happy>I suppose I am happy , <cause>being so, ` tiny'<\\cause> ; it means I am able to surprise people with what is generally seen as my confident and outgoing personality . <\\happy>\")"
      ],
      "execution_count": 126,
      "outputs": [
        {
          "output_type": "execute_result",
          "data": {
            "text/plain": [
              "(\"being so, ` tiny'\",\n",
              " \"<happy>I suppose I am happy , being so, ` tiny' ; it means I am able to surprise people with what is generally seen as my confident and outgoing personality . <\\\\happy>\")"
            ]
          },
          "metadata": {
            "tags": []
          },
          "execution_count": 126
        }
      ]
    },
    {
      "cell_type": "code",
      "metadata": {
        "id": "rt0Jtl0v6p7C",
        "colab_type": "code",
        "colab": {}
      },
      "source": [
        "\n",
        "def clean_filter_clauses(all_clauses):\n",
        "  cause = ''\n",
        "  clauses=[]\n",
        "  for clause in all_clauses:\n",
        "    e_cause, e_text = extract_cause(clause)\n",
        "    if e_cause!='':\n",
        "      cause = remove_nonascii(e_cause)\n",
        "    if e_text!='' and remove_nonascii(e_text)!='':\n",
        "      clauses.append(remove_nonascii(e_text))\n",
        "  if cause in ['', None]:\n",
        "    raise Exception('cause is empty', clauses, all_clauses)\n",
        "  return cause, clauses\n",
        "\n"
      ],
      "execution_count": 0,
      "outputs": []
    },
    {
      "cell_type": "code",
      "metadata": {
        "id": "IVSKbFMHpWz4",
        "colab_type": "code",
        "colab": {}
      },
      "source": [
        "def get_emotion_id_from_emotion_seed(cur_emotion):\n",
        "  for id, emotion in enumerate(emotion_seeds):\n",
        "    if emotion==cur_emotion:\n",
        "      return id"
      ],
      "execution_count": 0,
      "outputs": []
    },
    {
      "cell_type": "code",
      "metadata": {
        "id": "Z4uOCxZl6skI",
        "colab_type": "code",
        "colab": {}
      },
      "source": [
        "\n",
        "path_to_file = \"data.txt\"  \n",
        "# 1. Remove any accents\n",
        "# 2. Clean the sentences\n",
        "# 3. Return word pairs in the format: [document, emotion, cause, clauses list]\n",
        "document=[]\n",
        "emotion=[]\n",
        "cause=[]\n",
        "clause=[]\n",
        "clause_global=[]\n",
        "emotion_label=[]\n",
        "cause_label=[]\n",
        "clauseid_to_docid=[]\n",
        "known_emotion_cause_pair_per_doc_id=[]\n",
        "\n",
        "\n",
        "def create_dataset(path, num_examples):\n",
        "  document.clear()\n",
        "  emotion.clear()\n",
        "  cause.clear()\n",
        "  clause.clear()\n",
        "  clause_global.clear()\n",
        "  emotion_label.clear()\n",
        "  cause_label.clear()\n",
        "  clauseid_to_docid.clear()\n",
        "  lines = io.open(path, encoding='UTF-8').read().strip().split('\\n')\n",
        "  for i, line in enumerate(lines[:num_examples]):\n",
        "    line = remove_puncutation_in_cause(line)\n",
        "  \n",
        "    cur_emotion = re.findall('<(.*?)>', line)[0]\n",
        "    if cur_emotion=='':\n",
        "      raise Exception('cur_emotion is empty for line: ', line, i)\n",
        "    # removing emotion tag in document\n",
        "    text_without_emotion=line[2+len(cur_emotion):len(line)-len(cur_emotion)-3]\n",
        "    emotion.append(cur_emotion)\n",
        "\n",
        "    # Determine clauses by splitting on punctuation.\n",
        "    #all_clauses = re.split(\"[.,!;:\\\"]+\", text_without_emotion) # removing dot from this for now\n",
        "    all_clauses = re.split(\"[,!;:\\\"]+\", text_without_emotion) # removing dot from this for now\n",
        "    filter_cause, filter_clauses = clean_filter_clauses(all_clauses)\n",
        "    cause.append(filter_cause)\n",
        "\n",
        "    clause.append([filter_clauses])\n",
        "    doc = extract_cause(text_without_emotion)[1]\n",
        "    # clean up document\n",
        "    clean_doc = preprocess_sentence(doc)\n",
        "    document.append(clean_doc)\n",
        "    clause_global.extend(filter_clauses)\n",
        "    cause_found=False\n",
        "    if not filter_clauses:\n",
        "      raise Exception('filter_clauses empty')\n",
        "    for fclause in filter_clauses:\n",
        "      clauseid_to_docid.append(i)\n",
        "      fclause = fclause.strip('.')\n",
        "      \n",
        "      if fclause.find(filter_cause) != -1:\n",
        "        if cause_found:\n",
        "          #raise Exception('cause already found for line: ', line, fclause, 'filter_cause: ', filter_cause)\n",
        "          pass\n",
        "        else:\n",
        "          cause_label.append(1)\n",
        "          cause_id = len(clauseid_to_docid)-1\n",
        "          known_emotion_cause_pair_per_doc_id.append([get_emotion_id_from_emotion_seed(cur_emotion), cause_id])\n",
        "          cause_found=True\n",
        "      else:\n",
        "        cause_label.append(0)\n",
        "\n",
        "      has_emotion_label=False\n",
        "      for eseed in emotion_seeds:\n",
        "        if eseed in fclause:\n",
        "          has_emotion_label=True\n",
        "          emotion_label.append(eseed)\n",
        "          break\n",
        "      if has_emotion_label==False:\n",
        "        emotion_label.append('')\n",
        "    \n",
        "    if cause_found==False:\n",
        "      raise Exception('cause not found for line: ', line, i, 'filter_cause: ', filter_cause)\n",
        "\n",
        "    #print(len(emotion_label), len(cause_label))\n",
        "    \n",
        "\n",
        "\n",
        "  return [document, emotion, cause, clause, clause_global, cause_label, emotion_label]"
      ],
      "execution_count": 0,
      "outputs": []
    },
    {
      "cell_type": "code",
      "metadata": {
        "id": "oxZfXpSQ6trV",
        "colab_type": "code",
        "outputId": "09408c5a-00d9-453d-e5f1-28b95d1d5026",
        "colab": {
          "base_uri": "https://localhost:8080/",
          "height": 1000
        }
      },
      "source": [
        "document, emotion, cause, clause_list, clause_global, cause_label, emotion_label = create_dataset(path_to_file, 500)\n",
        "print('number of documents: ', len(document),'\\n')\n",
        "\n",
        "for i in range(10): # print bug; todo: print till len(clauses) if you want to see all documents.\n",
        "  print('clause: ', clause_global[i])\n",
        "  print('cause label: ', cause_label[i])\n",
        "  print('emotion label: ', emotion_label[i])\n",
        "  print('clauseid_to_docid label: ', clauseid_to_docid[i])\n",
        "  print('known_emotion_cause_pair_per_doc_id: ', i ,  known_emotion_cause_pair_per_doc_id[i])\n",
        "  print('\\n--------\\n')\n"
      ],
      "execution_count": 130,
      "outputs": [
        {
          "output_type": "stream",
          "text": [
            "number of documents:  500 \n",
            "\n",
            "clause:  i suppose i am happy\n",
            "cause label:  0\n",
            "emotion label:  happy\n",
            "clauseid_to_docid label:  0\n",
            "known_emotion_cause_pair_per_doc_id:  0 [0, 1]\n",
            "\n",
            "--------\n",
            "\n",
            "clause:  being so tiny\n",
            "cause label:  1\n",
            "emotion label:  \n",
            "clauseid_to_docid label:  0\n",
            "known_emotion_cause_pair_per_doc_id:  1 [0, 4]\n",
            "\n",
            "--------\n",
            "\n",
            "clause:  it means i am able to surprise people with what is generally seen as my confident and outgoing personality .\n",
            "cause label:  0\n",
            "emotion label:  surprise\n",
            "clauseid_to_docid label:  0\n",
            "known_emotion_cause_pair_per_doc_id:  2 [0, 7]\n",
            "\n",
            "--------\n",
            "\n",
            "clause:  lennox has always truly wanted to fight for the world title and was happy\n",
            "cause label:  0\n",
            "emotion label:  happy\n",
            "clauseid_to_docid label:  1\n",
            "known_emotion_cause_pair_per_doc_id:  3 [0, 10]\n",
            "\n",
            "--------\n",
            "\n",
            "clause:  because he was taking the tough route .\n",
            "cause label:  1\n",
            "emotion label:  \n",
            "clauseid_to_docid label:  1\n",
            "known_emotion_cause_pair_per_doc_id:  4 [0, 13]\n",
            "\n",
            "--------\n",
            "\n",
            "clause:  he was a professional musician now\n",
            "cause label:  0\n",
            "emotion label:  \n",
            "clauseid_to_docid label:  2\n",
            "known_emotion_cause_pair_per_doc_id:  5 [0, 16]\n",
            "\n",
            "--------\n",
            "\n",
            "clause:  still sensitive and happy\n",
            "cause label:  0\n",
            "emotion label:  happy\n",
            "clauseid_to_docid label:  2\n",
            "known_emotion_cause_pair_per_doc_id:  6 [0, 18]\n",
            "\n",
            "--------\n",
            "\n",
            "clause:  doing something he loved .\n",
            "cause label:  1\n",
            "emotion label:  \n",
            "clauseid_to_docid label:  2\n",
            "known_emotion_cause_pair_per_doc_id:  7 [0, 21]\n",
            "\n",
            "--------\n",
            "\n",
            "clause:  holmes is happy\n",
            "cause label:  0\n",
            "emotion label:  happy\n",
            "clauseid_to_docid label:  3\n",
            "known_emotion_cause_pair_per_doc_id:  8 [0, 23]\n",
            "\n",
            "--------\n",
            "\n",
            "clause:  because\n",
            "cause label:  0\n",
            "emotion label:  \n",
            "clauseid_to_docid label:  3\n",
            "known_emotion_cause_pair_per_doc_id:  9 [0, 27]\n",
            "\n",
            "--------\n",
            "\n"
          ],
          "name": "stdout"
        }
      ]
    },
    {
      "cell_type": "code",
      "metadata": {
        "id": "2-8ZI2udu7ig",
        "colab_type": "code",
        "outputId": "4e4fe8d1-2b29-4d91-bcaa-b23373ef8d94",
        "colab": {
          "base_uri": "https://localhost:8080/",
          "height": 527
        }
      },
      "source": [
        "known_emotion_cause_pair_per_doc_id[:30]"
      ],
      "execution_count": 131,
      "outputs": [
        {
          "output_type": "execute_result",
          "data": {
            "text/plain": [
              "[[0, 1],\n",
              " [0, 4],\n",
              " [0, 7],\n",
              " [0, 10],\n",
              " [0, 13],\n",
              " [0, 16],\n",
              " [0, 18],\n",
              " [0, 21],\n",
              " [0, 23],\n",
              " [0, 27],\n",
              " [0, 29],\n",
              " [0, 32],\n",
              " [0, 34],\n",
              " [0, 38],\n",
              " [0, 41],\n",
              " [0, 44],\n",
              " [0, 46],\n",
              " [0, 48],\n",
              " [0, 50],\n",
              " [0, 56],\n",
              " [0, 58],\n",
              " [0, 60],\n",
              " [0, 62],\n",
              " [0, 64],\n",
              " [0, 66],\n",
              " [0, 70],\n",
              " [0, 72],\n",
              " [0, 76],\n",
              " [0, 78],\n",
              " [0, 80]]"
            ]
          },
          "metadata": {
            "tags": []
          },
          "execution_count": 131
        }
      ]
    },
    {
      "cell_type": "code",
      "metadata": {
        "id": "0b_RpTzi6xJ-",
        "colab_type": "code",
        "colab": {}
      },
      "source": [
        "X=clause_global\n",
        "y_cause=np.asarray(cause_label)\n",
        "y_emotion=np.asarray(emotion_label)"
      ],
      "execution_count": 0,
      "outputs": []
    },
    {
      "cell_type": "code",
      "metadata": {
        "id": "sO-L6XjD6yjK",
        "colab_type": "code",
        "outputId": "572984bb-1a0a-4b33-b283-2f7ee6ff2ee2",
        "colab": {
          "base_uri": "https://localhost:8080/",
          "height": 105
        }
      },
      "source": [
        "print(clause_global[:10])\n",
        "print( type(clause_global))\n",
        "\n",
        "print('y_cause: ', y_cause, type(y_cause), len(y_cause))\n",
        "print('y_emotion: ', y_emotion)"
      ],
      "execution_count": 152,
      "outputs": [
        {
          "output_type": "stream",
          "text": [
            "['i suppose i am happy', 'being so tiny', 'it means i am able to surprise people with what is generally seen as my confident and outgoing personality .', 'lennox has always truly wanted to fight for the world title and was happy', 'because he was taking the tough route .', 'he was a professional musician now', 'still sensitive and happy', 'doing something he loved .', 'holmes is happy', 'because']\n",
            "<class 'list'>\n",
            "y_cause:  [0 1 0 ... 0 0 0] <class 'numpy.ndarray'> 1429\n",
            "y_emotion:  ['happy' '' 'surprise' ... '' '' '']\n"
          ],
          "name": "stdout"
        }
      ]
    },
    {
      "cell_type": "code",
      "metadata": {
        "id": "j-mYsdx46zib",
        "colab_type": "code",
        "outputId": "5b01d3d1-a6b2-447b-e188-899f03859602",
        "colab": {
          "base_uri": "https://localhost:8080/",
          "height": 136
        }
      },
      "source": [
        "# TODO: see if i should use LabelEncoder: https://medium.com/appening-io/emotion-classification-2d4ed93bf4e2\n",
        "from sklearn.preprocessing import LabelEncoder\n",
        "\n",
        "tokenizer_emotion=keras.preprocessing.text.Tokenizer(num_words=7, oov_token=\"xxxxxxx\") # TODO: check num_words \n",
        "tokenizer_emotion.fit_on_texts(emotion_seeds)\n",
        "print(len(tokenizer_emotion.word_index), len(emotion_seeds), tokenizer_emotion.word_index)\n",
        "tokenized_id_to_emotion_map={}\n",
        "for emotion, idx in tokenizer_emotion.word_index.items():\n",
        "  tokenized_id_to_emotion_map[idx] = emotion\n",
        "y_emotion_tokenized=[]\n",
        "for emotion in y_emotion:\n",
        "  if emotion in tokenizer_emotion.word_index:\n",
        "    y_emotion_tokenized.append(tokenizer_emotion.word_index[emotion])\n",
        "  else:\n",
        "    y_emotion_tokenized.append(1)\n",
        "y_emotion_tokenized = np.asarray(y_emotion_tokenized)\n",
        "print(y_emotion_tokenized[:200], len(y_emotion_tokenized))"
      ],
      "execution_count": 134,
      "outputs": [
        {
          "output_type": "stream",
          "text": [
            "8 7 {'xxxxxxx': 1, 'happy': 2, 'sad': 3, 'surprise': 4, 'disgust': 5, 'anger': 6, 'fear': 7, 'shame': 8}\n",
            "[2 1 4 2 1 1 2 1 2 1 1 1 2 1 2 1 1 2 1 1 2 1 2 1 1 1 2 1 2 1 1 2 1 2 1 1 1\n",
            " 1 1 1 2 1 2 2 1 2 1 2 1 2 1 1 1 1 1 2 1 2 1 2 1 2 1 2 1 2 1 1 1 2 1 1 1 1\n",
            " 1 1 1 1 1 1 1 1 1 2 1 1 1 1 1 1 1 1 1 1 1 1 1 1 1 1 1 1 1 1 1 1 1 1 1 1 1\n",
            " 1 1 1 1 1 1 1 1 1 1 6 1 1 1 1 1 1 1 1 1 1 1 1 1 1 1 1 1 1 1 1 1 1 1 1 1 1\n",
            " 1 1 1 1 1 1 1 1 1 1 1 1 1 1 1 1 1 1 1 1 1 1 1 1 1 1 1 1 1 1 1 1 1 1 1 1 1\n",
            " 1 1 1 1 1 1 1 1 1 1 1 1 1 1 1] 1429\n"
          ],
          "name": "stdout"
        }
      ]
    },
    {
      "cell_type": "code",
      "metadata": {
        "id": "2KAf0VQxPLlu",
        "colab_type": "code",
        "outputId": "b2a72201-7534-4f5b-8e2a-defb9738b0f7",
        "colab": {
          "base_uri": "https://localhost:8080/",
          "height": 34
        }
      },
      "source": [
        "print(tokenized_id_to_emotion_map)"
      ],
      "execution_count": 135,
      "outputs": [
        {
          "output_type": "stream",
          "text": [
            "{1: 'xxxxxxx', 2: 'happy', 3: 'sad', 4: 'surprise', 5: 'disgust', 6: 'anger', 7: 'fear', 8: 'shame'}\n"
          ],
          "name": "stdout"
        }
      ]
    },
    {
      "cell_type": "code",
      "metadata": {
        "id": "CJM7QPmQRcIn",
        "colab_type": "code",
        "outputId": "5994dbf0-c060-4bb9-bed4-3cb4b3092a7f",
        "colab": {
          "base_uri": "https://localhost:8080/",
          "height": 71
        }
      },
      "source": [
        "# NOTE: DO NOT RUN THIS CELL TWICE!!!\n",
        "\n",
        "# Fix known_emotion_cause_pair_per_doc_id to use tokenized emotion indices\n",
        "print('known_emotion_cause_pair_per_doc_id: ', known_emotion_cause_pair_per_doc_id)\n",
        "fixed_known_emotion_cause_pair_per_doc_id = []\n",
        "for idx, item in enumerate(known_emotion_cause_pair_per_doc_id):\n",
        "  emotion, cause = item[0], item[1]\n",
        "  fixed_known_emotion_cause_pair_per_doc_id.append(known_emotion_cause_pair_per_doc_id[idx])\n",
        "  fixed_known_emotion_cause_pair_per_doc_id[idx][0] = tokenizer_emotion.word_index[emotion_seeds[emotion]] #tokenizer_emotion.transform([[emotion_seeds[emotion]]])[0] \n",
        "  #print('emotion_seeds[emotion]: ',emotion_seeds[emotion] ,'idx:', idx, 'emotion: ', emotion, 'cause:', cause, 'new_emotion: ', fixed_known_emotion_cause_pair_per_doc_id[idx][0])\n",
        "\n",
        "print('fixed_known_emotion_cause_pair_per_doc_id:', fixed_known_emotion_cause_pair_per_doc_id)"
      ],
      "execution_count": 137,
      "outputs": [
        {
          "output_type": "stream",
          "text": [
            "known_emotion_cause_pair_per_doc_id:  [[2, 1], [2, 4], [2, 7], [2, 10], [2, 13], [2, 16], [2, 18], [2, 21], [2, 23], [2, 27], [2, 29], [2, 32], [2, 34], [2, 38], [2, 41], [2, 44], [2, 46], [2, 48], [2, 50], [2, 56], [2, 58], [2, 60], [2, 62], [2, 64], [2, 66], [2, 70], [2, 72], [2, 76], [2, 78], [2, 80], [2, 83], [2, 88], [2, 90], [2, 96], [2, 99], [2, 103], [2, 105], [2, 107], [2, 111], [2, 113], [2, 115], [2, 117], [2, 123], [2, 128], [2, 130], [2, 133], [2, 136], [2, 139], [2, 142], [2, 144], [2, 147], [2, 150], [2, 152], [2, 154], [2, 157], [2, 159], [2, 161], [2, 167], [2, 171], [2, 174], [2, 176], [2, 180], [2, 182], [2, 185], [2, 187], [2, 191], [2, 193], [2, 196], [2, 199], [2, 201], [2, 204], [2, 207], [2, 210], [2, 212], [2, 214], [2, 218], [2, 220], [2, 223], [2, 227], [2, 229], [2, 232], [2, 236], [2, 238], [2, 244], [2, 247], [2, 250], [2, 253], [2, 255], [2, 257], [2, 260], [2, 263], [2, 266], [2, 271], [2, 273], [2, 277], [2, 280], [2, 283], [2, 290], [2, 293], [2, 299], [2, 302], [2, 304], [2, 307], [2, 309], [2, 313], [2, 318], [2, 322], [2, 326], [2, 329], [2, 331], [2, 334], [2, 339], [2, 341], [2, 343], [2, 346], [2, 347], [2, 349], [2, 353], [2, 355], [2, 360], [2, 362], [2, 366], [2, 370], [2, 375], [2, 377], [2, 381], [2, 385], [2, 388], [2, 390], [2, 392], [2, 394], [2, 396], [2, 400], [2, 402], [2, 404], [2, 406], [2, 409], [2, 411], [2, 414], [2, 416], [2, 418], [2, 420], [2, 422], [2, 424], [2, 426], [2, 428], [2, 434], [2, 436], [2, 438], [2, 442], [2, 444], [2, 447], [2, 449], [2, 452], [2, 455], [2, 457], [2, 463], [2, 465], [2, 467], [2, 469], [2, 474], [2, 479], [2, 481], [2, 484], [2, 486], [2, 489], [2, 493], [2, 495], [2, 497], [2, 501], [2, 503], [2, 505], [2, 509], [2, 511], [2, 516], [2, 519], [2, 522], [2, 525], [2, 528], [2, 531], [2, 533], [2, 535], [2, 537], [2, 541], [2, 543], [2, 546], [2, 549], [2, 551], [2, 553], [2, 555], [2, 558], [2, 560], [2, 562], [2, 565], [2, 566], [2, 569], [2, 571], [2, 573], [2, 577], [2, 579], [2, 581], [2, 584], [2, 586], [2, 589], [2, 593], [2, 597], [2, 599], [2, 603], [2, 605], [2, 608], [2, 610], [3, 612], [3, 614], [3, 616], [3, 618], [3, 620], [3, 624], [3, 627], [3, 630], [3, 633], [3, 635], [3, 638], [3, 641], [3, 643], [3, 646], [3, 648], [3, 651], [3, 653], [3, 655], [3, 657], [3, 659], [3, 661], [3, 663], [3, 666], [3, 669], [3, 675], [3, 678], [3, 681], [3, 684], [3, 688], [3, 690], [3, 693], [3, 696], [3, 698], [3, 700], [3, 702], [3, 704], [3, 706], [3, 710], [3, 714], [3, 719], [3, 721], [3, 724], [3, 726], [3, 730], [3, 732], [3, 734], [3, 736], [3, 738], [3, 740], [3, 743], [3, 746], [3, 748], [3, 752], [3, 757], [3, 761], [3, 765], [3, 768], [3, 771], [3, 774], [3, 776], [3, 779], [3, 781], [3, 785], [3, 787], [3, 790], [3, 792], [3, 794], [3, 796], [3, 798], [3, 800], [3, 802], [3, 805], [3, 807], [3, 809], [3, 812], [3, 815], [3, 817], [3, 820], [3, 823], [3, 826], [3, 828], [3, 830], [3, 832], [3, 836], [3, 839], [3, 842], [3, 844], [3, 848], [3, 851], [3, 854], [3, 856], [3, 858], [3, 861], [3, 863], [3, 866], [3, 868], [3, 870], [3, 872], [3, 875], [3, 878], [3, 880], [3, 884], [3, 887], [3, 890], [3, 892], [3, 894], [4, 898], [4, 901], [4, 906], [4, 908], [4, 911], [4, 913], [4, 915], [4, 918], [4, 921], [4, 923], [4, 925], [4, 927], [4, 930], [4, 932], [4, 937], [4, 942], [4, 944], [4, 947], [4, 950], [4, 953], [4, 956], [4, 959], [4, 964], [4, 967], [4, 969], [4, 971], [4, 975], [4, 978], [4, 980], [4, 982], [4, 985], [4, 987], [4, 989], [4, 991], [4, 993], [4, 995], [4, 998], [4, 1000], [4, 1002], [4, 1006], [4, 1010], [4, 1014], [4, 1018], [4, 1020], [4, 1022], [4, 1025], [4, 1027], [4, 1031], [4, 1033], [4, 1039], [4, 1041], [4, 1043], [4, 1047], [5, 1051], [5, 1053], [5, 1056], [5, 1060], [5, 1064], [5, 1066], [5, 1068], [5, 1070], [5, 1072], [5, 1075], [5, 1077], [5, 1080], [5, 1088], [5, 1092], [5, 1095], [5, 1097], [5, 1102], [5, 1106], [5, 1108], [5, 1110], [5, 1112], [5, 1114], [5, 1117], [5, 1120], [5, 1122], [5, 1124], [5, 1128], [5, 1131], [5, 1133], [5, 1136], [5, 1140], [5, 1144], [5, 1146], [5, 1149], [5, 1151], [5, 1154], [5, 1156], [5, 1158], [6, 1160], [6, 1164], [6, 1167], [6, 1170], [6, 1172], [6, 1174], [6, 1178], [6, 1181], [6, 1184], [6, 1188], [6, 1190], [6, 1193], [6, 1196], [6, 1198], [6, 1200], [6, 1204], [6, 1210], [6, 1212], [6, 1214], [6, 1217], [6, 1221], [6, 1223], [6, 1226], [6, 1228], [6, 1231], [6, 1233], [6, 1238], [6, 1240], [6, 1242], [6, 1244], [6, 1247], [6, 1251], [6, 1253], [6, 1256], [6, 1259], [6, 1265], [6, 1267], [6, 1270], [6, 1272], [6, 1277], [6, 1279], [6, 1282], [6, 1288], [6, 1291], [6, 1293], [6, 1296], [6, 1298], [6, 1302], [6, 1304], [6, 1306], [6, 1309], [6, 1311], [6, 1313], [6, 1316], [6, 1320], [6, 1322], [6, 1328], [6, 1330], [6, 1332], [6, 1334], [6, 1339], [6, 1341], [6, 1345], [6, 1347], [6, 1349], [6, 1351], [6, 1356], [6, 1361], [6, 1363], [6, 1365], [6, 1368], [6, 1370], [6, 1373], [6, 1376], [6, 1379], [6, 1383], [6, 1386], [6, 1390], [6, 1392], [6, 1394], [6, 1398], [6, 1400], [6, 1402], [6, 1406], [6, 1408], [6, 1411], [6, 1413], [6, 1415], [6, 1417], [6, 1420], [6, 1423], [6, 1425]]\n",
            "fixed_known_emotion_cause_pair_per_doc_id: [[4, 1], [4, 4], [4, 7], [4, 10], [4, 13], [4, 16], [4, 18], [4, 21], [4, 23], [4, 27], [4, 29], [4, 32], [4, 34], [4, 38], [4, 41], [4, 44], [4, 46], [4, 48], [4, 50], [4, 56], [4, 58], [4, 60], [4, 62], [4, 64], [4, 66], [4, 70], [4, 72], [4, 76], [4, 78], [4, 80], [4, 83], [4, 88], [4, 90], [4, 96], [4, 99], [4, 103], [4, 105], [4, 107], [4, 111], [4, 113], [4, 115], [4, 117], [4, 123], [4, 128], [4, 130], [4, 133], [4, 136], [4, 139], [4, 142], [4, 144], [4, 147], [4, 150], [4, 152], [4, 154], [4, 157], [4, 159], [4, 161], [4, 167], [4, 171], [4, 174], [4, 176], [4, 180], [4, 182], [4, 185], [4, 187], [4, 191], [4, 193], [4, 196], [4, 199], [4, 201], [4, 204], [4, 207], [4, 210], [4, 212], [4, 214], [4, 218], [4, 220], [4, 223], [4, 227], [4, 229], [4, 232], [4, 236], [4, 238], [4, 244], [4, 247], [4, 250], [4, 253], [4, 255], [4, 257], [4, 260], [4, 263], [4, 266], [4, 271], [4, 273], [4, 277], [4, 280], [4, 283], [4, 290], [4, 293], [4, 299], [4, 302], [4, 304], [4, 307], [4, 309], [4, 313], [4, 318], [4, 322], [4, 326], [4, 329], [4, 331], [4, 334], [4, 339], [4, 341], [4, 343], [4, 346], [4, 347], [4, 349], [4, 353], [4, 355], [4, 360], [4, 362], [4, 366], [4, 370], [4, 375], [4, 377], [4, 381], [4, 385], [4, 388], [4, 390], [4, 392], [4, 394], [4, 396], [4, 400], [4, 402], [4, 404], [4, 406], [4, 409], [4, 411], [4, 414], [4, 416], [4, 418], [4, 420], [4, 422], [4, 424], [4, 426], [4, 428], [4, 434], [4, 436], [4, 438], [4, 442], [4, 444], [4, 447], [4, 449], [4, 452], [4, 455], [4, 457], [4, 463], [4, 465], [4, 467], [4, 469], [4, 474], [4, 479], [4, 481], [4, 484], [4, 486], [4, 489], [4, 493], [4, 495], [4, 497], [4, 501], [4, 503], [4, 505], [4, 509], [4, 511], [4, 516], [4, 519], [4, 522], [4, 525], [4, 528], [4, 531], [4, 533], [4, 535], [4, 537], [4, 541], [4, 543], [4, 546], [4, 549], [4, 551], [4, 553], [4, 555], [4, 558], [4, 560], [4, 562], [4, 565], [4, 566], [4, 569], [4, 571], [4, 573], [4, 577], [4, 579], [4, 581], [4, 584], [4, 586], [4, 589], [4, 593], [4, 597], [4, 599], [4, 603], [4, 605], [4, 608], [4, 610], [5, 612], [5, 614], [5, 616], [5, 618], [5, 620], [5, 624], [5, 627], [5, 630], [5, 633], [5, 635], [5, 638], [5, 641], [5, 643], [5, 646], [5, 648], [5, 651], [5, 653], [5, 655], [5, 657], [5, 659], [5, 661], [5, 663], [5, 666], [5, 669], [5, 675], [5, 678], [5, 681], [5, 684], [5, 688], [5, 690], [5, 693], [5, 696], [5, 698], [5, 700], [5, 702], [5, 704], [5, 706], [5, 710], [5, 714], [5, 719], [5, 721], [5, 724], [5, 726], [5, 730], [5, 732], [5, 734], [5, 736], [5, 738], [5, 740], [5, 743], [5, 746], [5, 748], [5, 752], [5, 757], [5, 761], [5, 765], [5, 768], [5, 771], [5, 774], [5, 776], [5, 779], [5, 781], [5, 785], [5, 787], [5, 790], [5, 792], [5, 794], [5, 796], [5, 798], [5, 800], [5, 802], [5, 805], [5, 807], [5, 809], [5, 812], [5, 815], [5, 817], [5, 820], [5, 823], [5, 826], [5, 828], [5, 830], [5, 832], [5, 836], [5, 839], [5, 842], [5, 844], [5, 848], [5, 851], [5, 854], [5, 856], [5, 858], [5, 861], [5, 863], [5, 866], [5, 868], [5, 870], [5, 872], [5, 875], [5, 878], [5, 880], [5, 884], [5, 887], [5, 890], [5, 892], [5, 894], [6, 898], [6, 901], [6, 906], [6, 908], [6, 911], [6, 913], [6, 915], [6, 918], [6, 921], [6, 923], [6, 925], [6, 927], [6, 930], [6, 932], [6, 937], [6, 942], [6, 944], [6, 947], [6, 950], [6, 953], [6, 956], [6, 959], [6, 964], [6, 967], [6, 969], [6, 971], [6, 975], [6, 978], [6, 980], [6, 982], [6, 985], [6, 987], [6, 989], [6, 991], [6, 993], [6, 995], [6, 998], [6, 1000], [6, 1002], [6, 1006], [6, 1010], [6, 1014], [6, 1018], [6, 1020], [6, 1022], [6, 1025], [6, 1027], [6, 1031], [6, 1033], [6, 1039], [6, 1041], [6, 1043], [6, 1047], [7, 1051], [7, 1053], [7, 1056], [7, 1060], [7, 1064], [7, 1066], [7, 1068], [7, 1070], [7, 1072], [7, 1075], [7, 1077], [7, 1080], [7, 1088], [7, 1092], [7, 1095], [7, 1097], [7, 1102], [7, 1106], [7, 1108], [7, 1110], [7, 1112], [7, 1114], [7, 1117], [7, 1120], [7, 1122], [7, 1124], [7, 1128], [7, 1131], [7, 1133], [7, 1136], [7, 1140], [7, 1144], [7, 1146], [7, 1149], [7, 1151], [7, 1154], [7, 1156], [7, 1158], [8, 1160], [8, 1164], [8, 1167], [8, 1170], [8, 1172], [8, 1174], [8, 1178], [8, 1181], [8, 1184], [8, 1188], [8, 1190], [8, 1193], [8, 1196], [8, 1198], [8, 1200], [8, 1204], [8, 1210], [8, 1212], [8, 1214], [8, 1217], [8, 1221], [8, 1223], [8, 1226], [8, 1228], [8, 1231], [8, 1233], [8, 1238], [8, 1240], [8, 1242], [8, 1244], [8, 1247], [8, 1251], [8, 1253], [8, 1256], [8, 1259], [8, 1265], [8, 1267], [8, 1270], [8, 1272], [8, 1277], [8, 1279], [8, 1282], [8, 1288], [8, 1291], [8, 1293], [8, 1296], [8, 1298], [8, 1302], [8, 1304], [8, 1306], [8, 1309], [8, 1311], [8, 1313], [8, 1316], [8, 1320], [8, 1322], [8, 1328], [8, 1330], [8, 1332], [8, 1334], [8, 1339], [8, 1341], [8, 1345], [8, 1347], [8, 1349], [8, 1351], [8, 1356], [8, 1361], [8, 1363], [8, 1365], [8, 1368], [8, 1370], [8, 1373], [8, 1376], [8, 1379], [8, 1383], [8, 1386], [8, 1390], [8, 1392], [8, 1394], [8, 1398], [8, 1400], [8, 1402], [8, 1406], [8, 1408], [8, 1411], [8, 1413], [8, 1415], [8, 1417], [8, 1420], [8, 1423], [8, 1425]]\n"
          ],
          "name": "stdout"
        }
      ]
    },
    {
      "cell_type": "code",
      "metadata": {
        "id": "RCrkeiQcvRht",
        "colab_type": "code",
        "outputId": "b75b69bc-ecd8-4279-dc55-713befe33ca0",
        "colab": {
          "base_uri": "https://localhost:8080/",
          "height": 527
        }
      },
      "source": [
        "known_emotion_cause_pair_per_doc_id[:30]"
      ],
      "execution_count": 138,
      "outputs": [
        {
          "output_type": "execute_result",
          "data": {
            "text/plain": [
              "[[4, 1],\n",
              " [4, 4],\n",
              " [4, 7],\n",
              " [4, 10],\n",
              " [4, 13],\n",
              " [4, 16],\n",
              " [4, 18],\n",
              " [4, 21],\n",
              " [4, 23],\n",
              " [4, 27],\n",
              " [4, 29],\n",
              " [4, 32],\n",
              " [4, 34],\n",
              " [4, 38],\n",
              " [4, 41],\n",
              " [4, 44],\n",
              " [4, 46],\n",
              " [4, 48],\n",
              " [4, 50],\n",
              " [4, 56],\n",
              " [4, 58],\n",
              " [4, 60],\n",
              " [4, 62],\n",
              " [4, 64],\n",
              " [4, 66],\n",
              " [4, 70],\n",
              " [4, 72],\n",
              " [4, 76],\n",
              " [4, 78],\n",
              " [4, 80]]"
            ]
          },
          "metadata": {
            "tags": []
          },
          "execution_count": 138
        }
      ]
    },
    {
      "cell_type": "code",
      "metadata": {
        "id": "z2FOJkWN60e8",
        "colab_type": "code",
        "outputId": "52b8ac26-1d15-4fee-d787-07f314750bdd",
        "colab": {
          "base_uri": "https://localhost:8080/",
          "height": 238
        }
      },
      "source": [
        "tokenizer=keras.preprocessing.text.Tokenizer(num_words=1000, oov_token=\"xxxxxxx\")\n",
        "tokenizer_emotion=keras.preprocessing.text.Tokenizer(num_words=1000, oov_token=\"xxxxxxx\")\n",
        "\n",
        "tokenizer.fit_on_texts(X)\n",
        "tokenizer_emotion.fit_on_texts(emotion_seeds)\n",
        "X_dict=tokenizer.word_index\n",
        "\n",
        "X_seq=tokenizer.texts_to_sequences(X)\n",
        "X_padded_seq=pad_sequences(X_seq,padding='post',maxlen=30)\n",
        "print(X_padded_seq[:6], X_padded_seq.shape, type(X_padded_seq))\n",
        "print(X_padded_seq.shape)\n"
      ],
      "execution_count": 139,
      "outputs": [
        {
          "output_type": "stream",
          "text": [
            "[[  8 446   8  53  44   0   0   0   0   0   0   0   0   0   0   0   0   0\n",
            "    0   0   0   0   0   0   0   0   0   0   0   0]\n",
            " [ 38  28 823   0   0   0   0   0   0   0   0   0   0   0   0   0   0   0\n",
            "    0   0   0   0   0   0   0   0   0   0   0   0]\n",
            " [ 19 447   8  53 246   3 448 109  13  51  26 449 302  29  43 824   6 825\n",
            "  826   0   0   0   0   0   0   0   0   0   0   0]\n",
            " [827  49 211 828 212   3 829  17   2 110 830   6   7  44   0   0   0   0\n",
            "    0   0   0   0   0   0   0   0   0   0   0   0]\n",
            " [111   9   7 303   2 831 832   0   0   0   0   0   0   0   0   0   0   0\n",
            "    0   0   0   0   0   0   0   0   0   0   0   0]\n",
            " [  9   7  10 450 833  71   0   0   0   0   0   0   0   0   0   0   0   0\n",
            "    0   0   0   0   0   0   0   0   0   0   0   0]] (1429, 30) <class 'numpy.ndarray'>\n",
            "(1429, 30)\n"
          ],
          "name": "stdout"
        }
      ]
    },
    {
      "cell_type": "code",
      "metadata": {
        "id": "MPwoX6Zb62CR",
        "colab_type": "code",
        "colab": {}
      },
      "source": [
        "import tensorflow_hub as hub\n",
        "from keras.models import Model, Sequential\n",
        "\n",
        "clauses_model = keras.layers.Input(shape=X_padded_seq.shape[1:], name='clause_input')\n",
        "clauses_embeddings = keras.layers.Embedding(input_length=30,input_dim=1000,output_dim=50) (clauses_model)\n",
        "output1 = keras.layers.Bidirectional(keras.layers.LSTM(64, return_sequences=True))(clauses_embeddings)\n",
        "\n",
        "attention_output = keras.layers.Attention()([output1, output1, output1]) # no idea why we use output3, 3 times TODO!!!\n",
        "\n",
        "output_emotion = keras.layers.Bidirectional(keras.layers.LSTM(64))(attention_output)\n",
        "output_emotion_dense1 = keras.layers.Dense(128, activation=\"relu\") (output_emotion)\n",
        "output_emotion_dense2 = keras.layers.Dense(len(tokenizer_emotion.word_index)+1, activation='softmax', name='emotion_output') (output_emotion_dense1)\n",
        "\n",
        "\n",
        "output_cause = keras.layers.Bidirectional(keras.layers.LSTM(64))(attention_output)\n",
        "output_cause_dense1 = keras.layers.Dense(128, activation=\"relu\") (output_cause)\n",
        "output_cause_dense2 = keras.layers.Dense(1, activation='sigmoid', name='cause_output') (output_cause_dense1)\n",
        "\n",
        "model = keras.Model(inputs=clauses_model, outputs=[output_emotion_dense2, output_cause_dense2])\n",
        "model.compile(loss={'emotion_output': 'sparse_categorical_crossentropy', 'cause_output': 'binary_crossentropy'},\n",
        "              optimizer=\"adam\", loss_weights=[0.5, 0.5], metrics=['accuracy'])\n",
        "\n"
      ],
      "execution_count": 0,
      "outputs": []
    },
    {
      "cell_type": "code",
      "metadata": {
        "id": "hIDn_Vezc4A2",
        "colab_type": "code",
        "outputId": "239f27ea-fd79-4716-f9c2-9e6d859ac76b",
        "colab": {
          "base_uri": "https://localhost:8080/",
          "height": 68
        }
      },
      "source": [
        "print(len(X_padded_seq), len(y_emotion_tokenized), len(y_cause))\n",
        "print(y_emotion_tokenized[:5])\n",
        "print(y_cause[:5])"
      ],
      "execution_count": 141,
      "outputs": [
        {
          "output_type": "stream",
          "text": [
            "1429 1429 1429\n",
            "[2 1 4 2 1]\n",
            "[0 1 0 0 1]\n"
          ],
          "name": "stdout"
        }
      ]
    },
    {
      "cell_type": "code",
      "metadata": {
        "id": "AP-SYPVM63Qn",
        "colab_type": "code",
        "outputId": "503c8a4d-f728-40db-c08e-4a7edb8deebc",
        "colab": {
          "base_uri": "https://localhost:8080/",
          "height": 1000
        }
      },
      "source": [
        "# keep number of epochs >=15 so that accuracy of emotion output is decent\n",
        "history = model.fit({'clause_input': X_padded_seq}, {'emotion_output': y_emotion_tokenized, 'cause_output': y_cause}, epochs=60)"
      ],
      "execution_count": 142,
      "outputs": [
        {
          "output_type": "stream",
          "text": [
            "Epoch 1/60\n",
            "45/45 [==============================] - 4s 90ms/step - loss: 0.6841 - emotion_output_loss: 0.7053 - cause_output_loss: 0.6629 - emotion_output_accuracy: 0.9202 - cause_output_accuracy: 0.6424\n",
            "Epoch 2/60\n",
            "45/45 [==============================] - 4s 80ms/step - loss: 0.4778 - emotion_output_loss: 0.3235 - cause_output_loss: 0.6320 - emotion_output_accuracy: 0.9405 - cause_output_accuracy: 0.6494\n",
            "Epoch 3/60\n",
            "45/45 [==============================] - 4s 82ms/step - loss: 0.3628 - emotion_output_loss: 0.3216 - cause_output_loss: 0.4040 - emotion_output_accuracy: 0.9391 - cause_output_accuracy: 0.8237\n",
            "Epoch 4/60\n",
            "45/45 [==============================] - 4s 82ms/step - loss: 0.2657 - emotion_output_loss: 0.3062 - cause_output_loss: 0.2252 - emotion_output_accuracy: 0.9405 - cause_output_accuracy: 0.9251\n",
            "Epoch 5/60\n",
            "45/45 [==============================] - 4s 80ms/step - loss: 0.2277 - emotion_output_loss: 0.3007 - cause_output_loss: 0.1546 - emotion_output_accuracy: 0.9405 - cause_output_accuracy: 0.9482\n",
            "Epoch 6/60\n",
            "45/45 [==============================] - 4s 78ms/step - loss: 0.2024 - emotion_output_loss: 0.2867 - cause_output_loss: 0.1181 - emotion_output_accuracy: 0.9405 - cause_output_accuracy: 0.9664\n",
            "Epoch 7/60\n",
            "45/45 [==============================] - 4s 82ms/step - loss: 0.1917 - emotion_output_loss: 0.2851 - cause_output_loss: 0.0984 - emotion_output_accuracy: 0.9405 - cause_output_accuracy: 0.9699\n",
            "Epoch 8/60\n",
            "45/45 [==============================] - 4s 80ms/step - loss: 0.1896 - emotion_output_loss: 0.2863 - cause_output_loss: 0.0930 - emotion_output_accuracy: 0.9405 - cause_output_accuracy: 0.9734\n",
            "Epoch 9/60\n",
            "45/45 [==============================] - 4s 80ms/step - loss: 0.1751 - emotion_output_loss: 0.2725 - cause_output_loss: 0.0777 - emotion_output_accuracy: 0.9405 - cause_output_accuracy: 0.9769\n",
            "Epoch 10/60\n",
            "45/45 [==============================] - 4s 79ms/step - loss: 0.1627 - emotion_output_loss: 0.2531 - cause_output_loss: 0.0723 - emotion_output_accuracy: 0.9405 - cause_output_accuracy: 0.9811\n",
            "Epoch 11/60\n",
            "45/45 [==============================] - 4s 82ms/step - loss: 0.1530 - emotion_output_loss: 0.2241 - cause_output_loss: 0.0819 - emotion_output_accuracy: 0.9433 - cause_output_accuracy: 0.9748\n",
            "Epoch 12/60\n",
            "45/45 [==============================] - 4s 87ms/step - loss: 0.1293 - emotion_output_loss: 0.1723 - cause_output_loss: 0.0864 - emotion_output_accuracy: 0.9503 - cause_output_accuracy: 0.9769\n",
            "Epoch 13/60\n",
            "45/45 [==============================] - 4s 85ms/step - loss: 0.1200 - emotion_output_loss: 0.1512 - cause_output_loss: 0.0887 - emotion_output_accuracy: 0.9587 - cause_output_accuracy: 0.9706\n",
            "Epoch 14/60\n",
            "45/45 [==============================] - 4s 81ms/step - loss: 0.0990 - emotion_output_loss: 0.1189 - cause_output_loss: 0.0790 - emotion_output_accuracy: 0.9573 - cause_output_accuracy: 0.9790\n",
            "Epoch 15/60\n",
            "45/45 [==============================] - 4s 81ms/step - loss: 0.0909 - emotion_output_loss: 0.1044 - cause_output_loss: 0.0773 - emotion_output_accuracy: 0.9559 - cause_output_accuracy: 0.9776\n",
            "Epoch 16/60\n",
            "45/45 [==============================] - 4s 83ms/step - loss: 0.0748 - emotion_output_loss: 0.0885 - cause_output_loss: 0.0611 - emotion_output_accuracy: 0.9671 - cause_output_accuracy: 0.9832\n",
            "Epoch 17/60\n",
            "45/45 [==============================] - 4s 82ms/step - loss: 0.0719 - emotion_output_loss: 0.0804 - cause_output_loss: 0.0635 - emotion_output_accuracy: 0.9685 - cause_output_accuracy: 0.9832\n",
            "Epoch 18/60\n",
            "45/45 [==============================] - 4s 84ms/step - loss: 0.0767 - emotion_output_loss: 0.0888 - cause_output_loss: 0.0646 - emotion_output_accuracy: 0.9706 - cause_output_accuracy: 0.9853\n",
            "Epoch 19/60\n",
            "45/45 [==============================] - 4s 81ms/step - loss: 0.0721 - emotion_output_loss: 0.0865 - cause_output_loss: 0.0577 - emotion_output_accuracy: 0.9692 - cause_output_accuracy: 0.9832\n",
            "Epoch 20/60\n",
            "45/45 [==============================] - 4s 80ms/step - loss: 0.0674 - emotion_output_loss: 0.0813 - cause_output_loss: 0.0535 - emotion_output_accuracy: 0.9678 - cause_output_accuracy: 0.9881\n",
            "Epoch 21/60\n",
            "45/45 [==============================] - 4s 81ms/step - loss: 0.0589 - emotion_output_loss: 0.0724 - cause_output_loss: 0.0453 - emotion_output_accuracy: 0.9713 - cause_output_accuracy: 0.9888\n",
            "Epoch 22/60\n",
            "45/45 [==============================] - 4s 87ms/step - loss: 0.0561 - emotion_output_loss: 0.0685 - cause_output_loss: 0.0436 - emotion_output_accuracy: 0.9748 - cause_output_accuracy: 0.9923\n",
            "Epoch 23/60\n",
            "45/45 [==============================] - 4s 82ms/step - loss: 0.0507 - emotion_output_loss: 0.0586 - cause_output_loss: 0.0429 - emotion_output_accuracy: 0.9825 - cause_output_accuracy: 0.9916\n",
            "Epoch 24/60\n",
            "45/45 [==============================] - 4s 79ms/step - loss: 0.0511 - emotion_output_loss: 0.0520 - cause_output_loss: 0.0502 - emotion_output_accuracy: 0.9860 - cause_output_accuracy: 0.9867\n",
            "Epoch 25/60\n",
            "45/45 [==============================] - 4s 80ms/step - loss: 0.0469 - emotion_output_loss: 0.0478 - cause_output_loss: 0.0460 - emotion_output_accuracy: 0.9860 - cause_output_accuracy: 0.9888\n",
            "Epoch 26/60\n",
            "45/45 [==============================] - 4s 79ms/step - loss: 0.0436 - emotion_output_loss: 0.0535 - cause_output_loss: 0.0337 - emotion_output_accuracy: 0.9846 - cause_output_accuracy: 0.9944\n",
            "Epoch 27/60\n",
            "45/45 [==============================] - 4s 81ms/step - loss: 0.0400 - emotion_output_loss: 0.0469 - cause_output_loss: 0.0330 - emotion_output_accuracy: 0.9874 - cause_output_accuracy: 0.9930\n",
            "Epoch 28/60\n",
            "45/45 [==============================] - 4s 87ms/step - loss: 0.0686 - emotion_output_loss: 0.0482 - cause_output_loss: 0.0890 - emotion_output_accuracy: 0.9860 - cause_output_accuracy: 0.9783\n",
            "Epoch 29/60\n",
            "45/45 [==============================] - 4s 81ms/step - loss: 0.0574 - emotion_output_loss: 0.0448 - cause_output_loss: 0.0699 - emotion_output_accuracy: 0.9867 - cause_output_accuracy: 0.9797\n",
            "Epoch 30/60\n",
            "45/45 [==============================] - 4s 80ms/step - loss: 0.0435 - emotion_output_loss: 0.0424 - cause_output_loss: 0.0446 - emotion_output_accuracy: 0.9874 - cause_output_accuracy: 0.9895\n",
            "Epoch 31/60\n",
            "45/45 [==============================] - 4s 83ms/step - loss: 0.0427 - emotion_output_loss: 0.0434 - cause_output_loss: 0.0419 - emotion_output_accuracy: 0.9895 - cause_output_accuracy: 0.9902\n",
            "Epoch 32/60\n",
            "45/45 [==============================] - 4s 84ms/step - loss: 0.0393 - emotion_output_loss: 0.0318 - cause_output_loss: 0.0469 - emotion_output_accuracy: 0.9916 - cause_output_accuracy: 0.9846\n",
            "Epoch 33/60\n",
            "45/45 [==============================] - 4s 80ms/step - loss: 0.0352 - emotion_output_loss: 0.0272 - cause_output_loss: 0.0432 - emotion_output_accuracy: 0.9944 - cause_output_accuracy: 0.9909\n",
            "Epoch 34/60\n",
            "45/45 [==============================] - 4s 80ms/step - loss: 0.0321 - emotion_output_loss: 0.0330 - cause_output_loss: 0.0312 - emotion_output_accuracy: 0.9930 - cause_output_accuracy: 0.9937\n",
            "Epoch 35/60\n",
            "45/45 [==============================] - 4s 79ms/step - loss: 0.0294 - emotion_output_loss: 0.0295 - cause_output_loss: 0.0294 - emotion_output_accuracy: 0.9923 - cause_output_accuracy: 0.9944\n",
            "Epoch 36/60\n",
            "45/45 [==============================] - 4s 81ms/step - loss: 0.0383 - emotion_output_loss: 0.0246 - cause_output_loss: 0.0519 - emotion_output_accuracy: 0.9937 - cause_output_accuracy: 0.9867\n",
            "Epoch 37/60\n",
            "45/45 [==============================] - 4s 84ms/step - loss: 0.0408 - emotion_output_loss: 0.0400 - cause_output_loss: 0.0415 - emotion_output_accuracy: 0.9895 - cause_output_accuracy: 0.9895\n",
            "Epoch 38/60\n",
            "45/45 [==============================] - 4s 80ms/step - loss: 0.0286 - emotion_output_loss: 0.0269 - cause_output_loss: 0.0304 - emotion_output_accuracy: 0.9944 - cause_output_accuracy: 0.9944\n",
            "Epoch 39/60\n",
            "45/45 [==============================] - 4s 86ms/step - loss: 0.0280 - emotion_output_loss: 0.0234 - cause_output_loss: 0.0327 - emotion_output_accuracy: 0.9944 - cause_output_accuracy: 0.9923\n",
            "Epoch 40/60\n",
            "45/45 [==============================] - 4s 80ms/step - loss: 0.0371 - emotion_output_loss: 0.0286 - cause_output_loss: 0.0455 - emotion_output_accuracy: 0.9944 - cause_output_accuracy: 0.9860\n",
            "Epoch 41/60\n",
            "45/45 [==============================] - 4s 81ms/step - loss: 0.0313 - emotion_output_loss: 0.0269 - cause_output_loss: 0.0357 - emotion_output_accuracy: 0.9930 - cause_output_accuracy: 0.9902\n",
            "Epoch 42/60\n",
            "45/45 [==============================] - 4s 81ms/step - loss: 0.0369 - emotion_output_loss: 0.0313 - cause_output_loss: 0.0425 - emotion_output_accuracy: 0.9909 - cause_output_accuracy: 0.9909\n",
            "Epoch 43/60\n",
            "45/45 [==============================] - 4s 79ms/step - loss: 0.0294 - emotion_output_loss: 0.0290 - cause_output_loss: 0.0299 - emotion_output_accuracy: 0.9937 - cause_output_accuracy: 0.9944\n",
            "Epoch 44/60\n",
            "45/45 [==============================] - 4s 81ms/step - loss: 0.0312 - emotion_output_loss: 0.0247 - cause_output_loss: 0.0377 - emotion_output_accuracy: 0.9937 - cause_output_accuracy: 0.9909\n",
            "Epoch 45/60\n",
            "45/45 [==============================] - 4s 80ms/step - loss: 0.0325 - emotion_output_loss: 0.0217 - cause_output_loss: 0.0433 - emotion_output_accuracy: 0.9944 - cause_output_accuracy: 0.9895\n",
            "Epoch 46/60\n",
            "45/45 [==============================] - 4s 79ms/step - loss: 0.0292 - emotion_output_loss: 0.0228 - cause_output_loss: 0.0356 - emotion_output_accuracy: 0.9944 - cause_output_accuracy: 0.9923\n",
            "Epoch 47/60\n",
            "45/45 [==============================] - 4s 84ms/step - loss: 0.0463 - emotion_output_loss: 0.0198 - cause_output_loss: 0.0729 - emotion_output_accuracy: 0.9944 - cause_output_accuracy: 0.9755\n",
            "Epoch 48/60\n",
            "45/45 [==============================] - 4s 82ms/step - loss: 0.0528 - emotion_output_loss: 0.0328 - cause_output_loss: 0.0729 - emotion_output_accuracy: 0.9909 - cause_output_accuracy: 0.9776\n",
            "Epoch 49/60\n",
            "45/45 [==============================] - 4s 80ms/step - loss: 0.0564 - emotion_output_loss: 0.0503 - cause_output_loss: 0.0624 - emotion_output_accuracy: 0.9881 - cause_output_accuracy: 0.9825\n",
            "Epoch 50/60\n",
            "45/45 [==============================] - 4s 80ms/step - loss: 0.0357 - emotion_output_loss: 0.0284 - cause_output_loss: 0.0430 - emotion_output_accuracy: 0.9923 - cause_output_accuracy: 0.9888\n",
            "Epoch 51/60\n",
            "45/45 [==============================] - 4s 81ms/step - loss: 0.0275 - emotion_output_loss: 0.0234 - cause_output_loss: 0.0315 - emotion_output_accuracy: 0.9944 - cause_output_accuracy: 0.9916\n",
            "Epoch 52/60\n",
            "45/45 [==============================] - 4s 82ms/step - loss: 0.0239 - emotion_output_loss: 0.0200 - cause_output_loss: 0.0277 - emotion_output_accuracy: 0.9944 - cause_output_accuracy: 0.9930\n",
            "Epoch 53/60\n",
            "45/45 [==============================] - 4s 80ms/step - loss: 0.0219 - emotion_output_loss: 0.0184 - cause_output_loss: 0.0254 - emotion_output_accuracy: 0.9951 - cause_output_accuracy: 0.9930\n",
            "Epoch 54/60\n",
            "45/45 [==============================] - 4s 80ms/step - loss: 0.0224 - emotion_output_loss: 0.0196 - cause_output_loss: 0.0251 - emotion_output_accuracy: 0.9944 - cause_output_accuracy: 0.9937\n",
            "Epoch 55/60\n",
            "45/45 [==============================] - 4s 79ms/step - loss: 0.0228 - emotion_output_loss: 0.0173 - cause_output_loss: 0.0283 - emotion_output_accuracy: 0.9944 - cause_output_accuracy: 0.9909\n",
            "Epoch 56/60\n",
            "45/45 [==============================] - 4s 83ms/step - loss: 0.0216 - emotion_output_loss: 0.0182 - cause_output_loss: 0.0251 - emotion_output_accuracy: 0.9958 - cause_output_accuracy: 0.9944\n",
            "Epoch 57/60\n",
            "45/45 [==============================] - 4s 84ms/step - loss: 0.0254 - emotion_output_loss: 0.0162 - cause_output_loss: 0.0345 - emotion_output_accuracy: 0.9951 - cause_output_accuracy: 0.9909\n",
            "Epoch 58/60\n",
            "45/45 [==============================] - 4s 89ms/step - loss: 0.0232 - emotion_output_loss: 0.0188 - cause_output_loss: 0.0276 - emotion_output_accuracy: 0.9944 - cause_output_accuracy: 0.9930\n",
            "Epoch 59/60\n",
            "45/45 [==============================] - 4s 84ms/step - loss: 0.0207 - emotion_output_loss: 0.0192 - cause_output_loss: 0.0221 - emotion_output_accuracy: 0.9944 - cause_output_accuracy: 0.9944\n",
            "Epoch 60/60\n",
            "45/45 [==============================] - 4s 80ms/step - loss: 0.0178 - emotion_output_loss: 0.0138 - cause_output_loss: 0.0218 - emotion_output_accuracy: 0.9951 - cause_output_accuracy: 0.9944\n"
          ],
          "name": "stdout"
        }
      ]
    },
    {
      "cell_type": "code",
      "metadata": {
        "id": "qOG0aaTrTNzC",
        "colab_type": "code",
        "outputId": "5fa6e8e6-16d3-4154-f8ff-b70b2c01db08",
        "colab": {
          "base_uri": "https://localhost:8080/",
          "height": 265
        }
      },
      "source": [
        "from matplotlib import pyplot\n",
        "import matplotlib.pyplot as plt\n",
        "\n",
        "pyplot.plot(history.history['emotion_output_accuracy'],label='emotion_output_accuracy')\n",
        "pyplot.plot(history.history['cause_output_accuracy'],label='cause_output_accuracy')\n",
        "\n",
        "pyplot.legend()\n",
        "pyplot.show()"
      ],
      "execution_count": 143,
      "outputs": [
        {
          "output_type": "display_data",
          "data": {
            "image/png": "[encoded data removed]",
            "text/plain": [
              "<Figure size 432x288 with 1 Axes>"
            ]
          },
          "metadata": {
            "tags": [],
            "needs_background": "light"
          }
        }
      ]
    },
    {
      "cell_type": "code",
      "metadata": {
        "id": "GXNgtHy6nV9Q",
        "colab_type": "code",
        "colab": {}
      },
      "source": [
        "# save model and architecture to single file\n",
        "#model.save('model.h5')\n",
        "#print(\"Saved model to disk\")"
      ],
      "execution_count": 0,
      "outputs": []
    },
    {
      "cell_type": "code",
      "metadata": {
        "id": "mIPVD7qB9lGR",
        "colab_type": "code",
        "outputId": "a61ad972-fd43-4d33-f1e5-59d2a9ec2a42",
        "colab": {
          "base_uri": "https://localhost:8080/",
          "height": 71
        }
      },
      "source": [
        "#print(X_padded_seq)\n",
        "#print(clause_global[:30])\n",
        "#cause_\n",
        "from collections import defaultdict\n",
        "# print('causes: ', model.predict({'clause_input': X_padded_seq})[1][0:30])\n",
        "# print('-----')\n",
        "# print('emotions: ', model.predict({'clause_input': X_padded_seq})[0][1])\n",
        "\n",
        "(predicted_emotions, predicted_causes) = model.predict({'clause_input': X_padded_seq})\n",
        "\n",
        "cause_clauses_per_doc_id = defaultdict(list)\n",
        "emotion_clauses_per_doc_id = defaultdict(list)\n",
        "doc_id_to_clause_id_emotions_map = defaultdict(list)\n",
        "for clause_id, cause_prob in enumerate(predicted_causes):\n",
        "  if cause_prob > 0.5:\n",
        "    cause_clauses_per_doc_id[clauseid_to_docid[clause_id]].append(clause_id)\n",
        "\n",
        "# print('cause_clauses_per_doc_id: ', cause_clauses_per_doc_id)\n",
        "\n",
        "for clause_id, emotion_prob in enumerate(predicted_emotions):\n",
        "  max_emotion_prob=0.0\n",
        "  max_idx=0\n",
        "  for i, prob in enumerate(emotion_prob):\n",
        "    if prob>max_emotion_prob:\n",
        "      max_emotion_prob = prob\n",
        "      max_idx=i\n",
        "\n",
        "  max_emotion=tokenized_id_to_emotion_map[max_idx]\n",
        "  if max_idx!=1: # skip 'xxxxxx' as emotion(unknown)\n",
        "    emotion_clauses_per_doc_id[clauseid_to_docid[clause_id]].append(max_idx)\n",
        "  doc_id_to_clause_id_emotions_map[clauseid_to_docid[clause_id]].append(clause_id)\n",
        "\n",
        "print('emotion_clauses_per_doc_id:', emotion_clauses_per_doc_id)\n",
        "print('doc_id_to_clause_id_emotions_map:', doc_id_to_clause_id_emotions_map)"
      ],
      "execution_count": 145,
      "outputs": [
        {
          "output_type": "stream",
          "text": [
            "emotion_clauses_per_doc_id: defaultdict(<class 'list'>, {0: [2, 4], 1: [2], 2: [2], 3: [2], 4: [2], 5: [2], 6: [2], 7: [2], 8: [2], 9: [2], 10: [2], 11: [2], 12: [2], 14: [2, 2], 15: [2], 16: [2], 17: [2], 18: [2], 19: [2], 20: [2], 21: [2], 22: [2], 23: [2], 24: [2], 25: [2], 30: [2], 42: [6], 71: [3], 128: [8], 151: [2], 211: [3], 212: [3], 213: [3], 214: [3], 215: [3], 216: [3], 217: [3], 218: [3], 219: [3], 220: [3], 221: [3], 222: [3], 223: [3], 224: [3], 225: [3], 226: [3], 227: [3], 228: [3], 229: [3], 230: [3], 231: [3], 232: [3], 233: [3], 299: [7], 307: [6], 308: [6], 323: [8], 332: [7], 383: [2], 408: [6], 409: [8], 410: [6], 411: [6], 412: [6], 413: [6], 414: [6], 415: [6], 416: [6], 417: [8, 6], 418: [6], 419: [6], 420: [6], 421: [6], 422: [6], 423: [6], 424: [6], 425: [6], 426: [6], 458: [6], 474: [6]})\n",
            "doc_id_to_clause_id_emotions_map: defaultdict(<class 'list'>, {0: [0, 1, 2], 1: [3, 4], 2: [5, 6, 7], 3: [8, 9, 10], 4: [11, 12, 13], 5: [14, 15, 16], 6: [17, 18], 7: [19, 20, 21], 8: [22, 23, 24], 9: [25, 26, 27], 10: [28, 29], 11: [30, 31, 32], 12: [33, 34], 13: [35, 36, 37, 38, 39], 14: [40, 41, 42], 15: [43, 44], 16: [45, 46], 17: [47, 48], 18: [49, 50], 19: [51, 52, 53, 54, 55, 56], 20: [57, 58], 21: [59, 60], 22: [61, 62], 23: [63, 64], 24: [65, 66, 67], 25: [68, 69, 70], 26: [71, 72], 27: [73, 74, 75, 76], 28: [77, 78], 29: [79, 80, 81], 30: [82, 83, 84, 85], 31: [86, 87, 88], 32: [89, 90, 91, 92, 93], 33: [94, 95, 96], 34: [97, 98, 99, 100, 101], 35: [102, 103], 36: [104, 105], 37: [106, 107, 108, 109], 38: [110, 111], 39: [112, 113], 40: [114, 115], 41: [116, 117, 118], 42: [119, 120, 121, 122, 123, 124], 43: [125, 126, 127, 128], 44: [129, 130, 131], 45: [132, 133, 134], 46: [135, 136], 47: [137, 138, 139], 48: [140, 141, 142], 49: [143, 144, 145], 50: [146, 147], 51: [148, 149, 150], 52: [151, 152], 53: [153, 154], 54: [155, 156, 157], 55: [158, 159], 56: [160, 161, 162, 163], 57: [164, 165, 166, 167], 58: [168, 169, 170, 171], 59: [172, 173, 174], 60: [175, 176, 177], 61: [178, 179, 180], 62: [181, 182], 63: [183, 184, 185], 64: [186, 187], 65: [188, 189, 190, 191], 66: [192, 193, 194], 67: [195, 196], 68: [197, 198, 199], 69: [200, 201], 70: [202, 203, 204], 71: [205, 206, 207, 208], 72: [209, 210], 73: [211, 212], 74: [213, 214, 215], 75: [216, 217, 218], 76: [219, 220], 77: [221, 222, 223, 224], 78: [225, 226, 227], 79: [228, 229, 230], 80: [231, 232], 81: [233, 234, 235, 236], 82: [237, 238, 239], 83: [240, 241, 242, 243, 244], 84: [245, 246, 247, 248], 85: [249, 250, 251], 86: [252, 253], 87: [254, 255], 88: [256, 257], 89: [258, 259, 260], 90: [261, 262, 263], 91: [264, 265, 266, 267, 268, 269], 92: [270, 271], 93: [272, 273, 274], 94: [275, 276, 277], 95: [278, 279, 280, 281], 96: [282, 283, 284, 285], 97: [286, 287, 288, 289, 290], 98: [291, 292, 293, 294], 99: [295, 296, 297, 298, 299], 100: [300, 301, 302], 101: [303, 304, 305], 102: [306, 307], 103: [308, 309], 104: [310, 311, 312, 313], 105: [314, 315, 316, 317, 318], 106: [319, 320, 321, 322], 107: [323, 324, 325, 326, 327], 108: [328, 329], 109: [330, 331], 110: [332, 333, 334, 335, 336], 111: [337, 338, 339], 112: [340, 341], 113: [342, 343, 344], 114: [345, 346], 115: [347], 116: [348, 349], 117: [350, 351, 352, 353], 118: [354, 355, 356, 357], 119: [358, 359, 360], 120: [361, 362, 363, 364], 121: [365, 366, 367], 122: [368, 369, 370, 371, 372], 123: [373, 374, 375], 124: [376, 377, 378, 379], 125: [380, 381], 126: [382, 383, 384, 385, 386], 127: [387, 388], 128: [389, 390], 129: [391, 392], 130: [393, 394], 131: [395, 396], 132: [397, 398, 399, 400], 133: [401, 402], 134: [403, 404], 135: [405, 406, 407], 136: [408, 409], 137: [410, 411, 412], 138: [413, 414], 139: [415, 416], 140: [417, 418], 141: [419, 420], 142: [421, 422], 143: [423, 424], 144: [425, 426], 145: [427, 428], 146: [429, 430, 431, 432, 433, 434], 147: [435, 436], 148: [437, 438, 439, 440], 149: [441, 442], 150: [443, 444, 445], 151: [446, 447], 152: [448, 449], 153: [450, 451, 452], 154: [453, 454, 455], 155: [456, 457], 156: [458, 459, 460, 461, 462, 463], 157: [464, 465], 158: [466, 467], 159: [468, 469, 470, 471], 160: [472, 473, 474], 161: [475, 476, 477, 478, 479], 162: [480, 481], 163: [482, 483, 484], 164: [485, 486], 165: [487, 488, 489, 490], 166: [491, 492, 493], 167: [494, 495], 168: [496, 497], 169: [498, 499, 500, 501], 170: [502, 503], 171: [504, 505], 172: [506, 507, 508, 509], 173: [510, 511], 174: [512, 513, 514, 515, 516], 175: [517, 518, 519], 176: [520, 521, 522], 177: [523, 524, 525], 178: [526, 527, 528], 179: [529, 530, 531], 180: [532, 533], 181: [534, 535], 182: [536, 537], 183: [538, 539, 540, 541], 184: [542, 543, 544], 185: [545, 546], 186: [547, 548, 549], 187: [550, 551], 188: [552, 553], 189: [554, 555], 190: [556, 557, 558], 191: [559, 560], 192: [561, 562], 193: [563, 564, 565], 194: [566], 195: [567, 568, 569], 196: [570, 571], 197: [572, 573, 574], 198: [575, 576, 577], 199: [578, 579], 200: [580, 581], 201: [582, 583, 584], 202: [585, 586, 587], 203: [588, 589, 590], 204: [591, 592, 593], 205: [594, 595, 596, 597], 206: [598, 599], 207: [600, 601, 602, 603], 208: [604, 605], 209: [606, 607, 608], 210: [609, 610], 211: [611, 612], 212: [613, 614], 213: [615, 616], 214: [617, 618], 215: [619, 620, 621, 622], 216: [623, 624, 625], 217: [626, 627, 628], 218: [629, 630, 631], 219: [632, 633], 220: [634, 635, 636], 221: [637, 638, 639], 222: [640, 641], 223: [642, 643, 644], 224: [645, 646], 225: [647, 648], 226: [649, 650, 651], 227: [652, 653], 228: [654, 655], 229: [656, 657], 230: [658, 659], 231: [660, 661], 232: [662, 663], 233: [664, 665, 666], 234: [667, 668, 669, 670], 235: [671, 672, 673, 674, 675], 236: [676, 677, 678], 237: [679, 680, 681, 682], 238: [683, 684, 685], 239: [686, 687, 688], 240: [689, 690], 241: [691, 692, 693], 242: [694, 695, 696], 243: [697, 698], 244: [699, 700], 245: [701, 702], 246: [703, 704], 247: [705, 706, 707], 248: [708, 709, 710, 711], 249: [712, 713, 714, 715, 716], 250: [717, 718, 719], 251: [720, 721], 252: [722, 723, 724], 253: [725, 726, 727], 254: [728, 729, 730], 255: [731, 732], 256: [733, 734], 257: [735, 736], 258: [737, 738], 259: [739, 740, 741], 260: [742, 743, 744], 261: [745, 746], 262: [747, 748, 749], 263: [750, 751, 752, 753, 754, 755], 264: [756, 757, 758], 265: [759, 760, 761, 762], 266: [763, 764, 765, 766], 267: [767, 768, 769], 268: [770, 771, 772], 269: [773, 774], 270: [775, 776, 777], 271: [778, 779], 272: [780, 781, 782], 273: [783, 784, 785], 274: [786, 787, 788], 275: [789, 790], 276: [791, 792], 277: [793, 794], 278: [795, 796], 279: [797, 798], 280: [799, 800], 281: [801, 802], 282: [803, 804, 805], 283: [806, 807], 284: [808, 809], 285: [810, 811, 812], 286: [813, 814, 815], 287: [816, 817, 818], 288: [819, 820], 289: [821, 822, 823], 290: [824, 825, 826], 291: [827, 828], 292: [829, 830], 293: [831, 832, 833, 834], 294: [835, 836, 837], 295: [838, 839], 296: [840, 841, 842], 297: [843, 844, 845, 846], 298: [847, 848], 299: [849, 850, 851, 852], 300: [853, 854], 301: [855, 856], 302: [857, 858], 303: [859, 860, 861], 304: [862, 863, 864], 305: [865, 866], 306: [867, 868], 307: [869, 870], 308: [871, 872, 873], 309: [874, 875, 876], 310: [877, 878], 311: [879, 880, 881], 312: [882, 883, 884, 885], 313: [886, 887], 314: [888, 889, 890], 315: [891, 892], 316: [893, 894], 317: [895, 896, 897, 898], 318: [899, 900, 901], 319: [902, 903, 904, 905, 906], 320: [907, 908], 321: [909, 910, 911], 322: [912, 913], 323: [914, 915], 324: [916, 917, 918], 325: [919, 920, 921], 326: [922, 923], 327: [924, 925], 328: [926, 927], 329: [928, 929, 930], 330: [931, 932, 933], 331: [934, 935, 936, 937], 332: [938, 939, 940, 941, 942], 333: [943, 944], 334: [945, 946, 947, 948], 335: [949, 950], 336: [951, 952, 953, 954], 337: [955, 956, 957], 338: [958, 959, 960, 961, 962], 339: [963, 964], 340: [965, 966, 967], 341: [968, 969], 342: [970, 971], 343: [972, 973, 974, 975, 976], 344: [977, 978], 345: [979, 980], 346: [981, 982], 347: [983, 984, 985], 348: [986, 987], 349: [988, 989], 350: [990, 991], 351: [992, 993], 352: [994, 995], 353: [996, 997, 998], 354: [999, 1000], 355: [1001, 1002], 356: [1003, 1004, 1005, 1006], 357: [1007, 1008, 1009, 1010], 358: [1011, 1012, 1013, 1014], 359: [1015, 1016, 1017, 1018], 360: [1019, 1020], 361: [1021, 1022], 362: [1023, 1024, 1025], 363: [1026, 1027], 364: [1028, 1029, 1030, 1031], 365: [1032, 1033, 1034, 1035], 366: [1036, 1037, 1038, 1039], 367: [1040, 1041], 368: [1042, 1043, 1044, 1045], 369: [1046, 1047], 370: [1048, 1049, 1050, 1051], 371: [1052, 1053], 372: [1054, 1055, 1056], 373: [1057, 1058, 1059, 1060], 374: [1061, 1062, 1063, 1064], 375: [1065, 1066], 376: [1067, 1068], 377: [1069, 1070], 378: [1071, 1072, 1073], 379: [1074, 1075], 380: [1076, 1077, 1078], 381: [1079, 1080, 1081, 1082], 382: [1083, 1084, 1085, 1086, 1087, 1088, 1089, 1090], 383: [1091, 1092], 384: [1093, 1094, 1095], 385: [1096, 1097, 1098, 1099, 1100], 386: [1101, 1102], 387: [1103, 1104, 1105, 1106], 388: [1107, 1108], 389: [1109, 1110], 390: [1111, 1112], 391: [1113, 1114], 392: [1115, 1116, 1117], 393: [1118, 1119, 1120], 394: [1121, 1122], 395: [1123, 1124, 1125], 396: [1126, 1127, 1128], 397: [1129, 1130, 1131], 398: [1132, 1133], 399: [1134, 1135, 1136, 1137], 400: [1138, 1139, 1140], 401: [1141, 1142, 1143, 1144], 402: [1145, 1146, 1147], 403: [1148, 1149], 404: [1150, 1151], 405: [1152, 1153, 1154], 406: [1155, 1156], 407: [1157, 1158], 408: [1159, 1160, 1161, 1162], 409: [1163, 1164], 410: [1165, 1166, 1167], 411: [1168, 1169, 1170], 412: [1171, 1172], 413: [1173, 1174], 414: [1175, 1176, 1177, 1178], 415: [1179, 1180, 1181], 416: [1182, 1183, 1184], 417: [1185, 1186, 1187, 1188], 418: [1189, 1190], 419: [1191, 1192, 1193, 1194], 420: [1195, 1196], 421: [1197, 1198], 422: [1199, 1200, 1201], 423: [1202, 1203, 1204], 424: [1205, 1206, 1207, 1208, 1209, 1210], 425: [1211, 1212], 426: [1213, 1214, 1215], 427: [1216, 1217], 428: [1218, 1219, 1220, 1221], 429: [1222, 1223], 430: [1224, 1225, 1226], 431: [1227, 1228, 1229], 432: [1230, 1231], 433: [1232, 1233, 1234], 434: [1235, 1236, 1237, 1238], 435: [1239, 1240], 436: [1241, 1242], 437: [1243, 1244, 1245], 438: [1246, 1247], 439: [1248, 1249, 1250, 1251], 440: [1252, 1253], 441: [1254, 1255, 1256, 1257], 442: [1258, 1259, 1260, 1261, 1262], 443: [1263, 1264, 1265], 444: [1266, 1267], 445: [1268, 1269, 1270], 446: [1271, 1272, 1273, 1274], 447: [1275, 1276, 1277], 448: [1278, 1279], 449: [1280, 1281, 1282, 1283, 1284], 450: [1285, 1286, 1287, 1288, 1289], 451: [1290, 1291], 452: [1292, 1293], 453: [1294, 1295, 1296], 454: [1297, 1298, 1299], 455: [1300, 1301, 1302], 456: [1303, 1304], 457: [1305, 1306], 458: [1307, 1308, 1309], 459: [1310, 1311], 460: [1312, 1313, 1314], 461: [1315, 1316], 462: [1317, 1318, 1319, 1320], 463: [1321, 1322, 1323, 1324, 1325], 464: [1326, 1327, 1328], 465: [1329, 1330], 466: [1331, 1332], 467: [1333, 1334, 1335, 1336, 1337], 468: [1338, 1339], 469: [1340, 1341], 470: [1342, 1343, 1344, 1345], 471: [1346, 1347], 472: [1348, 1349], 473: [1350, 1351, 1352, 1353], 474: [1354, 1355, 1356, 1357], 475: [1358, 1359, 1360, 1361], 476: [1362, 1363], 477: [1364, 1365, 1366], 478: [1367, 1368], 479: [1369, 1370], 480: [1371, 1372, 1373], 481: [1374, 1375, 1376], 482: [1377, 1378, 1379], 483: [1380, 1381, 1382, 1383, 1384], 484: [1385, 1386, 1387, 1388], 485: [1389, 1390], 486: [1391, 1392], 487: [1393, 1394], 488: [1395, 1396, 1397, 1398], 489: [1399, 1400], 490: [1401, 1402, 1403, 1404], 491: [1405, 1406], 492: [1407, 1408, 1409], 493: [1410, 1411], 494: [1412, 1413], 495: [1414, 1415], 496: [1416, 1417, 1418], 497: [1419, 1420, 1421], 498: [1422, 1423], 499: [1424, 1425, 1426, 1427, 1428]})\n"
          ],
          "name": "stdout"
        }
      ]
    },
    {
      "cell_type": "code",
      "metadata": {
        "id": "gY74_bY80FGW",
        "colab_type": "code",
        "outputId": "855f75f7-1080-406a-e75b-dd7d8cf16cdd",
        "colab": {
          "base_uri": "https://localhost:8080/",
          "height": 105
        }
      },
      "source": [
        "#input : emotion * cause\n",
        "num_docs=500\n",
        "emotion_cause_pair_per_doc_id=[]\n",
        "ec_pair_per_doc_id=[]\n",
        "for doc_id in range(num_docs):\n",
        "  causes = cause_clauses_per_doc_id[doc_id]\n",
        "  emotions = emotion_clauses_per_doc_id[doc_id]\n",
        "  emotion_clause_ids = doc_id_to_clause_id_emotions_map[doc_id]\n",
        "  emotion_cause_pair=[]\n",
        "  ec_pair=[] # ec_pair is (emotion clause id, cause clause id) pairs\n",
        "\n",
        "  for cause in causes:\n",
        "    for emotion in emotions:\n",
        "      if emotion != 1:\n",
        "        emotion_cause_pair.append((emotion, cause))\n",
        "\n",
        "  for cause in causes:\n",
        "    for e in emotion_clause_ids:\n",
        "        ec_pair.append((e, cause))\n",
        "      \n",
        "  emotion_cause_pair_per_doc_id.append(emotion_cause_pair)\n",
        "  ec_pair_per_doc_id.append(ec_pair)\n",
        "\n",
        "print('emotion_cause_pair_per_doc_id:', emotion_cause_pair_per_doc_id)\n",
        "print('fixed_known_emotion_cause_pair_per_doc_id:', fixed_known_emotion_cause_pair_per_doc_id)\n",
        "print('ec_pair_per_doc_id:', ec_pair_per_doc_id)\n",
        "print(len(emotion_cause_pair_per_doc_id), len(fixed_known_emotion_cause_pair_per_doc_id), len(ec_pair_per_doc_id))"
      ],
      "execution_count": 146,
      "outputs": [
        {
          "output_type": "stream",
          "text": [
            "emotion_cause_pair_per_doc_id: [[(2, 1), (4, 1)], [(2, 4)], [(2, 7)], [(2, 10)], [(2, 13)], [(2, 15), (2, 16)], [(2, 18)], [(2, 21)], [(2, 23)], [(2, 27)], [(2, 29)], [(2, 32)], [(2, 34)], [], [(2, 41), (2, 41)], [(2, 44)], [(2, 46)], [(2, 48)], [(2, 50)], [(2, 56)], [(2, 58)], [(2, 60)], [(2, 62)], [(2, 64)], [(2, 66)], [(2, 70)], [], [], [], [], [], [], [], [], [], [], [], [], [], [], [], [], [(6, 123)], [], [], [], [], [], [], [], [], [], [], [], [], [], [], [], [], [], [], [], [], [], [], [], [], [], [], [], [], [(3, 207)], [], [], [], [], [], [], [], [], [], [], [], [], [], [], [], [], [], [], [], [], [], [], [], [], [], [], [], [], [], [], [], [], [], [], [], [], [], [], [], [], [], [], [], [], [], [], [], [], [], [], [], [], [], [], [], [], [(8, 390)], [], [], [], [], [], [], [], [], [], [], [], [], [], [], [], [], [], [], [], [], [], [], [], [], [], [], [], [], [], [], [], [], [], [], [], [], [], [], [], [], [], [], [], [], [], [], [], [], [], [], [], [], [], [], [], [], [], [], [], [], [], [], [], [], [], [], [], [], [], [], [], [], [], [], [], [], [], [], [], [], [], [], [(3, 612)], [(3, 614)], [(3, 616)], [(3, 618)], [(3, 620)], [(3, 624)], [(3, 627)], [(3, 630)], [(3, 633)], [(3, 635)], [(3, 638)], [(3, 641)], [(3, 643)], [(3, 646)], [(3, 648)], [(3, 651)], [(3, 653)], [(3, 655)], [(3, 657)], [(3, 659)], [(3, 661)], [(3, 663)], [(3, 666)], [], [], [], [], [], [], [], [], [], [], [], [], [], [], [], [], [], [], [], [], [], [], [], [], [], [], [], [], [], [], [], [], [], [], [], [], [], [], [], [], [], [], [], [], [], [], [], [], [], [], [], [], [], [], [], [], [], [], [], [], [], [], [], [], [], [(7, 851)], [], [], [], [], [], [], [], [(6, 870)], [(6, 872)], [], [], [], [], [], [], [], [], [], [], [], [], [], [], [(8, 915)], [], [], [], [], [], [], [], [], [(7, 942)], [], [], [], [], [], [], [], [], [], [], [], [], [], [], [], [], [], [], [], [], [], [], [], [], [], [], [], [], [], [], [], [], [], [], [], [], [], [], [], [], [], [], [], [], [], [], [], [], [], [], [(2, 1092)], [], [], [], [], [], [], [], [], [], [], [], [], [], [], [], [], [], [], [], [], [], [], [], [], [(6, 1160)], [(8, 1164)], [(6, 1167)], [(6, 1170)], [(6, 1172)], [(6, 1174)], [(6, 1178)], [(6, 1179), (6, 1181)], [(6, 1184)], [(8, 1188), (6, 1188)], [(6, 1190)], [(6, 1193)], [(6, 1196)], [(6, 1198)], [(6, 1200)], [(6, 1204)], [(6, 1210)], [(6, 1212)], [(6, 1214)], [], [], [], [], [], [], [], [], [], [], [], [], [], [], [], [], [], [], [], [], [], [], [], [], [], [], [], [], [], [], [], [(6, 1309)], [], [], [], [], [], [], [], [], [], [], [], [], [], [], [], [(6, 1356)], [], [], [], [], [], [], [], [], [], [], [], [], [], [], [], [], [], [], [], [], [], [], [], [], []]\n",
            "fixed_known_emotion_cause_pair_per_doc_id: [[4, 1], [4, 4], [4, 7], [4, 10], [4, 13], [4, 16], [4, 18], [4, 21], [4, 23], [4, 27], [4, 29], [4, 32], [4, 34], [4, 38], [4, 41], [4, 44], [4, 46], [4, 48], [4, 50], [4, 56], [4, 58], [4, 60], [4, 62], [4, 64], [4, 66], [4, 70], [4, 72], [4, 76], [4, 78], [4, 80], [4, 83], [4, 88], [4, 90], [4, 96], [4, 99], [4, 103], [4, 105], [4, 107], [4, 111], [4, 113], [4, 115], [4, 117], [4, 123], [4, 128], [4, 130], [4, 133], [4, 136], [4, 139], [4, 142], [4, 144], [4, 147], [4, 150], [4, 152], [4, 154], [4, 157], [4, 159], [4, 161], [4, 167], [4, 171], [4, 174], [4, 176], [4, 180], [4, 182], [4, 185], [4, 187], [4, 191], [4, 193], [4, 196], [4, 199], [4, 201], [4, 204], [4, 207], [4, 210], [4, 212], [4, 214], [4, 218], [4, 220], [4, 223], [4, 227], [4, 229], [4, 232], [4, 236], [4, 238], [4, 244], [4, 247], [4, 250], [4, 253], [4, 255], [4, 257], [4, 260], [4, 263], [4, 266], [4, 271], [4, 273], [4, 277], [4, 280], [4, 283], [4, 290], [4, 293], [4, 299], [4, 302], [4, 304], [4, 307], [4, 309], [4, 313], [4, 318], [4, 322], [4, 326], [4, 329], [4, 331], [4, 334], [4, 339], [4, 341], [4, 343], [4, 346], [4, 347], [4, 349], [4, 353], [4, 355], [4, 360], [4, 362], [4, 366], [4, 370], [4, 375], [4, 377], [4, 381], [4, 385], [4, 388], [4, 390], [4, 392], [4, 394], [4, 396], [4, 400], [4, 402], [4, 404], [4, 406], [4, 409], [4, 411], [4, 414], [4, 416], [4, 418], [4, 420], [4, 422], [4, 424], [4, 426], [4, 428], [4, 434], [4, 436], [4, 438], [4, 442], [4, 444], [4, 447], [4, 449], [4, 452], [4, 455], [4, 457], [4, 463], [4, 465], [4, 467], [4, 469], [4, 474], [4, 479], [4, 481], [4, 484], [4, 486], [4, 489], [4, 493], [4, 495], [4, 497], [4, 501], [4, 503], [4, 505], [4, 509], [4, 511], [4, 516], [4, 519], [4, 522], [4, 525], [4, 528], [4, 531], [4, 533], [4, 535], [4, 537], [4, 541], [4, 543], [4, 546], [4, 549], [4, 551], [4, 553], [4, 555], [4, 558], [4, 560], [4, 562], [4, 565], [4, 566], [4, 569], [4, 571], [4, 573], [4, 577], [4, 579], [4, 581], [4, 584], [4, 586], [4, 589], [4, 593], [4, 597], [4, 599], [4, 603], [4, 605], [4, 608], [4, 610], [5, 612], [5, 614], [5, 616], [5, 618], [5, 620], [5, 624], [5, 627], [5, 630], [5, 633], [5, 635], [5, 638], [5, 641], [5, 643], [5, 646], [5, 648], [5, 651], [5, 653], [5, 655], [5, 657], [5, 659], [5, 661], [5, 663], [5, 666], [5, 669], [5, 675], [5, 678], [5, 681], [5, 684], [5, 688], [5, 690], [5, 693], [5, 696], [5, 698], [5, 700], [5, 702], [5, 704], [5, 706], [5, 710], [5, 714], [5, 719], [5, 721], [5, 724], [5, 726], [5, 730], [5, 732], [5, 734], [5, 736], [5, 738], [5, 740], [5, 743], [5, 746], [5, 748], [5, 752], [5, 757], [5, 761], [5, 765], [5, 768], [5, 771], [5, 774], [5, 776], [5, 779], [5, 781], [5, 785], [5, 787], [5, 790], [5, 792], [5, 794], [5, 796], [5, 798], [5, 800], [5, 802], [5, 805], [5, 807], [5, 809], [5, 812], [5, 815], [5, 817], [5, 820], [5, 823], [5, 826], [5, 828], [5, 830], [5, 832], [5, 836], [5, 839], [5, 842], [5, 844], [5, 848], [5, 851], [5, 854], [5, 856], [5, 858], [5, 861], [5, 863], [5, 866], [5, 868], [5, 870], [5, 872], [5, 875], [5, 878], [5, 880], [5, 884], [5, 887], [5, 890], [5, 892], [5, 894], [6, 898], [6, 901], [6, 906], [6, 908], [6, 911], [6, 913], [6, 915], [6, 918], [6, 921], [6, 923], [6, 925], [6, 927], [6, 930], [6, 932], [6, 937], [6, 942], [6, 944], [6, 947], [6, 950], [6, 953], [6, 956], [6, 959], [6, 964], [6, 967], [6, 969], [6, 971], [6, 975], [6, 978], [6, 980], [6, 982], [6, 985], [6, 987], [6, 989], [6, 991], [6, 993], [6, 995], [6, 998], [6, 1000], [6, 1002], [6, 1006], [6, 1010], [6, 1014], [6, 1018], [6, 1020], [6, 1022], [6, 1025], [6, 1027], [6, 1031], [6, 1033], [6, 1039], [6, 1041], [6, 1043], [6, 1047], [7, 1051], [7, 1053], [7, 1056], [7, 1060], [7, 1064], [7, 1066], [7, 1068], [7, 1070], [7, 1072], [7, 1075], [7, 1077], [7, 1080], [7, 1088], [7, 1092], [7, 1095], [7, 1097], [7, 1102], [7, 1106], [7, 1108], [7, 1110], [7, 1112], [7, 1114], [7, 1117], [7, 1120], [7, 1122], [7, 1124], [7, 1128], [7, 1131], [7, 1133], [7, 1136], [7, 1140], [7, 1144], [7, 1146], [7, 1149], [7, 1151], [7, 1154], [7, 1156], [7, 1158], [8, 1160], [8, 1164], [8, 1167], [8, 1170], [8, 1172], [8, 1174], [8, 1178], [8, 1181], [8, 1184], [8, 1188], [8, 1190], [8, 1193], [8, 1196], [8, 1198], [8, 1200], [8, 1204], [8, 1210], [8, 1212], [8, 1214], [8, 1217], [8, 1221], [8, 1223], [8, 1226], [8, 1228], [8, 1231], [8, 1233], [8, 1238], [8, 1240], [8, 1242], [8, 1244], [8, 1247], [8, 1251], [8, 1253], [8, 1256], [8, 1259], [8, 1265], [8, 1267], [8, 1270], [8, 1272], [8, 1277], [8, 1279], [8, 1282], [8, 1288], [8, 1291], [8, 1293], [8, 1296], [8, 1298], [8, 1302], [8, 1304], [8, 1306], [8, 1309], [8, 1311], [8, 1313], [8, 1316], [8, 1320], [8, 1322], [8, 1328], [8, 1330], [8, 1332], [8, 1334], [8, 1339], [8, 1341], [8, 1345], [8, 1347], [8, 1349], [8, 1351], [8, 1356], [8, 1361], [8, 1363], [8, 1365], [8, 1368], [8, 1370], [8, 1373], [8, 1376], [8, 1379], [8, 1383], [8, 1386], [8, 1390], [8, 1392], [8, 1394], [8, 1398], [8, 1400], [8, 1402], [8, 1406], [8, 1408], [8, 1411], [8, 1413], [8, 1415], [8, 1417], [8, 1420], [8, 1423], [8, 1425]]\n",
            "ec_pair_per_doc_id: [[(0, 1), (1, 1), (2, 1)], [(3, 4), (4, 4)], [(5, 7), (6, 7), (7, 7)], [(8, 10), (9, 10), (10, 10)], [(11, 13), (12, 13), (13, 13)], [(14, 15), (15, 15), (16, 15), (14, 16), (15, 16), (16, 16)], [(17, 18), (18, 18)], [(19, 21), (20, 21), (21, 21)], [(22, 23), (23, 23), (24, 23)], [(25, 27), (26, 27), (27, 27)], [(28, 29), (29, 29)], [(30, 32), (31, 32), (32, 32)], [(33, 34), (34, 34)], [(35, 38), (36, 38), (37, 38), (38, 38), (39, 38)], [(40, 41), (41, 41), (42, 41)], [(43, 44), (44, 44)], [(45, 46), (46, 46)], [(47, 48), (48, 48)], [(49, 50), (50, 50)], [(51, 56), (52, 56), (53, 56), (54, 56), (55, 56), (56, 56)], [(57, 58), (58, 58)], [(59, 60), (60, 60)], [(61, 62), (62, 62)], [(63, 64), (64, 64)], [(65, 66), (66, 66), (67, 66)], [(68, 70), (69, 70), (70, 70)], [(71, 72), (72, 72)], [(73, 76), (74, 76), (75, 76), (76, 76)], [(77, 78), (78, 78)], [(79, 80), (80, 80), (81, 80)], [], [(86, 88), (87, 88), (88, 88)], [(89, 90), (90, 90), (91, 90), (92, 90), (93, 90)], [(94, 96), (95, 96), (96, 96)], [(97, 99), (98, 99), (99, 99), (100, 99), (101, 99)], [(102, 103), (103, 103)], [(104, 105), (105, 105)], [(106, 107), (107, 107), (108, 107), (109, 107)], [(110, 111), (111, 111)], [(112, 113), (113, 113)], [(114, 115), (115, 115)], [(116, 117), (117, 117), (118, 117)], [(119, 123), (120, 123), (121, 123), (122, 123), (123, 123), (124, 123)], [(125, 128), (126, 128), (127, 128), (128, 128)], [(129, 130), (130, 130), (131, 130)], [(132, 133), (133, 133), (134, 133)], [(135, 136), (136, 136)], [(137, 139), (138, 139), (139, 139)], [(140, 142), (141, 142), (142, 142)], [(143, 144), (144, 144), (145, 144)], [(146, 147), (147, 147)], [(148, 150), (149, 150), (150, 150)], [(151, 152), (152, 152)], [(153, 154), (154, 154)], [(155, 157), (156, 157), (157, 157)], [(158, 159), (159, 159)], [(160, 161), (161, 161), (162, 161), (163, 161)], [(164, 167), (165, 167), (166, 167), (167, 167)], [(168, 171), (169, 171), (170, 171), (171, 171)], [(172, 174), (173, 174), (174, 174)], [(175, 176), (176, 176), (177, 176)], [(178, 180), (179, 180), (180, 180)], [(181, 182), (182, 182)], [(183, 185), (184, 185), (185, 185)], [(186, 187), (187, 187)], [(188, 191), (189, 191), (190, 191), (191, 191)], [(192, 193), (193, 193), (194, 193)], [(195, 196), (196, 196)], [(197, 199), (198, 199), (199, 199)], [(200, 201), (201, 201)], [(202, 204), (203, 204), (204, 204)], [(205, 207), (206, 207), (207, 207), (208, 207)], [(209, 210), (210, 210)], [(211, 212), (212, 212)], [(213, 214), (214, 214), (215, 214)], [(216, 218), (217, 218), (218, 218)], [(219, 220), (220, 220)], [(221, 223), (222, 223), (223, 223), (224, 223)], [(225, 227), (226, 227), (227, 227)], [(228, 229), (229, 229), (230, 229)], [(231, 232), (232, 232)], [(233, 236), (234, 236), (235, 236), (236, 236)], [(237, 238), (238, 238), (239, 238)], [(240, 244), (241, 244), (242, 244), (243, 244), (244, 244)], [(245, 247), (246, 247), (247, 247), (248, 247)], [(249, 250), (250, 250), (251, 250)], [(252, 253), (253, 253)], [(254, 255), (255, 255)], [(256, 257), (257, 257)], [(258, 260), (259, 260), (260, 260)], [(261, 263), (262, 263), (263, 263)], [(264, 266), (265, 266), (266, 266), (267, 266), (268, 266), (269, 266)], [(270, 271), (271, 271)], [(272, 273), (273, 273), (274, 273)], [(275, 277), (276, 277), (277, 277)], [(278, 280), (279, 280), (280, 280), (281, 280)], [(282, 283), (283, 283), (284, 283), (285, 283)], [(286, 290), (287, 290), (288, 290), (289, 290), (290, 290)], [(291, 293), (292, 293), (293, 293), (294, 293)], [(295, 299), (296, 299), (297, 299), (298, 299), (299, 299)], [(300, 302), (301, 302), (302, 302)], [(303, 304), (304, 304), (305, 304)], [(306, 307), (307, 307)], [(308, 309), (309, 309)], [(310, 313), (311, 313), (312, 313), (313, 313)], [(314, 318), (315, 318), (316, 318), (317, 318), (318, 318)], [(319, 322), (320, 322), (321, 322), (322, 322)], [(323, 326), (324, 326), (325, 326), (326, 326), (327, 326)], [(328, 329), (329, 329)], [(330, 331), (331, 331)], [(332, 334), (333, 334), (334, 334), (335, 334), (336, 334)], [(337, 339), (338, 339), (339, 339)], [(340, 341), (341, 341)], [(342, 343), (343, 343), (344, 343)], [(345, 346), (346, 346)], [(347, 347)], [(348, 349), (349, 349)], [(350, 353), (351, 353), (352, 353), (353, 353)], [(354, 355), (355, 355), (356, 355), (357, 355)], [(358, 360), (359, 360), (360, 360)], [(361, 362), (362, 362), (363, 362), (364, 362)], [(365, 366), (366, 366), (367, 366)], [(368, 370), (369, 370), (370, 370), (371, 370), (372, 370)], [(373, 375), (374, 375), (375, 375)], [(376, 377), (377, 377), (378, 377), (379, 377)], [(380, 381), (381, 381)], [(382, 385), (383, 385), (384, 385), (385, 385), (386, 385)], [(387, 388), (388, 388)], [(389, 390), (390, 390)], [(391, 392), (392, 392)], [(393, 394), (394, 394)], [(395, 396), (396, 396)], [(397, 400), (398, 400), (399, 400), (400, 400)], [(401, 402), (402, 402)], [(403, 404), (404, 404)], [(405, 406), (406, 406), (407, 406)], [(408, 409), (409, 409)], [(410, 411), (411, 411), (412, 411)], [(413, 414), (414, 414)], [(415, 416), (416, 416)], [(417, 418), (418, 418)], [(419, 420), (420, 420)], [(421, 422), (422, 422)], [(423, 424), (424, 424)], [(425, 426), (426, 426)], [(427, 428), (428, 428)], [(429, 434), (430, 434), (431, 434), (432, 434), (433, 434), (434, 434)], [(435, 436), (436, 436)], [(437, 438), (438, 438), (439, 438), (440, 438)], [(441, 442), (442, 442)], [(443, 444), (444, 444), (445, 444)], [], [(448, 449), (449, 449)], [(450, 452), (451, 452), (452, 452)], [(453, 455), (454, 455), (455, 455)], [(456, 457), (457, 457)], [(458, 463), (459, 463), (460, 463), (461, 463), (462, 463), (463, 463)], [(464, 465), (465, 465)], [(466, 467), (467, 467)], [(468, 469), (469, 469), (470, 469), (471, 469)], [(472, 474), (473, 474), (474, 474)], [(475, 479), (476, 479), (477, 479), (478, 479), (479, 479)], [(480, 481), (481, 481)], [(482, 484), (483, 484), (484, 484)], [(485, 486), (486, 486)], [(487, 489), (488, 489), (489, 489), (490, 489)], [(491, 493), (492, 493), (493, 493)], [(494, 495), (495, 495)], [(496, 497), (497, 497)], [(498, 501), (499, 501), (500, 501), (501, 501)], [(502, 503), (503, 503)], [(504, 505), (505, 505)], [(506, 509), (507, 509), (508, 509), (509, 509)], [(510, 511), (511, 511)], [(512, 516), (513, 516), (514, 516), (515, 516), (516, 516)], [(517, 519), (518, 519), (519, 519)], [(520, 522), (521, 522), (522, 522)], [(523, 525), (524, 525), (525, 525)], [(526, 528), (527, 528), (528, 528)], [(529, 531), (530, 531), (531, 531)], [(532, 533), (533, 533)], [(534, 535), (535, 535)], [(536, 537), (537, 537)], [(538, 541), (539, 541), (540, 541), (541, 541)], [(542, 543), (543, 543), (544, 543)], [(545, 546), (546, 546)], [(547, 549), (548, 549), (549, 549)], [(550, 551), (551, 551)], [(552, 553), (553, 553)], [(554, 555), (555, 555)], [(556, 558), (557, 558), (558, 558)], [(559, 560), (560, 560)], [(561, 562), (562, 562)], [(563, 565), (564, 565), (565, 565)], [(566, 566)], [(567, 569), (568, 569), (569, 569)], [(570, 571), (571, 571)], [(572, 573), (573, 573), (574, 573)], [(575, 577), (576, 577), (577, 577)], [], [(580, 581), (581, 581)], [(582, 584), (583, 584), (584, 584)], [(585, 586), (586, 586), (587, 586)], [(588, 589), (589, 589), (590, 589)], [(591, 593), (592, 593), (593, 593)], [(594, 597), (595, 597), (596, 597), (597, 597)], [(598, 599), (599, 599)], [(600, 603), (601, 603), (602, 603), (603, 603)], [(604, 605), (605, 605)], [(606, 608), (607, 608), (608, 608)], [(609, 610), (610, 610)], [(611, 612), (612, 612)], [(613, 614), (614, 614)], [(615, 616), (616, 616)], [(617, 618), (618, 618)], [(619, 620), (620, 620), (621, 620), (622, 620)], [(623, 624), (624, 624), (625, 624)], [(626, 627), (627, 627), (628, 627)], [(629, 630), (630, 630), (631, 630)], [(632, 633), (633, 633)], [(634, 635), (635, 635), (636, 635)], [(637, 638), (638, 638), (639, 638)], [(640, 641), (641, 641)], [(642, 643), (643, 643), (644, 643)], [(645, 646), (646, 646)], [(647, 648), (648, 648)], [(649, 651), (650, 651), (651, 651)], [(652, 653), (653, 653)], [(654, 655), (655, 655)], [(656, 657), (657, 657)], [(658, 659), (659, 659)], [(660, 661), (661, 661)], [(662, 663), (663, 663)], [(664, 666), (665, 666), (666, 666)], [(667, 669), (668, 669), (669, 669), (670, 669)], [(671, 675), (672, 675), (673, 675), (674, 675), (675, 675)], [(676, 678), (677, 678), (678, 678)], [(679, 681), (680, 681), (681, 681), (682, 681)], [(683, 684), (684, 684), (685, 684)], [(686, 688), (687, 688), (688, 688)], [(689, 690), (690, 690)], [(691, 693), (692, 693), (693, 693)], [(694, 696), (695, 696), (696, 696)], [(697, 698), (698, 698)], [(699, 700), (700, 700)], [(701, 702), (702, 702)], [(703, 704), (704, 704)], [(705, 706), (706, 706), (707, 706)], [(708, 710), (709, 710), (710, 710), (711, 710)], [(712, 714), (713, 714), (714, 714), (715, 714), (716, 714)], [(717, 719), (718, 719), (719, 719)], [(720, 721), (721, 721)], [(722, 724), (723, 724), (724, 724)], [(725, 726), (726, 726), (727, 726)], [(728, 730), (729, 730), (730, 730)], [(731, 732), (732, 732)], [(733, 734), (734, 734)], [(735, 736), (736, 736)], [(737, 738), (738, 738)], [(739, 740), (740, 740), (741, 740)], [(742, 743), (743, 743), (744, 743)], [(745, 746), (746, 746)], [(747, 748), (748, 748), (749, 748)], [(750, 752), (751, 752), (752, 752), (753, 752), (754, 752), (755, 752)], [(756, 757), (757, 757), (758, 757)], [(759, 761), (760, 761), (761, 761), (762, 761)], [(763, 765), (764, 765), (765, 765), (766, 765)], [(767, 768), (768, 768), (769, 768)], [(770, 771), (771, 771), (772, 771)], [(773, 774), (774, 774)], [(775, 776), (776, 776), (777, 776)], [(778, 779), (779, 779)], [(780, 781), (781, 781), (782, 781)], [(783, 783), (784, 783), (785, 783), (783, 785), (784, 785), (785, 785)], [(786, 787), (787, 787), (788, 787)], [(789, 790), (790, 790)], [(791, 792), (792, 792)], [(793, 794), (794, 794)], [(795, 796), (796, 796)], [(797, 798), (798, 798)], [(799, 800), (800, 800)], [(801, 802), (802, 802)], [(803, 805), (804, 805), (805, 805)], [(806, 807), (807, 807)], [(808, 809), (809, 809)], [(810, 812), (811, 812), (812, 812)], [(813, 815), (814, 815), (815, 815)], [(816, 817), (817, 817), (818, 817)], [(819, 820), (820, 820)], [(821, 823), (822, 823), (823, 823)], [(824, 826), (825, 826), (826, 826)], [(827, 828), (828, 828)], [(829, 830), (830, 830)], [(831, 832), (832, 832), (833, 832), (834, 832)], [(835, 836), (836, 836), (837, 836)], [(838, 839), (839, 839)], [(840, 842), (841, 842), (842, 842)], [(843, 844), (844, 844), (845, 844), (846, 844)], [(847, 848), (848, 848)], [(849, 851), (850, 851), (851, 851), (852, 851)], [(853, 854), (854, 854)], [(855, 856), (856, 856)], [(857, 858), (858, 858)], [(859, 861), (860, 861), (861, 861)], [(862, 863), (863, 863), (864, 863)], [(865, 866), (866, 866)], [(867, 868), (868, 868)], [(869, 870), (870, 870)], [(871, 872), (872, 872), (873, 872)], [(874, 875), (875, 875), (876, 875)], [(877, 878), (878, 878)], [(879, 880), (880, 880), (881, 880)], [(882, 884), (883, 884), (884, 884), (885, 884)], [(886, 887), (887, 887)], [(888, 890), (889, 890), (890, 890)], [(891, 892), (892, 892)], [(893, 894), (894, 894)], [(895, 898), (896, 898), (897, 898), (898, 898)], [(899, 901), (900, 901), (901, 901)], [(902, 906), (903, 906), (904, 906), (905, 906), (906, 906)], [(907, 908), (908, 908)], [(909, 909), (910, 909), (911, 909), (909, 911), (910, 911), (911, 911)], [(912, 913), (913, 913)], [(914, 915), (915, 915)], [(916, 918), (917, 918), (918, 918)], [(919, 921), (920, 921), (921, 921)], [(922, 923), (923, 923)], [(924, 925), (925, 925)], [(926, 927), (927, 927)], [(928, 930), (929, 930), (930, 930)], [(931, 932), (932, 932), (933, 932)], [(934, 937), (935, 937), (936, 937), (937, 937)], [(938, 942), (939, 942), (940, 942), (941, 942), (942, 942)], [(943, 944), (944, 944)], [(945, 947), (946, 947), (947, 947), (948, 947)], [(949, 950), (950, 950)], [(951, 953), (952, 953), (953, 953), (954, 953)], [(955, 956), (956, 956), (957, 956)], [(958, 959), (959, 959), (960, 959), (961, 959), (962, 959)], [(963, 964), (964, 964)], [(965, 967), (966, 967), (967, 967)], [(968, 969), (969, 969)], [(970, 971), (971, 971)], [(972, 975), (973, 975), (974, 975), (975, 975), (976, 975)], [(977, 978), (978, 978)], [(979, 980), (980, 980)], [(981, 982), (982, 982)], [(983, 985), (984, 985), (985, 985)], [(986, 987), (987, 987)], [(988, 989), (989, 989)], [(990, 991), (991, 991)], [(992, 993), (993, 993)], [(994, 995), (995, 995)], [(996, 998), (997, 998), (998, 998)], [(999, 1000), (1000, 1000)], [(1001, 1002), (1002, 1002)], [(1003, 1006), (1004, 1006), (1005, 1006), (1006, 1006)], [(1007, 1010), (1008, 1010), (1009, 1010), (1010, 1010)], [(1011, 1014), (1012, 1014), (1013, 1014), (1014, 1014)], [(1015, 1018), (1016, 1018), (1017, 1018), (1018, 1018)], [(1019, 1020), (1020, 1020)], [(1021, 1022), (1022, 1022)], [(1023, 1025), (1024, 1025), (1025, 1025)], [(1026, 1027), (1027, 1027)], [(1028, 1031), (1029, 1031), (1030, 1031), (1031, 1031)], [(1032, 1033), (1033, 1033), (1034, 1033), (1035, 1033)], [(1036, 1039), (1037, 1039), (1038, 1039), (1039, 1039)], [(1040, 1041), (1041, 1041)], [(1042, 1043), (1043, 1043), (1044, 1043), (1045, 1043)], [(1046, 1047), (1047, 1047)], [(1048, 1051), (1049, 1051), (1050, 1051), (1051, 1051)], [(1052, 1053), (1053, 1053)], [(1054, 1056), (1055, 1056), (1056, 1056)], [(1057, 1060), (1058, 1060), (1059, 1060), (1060, 1060)], [(1061, 1064), (1062, 1064), (1063, 1064), (1064, 1064)], [(1065, 1066), (1066, 1066)], [(1067, 1068), (1068, 1068)], [(1069, 1070), (1070, 1070)], [(1071, 1072), (1072, 1072), (1073, 1072)], [(1074, 1075), (1075, 1075)], [(1076, 1077), (1077, 1077), (1078, 1077), (1076, 1078), (1077, 1078), (1078, 1078)], [(1079, 1080), (1080, 1080), (1081, 1080), (1082, 1080)], [(1083, 1088), (1084, 1088), (1085, 1088), (1086, 1088), (1087, 1088), (1088, 1088), (1089, 1088), (1090, 1088)], [(1091, 1092), (1092, 1092)], [(1093, 1095), (1094, 1095), (1095, 1095)], [(1096, 1097), (1097, 1097), (1098, 1097), (1099, 1097), (1100, 1097)], [(1101, 1102), (1102, 1102)], [(1103, 1106), (1104, 1106), (1105, 1106), (1106, 1106)], [(1107, 1108), (1108, 1108)], [(1109, 1110), (1110, 1110)], [(1111, 1112), (1112, 1112)], [(1113, 1114), (1114, 1114)], [(1115, 1117), (1116, 1117), (1117, 1117)], [(1118, 1120), (1119, 1120), (1120, 1120)], [(1121, 1122), (1122, 1122)], [(1123, 1124), (1124, 1124), (1125, 1124)], [(1126, 1128), (1127, 1128), (1128, 1128)], [(1129, 1131), (1130, 1131), (1131, 1131)], [(1132, 1133), (1133, 1133)], [(1134, 1136), (1135, 1136), (1136, 1136), (1137, 1136)], [(1138, 1140), (1139, 1140), (1140, 1140)], [(1141, 1144), (1142, 1144), (1143, 1144), (1144, 1144)], [(1145, 1146), (1146, 1146), (1147, 1146)], [(1148, 1149), (1149, 1149)], [(1150, 1151), (1151, 1151)], [(1152, 1154), (1153, 1154), (1154, 1154)], [(1155, 1156), (1156, 1156)], [(1157, 1158), (1158, 1158)], [(1159, 1160), (1160, 1160), (1161, 1160), (1162, 1160)], [(1163, 1164), (1164, 1164)], [(1165, 1167), (1166, 1167), (1167, 1167)], [(1168, 1170), (1169, 1170), (1170, 1170)], [(1171, 1172), (1172, 1172)], [(1173, 1174), (1174, 1174)], [(1175, 1178), (1176, 1178), (1177, 1178), (1178, 1178)], [(1179, 1179), (1180, 1179), (1181, 1179), (1179, 1181), (1180, 1181), (1181, 1181)], [(1182, 1184), (1183, 1184), (1184, 1184)], [(1185, 1188), (1186, 1188), (1187, 1188), (1188, 1188)], [(1189, 1190), (1190, 1190)], [(1191, 1193), (1192, 1193), (1193, 1193), (1194, 1193)], [(1195, 1196), (1196, 1196)], [(1197, 1198), (1198, 1198)], [(1199, 1200), (1200, 1200), (1201, 1200)], [(1202, 1204), (1203, 1204), (1204, 1204)], [(1205, 1210), (1206, 1210), (1207, 1210), (1208, 1210), (1209, 1210), (1210, 1210)], [(1211, 1212), (1212, 1212)], [(1213, 1214), (1214, 1214), (1215, 1214)], [(1216, 1217), (1217, 1217)], [(1218, 1221), (1219, 1221), (1220, 1221), (1221, 1221)], [(1222, 1223), (1223, 1223)], [(1224, 1224), (1225, 1224), (1226, 1224), (1224, 1226), (1225, 1226), (1226, 1226)], [(1227, 1228), (1228, 1228), (1229, 1228)], [(1230, 1231), (1231, 1231)], [(1232, 1233), (1233, 1233), (1234, 1233)], [(1235, 1238), (1236, 1238), (1237, 1238), (1238, 1238)], [(1239, 1240), (1240, 1240)], [(1241, 1242), (1242, 1242)], [(1243, 1244), (1244, 1244), (1245, 1244)], [(1246, 1247), (1247, 1247)], [(1248, 1251), (1249, 1251), (1250, 1251), (1251, 1251)], [(1252, 1253), (1253, 1253)], [(1254, 1256), (1255, 1256), (1256, 1256), (1257, 1256)], [(1258, 1259), (1259, 1259), (1260, 1259), (1261, 1259), (1262, 1259), (1258, 1262), (1259, 1262), (1260, 1262), (1261, 1262), (1262, 1262)], [(1263, 1265), (1264, 1265), (1265, 1265)], [(1266, 1267), (1267, 1267)], [(1268, 1270), (1269, 1270), (1270, 1270)], [(1271, 1272), (1272, 1272), (1273, 1272), (1274, 1272)], [(1275, 1277), (1276, 1277), (1277, 1277)], [(1278, 1279), (1279, 1279)], [(1280, 1282), (1281, 1282), (1282, 1282), (1283, 1282), (1284, 1282)], [(1285, 1288), (1286, 1288), (1287, 1288), (1288, 1288), (1289, 1288)], [(1290, 1291), (1291, 1291)], [(1292, 1293), (1293, 1293)], [(1294, 1296), (1295, 1296), (1296, 1296)], [(1297, 1298), (1298, 1298), (1299, 1298)], [(1300, 1302), (1301, 1302), (1302, 1302)], [(1303, 1304), (1304, 1304)], [(1305, 1306), (1306, 1306)], [(1307, 1309), (1308, 1309), (1309, 1309)], [(1310, 1311), (1311, 1311)], [(1312, 1313), (1313, 1313), (1314, 1313)], [(1315, 1316), (1316, 1316)], [(1317, 1320), (1318, 1320), (1319, 1320), (1320, 1320)], [(1321, 1322), (1322, 1322), (1323, 1322), (1324, 1322), (1325, 1322)], [(1326, 1328), (1327, 1328), (1328, 1328)], [(1329, 1330), (1330, 1330)], [(1331, 1332), (1332, 1332)], [(1333, 1334), (1334, 1334), (1335, 1334), (1336, 1334), (1337, 1334)], [(1338, 1339), (1339, 1339)], [(1340, 1341), (1341, 1341)], [(1342, 1345), (1343, 1345), (1344, 1345), (1345, 1345)], [(1346, 1347), (1347, 1347)], [(1348, 1349), (1349, 1349)], [(1350, 1351), (1351, 1351), (1352, 1351), (1353, 1351), (1350, 1353), (1351, 1353), (1352, 1353), (1353, 1353)], [(1354, 1356), (1355, 1356), (1356, 1356), (1357, 1356)], [(1358, 1361), (1359, 1361), (1360, 1361), (1361, 1361)], [(1362, 1363), (1363, 1363)], [(1364, 1365), (1365, 1365), (1366, 1365)], [(1367, 1368), (1368, 1368)], [(1369, 1370), (1370, 1370)], [(1371, 1373), (1372, 1373), (1373, 1373)], [(1374, 1376), (1375, 1376), (1376, 1376)], [(1377, 1379), (1378, 1379), (1379, 1379)], [(1380, 1383), (1381, 1383), (1382, 1383), (1383, 1383), (1384, 1383)], [(1385, 1386), (1386, 1386), (1387, 1386), (1388, 1386)], [(1389, 1390), (1390, 1390)], [(1391, 1392), (1392, 1392)], [(1393, 1394), (1394, 1394)], [(1395, 1398), (1396, 1398), (1397, 1398), (1398, 1398)], [(1399, 1400), (1400, 1400)], [(1401, 1402), (1402, 1402), (1403, 1402), (1404, 1402)], [(1405, 1406), (1406, 1406)], [(1407, 1408), (1408, 1408), (1409, 1408)], [(1410, 1411), (1411, 1411)], [(1412, 1413), (1413, 1413)], [(1414, 1415), (1415, 1415)], [(1416, 1417), (1417, 1417), (1418, 1417)], [(1419, 1420), (1420, 1420), (1421, 1420)], [(1422, 1423), (1423, 1423)], [(1424, 1425), (1425, 1425), (1426, 1425), (1427, 1425), (1428, 1425)]]\n",
            "500 500 500\n"
          ],
          "name": "stdout"
        }
      ]
    },
    {
      "cell_type": "code",
      "metadata": {
        "id": "NBgUxzWr-Glx",
        "colab_type": "code",
        "outputId": "201649bb-c366-4210-d8d7-682326aa53de",
        "colab": {
          "base_uri": "https://localhost:8080/",
          "height": 255
        }
      },
      "source": [
        "logic_model_output = []\n",
        "for doc_id, emotion_cause_pairs in enumerate(emotion_cause_pair_per_doc_id):\n",
        "  output_per_doc_id = [] # output_per_doc_id is a list of whether expected emotion_cause_pair matches with predicted pair.\n",
        "  #print(doc_id, emotion_cause_pairs)\n",
        "  for pair in emotion_cause_pairs:\n",
        "    if pair[0] == fixed_known_emotion_cause_pair_per_doc_id[doc_id][0] and pair[1] == fixed_known_emotion_cause_pair_per_doc_id[doc_id][1]:\n",
        "      output_per_doc_id.append(1)\n",
        "    else:\n",
        "      output_per_doc_id.append(0)\n",
        "  logic_model_output.append(output_per_doc_id)\n",
        "logic_model_output=np.asarray(logic_model_output)\n",
        "print('logic_model_output: ', logic_model_output[:100], logic_model_output.shape)"
      ],
      "execution_count": 147,
      "outputs": [
        {
          "output_type": "stream",
          "text": [
            "logic_model_output:  [list([0, 1]) list([0]) list([0]) list([0]) list([0]) list([0, 0])\n",
            " list([0]) list([0]) list([0]) list([0]) list([0]) list([0]) list([0])\n",
            " list([]) list([0, 0]) list([0]) list([0]) list([0]) list([0]) list([0])\n",
            " list([0]) list([0]) list([0]) list([0]) list([0]) list([0]) list([])\n",
            " list([]) list([]) list([]) list([]) list([]) list([]) list([]) list([])\n",
            " list([]) list([]) list([]) list([]) list([]) list([]) list([]) list([0])\n",
            " list([]) list([]) list([]) list([]) list([]) list([]) list([]) list([])\n",
            " list([]) list([]) list([]) list([]) list([]) list([]) list([]) list([])\n",
            " list([]) list([]) list([]) list([]) list([]) list([]) list([]) list([])\n",
            " list([]) list([]) list([]) list([]) list([0]) list([]) list([]) list([])\n",
            " list([]) list([]) list([]) list([]) list([]) list([]) list([]) list([])\n",
            " list([]) list([]) list([]) list([]) list([]) list([]) list([]) list([])\n",
            " list([]) list([]) list([]) list([]) list([]) list([]) list([]) list([])\n",
            " list([])] (500,)\n"
          ],
          "name": "stdout"
        }
      ]
    },
    {
      "cell_type": "code",
      "metadata": {
        "id": "Io54s-eKKf-1",
        "colab_type": "code",
        "outputId": "2dd1755f-59b3-4ae3-adf6-6349f1260e81",
        "colab": {
          "base_uri": "https://localhost:8080/",
          "height": 476
        }
      },
      "source": [
        "# creating input vector\n",
        "filter_model_input_emotions = []\n",
        "filter_model_input_causes = []\n",
        "logistic_model_per_clause_output=[]\n",
        "empty_list = [0, 0, 0, 0, 0, 0, 0, 0, 0, 0, 0, 0, 0, 0, 0, 0, 0, 0, 0, 0, 0, 0, 0, 0, 0, 0, 0, 0, 0, 0] # len 30\n",
        "for doc_id, pairs in enumerate(ec_pair_per_doc_id): # ec_pair is (emotion clause id, cause clause id) pairs\n",
        "  if not pairs: # pairs is ec_pair\n",
        "    filter_model_input_emotions.append(empty_list)\n",
        "    filter_model_input_causes.append(empty_list)\n",
        "    logistic_model_per_clause_output.append(1)\n",
        "  else:\n",
        "    output_list = logic_model_output[doc_id]\n",
        "    #print(output_list, pairs, doc_id)\n",
        "    for idx, pair in enumerate(pairs):\n",
        "      (e, c) = pair # e is emotion_clause_id, c is cause_clause_id\n",
        "      #print(idx, pair, e, c)\n",
        "      filter_model_input_emotions.append(X_padded_seq[e].tolist())\n",
        "      filter_model_input_causes.append(X_padded_seq[c].tolist())\n",
        "      if idx<len(output_list):\n",
        "        logistic_model_per_clause_output.append(output_list[idx])\n",
        "\n",
        "filter_model_input_emotions = np.asarray(filter_model_input_emotions)\n",
        "filter_model_input_causes = np.asarray(filter_model_input_causes)\n",
        "\n",
        "filter_model_input_emotions = np.array(list(x for x in filter_model_input_emotions))\n",
        "filter_model_input_causes = np.array(list(x for x in filter_model_input_causes))\n",
        "\n",
        "logistic_model_per_clause_output=np.array(list(x for x in logistic_model_per_clause_output))\n",
        "\n",
        "#np.set_printoptions(threshold=1000)\n",
        "# for i in filter_model_input_emotions:\n",
        "# print(i, )\n",
        "print(filter_model_input_emotions[:5], filter_model_input_emotions.shape)\n",
        "print('-------\\n')\n",
        "print(filter_model_input_causes[0:5], filter_model_input_causes.shape)\n",
        "print('-------\\n')\n",
        "print(logistic_model_per_clause_output[0:180], type(logistic_model_per_clause_output))"
      ],
      "execution_count": 148,
      "outputs": [
        {
          "output_type": "stream",
          "text": [
            "[[  8 446   8  53  44   0   0   0   0   0   0   0   0   0   0   0   0   0\n",
            "    0   0   0   0   0   0   0   0   0   0   0   0]\n",
            " [ 38  28 823   0   0   0   0   0   0   0   0   0   0   0   0   0   0   0\n",
            "    0   0   0   0   0   0   0   0   0   0   0   0]\n",
            " [ 19 447   8  53 246   3 448 109  13  51  26 449 302  29  43 824   6 825\n",
            "  826   0   0   0   0   0   0   0   0   0   0   0]\n",
            " [827  49 211 828 212   3 829  17   2 110 830   6   7  44   0   0   0   0\n",
            "    0   0   0   0   0   0   0   0   0   0   0   0]\n",
            " [111   9   7 303   2 831 832   0   0   0   0   0   0   0   0   0   0   0\n",
            "    0   0   0   0   0   0   0   0   0   0   0   0]] (1451, 30)\n",
            "-------\n",
            "\n",
            "[[ 38  28 823   0   0   0   0   0   0   0   0   0   0   0   0   0   0   0\n",
            "    0   0   0   0   0   0   0   0   0   0   0   0]\n",
            " [ 38  28 823   0   0   0   0   0   0   0   0   0   0   0   0   0   0   0\n",
            "    0   0   0   0   0   0   0   0   0   0   0   0]\n",
            " [ 38  28 823   0   0   0   0   0   0   0   0   0   0   0   0   0   0   0\n",
            "    0   0   0   0   0   0   0   0   0   0   0   0]\n",
            " [111   9   7 303   2 831 832   0   0   0   0   0   0   0   0   0   0   0\n",
            "    0   0   0   0   0   0   0   0   0   0   0   0]\n",
            " [111   9   7 303   2 831 832   0   0   0   0   0   0   0   0   0   0   0\n",
            "    0   0   0   0   0   0   0   0   0   0   0   0]] (1451, 30)\n",
            "-------\n",
            "\n",
            "[0 1 0 0 0 0 0 0 0 0 0 0 0 0 0 0 0 0 0 0 0 0 0 0 0 0 0 0 1 0 0 0 1 1 0 0 0\n",
            " 0 0 0 0 0 0 0 0 0 0 0 0 0 0 0 0 0 0 0 0 0 0 0 0 0 0 0 1 0 0 0 0 0 0 0 0 1\n",
            " 0 0 0 0 0 0 0 0 0 0 0 0] <class 'numpy.ndarray'>\n"
          ],
          "name": "stdout"
        }
      ]
    },
    {
      "cell_type": "code",
      "metadata": {
        "id": "QhgAimhOP38t",
        "colab_type": "code",
        "outputId": "599dc1b9-267c-4126-ef2e-77bf028342e5",
        "colab": {
          "base_uri": "https://localhost:8080/",
          "height": 119
        }
      },
      "source": [
        "print(X_padded_seq.shape)\n",
        "print(X_padded_seq.shape[1:])\n",
        "print(y_cause, type(y_cause), y_cause.shape)\n",
        "print('filter_model_input_emotions.shape: ', filter_model_input_emotions.shape)\n",
        "print('filter_model_input_causes.shape:', filter_model_input_causes.shape)\n",
        "print('logistic_model_per_clause_output.shape', logistic_model_per_clause_output.shape)\n"
      ],
      "execution_count": 149,
      "outputs": [
        {
          "output_type": "stream",
          "text": [
            "(1429, 30)\n",
            "(30,)\n",
            "[0 1 0 ... 0 0 0] <class 'numpy.ndarray'> (1429,)\n",
            "filter_model_input_emotions.shape:  (1451, 30)\n",
            "filter_model_input_causes.shape: (1451, 30)\n",
            "logistic_model_per_clause_output.shape (86,)\n"
          ],
          "name": "stdout"
        }
      ]
    },
    {
      "cell_type": "code",
      "metadata": {
        "id": "T9bQodQCeX8a",
        "colab_type": "code",
        "colab": {}
      },
      "source": [
        "filter_model_input_emotions = filter_model_input_emotions[:50]\n",
        "filter_model_input_causes = filter_model_input_causes[:50]\n",
        "logistic_model_per_clause_output = logistic_model_per_clause_output[:50]"
      ],
      "execution_count": 0,
      "outputs": []
    },
    {
      "cell_type": "code",
      "metadata": {
        "id": "Q97V-EpL9u9y",
        "colab_type": "code",
        "outputId": "484fc3ac-60e8-4d6a-85c9-d6d21c0fa6b7",
        "colab": {
          "base_uri": "https://localhost:8080/",
          "height": 1000
        }
      },
      "source": [
        "# logistic regresson\n",
        "input_emotion = keras.layers.Input(shape=X_padded_seq.shape[1:], name='input_emotion')\n",
        "embedded_emotion_input=keras.layers.Embedding(input_dim=1000, output_dim=1, input_length=30)(input_emotion)\n",
        "print('embedded_emotion_input.shape: ', embedded_emotion_input.shape)\n",
        "\n",
        "input_cause = keras.layers.Input(shape=X_padded_seq.shape[1:], name='input_cause')\n",
        "embedded_cause_input=keras.layers.Embedding(input_dim=1000, output_dim=1, input_length=30)(input_cause)\n",
        "\n",
        "print('embedded_cause_input.shape: ', embedded_cause_input.shape)\n",
        "combined = keras.layers.Concatenate()([embedded_cause_input, embedded_emotion_input])\n",
        "\n",
        "print('combined.shape: ', combined.shape)\n",
        "output_layer=keras.layers.Dense(1,activation='sigmoid', name='filter_model_output')(combined)\n",
        "\n",
        "filter_model = keras.Model(inputs=[input_emotion, input_cause], outputs=[output_layer])\n",
        "filter_model.compile(loss=\"binary_crossentropy\",\n",
        "              optimizer=\"sgd\", metrics=['accuracy'])\n",
        "\n",
        "history = filter_model.fit({'input_emotion': filter_model_input_emotions, 'input_cause': filter_model_input_causes},\n",
        "                           {'filter_model_output': logistic_model_per_clause_output},\n",
        "                           epochs=50, verbose=1)                         "
      ],
      "execution_count": 151,
      "outputs": [
        {
          "output_type": "stream",
          "text": [
            "embedded_emotion_input.shape:  (None, 30, 1)\n",
            "embedded_cause_input.shape:  (None, 30, 1)\n",
            "combined.shape:  (None, 30, 2)\n",
            "Epoch 1/50\n",
            "2/2 [==============================] - 0s 2ms/step - loss: 0.6899 - accuracy: 0.8133\n",
            "Epoch 2/50\n",
            "2/2 [==============================] - 0s 1ms/step - loss: 0.6853 - accuracy: 0.8360\n",
            "Epoch 3/50\n",
            "2/2 [==============================] - 0s 1ms/step - loss: 0.6807 - accuracy: 0.8673\n",
            "Epoch 4/50\n",
            "2/2 [==============================] - 0s 1ms/step - loss: 0.6763 - accuracy: 0.8900\n",
            "Epoch 5/50\n",
            "2/2 [==============================] - 0s 1ms/step - loss: 0.6719 - accuracy: 0.9067\n",
            "Epoch 6/50\n",
            "2/2 [==============================] - 0s 1ms/step - loss: 0.6675 - accuracy: 0.9180\n",
            "Epoch 7/50\n",
            "2/2 [==============================] - 0s 1ms/step - loss: 0.6631 - accuracy: 0.9200\n",
            "Epoch 8/50\n",
            "2/2 [==============================] - 0s 1ms/step - loss: 0.6588 - accuracy: 0.9200\n",
            "Epoch 9/50\n",
            "2/2 [==============================] - 0s 1ms/step - loss: 0.6546 - accuracy: 0.9200\n",
            "Epoch 10/50\n",
            "2/2 [==============================] - 0s 1ms/step - loss: 0.6505 - accuracy: 0.9200\n",
            "Epoch 11/50\n",
            "2/2 [==============================] - 0s 1ms/step - loss: 0.6464 - accuracy: 0.9200\n",
            "Epoch 12/50\n",
            "2/2 [==============================] - 0s 1ms/step - loss: 0.6425 - accuracy: 0.9200\n",
            "Epoch 13/50\n",
            "2/2 [==============================] - 0s 1ms/step - loss: 0.6385 - accuracy: 0.9200\n",
            "Epoch 14/50\n",
            "2/2 [==============================] - 0s 1ms/step - loss: 0.6347 - accuracy: 0.9200\n",
            "Epoch 15/50\n",
            "2/2 [==============================] - 0s 1ms/step - loss: 0.6309 - accuracy: 0.9200\n",
            "Epoch 16/50\n",
            "2/2 [==============================] - 0s 1ms/step - loss: 0.6271 - accuracy: 0.9200\n",
            "Epoch 17/50\n",
            "2/2 [==============================] - 0s 1ms/step - loss: 0.6233 - accuracy: 0.9200\n",
            "Epoch 18/50\n",
            "2/2 [==============================] - 0s 1ms/step - loss: 0.6194 - accuracy: 0.9200\n",
            "Epoch 19/50\n",
            "2/2 [==============================] - 0s 1ms/step - loss: 0.6157 - accuracy: 0.9200\n",
            "Epoch 20/50\n",
            "2/2 [==============================] - 0s 1ms/step - loss: 0.6121 - accuracy: 0.9200\n",
            "Epoch 21/50\n",
            "2/2 [==============================] - 0s 1ms/step - loss: 0.6086 - accuracy: 0.9200\n",
            "Epoch 22/50\n",
            "2/2 [==============================] - 0s 1ms/step - loss: 0.6051 - accuracy: 0.9200\n",
            "Epoch 23/50\n",
            "2/2 [==============================] - 0s 1ms/step - loss: 0.6017 - accuracy: 0.9200\n",
            "Epoch 24/50\n",
            "2/2 [==============================] - 0s 1ms/step - loss: 0.5983 - accuracy: 0.9200\n",
            "Epoch 25/50\n",
            "2/2 [==============================] - 0s 1ms/step - loss: 0.5948 - accuracy: 0.9200\n",
            "Epoch 26/50\n",
            "2/2 [==============================] - 0s 1ms/step - loss: 0.5915 - accuracy: 0.9200\n",
            "Epoch 27/50\n",
            "2/2 [==============================] - 0s 1ms/step - loss: 0.5882 - accuracy: 0.9200\n",
            "Epoch 28/50\n",
            "2/2 [==============================] - 0s 1ms/step - loss: 0.5851 - accuracy: 0.9200\n",
            "Epoch 29/50\n",
            "2/2 [==============================] - 0s 1ms/step - loss: 0.5820 - accuracy: 0.9200\n",
            "Epoch 30/50\n",
            "2/2 [==============================] - 0s 1ms/step - loss: 0.5789 - accuracy: 0.9200\n",
            "Epoch 31/50\n",
            "2/2 [==============================] - 0s 1ms/step - loss: 0.5757 - accuracy: 0.9200\n",
            "Epoch 32/50\n",
            "2/2 [==============================] - 0s 1ms/step - loss: 0.5724 - accuracy: 0.9200\n",
            "Epoch 33/50\n",
            "2/2 [==============================] - 0s 1ms/step - loss: 0.5693 - accuracy: 0.9200\n",
            "Epoch 34/50\n",
            "2/2 [==============================] - 0s 1ms/step - loss: 0.5662 - accuracy: 0.9200\n",
            "Epoch 35/50\n",
            "2/2 [==============================] - 0s 942us/step - loss: 0.5632 - accuracy: 0.9200\n",
            "Epoch 36/50\n",
            "2/2 [==============================] - 0s 1ms/step - loss: 0.5603 - accuracy: 0.9200\n",
            "Epoch 37/50\n",
            "2/2 [==============================] - 0s 1ms/step - loss: 0.5574 - accuracy: 0.9200\n",
            "Epoch 38/50\n",
            "2/2 [==============================] - 0s 1ms/step - loss: 0.5544 - accuracy: 0.9200\n",
            "Epoch 39/50\n",
            "2/2 [==============================] - 0s 1ms/step - loss: 0.5516 - accuracy: 0.9200\n",
            "Epoch 40/50\n",
            "2/2 [==============================] - 0s 948us/step - loss: 0.5487 - accuracy: 0.9200\n",
            "Epoch 41/50\n",
            "2/2 [==============================] - 0s 991us/step - loss: 0.5460 - accuracy: 0.9200\n",
            "Epoch 42/50\n",
            "2/2 [==============================] - 0s 1ms/step - loss: 0.5432 - accuracy: 0.9200\n",
            "Epoch 43/50\n",
            "2/2 [==============================] - 0s 1ms/step - loss: 0.5404 - accuracy: 0.9200\n",
            "Epoch 44/50\n",
            "2/2 [==============================] - 0s 976us/step - loss: 0.5376 - accuracy: 0.9200\n",
            "Epoch 45/50\n",
            "2/2 [==============================] - 0s 914us/step - loss: 0.5349 - accuracy: 0.9200\n",
            "Epoch 46/50\n",
            "2/2 [==============================] - 0s 1ms/step - loss: 0.5323 - accuracy: 0.9200\n",
            "Epoch 47/50\n",
            "2/2 [==============================] - 0s 967us/step - loss: 0.5297 - accuracy: 0.9200\n",
            "Epoch 48/50\n",
            "2/2 [==============================] - 0s 963us/step - loss: 0.5271 - accuracy: 0.9200\n",
            "Epoch 49/50\n",
            "2/2 [==============================] - 0s 1ms/step - loss: 0.5246 - accuracy: 0.9200\n",
            "Epoch 50/50\n",
            "2/2 [==============================] - 0s 1ms/step - loss: 0.5219 - accuracy: 0.9200\n"
          ],
          "name": "stdout"
        }
      ]
    },
    {
      "cell_type": "markdown",
      "metadata": {
        "id": "en_g6nOMaPNX",
        "colab_type": "text"
      },
      "source": [
        ""
      ]
    },
    {
      "cell_type": "code",
      "metadata": {
        "id": "CR3E7_xhnXfv",
        "colab_type": "code",
        "colab": {
          "base_uri": "https://localhost:8080/",
          "height": 130
        },
        "outputId": "fca34148-a8cf-4c22-cfa2-d87152fba2e4"
      },
      "source": [
        "# HW: 16th may 2020\n",
        "1. Fix bugs:\n",
        "  a. add word indices in the input of logistic regression model\n",
        "  b. remove empty clause in emotion_cause_pair_per_doc_id/\n",
        "2. Vocab size is only 1000. May need to increase this to improve the accuracy\n",
        "3. Create pipeline to prepare data + model training & feeding \n",
        "4. Precision/recall/f1 score:\n",
        "proposed_pairs = (number of correct pairs / number of proposed pairs)  ---> coming out of logistic regression model\n",
        "5. Use pretrained embeddings like GloVe"
      ],
      "execution_count": 71,
      "outputs": [
        {
          "output_type": "error",
          "ename": "SyntaxError",
          "evalue": "ignored",
          "traceback": [
            "\u001b[0;36m  File \u001b[0;32m\"<ipython-input-71-cc330823d426>\"\u001b[0;36m, line \u001b[0;32m2\u001b[0m\n\u001b[0;31m    1. Fix bugs:\u001b[0m\n\u001b[0m         ^\u001b[0m\n\u001b[0;31mSyntaxError\u001b[0m\u001b[0;31m:\u001b[0m invalid syntax\n"
          ]
        }
      ]
    },
    {
      "cell_type": "code",
      "metadata": {
        "id": "EQm2waIMsak2",
        "colab_type": "code",
        "colab": {}
      },
      "source": [
        ""
      ],
      "execution_count": 0,
      "outputs": []
    }
  ]
}