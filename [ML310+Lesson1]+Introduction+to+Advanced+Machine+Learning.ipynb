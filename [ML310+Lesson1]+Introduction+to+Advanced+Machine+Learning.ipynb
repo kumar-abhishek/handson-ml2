{
  "nbformat": 4,
  "nbformat_minor": 0,
  "metadata": {
    "kernelspec": {
      "display_name": "Python 3 [3.6]",
      "language": "python",
      "name": "python3"
    },
    "language_info": {
      "codemirror_mode": {
        "name": "ipython",
        "version": 3
      },
      "file_extension": ".py",
      "mimetype": "text/x-python",
      "name": "python",
      "nbconvert_exporter": "python",
      "pygments_lexer": "ipython3",
      "version": "3.6.4"
    },
    "colab": {
      "name": "[ML310+Lesson1]+Introduction+to+Advanced+Machine+Learning.ipynb",
      "provenance": [],
      "toc_visible": true,
      "include_colab_link": true
    }
  },
  "cells": [
    {
      "cell_type": "markdown",
      "metadata": {
        "id": "view-in-github",
        "colab_type": "text"
      },
      "source": [
        "<a href=\"https://colab.research.google.com/github/kumar-abhishek/handson-ml2/blob/master/%5BML310%2BLesson1%5D%2BIntroduction%2Bto%2BAdvanced%2BMachine%2BLearning.ipynb\" target=\"_parent\"><img src=\"https://colab.research.google.com/assets/colab-badge.svg\" alt=\"Open In Colab\"/></a>"
      ]
    },
    {
      "cell_type": "markdown",
      "metadata": {
        "id": "lYPqQC5jKbbb",
        "colab_type": "text"
      },
      "source": [
        "# Multiclass Classification\n",
        "\n",
        "While binary classifiers are used to distinguish between two classes (e.g. detect if a transaction is a fraudulent one, classify an email into either spam or non-spam and etc.), multiclass classifiers distinguish between more than two classes. For example, we want to predict a picture of the Iris Flower into a set of predefined species. While some algorithms (e.g. K nearest neighbors and naive bayes classifier) can extend to handle multiple classes naturally, others are less obvious (e.g. Support Vector Machine). \n",
        "\n",
        "There are various ways that we can use to perform multiclass classification by leveraging any binary classifiers. In this exercise, you will implement two such strategies for multiclass classification: _One-versus-all_ strategy and _One-versus-one_ strategy.\n",
        "\n",
        "- **One-versus-all (OvA)**: In this strategy, we train a single binary classifier per class, with the samples of that class as positive samples and all other samples as negatives. During inference, we get the prediction from each classifier and select the class with the highest score. This strategy is also called the one-versus-the-rest strtegey. \n",
        "\n",
        "- **One-versus-one (OvO)**: In this strategy, we train a binary classifier for every pair of classes. If there are N classes in the problem, you need to train N * (N-1) / 2 classifiers. During inference, we have to run through all N * (N-1) / 2 classifiers and ses which class wins the most votes. The main advantage of OvO strategy is that each binary classifier only needs to be train on the part of the training dataset for the two classes that it needs to separate. "
      ]
    },
    {
      "cell_type": "code",
      "metadata": {
        "id": "p4CaMwCLKbbc",
        "colab_type": "code",
        "colab": {}
      },
      "source": [
        "# import packages\n",
        "%matplotlib inline\n",
        "import numpy as np\n",
        "import matplotlib.pyplot as plt\n",
        "import pandas as pd\n",
        "from sklearn import datasets\n",
        "from sklearn.linear_model import LogisticRegression\n",
        "\n",
        "# make this notebook's output stable across runs\n",
        "np.random.seed(0)"
      ],
      "execution_count": 0,
      "outputs": []
    },
    {
      "cell_type": "markdown",
      "metadata": {
        "id": "XJU_69CvKbbf",
        "colab_type": "text"
      },
      "source": [
        "## MNIST Dataset\n",
        "\n",
        "In this lab assignment, we use the classic machine learning benchmark dataset **MNIST** assembed by the National Institute of Standards and Technology in the 1980s. The MNIST dataset includes 60K training and 10K test images of grayscale handwriting images and the task is to classify these images into 10 classes (0 through 9).\n",
        "\n",
        "Each image is 28 pixels in height and 28 pixels in width, for a total of 784 pixels in total. Each pixel has a single pixel-value associated with it, indicating the lightness or darkness of that pixel, with higher numbers meaning darker. This pixel-value is an integer between 0 and 255, inclusive.\n",
        "\n",
        "Both the train and test CSV files have 785 columns. The first column, called \"label\", is the digit that was drawn by the user. The rest of the columns contain the pixel-values of the associated image.\n",
        "\n",
        "Each pixel column in the training set has a name like pixelx, where x is an integer between 0 and 783, inclusive. To locate this pixel on the image, suppose that we have decomposed x as x = i * 28 + j, where i and j are integers between 0 and 27, inclusive. Then pixelx is located on row i and column j of a 28 x 28 matrix, (indexing by zero)."
      ]
    },
    {
      "cell_type": "code",
      "metadata": {
        "id": "C6Ox1yTqKbbg",
        "colab_type": "code",
        "colab": {}
      },
      "source": [
        "# Load train and test data from CSV files.\n",
        "train = pd.read_csv(\"mnist_train.csv\", header=None)\n",
        "test = pd.read_csv(\"mnist_test.csv\", header=None)\n",
        "\n",
        "train_x = train.iloc[:,1:]\n",
        "train_y = train.iloc[:,0]\n",
        "\n",
        "test_x = test.iloc[:,1:]\n",
        "test_y = test.iloc[:,0]"
      ],
      "execution_count": 0,
      "outputs": []
    },
    {
      "cell_type": "code",
      "metadata": {
        "id": "d_3_HrYVKbbi",
        "colab_type": "code",
        "colab": {
          "base_uri": "https://localhost:8080/",
          "height": 391
        },
        "outputId": "b81ca9ad-f05e-45ff-e4ac-09f76216e855"
      },
      "source": [
        "# Output the number of images in each class in the train and test datasets.\n",
        "print(train_y.value_counts().sort_index())\n",
        "print(test_y.value_counts().sort_index())"
      ],
      "execution_count": 15,
      "outputs": [
        {
          "output_type": "stream",
          "text": [
            "0    1948\n",
            "1    2356\n",
            "2    1977\n",
            "3    2027\n",
            "4    1949\n",
            "5    1783\n",
            "6    1973\n",
            "7    2099\n",
            "8    1918\n",
            "9    1970\n",
            "Name: 0, dtype: int64\n",
            "0     980\n",
            "1    1135\n",
            "2    1032\n",
            "3    1010\n",
            "4     982\n",
            "5     892\n",
            "6     958\n",
            "7    1028\n",
            "8     974\n",
            "9    1009\n",
            "Name: 0, dtype: int64\n"
          ],
          "name": "stdout"
        }
      ]
    },
    {
      "cell_type": "markdown",
      "metadata": {
        "id": "FziHPmxxKbbl",
        "colab_type": "text"
      },
      "source": [
        "Here we define two helper functions which plot the image of an instance for data exploration and debugging."
      ]
    },
    {
      "cell_type": "code",
      "metadata": {
        "id": "zlP8bJCrKbbm",
        "colab_type": "code",
        "colab": {}
      },
      "source": [
        "def plot_digit(x, y):\n",
        "    \"\"\"\n",
        "    Plot a single image of the MNIST dataset\n",
        "    \"\"\"\n",
        "    plt.imshow(np.reshape(x.values, (28, 28)), cmap='gray_r')\n",
        "    plt.title('Digit Label: {}'.format(y))\n",
        "    plt.show()\n",
        "\n",
        "def plot_digits(x, y):\n",
        "    \"\"\"\n",
        "    Plot the image of the digits in MNIST dataset\n",
        "    \"\"\"\n",
        "    plt.clf()\n",
        "    plt.style.use('seaborn-muted')\n",
        "\n",
        "    fig, axes = plt.subplots(\n",
        "    3,3, \n",
        "    figsize=(5,5),\n",
        "    sharex=True, sharey=True,\n",
        "    subplot_kw=dict(adjustable='box', aspect='equal'))\n",
        "\n",
        "    for i in range(0, 9):\n",
        "        # Idnetify the subgraph given class i.\n",
        "        subplot_row = i // 3 \n",
        "        subplot_col = i % 3 \n",
        "        ax = axes[subplot_row, subplot_col]\n",
        "\n",
        "        # Plot image on subplot.\n",
        "        ax.imshow(np.reshape(x.iloc[i,:].values, (28, 28)), cmap='gray_r')\n",
        "\n",
        "        ax.set_title('Digit Label: {}'.format(y[i]))\n",
        "        ax.set_xbound([0,28])\n",
        "\n",
        "    plt.tight_layout()\n",
        "    plt.show()"
      ],
      "execution_count": 0,
      "outputs": []
    },
    {
      "cell_type": "markdown",
      "metadata": {
        "id": "_SvdcwepKbbo",
        "colab_type": "text"
      },
      "source": [
        "### Plot a single image in MNIST dataset"
      ]
    },
    {
      "cell_type": "code",
      "metadata": {
        "id": "9ETPihWwKbbo",
        "colab_type": "code",
        "colab": {
          "base_uri": "https://localhost:8080/",
          "height": 281
        },
        "outputId": "64de88fd-e681-4494-a944-591214cdab09"
      },
      "source": [
        "idx = 3\n",
        "plot_digit(train_x.iloc[idx,:], train_y[idx])"
      ],
      "execution_count": 22,
      "outputs": [
        {
          "output_type": "display_data",
          "data": {
            "image/png": "[encoded data removed]",
            "text/plain": [
              "<Figure size 432x288 with 1 Axes>"
            ]
          },
          "metadata": {
            "tags": []
          }
        }
      ]
    },
    {
      "cell_type": "markdown",
      "metadata": {
        "id": "gVRSwF_oKbbq",
        "colab_type": "text"
      },
      "source": [
        "### View the digit images from class 1 to 9.\n",
        "\n",
        "To better understand the MNIST dataset, we plot the first occurence of each class (1-9) in the train dataset using the grayscale inputs."
      ]
    },
    {
      "cell_type": "markdown",
      "metadata": {
        "id": "L5dB-pnIKbbr",
        "colab_type": "text"
      },
      "source": [
        "In the following code, we plot nine images of digits 0 in the train dataset. "
      ]
    },
    {
      "cell_type": "code",
      "metadata": {
        "id": "aVSMNdQTKbbr",
        "colab_type": "code",
        "colab": {
          "base_uri": "https://localhost:8080/",
          "height": 386
        },
        "outputId": "2f637f74-65db-47b3-e044-f291525655a6"
      },
      "source": [
        "# Find the first 9 occurrences of digit zero in the train dataset\n",
        "zero_digit_idx = list(train_y[train_y == 0].index[0:9])\n",
        "\n",
        "# Plot digits\n",
        "plot_digits(train_x.iloc[zero_digit_idx,:], train_y[zero_digit_idx].values)"
      ],
      "execution_count": 23,
      "outputs": [
        {
          "output_type": "display_data",
          "data": {
            "text/plain": [
              "<Figure size 432x288 with 0 Axes>"
            ]
          },
          "metadata": {
            "tags": []
          }
        },
        {
          "output_type": "display_data",
          "data": {
            "image/png": "[encoded data removed]",
            "text/plain": [
              "<Figure size 360x360 with 9 Axes>"
            ]
          },
          "metadata": {
            "tags": []
          }
        }
      ]
    },
    {
      "cell_type": "markdown",
      "metadata": {
        "id": "f4UffdllKbbu",
        "colab_type": "text"
      },
      "source": [
        "<span style=\"color:orange\">**Coding Part 1: Plot the first image of digits 1 to 9 in the training dataset**</span> "
      ]
    },
    {
      "cell_type": "code",
      "metadata": {
        "id": "GiIrY98CKbbw",
        "colab_type": "code",
        "colab": {
          "base_uri": "https://localhost:8080/",
          "height": 386
        },
        "outputId": "8075ba71-db11-44d9-b323-5907bfc523bf"
      },
      "source": [
        "# Find the first occurrence of each class in the train dataset\n",
        "idx = [-1] * 9\n",
        "for i in range(1, 10):\n",
        "  # Find the first image from the class i.\n",
        "  idx[i-1] = train_y[train_y == i].index[0]\n",
        "\n",
        "# Plot digits\n",
        "plot_digits(train_x.iloc[idx,:], train_y[idx].values)"
      ],
      "execution_count": 24,
      "outputs": [
        {
          "output_type": "display_data",
          "data": {
            "text/plain": [
              "<Figure size 432x288 with 0 Axes>"
            ]
          },
          "metadata": {
            "tags": []
          }
        },
        {
          "output_type": "display_data",
          "data": {
            "image/png": "[encoded data removed]",
            "text/plain": [
              "<Figure size 360x360 with 9 Axes>"
            ]
          },
          "metadata": {
            "tags": []
          }
        }
      ]
    },
    {
      "cell_type": "markdown",
      "metadata": {
        "id": "u5O4hz0hKbby",
        "colab_type": "text"
      },
      "source": [
        "---"
      ]
    },
    {
      "cell_type": "markdown",
      "metadata": {
        "id": "_nVTkX2TKbbz",
        "colab_type": "text"
      },
      "source": [
        "### Classify even digits.\n",
        "To reduce the computational assumption, we simplify the problem to classify only the odd numbers, ie. 1, 3, 5, 7, and 9, instead of all 10 digits. "
      ]
    },
    {
      "cell_type": "code",
      "metadata": {
        "id": "V90JlVTrKbbz",
        "colab_type": "code",
        "colab": {}
      },
      "source": [
        "# helper functions\n",
        "def sample_data(x, y, digits):\n",
        "    \"\"\"\n",
        "    Sample a subset of all the images based on the digits provided\n",
        "    \"\"\"\n",
        "    idx = []\n",
        "    for i in digits:\n",
        "        idx = idx + list(y.index[y == i])\n",
        "\n",
        "    return (x.iloc[idx,:], y.iloc[idx])\n",
        "\n",
        "def evaluate(y, z):\n",
        "    \"\"\"\n",
        "    Evaluate the classification accuracy and also generate the confusion matrix. \n",
        "    \"\"\"\n",
        "    confusion_matrix = pd.crosstab(y, z, rownames=['Actual'], colnames=['Predicted'])\n",
        "    accuracy = sum(np.diag(confusion_matrix)) / confusion_matrix.values.sum()\n",
        "\n",
        "    return (accuracy, confusion_matrix)"
      ],
      "execution_count": 0,
      "outputs": []
    },
    {
      "cell_type": "code",
      "metadata": {
        "id": "n-XbFHuBKbb2",
        "colab_type": "code",
        "colab": {
          "base_uri": "https://localhost:8080/",
          "height": 255
        },
        "outputId": "610aaddb-e513-4508-caae-d67ce16e93be"
      },
      "source": [
        "# generate the final dataset for model training for the given digits\n",
        "digits = [1, 3, 5, 7, 9]\n",
        "tr_x, tr_y = sample_data(train_x, train_y, digits)\n",
        "te_x, te_y = sample_data(test_x, test_y, digits)\n",
        "print(tr_x)"
      ],
      "execution_count": 26,
      "outputs": [
        {
          "output_type": "stream",
          "text": [
            "       1    2    3    4    5    6    7    ...  778  779  780  781  782  783  784\n",
            "2        0  0.0  0.0  0.0  0.0  0.0  0.0  ...  0.0  0.0  0.0  0.0  0.0  0.0  0.0\n",
            "11       0  0.0  0.0  0.0  0.0  0.0  0.0  ...  0.0  0.0  0.0  0.0  0.0  0.0  0.0\n",
            "42       0  0.0  0.0  0.0  0.0  0.0  0.0  ...  0.0  0.0  0.0  0.0  0.0  0.0  0.0\n",
            "46       0  0.0  0.0  0.0  0.0  0.0  0.0  ...  0.0  0.0  0.0  0.0  0.0  0.0  0.0\n",
            "47       0  0.0  0.0  0.0  0.0  0.0  0.0  ...  0.0  0.0  0.0  0.0  0.0  0.0  0.0\n",
            "...    ...  ...  ...  ...  ...  ...  ...  ...  ...  ...  ...  ...  ...  ...  ...\n",
            "19985    0  0.0  0.0  0.0  0.0  0.0  0.0  ...  0.0  0.0  0.0  0.0  0.0  0.0  0.0\n",
            "19990    0  0.0  0.0  0.0  0.0  0.0  0.0  ...  0.0  0.0  0.0  0.0  0.0  0.0  0.0\n",
            "19994    0  0.0  0.0  0.0  0.0  0.0  0.0  ...  0.0  0.0  0.0  0.0  0.0  0.0  0.0\n",
            "19995    0  0.0  0.0  0.0  0.0  0.0  0.0  ...  0.0  0.0  0.0  0.0  0.0  0.0  0.0\n",
            "19998    0  0.0  0.0  0.0  0.0  0.0  0.0  ...  0.0  0.0  0.0  0.0  0.0  0.0  0.0\n",
            "\n",
            "[10235 rows x 784 columns]\n"
          ],
          "name": "stdout"
        }
      ]
    },
    {
      "cell_type": "markdown",
      "metadata": {
        "id": "hHGfeEVOKbb3",
        "colab_type": "text"
      },
      "source": [
        "## One-versus-all (OvA) strategy\n",
        "<span style=\"color:orange\">**Coding Part 2: In this session, you will implement the OvA stragety for multiclass classification using logistic regression as the base binary classifier. After the implementation, you will apply it to the MNIST dataset and see its performance.**</span> "
      ]
    },
    {
      "cell_type": "code",
      "metadata": {
        "id": "7YYaHm_uKbb4",
        "colab_type": "code",
        "colab": {}
      },
      "source": [
        "from sklearn.multiclass import OneVsRestClassifier\n",
        "from sklearn.svm import SVC\n",
        "\n",
        "class OvA(object):\n",
        "    \"\"\"\n",
        "    OvA strategy for multiclass classification.\n",
        "    \"\"\"\n",
        "    def __init__(self):\n",
        "         self.logit = OneVsRestClassifier(SVC())\n",
        "\n",
        "    def train(self, x, y):\n",
        "        \"\"\"\n",
        "        TODO: Train the multiclass classifier using OvA strategy. \n",
        "        \"\"\"\n",
        "        #self.logit.fit(tr_x, tr_y)\n",
        "        self.logit.fit(x, y)\n",
        "\n",
        "    def predict(self, x):\n",
        "        \"\"\"\n",
        "        TODO: Make predictions on multiclass problems using the OvA strategy. \n",
        "        \"\"\"\n",
        "        return self.logit.predict(x)"
      ],
      "execution_count": 0,
      "outputs": []
    },
    {
      "cell_type": "markdown",
      "metadata": {
        "id": "ENNgFlpOKbb6",
        "colab_type": "text"
      },
      "source": [
        "### Train the OvA multiclass classifier on MNIST dataset"
      ]
    },
    {
      "cell_type": "code",
      "metadata": {
        "id": "IW40rgvrKbb6",
        "colab_type": "code",
        "colab": {}
      },
      "source": [
        "ova = OvA()\n",
        "ova.train(tr_x, tr_y)"
      ],
      "execution_count": 0,
      "outputs": []
    },
    {
      "cell_type": "code",
      "metadata": {
        "id": "GOL8kJPxKbb9",
        "colab_type": "code",
        "colab": {
          "base_uri": "https://localhost:8080/",
          "height": 34
        },
        "outputId": "dd4f0d49-2ef0-49bb-ecf7-de91afe04dda"
      },
      "source": [
        "print('adf')"
      ],
      "execution_count": 29,
      "outputs": [
        {
          "output_type": "stream",
          "text": [
            "adf\n"
          ],
          "name": "stdout"
        }
      ]
    },
    {
      "cell_type": "markdown",
      "metadata": {
        "id": "NApzCwHwKbb_",
        "colab_type": "text"
      },
      "source": [
        "### Predict on the test dataset using OvA multiclass classifier"
      ]
    },
    {
      "cell_type": "code",
      "metadata": {
        "id": "z_vOyHMsKbcA",
        "colab_type": "code",
        "colab": {
          "base_uri": "https://localhost:8080/",
          "height": 51
        },
        "outputId": "29927fe9-b235-48a9-b0b8-9f22ed75740d"
      },
      "source": [
        "te_z_ova = ova.predict(te_x)\n",
        "print(te_z_ova)\n",
        "print('12')"
      ],
      "execution_count": 30,
      "outputs": [
        {
          "output_type": "stream",
          "text": [
            "[1 1 1 ... 9 9 9]\n",
            "12\n"
          ],
          "name": "stdout"
        }
      ]
    },
    {
      "cell_type": "markdown",
      "metadata": {
        "id": "4Z-Qh2joKbcB",
        "colab_type": "text"
      },
      "source": [
        "### Evaluate the performance of OvA"
      ]
    },
    {
      "cell_type": "code",
      "metadata": {
        "id": "o5KIFy5MKbcC",
        "colab_type": "code",
        "colab": {
          "base_uri": "https://localhost:8080/",
          "height": 170
        },
        "outputId": "141ef5c2-ffdc-4fed-d59b-ec60dd6e5f02"
      },
      "source": [
        "ova_accuracy, ova_confuction_matrix = evaluate(te_y.values, te_z_ova)\n",
        "print(\"Accuracy of OvA classifier is {}.\".format(ova_accuracy))\n",
        "print(\"Confusion matrix of OvA classifier: \\n {}\".format(ova_confuction_matrix))"
      ],
      "execution_count": 31,
      "outputs": [
        {
          "output_type": "stream",
          "text": [
            "Accuracy of OvA classifier is 0.9806858494284588.\n",
            "Confusion matrix of OvA classifier: \n",
            " Predicted     1    3    5     7    9\n",
            "Actual                              \n",
            "1          1130    3    1     1    0\n",
            "3             0  992    8     7    3\n",
            "5             1   12  877     0    2\n",
            "7            11    4    3  1000   10\n",
            "9             6   13    5     8  977\n"
          ],
          "name": "stdout"
        }
      ]
    },
    {
      "cell_type": "markdown",
      "metadata": {
        "id": "gjua3koTKbcE",
        "colab_type": "text"
      },
      "source": [
        "---"
      ]
    },
    {
      "cell_type": "markdown",
      "metadata": {
        "id": "BOaJmsf0KbcF",
        "colab_type": "text"
      },
      "source": [
        "## One-versus-one (OvO) strategy\n",
        "<span style=\"color:orange\">**Coding Part 3: In this session, you will implement the OvO stragety for multiclass classification using logistic regression as the base binary classifier. After the implementation, you will apply it to the MNIST dataset and see its performance.**</span> "
      ]
    },
    {
      "cell_type": "code",
      "metadata": {
        "id": "r04R9zsUKbcF",
        "colab_type": "code",
        "colab": {}
      },
      "source": [
        "from sklearn.multiclass import OneVsOneClassifier\n",
        "from sklearn.svm import LinearSVC\n",
        "\n",
        "class OvO():\n",
        "    \"\"\"\n",
        "    OvO strategy for multiclass classification.\n",
        "    \"\"\"\n",
        "    clf_onevsone = OneVsOneClassifier(LinearSVC(random_state=0))\n",
        "    def __init__(self):\n",
        "      pass\n",
        "    def train(self, x, y):\n",
        "        \"\"\"\n",
        "        TODO: Train the multiclass classifier using OvO strategy. \n",
        "        \"\"\"\n",
        "        self.clf_onevsone.fit(x, y)\n",
        "\n",
        "    def predict(self, x):\n",
        "        \"\"\"\n",
        "        TODO: Make predictions on multiclass problems using the OvO strategy. \n",
        "        \"\"\"\n",
        "        return self.clf_onevsone.predict(x)"
      ],
      "execution_count": 0,
      "outputs": []
    },
    {
      "cell_type": "markdown",
      "metadata": {
        "id": "0D_NExOHKbcH",
        "colab_type": "text"
      },
      "source": [
        "### Train the OvO multiclass classifier on MNIST dataset"
      ]
    },
    {
      "cell_type": "code",
      "metadata": {
        "id": "lMwRm0oMKbcI",
        "colab_type": "code",
        "colab": {
          "base_uri": "https://localhost:8080/",
          "height": 221
        },
        "outputId": "b0a6fce5-b32e-4433-f5d2-4093c26a1963"
      },
      "source": [
        "ovo = OvO()\n",
        "ovo.train(tr_x, tr_y)"
      ],
      "execution_count": 38,
      "outputs": [
        {
          "output_type": "stream",
          "text": [
            "/usr/local/lib/python3.6/dist-packages/sklearn/svm/_base.py:947: ConvergenceWarning: Liblinear failed to converge, increase the number of iterations.\n",
            "  \"the number of iterations.\", ConvergenceWarning)\n",
            "/usr/local/lib/python3.6/dist-packages/sklearn/svm/_base.py:947: ConvergenceWarning: Liblinear failed to converge, increase the number of iterations.\n",
            "  \"the number of iterations.\", ConvergenceWarning)\n",
            "/usr/local/lib/python3.6/dist-packages/sklearn/svm/_base.py:947: ConvergenceWarning: Liblinear failed to converge, increase the number of iterations.\n",
            "  \"the number of iterations.\", ConvergenceWarning)\n",
            "/usr/local/lib/python3.6/dist-packages/sklearn/svm/_base.py:947: ConvergenceWarning: Liblinear failed to converge, increase the number of iterations.\n",
            "  \"the number of iterations.\", ConvergenceWarning)\n",
            "/usr/local/lib/python3.6/dist-packages/sklearn/svm/_base.py:947: ConvergenceWarning: Liblinear failed to converge, increase the number of iterations.\n",
            "  \"the number of iterations.\", ConvergenceWarning)\n",
            "/usr/local/lib/python3.6/dist-packages/sklearn/svm/_base.py:947: ConvergenceWarning: Liblinear failed to converge, increase the number of iterations.\n",
            "  \"the number of iterations.\", ConvergenceWarning)\n"
          ],
          "name": "stderr"
        }
      ]
    },
    {
      "cell_type": "markdown",
      "metadata": {
        "id": "iQ7qRxcsKbcM",
        "colab_type": "text"
      },
      "source": [
        "### Predict on the test dataset using OvO multiclass classifier"
      ]
    },
    {
      "cell_type": "code",
      "metadata": {
        "id": "Tz-gtPcvKbcN",
        "colab_type": "code",
        "colab": {}
      },
      "source": [
        "te_z_ovo = ovo.predict(te_x)"
      ],
      "execution_count": 0,
      "outputs": []
    },
    {
      "cell_type": "markdown",
      "metadata": {
        "id": "D-VpomTKKbcQ",
        "colab_type": "text"
      },
      "source": [
        "### Evaluate the performance of OvO"
      ]
    },
    {
      "cell_type": "code",
      "metadata": {
        "id": "XvdK4cseKbcQ",
        "colab_type": "code",
        "colab": {
          "base_uri": "https://localhost:8080/",
          "height": 170
        },
        "outputId": "1160fc62-c963-4371-85cd-a422cbca9b74"
      },
      "source": [
        "ovo_accuracy, ovo_confuction_matrix = evaluate(te_y.values, te_z_ovo)\n",
        "print(\"Accuracy of OvO classifier is {}.\".format(ovo_accuracy))\n",
        "print(\"Confusion matrix of OvO classifier: \\n {}\".format(ovo_confuction_matrix))"
      ],
      "execution_count": 40,
      "outputs": [
        {
          "output_type": "stream",
          "text": [
            "Accuracy of OvO classifier is 0.9347654710287742.\n",
            "Confusion matrix of OvO classifier: \n",
            " Predicted     1    3    5    7    9\n",
            "Actual                             \n",
            "1          1126    4    3    2    0\n",
            "3             2  939   48   11   10\n",
            "5             3   70  795    5   19\n",
            "7             3   31    2  950   42\n",
            "9             5   11   16   44  933\n"
          ],
          "name": "stdout"
        }
      ]
    },
    {
      "cell_type": "markdown",
      "metadata": {
        "id": "ANQBT1GWKbcT",
        "colab_type": "text"
      },
      "source": [
        "### End of ML 310 Lab Assignment 1\n",
        "---\n"
      ]
    }
  ]
}